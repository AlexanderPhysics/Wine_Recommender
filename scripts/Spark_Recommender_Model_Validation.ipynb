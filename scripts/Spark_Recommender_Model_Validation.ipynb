{
 "cells": [
  {
   "cell_type": "code",
   "execution_count": 1,
   "metadata": {
    "collapsed": true
   },
   "outputs": [],
   "source": [
    "import numpy as np\n",
    "import pandas as pd\n",
    "import numpy as np\n",
    "import matplotlib.pyplot as plt\n",
    "from time import time\n",
    "import pyspark\n",
    "\n",
    "from sklearn.cross_validation import StratifiedShuffleSplit\n",
    "from sklearn.cross_validation import StratifiedKFold\n",
    "\n",
    "% matplotlib inline"
   ]
  },
  {
   "cell_type": "code",
   "execution_count": 2,
   "metadata": {
    "collapsed": true
   },
   "outputs": [],
   "source": [
    "from pyspark.mllib.recommendation import ALS\n",
    "import math"
   ]
  },
  {
   "cell_type": "code",
   "execution_count": 3,
   "metadata": {
    "collapsed": true
   },
   "outputs": [],
   "source": [
    "home = \"/Users/Alexander/WINE/data/\"\n",
    "pseudo_ratings_path = home + \"ratings_df.pkl\"\n",
    "wine_path = home + \"wine_df_red_white_only.pkl\""
   ]
  },
  {
   "cell_type": "code",
   "execution_count": 4,
   "metadata": {
    "collapsed": true
   },
   "outputs": [],
   "source": [
    "rating_df = pd.read_pickle(pseudo_ratings_path)"
   ]
  },
  {
   "cell_type": "markdown",
   "metadata": {},
   "source": [
    "#### Get Subsample of Data\n",
    "    Spark keeps crashing when using full data set\n",
    "    Perhaps running Sparking on AWS cluster will help\n",
    "    Error results get a lot better with large data size"
   ]
  },
  {
   "cell_type": "code",
   "execution_count": 5,
   "metadata": {
    "collapsed": true
   },
   "outputs": [],
   "source": [
    "# Spark keeps crashing when using full data set\n",
    "# Perhaps running Sparking on AWS cluster will help\n",
    "rating_df = rating_df.sample(n = 200000)"
   ]
  },
  {
   "cell_type": "code",
   "execution_count": 6,
   "metadata": {
    "collapsed": true
   },
   "outputs": [],
   "source": [
    "# number of nodes in local spark cluster\n",
    "n_nodes = 3\n",
    "sc = pyspark.SparkContext(master = \"local[{}]\".format(n_nodes))"
   ]
  },
  {
   "cell_type": "code",
   "execution_count": 7,
   "metadata": {
    "collapsed": false
   },
   "outputs": [],
   "source": [
    "def transform_data(rating_df):\n",
    "    def get_df_values_by_col(df):\n",
    "        cust_tags = df.CustomerHash.values\n",
    "        wine_productKeys = df.ProductKey.values\n",
    "        ratings = df.Ratings.values\n",
    "        return cust_tags, wine_productKeys, ratings\n",
    "\n",
    "    def create_userHash_userid_pairs(cust_tags):\n",
    "        # create int:cust_tag key value pairs\n",
    "        # spark can't read string user ids\n",
    "        index_to_int = np.arange(0, len(cust_tags) * 100, 100)\n",
    "        return  index_to_int, [ [tag_int, tag_hash] for tag_hash, tag_int in zip(cust_tags, index_to_int)]\n",
    "\n",
    "    # move customerHashs, productKeys,and ratings each to their own list\n",
    "    cust_tags, wine_productKeys, ratings = get_df_values_by_col(rating_df)\n",
    "\n",
    "    # generate a numeric index for each customerHash\n",
    "    index_to_int, cust_tag_bridge = create_userHash_userid_pairs(cust_tags)\n",
    "    \n",
    "    # move data from df to list\n",
    "    complete_data = rating_df.values.tolist()\n",
    "    # move data to rdd\n",
    "    complete_data_rdd = sc.parallelize(complete_data)\n",
    "    # formate rdd\n",
    "    complete_data_rdd = complete_data_rdd.map(lambda row: (row[0], (row[1], row[2])) )\n",
    "    # move customerHash, customer numeric key/value pairs to rdd\n",
    "    cust_tag_bridge_rdd = sc.parallelize(cust_tag_bridge)\n",
    "    # formate customer hash/numeric rdd\n",
    "    cust_tag_bridge_rdd = cust_tag_bridge_rdd.map(lambda row: (row[1],row[0]))\n",
    "    # join data with customer rdd\n",
    "    complete_data_id_bridge_rdd = \\\n",
    "    complete_data_rdd.join(cust_tag_bridge_rdd)\n",
    "\n",
    "    # format -->  (user_id, wine_id, rating)\n",
    "    clean_data_rdd =\\\n",
    "    complete_data_id_bridge_rdd.map(lambda row: (row[1][1], row[1][0][0], row[1][0][1] )   )\n",
    "    \n",
    "    clean_data_rdd = clean_data_rdd.map(lambda row: ((row[0],row[1]), row[2] )).collect()\n",
    "    \n",
    "    X = []\n",
    "    y = []\n",
    "    for tup in clean_data_rdd:\n",
    "        X.append(tup[0])\n",
    "        y.append(tup[1])\n",
    "        \n",
    "    return np.array(X), np.array(y)"
   ]
  },
  {
   "cell_type": "code",
   "execution_count": 8,
   "metadata": {
    "collapsed": false
   },
   "outputs": [],
   "source": [
    "X, Y = transform_data(rating_df)"
   ]
  },
  {
   "cell_type": "markdown",
   "metadata": {},
   "source": [
    "## LOOCV\n",
    "    Leave One Out Cross Validation\n",
    "    Use StratifiedShuffleSplit to get train/test sets with ~equal numbers of labels (Global Split)\n",
    "    Use StratifiedKFold to ~equal numbers of labels in train set (Local Split)"
   ]
  },
  {
   "cell_type": "code",
   "execution_count": 9,
   "metadata": {
    "collapsed": true
   },
   "outputs": [],
   "source": [
    "# LOOCV\n",
    "# [5] [6, 7, 8, 9, 10, 11, 12, 13, 14]\n",
    "# [5, 6] [7, 8, 9, 10, 11, 12, 13, 14]\n",
    "# [5, 6, 7] [8, 9, 10, 11, 12, 13, 14]\n",
    "# [5, 6, 7, 8] [9, 10, 11, 12, 13, 14]\n",
    "# [5, 6, 7, 8, 9] [10, 11, 12, 13, 14]\n",
    "# [5, 6, 7, 8, 9, 10] [11, 12, 13, 14]\n",
    "# [5, 6, 7, 8, 9, 10, 11] [12, 13, 14]\n",
    "# [5, 6, 7, 8, 9, 10, 11, 12] [13, 14]\n",
    "# [5, 6, 7, 8, 9, 10, 11, 12, 13] [14]"
   ]
  },
  {
   "cell_type": "code",
   "execution_count": 10,
   "metadata": {
    "collapsed": false
   },
   "outputs": [],
   "source": [
    "# Global split - train/test sets with proportinal label distribution\n",
    "# (y, n_iter=10, test_size=0.1, train_size=None, random_state=None\n",
    "def get_loocv_train_test_errors(X, Y):\n",
    "    \n",
    "    def predict_get_error(model, data, data_predict):\n",
    "        # (r[0], r[1]), r[2]) --> user_id, wine_id, rating \n",
    "        predictions = model.predictAll(data_predict).map(lambda r: ((r[0], r[1]), r[2]))\n",
    "\n",
    "        # combine predictions and validation sets\n",
    "        rates_and_preds = data.map(lambda r: ((int(r[0]), int(r[1])), float(r[2])))\\\n",
    "                                        .join(predictions)\n",
    "        # get RMSE for each rank\n",
    "        error = math.sqrt(rates_and_preds.map(lambda r: (r[1][0] - r[1][1])**2).mean())\n",
    "    \n",
    "        return error\n",
    "    \n",
    "    seed = 5L\n",
    "    iterations = 10\n",
    "    regularization_parameter = 0.1\n",
    "    rank = 12\n",
    "    global_test_sizes = [0.9, 0.8, 0.7, 0.6, 0.5, 0.4, 0.3, 0.2, 0.1]\n",
    "    train_errors = []\n",
    "    test_errors = []\n",
    "\n",
    "    for i, global_test_size in enumerate(global_test_sizes):\n",
    "        \n",
    "        print \"Iteration {}\".format(i)\n",
    "        \n",
    "        strat_suff_split =\\\n",
    "        StratifiedShuffleSplit(Y,\n",
    "                               n_iter=1, \n",
    "                               test_size=global_test_size, \n",
    "                               random_state=4)\n",
    "\n",
    "        for train_index, test_index in strat_suff_split:\n",
    "            X_train, X_test = X[train_index], X[test_index]\n",
    "            y_train, y_test = Y[train_index], Y[test_index]\n",
    "\n",
    "            train_rdd_ready = [(tuple(x)[0], tuple(x)[1],y) for x, y in zip(X_train, y_train)]\n",
    "            test_rdd_ready = [(tuple(x)[0], tuple(x)[1],y) for x, y in zip(X_test, y_test)]\n",
    "            \n",
    "            train_data_rdd = sc.parallelize(train_rdd_ready)\n",
    "            test_data_rdd = sc.parallelize(test_rdd_ready)\n",
    "\n",
    "            model = ALS.train(train_data_rdd, \n",
    "                      rank, \n",
    "                      seed=seed, \n",
    "                      iterations=iterations,\n",
    "                      lambda_=regularization_parameter,\n",
    "                      nonnegative=True)\n",
    "\n",
    "            train_data_for_predict_rdd = train_data_rdd.map(lambda row: (row[0], row[1]))\n",
    "            test_data_for_predict_rdd = test_data_rdd.map(lambda row: (row[0], row[1]))\n",
    "            \n",
    "            train_error = predict_get_error(model, train_data_rdd, train_data_for_predict_rdd)\n",
    "            train_errors.append(train_error)\n",
    "\n",
    "            test_error = predict_get_error(model, test_data_rdd, test_data_for_predict_rdd)\n",
    "            test_errors.append(test_error)\n",
    "            \n",
    "    return train_errors, test_errors"
   ]
  },
  {
   "cell_type": "code",
   "execution_count": 11,
   "metadata": {
    "collapsed": false
   },
   "outputs": [
    {
     "name": "stdout",
     "output_type": "stream",
     "text": [
      "Iteration 0\n",
      "Iteration 1\n",
      "Iteration 2\n",
      "Iteration 3\n",
      "Iteration 4\n",
      "Iteration 5\n",
      "Iteration 6\n",
      "Iteration 7\n",
      "Iteration 8\n"
     ]
    }
   ],
   "source": [
    "train_errors, test_errors = get_loocv_train_test_errors(X, Y)"
   ]
  },
  {
   "cell_type": "code",
   "execution_count": 13,
   "metadata": {
    "collapsed": false
   },
   "outputs": [
    {
     "data": {
      "image/png": "[encoded data removed]",
      "text/plain": [
       "<matplotlib.figure.Figure at 0x11d9ce410>"
      ]
     },
     "metadata": {},
     "output_type": "display_data"
    }
   ],
   "source": [
    "x_values = [10, 20, 30, 40, 50, 60, 70, 80, 90]\n",
    "plt.figure(figsize = (12,8));\n",
    "plt.title(\"LOOCV - RMSE vs. Training Set Size\")\n",
    "plt.ylabel(\"RMSE\")\n",
    "plt.xlabel(\"Training Set Size (percent of all data)\")\n",
    "plt.plot(x_values, train_errors, label=\"train set\");\n",
    "plt.plot(x_values, test_errors, label=\"test set\");\n",
    "plt.legend();\n",
    "#plt.savefig(\"/Users/Alexander/WINE/data/RMSE_vs_Training_Set_Size.png\")"
   ]
  },
  {
   "cell_type": "code",
   "execution_count": null,
   "metadata": {
    "collapsed": true
   },
   "outputs": [],
   "source": []
  }
 ],
 "metadata": {
  "kernelspec": {
   "display_name": "Python 2",
   "language": "python",
   "name": "python2"
  },
  "language_info": {
   "codemirror_mode": {
    "name": "ipython",
    "version": 2
   },
   "file_extension": ".py",
   "mimetype": "text/x-python",
   "name": "python",
   "nbconvert_exporter": "python",
   "pygments_lexer": "ipython2",
   "version": "2.7.11"
  }
 },
 "nbformat": 4,
 "nbformat_minor": 0
}
