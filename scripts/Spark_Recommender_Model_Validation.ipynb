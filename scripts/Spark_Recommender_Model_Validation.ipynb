{
 "cells": [
  {
   "cell_type": "markdown",
   "metadata": {},
   "source": [
    "# ToDo\n",
    "\n",
    "    Get train and test error results from different regularization parameter values (Grid Search)\n",
    "    Get a baseline recommender based on average rating per wine\n",
    "        Reference: http://ampcamp.berkeley.edu/5/exercises/movie-recommendation-with-mllib.html"
   ]
  },
  {
   "cell_type": "code",
   "execution_count": 44,
   "metadata": {
    "collapsed": false
   },
   "outputs": [],
   "source": [
    "import numpy as np\n",
    "import pandas as pd\n",
    "import numpy as np\n",
    "import matplotlib.pyplot as plt\n",
    "from time import time\n",
    "import cPickle\n",
    "import pyspark\n",
    "import pylab\n",
    "from sklearn.cross_validation import train_test_split, StratifiedShuffleSplit\n",
    "from collections import defaultdict, Counter\n",
    "from sklearn import metrics\n",
    "% matplotlib inline"
   ]
  },
  {
   "cell_type": "code",
   "execution_count": 5,
   "metadata": {
    "collapsed": true
   },
   "outputs": [],
   "source": [
    "from pyspark.mllib.recommendation import ALS\n",
    "import math"
   ]
  },
  {
   "cell_type": "code",
   "execution_count": 6,
   "metadata": {
    "collapsed": true
   },
   "outputs": [],
   "source": [
    "def get_ratings_data():\n",
    "    # load spark ready data \n",
    "    spark_ready_data_path = \"/Users/Alexander/Wine_Recommender/data/spark_ready_data.pkl\"\n",
    "    ratings_data = cPickle.load(open(spark_ready_data_path, \"r\"))\n",
    "    return ratings_data"
   ]
  },
  {
   "cell_type": "code",
   "execution_count": 5,
   "metadata": {
    "collapsed": true
   },
   "outputs": [],
   "source": [
    "data = get_ratings_data()"
   ]
  },
  {
   "cell_type": "code",
   "execution_count": 6,
   "metadata": {
    "collapsed": false
   },
   "outputs": [
    {
     "data": {
      "text/plain": [
       "[['00000F7264C27BA6FEA0C837ED6AA0AA', 202463, 9],\n",
       " ['00000F7264C27BA6FEA0C837ED6AA0AA', 202922, 6],\n",
       " ['00000F7264C27BA6FEA0C837ED6AA0AA', 214365, 6]]"
      ]
     },
     "execution_count": 6,
     "metadata": {},
     "output_type": "execute_result"
    }
   ],
   "source": [
    "data[0:3]"
   ]
  },
  {
   "cell_type": "code",
   "execution_count": 77,
   "metadata": {
    "collapsed": false
   },
   "outputs": [],
   "source": [
    "dummy_X = np.array([1,1,1,1,1,1])\n",
    "dummy_Y = np.array([1,1,1,2,2,2])"
   ]
  },
  {
   "cell_type": "code",
   "execution_count": 79,
   "metadata": {
    "collapsed": false
   },
   "outputs": [],
   "source": [
    "sss = StratifiedShuffleSplit(dummy_Y, n_iter=1, test_size=0.5, random_state=4)"
   ]
  },
  {
   "cell_type": "code",
   "execution_count": 80,
   "metadata": {
    "collapsed": false
   },
   "outputs": [
    {
     "name": "stdout",
     "output_type": "stream",
     "text": [
      "[1 1 1 1] [1 2 2 1]\n",
      "[1 1] [1 2]\n"
     ]
    }
   ],
   "source": [
    "for tr, te in sss:\n",
    "    print dummy_X[tr], dummy_Y[tr]\n",
    "    print dummy_X[te], dummy_Y[te]"
   ]
  },
  {
   "cell_type": "markdown",
   "metadata": {},
   "source": [
    "#### Create Spark Context"
   ]
  },
  {
   "cell_type": "code",
   "execution_count": 7,
   "metadata": {
    "collapsed": false
   },
   "outputs": [],
   "source": [
    "# number of nodes in local spark cluster\n",
    "n_nodes = 3\n",
    "sc = pyspark.SparkContext(master = \"local[{}]\".format(n_nodes))"
   ]
  },
  {
   "cell_type": "code",
   "execution_count": 8,
   "metadata": {
    "collapsed": false
   },
   "outputs": [
    {
     "data": {
      "text/plain": [
       "<pyspark.context.SparkContext at 0x117536610>"
      ]
     },
     "execution_count": 8,
     "metadata": {},
     "output_type": "execute_result"
    }
   ],
   "source": [
    "sc"
   ]
  },
  {
   "cell_type": "markdown",
   "metadata": {},
   "source": [
    "#### Create user tags/user ids bride rdd"
   ]
  },
  {
   "cell_type": "code",
   "execution_count": 9,
   "metadata": {
    "collapsed": true
   },
   "outputs": [],
   "source": [
    "def create_cust_tag_bridge_rdd(data, sc):\n",
    "    # create int:cust_tag key value pairs\n",
    "    # spark can't read string user ids\n",
    "    \n",
    "    unique_user_tags = np.unique([row[0] for row in data])\n",
    "    \n",
    "    index_to_int = np.arange(0, len(unique_user_tags) * 100, 100)\n",
    "    cust_tag_bridge = [ (tag_hash, tag_int) for tag_hash, tag_int in zip(unique_user_tags, index_to_int)]\n",
    "    \n",
    "    return sc.parallelize(cust_tag_bridge)"
   ]
  },
  {
   "cell_type": "code",
   "execution_count": 16,
   "metadata": {
    "collapsed": false
   },
   "outputs": [],
   "source": [
    "cust_tag_bridge_rdd = create_cust_tag_bridge_rdd(data, sc)"
   ]
  },
  {
   "cell_type": "markdown",
   "metadata": {},
   "source": [
    "#### Ratings RDD"
   ]
  },
  {
   "cell_type": "code",
   "execution_count": 10,
   "metadata": {
    "collapsed": true
   },
   "outputs": [],
   "source": [
    "def create_clean_data_rdd(data, cust_tag_bridge_rdd):\n",
    "    # create bride rdd for customer tags and customer ids\n",
    "    data_rdd = sc.parallelize(data)\n",
    "    \n",
    "    tag_data_bridge_rdd = data_rdd.map(lambda row: (row[0], (row[1], row[2]) ))\n",
    "    \n",
    "    clean_data_rdd = \\\n",
    "    tag_data_bridge_rdd.sortByKey()\\\n",
    "                   .join( cust_tag_bridge_rdd.sortByKey())\\\n",
    "                   .map(lambda row: ( row[1][1], row[1][0][0], row[1][0][1]))\n",
    "            \n",
    "    return clean_data_rdd"
   ]
  },
  {
   "cell_type": "code",
   "execution_count": 17,
   "metadata": {
    "collapsed": true
   },
   "outputs": [],
   "source": [
    "clean_data_rdd = create_clean_data_rdd(data, cust_tag_bridge_rdd) "
   ]
  },
  {
   "cell_type": "code",
   "execution_count": 18,
   "metadata": {
    "collapsed": false
   },
   "outputs": [
    {
     "data": {
      "text/plain": [
       "[(13720100, 11501, 10), (13720100, 83729, 4), (13720100, 85684, 4)]"
      ]
     },
     "execution_count": 18,
     "metadata": {},
     "output_type": "execute_result"
    }
   ],
   "source": [
    "# format --> (user_id, productKey, rating)\n",
    "clean_data_rdd.take(3)"
   ]
  },
  {
   "cell_type": "code",
   "execution_count": 11,
   "metadata": {
    "collapsed": true
   },
   "outputs": [],
   "source": [
    "# split for train_test_split inside of LOOCV function  \n",
    "def split_data(data_rdd):\n",
    "    '''Collect data from rdd and split into X and Y'''\n",
    "    ratings_data = data_rdd.collect()\n",
    "    X = []\n",
    "    Y = []\n",
    "    for row in ratings_data:\n",
    "        X.append([row[0], row[1]])\n",
    "        Y.append(row[2])\n",
    "    return X, Y"
   ]
  },
  {
   "cell_type": "code",
   "execution_count": 19,
   "metadata": {
    "collapsed": false
   },
   "outputs": [],
   "source": [
    "X, Y = split_data(clean_data_rdd)"
   ]
  },
  {
   "cell_type": "code",
   "execution_count": 315,
   "metadata": {
    "collapsed": false
   },
   "outputs": [
    {
     "data": {
      "text/plain": [
       "3737914"
      ]
     },
     "execution_count": 315,
     "metadata": {},
     "output_type": "execute_result"
    }
   ],
   "source": [
    "len(X)"
   ]
  },
  {
   "cell_type": "code",
   "execution_count": 19,
   "metadata": {
    "collapsed": false
   },
   "outputs": [
    {
     "name": "stdout",
     "output_type": "stream",
     "text": [
      "[[13720100, 11501], [13720100, 83729], [13720100, 85684]]\n"
     ]
    }
   ],
   "source": [
    "print X[0:3]"
   ]
  },
  {
   "cell_type": "code",
   "execution_count": 20,
   "metadata": {
    "collapsed": false
   },
   "outputs": [
    {
     "name": "stdout",
     "output_type": "stream",
     "text": [
      "[10, 4, 4]\n"
     ]
    }
   ],
   "source": [
    "print Y[0:3]"
   ]
  },
  {
   "cell_type": "markdown",
   "metadata": {},
   "source": [
    "#### Split Data into train and holdout sets"
   ]
  },
  {
   "cell_type": "code",
   "execution_count": 21,
   "metadata": {
    "collapsed": true
   },
   "outputs": [],
   "source": [
    "X_train, X_holdout, Y_train, Y_holdout = train_test_split(X, Y, test_size = 0.20, random_state=4)"
   ]
  },
  {
   "cell_type": "code",
   "execution_count": 22,
   "metadata": {
    "collapsed": false
   },
   "outputs": [
    {
     "data": {
      "text/plain": [
       "747583"
      ]
     },
     "execution_count": 22,
     "metadata": {},
     "output_type": "execute_result"
    }
   ],
   "source": [
    "len(X_holdout)"
   ]
  },
  {
   "cell_type": "code",
   "execution_count": 23,
   "metadata": {
    "collapsed": false
   },
   "outputs": [
    {
     "data": {
      "text/plain": [
       "2990331"
      ]
     },
     "execution_count": 23,
     "metadata": {},
     "output_type": "execute_result"
    }
   ],
   "source": [
    "len(X_train)"
   ]
  },
  {
   "cell_type": "markdown",
   "metadata": {},
   "source": [
    "## LOOCV\n",
    "    Leave One Out Cross Validation\n",
    "    Use StratifiedShuffleSplit to get train/test sets with ~equal numbers of labels (Global Split)"
   ]
  },
  {
   "cell_type": "code",
   "execution_count": 18,
   "metadata": {
    "collapsed": true
   },
   "outputs": [],
   "source": [
    "# LOOCV\n",
    "# The data is split in the follow fasion (ignore the numbers inside the lists)\n",
    "# [5] [6, 7, 8, 9, 10, 11, 12, 13, 14]\n",
    "# [5, 6] [7, 8, 9, 10, 11, 12, 13, 14]\n",
    "# [5, 6, 7] [8, 9, 10, 11, 12, 13, 14]\n",
    "# [5, 6, 7, 8] [9, 10, 11, 12, 13, 14]\n",
    "# [5, 6, 7, 8, 9] [10, 11, 12, 13, 14]\n",
    "# [5, 6, 7, 8, 9, 10] [11, 12, 13, 14]\n",
    "# [5, 6, 7, 8, 9, 10, 11] [12, 13, 14]\n",
    "# [5, 6, 7, 8, 9, 10, 11, 12] [13, 14]\n",
    "# [5, 6, 7, 8, 9, 10, 11, 12, 13] [14]"
   ]
  },
  {
   "cell_type": "code",
   "execution_count": 14,
   "metadata": {
    "collapsed": false
   },
   "outputs": [],
   "source": [
    "# Global split - train/test sets with proportinal label distribution\n",
    "# (y, n_iter=10, test_size=0.1, train_size=None, random_state=None\n",
    "def get_loocv_train_test_errors(sc,  alpha = 0.1, rank_ = 16, n_iterations= 20):\n",
    "    \n",
    "    def predict_get_error(model, data, data_predict):\n",
    "        # (r[0], r[1]), r[2]) --> user_id, wine_id, rating \n",
    "        predictions = model.predictAll(data_predict).map(lambda r: ((r[0], r[1]), r[2]))\n",
    "\n",
    "        # combine predictions and validation sets\n",
    "        rates_and_preds = data.map(lambda r: ((int(r[0]), int(r[1])), float(r[2])))\\\n",
    "                                        .join(predictions)\n",
    "        # get RMSE for each rank\n",
    "        error = math.sqrt(rates_and_preds.map(lambda r: (r[1][0] - r[1][1])**2).mean())\n",
    "    \n",
    "        return error\n",
    "    \n",
    "    # load data\n",
    "    print \"load data...\"\n",
    "    data = get_ratings_data()\n",
    "    print \"build RDDs...\"\n",
    "    cust_tag_bridge_rdd = create_cust_tag_bridge_rdd(data, sc)\n",
    "    clean_data_rdd = create_clean_data_rdd(data, cust_tag_bridge_rdd) \n",
    "    X, Y = split_data(clean_data_rdd)\n",
    "    \n",
    "    cust_tag_bridge_rdd.unpersist()\n",
    "    clean_data_rdd.unpersist()\n",
    "    \n",
    "    seed = 5L\n",
    "    iterations = n_iterations\n",
    "    regularization_parameter = alpha\n",
    "    rank = rank_\n",
    "    global_test_sizes = [0.9, 0.8, 0.7, 0.6, 0.5, 0.4, 0.3, 0.2, 0.1]\n",
    "    train_errors = []\n",
    "    test_errors = []\n",
    "    \n",
    "    X = np.array(X)\n",
    "    Y = np.array(Y)\n",
    "\n",
    "    for i, test_size_ in enumerate(global_test_sizes):\n",
    "        \n",
    "        print \"Iteration {}\".format(i)\n",
    "        # Stratified KFold \n",
    "        sss = StratifiedShuffleSplit(Y, n_iter=1, test_size=test_size_, random_state=4)\n",
    "        for train, test in sss:\n",
    "            X_train, y_train = X[train], Y[train]\n",
    "            X_test, y_test = X[test], Y[test]\n",
    "\n",
    "        \n",
    "#         X_train, X_test, y_train, y_test = train_test_split(X, \n",
    "#                                                             Y, \n",
    "#                                                             test_size = global_test_size,\n",
    "#                                                             random_state=4)\n",
    "        \n",
    "        train_rdd_ready = [(tuple(x)[0], tuple(x)[1], y) for x, y in zip(X_train, y_train)]\n",
    "        test_rdd_ready = [(tuple(x)[0], tuple(x)[1], y) for x, y in zip(X_test, y_test)]\n",
    "\n",
    "        train_data_rdd = sc.parallelize(train_rdd_ready)\n",
    "        test_data_rdd = sc.parallelize(test_rdd_ready)\n",
    "        \n",
    "        model = ALS.train(\n",
    "                  ratings=train_data_rdd, \n",
    "                  rank=rank, \n",
    "                  seed=seed, \n",
    "                  iterations=iterations,\n",
    "                  lambda_=regularization_parameter,\n",
    "                  nonnegative=True)\n",
    "        \n",
    "        train_data_for_predict_rdd = train_data_rdd.map(lambda row: (row[0], row[1]))\n",
    "        test_data_for_predict_rdd = test_data_rdd.map(lambda row: (row[0], row[1]))\n",
    "\n",
    "        train_error = predict_get_error(model, train_data_rdd, train_data_for_predict_rdd)\n",
    "        train_errors.append(train_error)\n",
    "\n",
    "        test_error = predict_get_error(model, test_data_rdd, test_data_for_predict_rdd)\n",
    "        test_errors.append(test_error)\n",
    "\n",
    "        # unpersist to release memory \n",
    "        train_data_rdd.unpersist()\n",
    "        test_data_rdd.unpersist()\n",
    "\n",
    "    return train_errors, test_errors"
   ]
  },
  {
   "cell_type": "code",
   "execution_count": 2,
   "metadata": {
    "collapsed": false
   },
   "outputs": [],
   "source": [
    "start = time()\n",
    "train_errors, test_errors = get_loocv_train_test_errors(sc)\n",
    "end = time()\n",
    "print \"Time Elapsed = {}\".format(end -  start)"
   ]
  },
  {
   "cell_type": "markdown",
   "metadata": {},
   "source": [
    "#### Load LOOCV Results"
   ]
  },
  {
   "cell_type": "code",
   "execution_count": 2,
   "metadata": {
    "collapsed": false
   },
   "outputs": [],
   "source": [
    "loocv_path = \"/Users/Alexander/Wine_Recommender/data/loocv_results.pkl\"\n",
    "train_errors, test_errors = cPickle.load(open(loocv_path, 'r'))"
   ]
  },
  {
   "cell_type": "code",
   "execution_count": 3,
   "metadata": {
    "collapsed": false
   },
   "outputs": [
    {
     "data": {
      "text/plain": [
       "list"
      ]
     },
     "execution_count": 3,
     "metadata": {},
     "output_type": "execute_result"
    }
   ],
   "source": [
    "type(train_errors)"
   ]
  },
  {
   "cell_type": "code",
   "execution_count": 4,
   "metadata": {
    "collapsed": false
   },
   "outputs": [
    {
     "data": {
      "image/png": "[encoded data removed]",
      "text/plain": [
       "<matplotlib.figure.Figure at 0x116c68dd0>"
      ]
     },
     "metadata": {},
     "output_type": "display_data"
    }
   ],
   "source": [
    "x_values = [10, 20, 30, 40, 50, 60, 70, 80, 90]\n",
    "plt.figure(figsize = (12,8));\n",
    "plt.title(\"LOOCV - RMSE vs. Training Set Size\");\n",
    "plt.ylabel(\"RMSE\");\n",
    "plt.xlabel(\"Training Set Size (percent of all data)\");\n",
    "plt.plot(x_values, train_errors,'b--', label=\"train set\");\n",
    "plt.plot(x_values, test_errors,\"g-\", label=\"test set\");\n",
    "plt.legend();\n",
    "plt.savefig(\"/Users/Alexander/Wine_Recommender/data/RMSE_vs_Training_Set_Size.png\")"
   ]
  },
  {
   "cell_type": "markdown",
   "metadata": {
    "collapsed": true
   },
   "source": [
    "## Regularization \n",
    "    Here, we'll scan parameter space for the optimum vlaue of lambda -- the regulariation parameter"
   ]
  },
  {
   "cell_type": "code",
   "execution_count": null,
   "metadata": {
    "collapsed": true
   },
   "outputs": [],
   "source": [
    "reg_parameters = [1.0, 0.1, 0.01, 0.001]"
   ]
  },
  {
   "cell_type": "code",
   "execution_count": null,
   "metadata": {
    "collapsed": true
   },
   "outputs": [],
   "source": [
    "def get_regularization_results(reg_parameters, X, Y, sc):\n",
    "    train_errors_dict = dict()\n",
    "    test_errors_dict = dict()\n",
    "    for param in reg_parameters:\n",
    "        print \"Starting {}\".format(param)\n",
    "        train_errors, test_errors = get_loocv_train_test_errors(X, Y, sc, param)\n",
    "        train_errors_dict[param] = train_errors\n",
    "        test_errors_dict[param] = test_errors\n",
    "    return train_errors_dict, test_errors_dict"
   ]
  },
  {
   "cell_type": "code",
   "execution_count": null,
   "metadata": {
    "collapsed": false,
    "scrolled": true
   },
   "outputs": [],
   "source": [
    "start = time()\n",
    "train_dict, test_dict = get_regularization_results(reg_parameters, x_sub, y_sub , sc_local)\n",
    "end = time()\n",
    "print \"Time Elapsed = {}\".format(end - start)"
   ]
  },
  {
   "cell_type": "markdown",
   "metadata": {},
   "source": [
    "Here we can see the train and test error results from varying the value of the L2 regularization term, alpha. \n",
    "The plot shows that a regularization value of 0.1 results in the lowest test RMSE."
   ]
  },
  {
   "cell_type": "code",
   "execution_count": null,
   "metadata": {
    "collapsed": true
   },
   "outputs": [],
   "source": [
    "ax.legend(loc='upper center', bbox_to_anchor=(0.5, 1.05),\n",
    "          ncol=3, fancybox=True, shadow=True)"
   ]
  },
  {
   "cell_type": "code",
   "execution_count": null,
   "metadata": {
    "collapsed": true
   },
   "outputs": [],
   "source": [
    "plt.legend?"
   ]
  },
  {
   "cell_type": "code",
   "execution_count": 34,
   "metadata": {
    "collapsed": false
   },
   "outputs": [
    {
     "data": {
      "image/png": "[encoded data removed]",
      "text/plain": [
       "<matplotlib.figure.Figure at 0x116b63d90>"
      ]
     },
     "metadata": {},
     "output_type": "display_data"
    }
   ],
   "source": [
    "x_values = np.array([10, 20, 30, 40, 50, 60, 70, 80, 90])\n",
    "colormap = np.array(['r', 'g', 'b','m'])\n",
    "plt.figure(figsize = (12,8));\n",
    "plt.title(\"LOOCV - RMSE vs. Training Set Size\");\n",
    "plt.ylabel(\"RMSE\");\n",
    "plt.xlabel(\"Training Set Size (percent of all data)\");\n",
    "for i, param in enumerate(reg_parameters):\n",
    "    train = np.array(train_dict[param])\n",
    "    test = np.array(test_dict[param])\n",
    "    plt.plot(x_values, train,  c=colormap[i],   label=\"train set, L2 = {}\".format(param));\n",
    "    plt.plot(x_values, test,  c=colormap[i],linestyle=\"dashed\", label=\"test set, L2 = {}\".format(param));\n",
    "plt.legend(bbox_to_anchor=(1.0, 0.6));\n",
    "#plt.savefig(\"/Users/Alexander/WINE/data/L2_parameter_scan.png\")"
   ]
  },
  {
   "cell_type": "markdown",
   "metadata": {
    "collapsed": true
   },
   "source": [
    "# Grid Search\n",
    "    Run with Sub_sample, other it will take days..."
   ]
  },
  {
   "cell_type": "code",
   "execution_count": 7,
   "metadata": {
    "collapsed": true
   },
   "outputs": [],
   "source": [
    "def grid_search(sc, reg_parameters, ranks, iterations):\n",
    "    print \"get_ratings_data....\"\n",
    "    data = get_ratings_data()\n",
    "    print \"build RDDS....\"\n",
    "    cust_tag_bridge_rdd = create_cust_tag_bridge_rdd(data, sc)\n",
    "    clean_data_rdd = create_clean_data_rdd(data, cust_tag_bridge_rdd) \n",
    "    X, Y =  split_data(clean_data_rdd)\n",
    "    \n",
    "    intial = 0\n",
    "    final = 1000000\n",
    "    x_sub, y_sub = X[intial:final], Y[intial:final]\n",
    "    \n",
    "    cust_tag_bridge_rdd.unpersist()\n",
    "    clean_data_rdd.unpersist()\n",
    "    \n",
    "    \n",
    "    train_errors_dict = dict()\n",
    "    test_errors_dict = dict()\n",
    "    print \"run grid search....\"\n",
    "    for alpha in reg_parameters:\n",
    "        for rank in ranks:\n",
    "            for n_iter in iterations:\n",
    "                start = time()\n",
    "                print \"alpha_{0}, rank_{1}, n_iter_{2}\".format(alpha, rank, n_iter)\n",
    "                train_errors, test_errors = get_loocv_train_test_errors(x_sub, y_sub, sc, alpha, rank, n_iter )\n",
    "                train_key = \"alpha_{0}, rank_{1}, n_iter_{2}\".format(alpha, rank, n_iter)\n",
    "                test_key = \"alpha_{0}, rank_{1}, n_iter_{2}\".format(alpha, rank, n_iter)\n",
    "                train_errors_dict[train_key] = train_errors\n",
    "                test_errors_dict[test_key] = test_errors\n",
    "                end = time()\n",
    "                print \"Time Elapsed = {}\".format(end - start)\n",
    "                \n",
    "    return train_errors_dict, test_errors_dict"
   ]
  },
  {
   "cell_type": "code",
   "execution_count": 8,
   "metadata": {
    "collapsed": true
   },
   "outputs": [],
   "source": [
    "reg_parameters = [0.01, 0.1]\n",
    "ranks = [16, 20, 24]\n",
    "iterations = [20, 30, 40]"
   ]
  },
  {
   "cell_type": "code",
   "execution_count": 1,
   "metadata": {
    "collapsed": false
   },
   "outputs": [],
   "source": [
    "start = time()\n",
    "gs_train_errors, gs_test_errors = grid_search(sc, reg_parameters, ranks, iterations)\n",
    "end = time()\n",
    "print \"Time Elapsed = {}\".format(end - start)"
   ]
  },
  {
   "cell_type": "markdown",
   "metadata": {
    "collapsed": false
   },
   "source": [
    "### Save Grid Search Results to File"
   ]
  },
  {
   "cell_type": "code",
   "execution_count": 2,
   "metadata": {
    "collapsed": false
   },
   "outputs": [],
   "source": [
    "gs_path = \"/Users/Alexander/WINE/data/grid_search_results.pkl\""
   ]
  },
  {
   "cell_type": "code",
   "execution_count": 21,
   "metadata": {
    "collapsed": true
   },
   "outputs": [],
   "source": [
    "#cPickle.dump([gs_train_errors, gs_test_errors], open(gs_path, 'w'))"
   ]
  },
  {
   "cell_type": "markdown",
   "metadata": {},
   "source": [
    "### Load Grid Search Results from File"
   ]
  },
  {
   "cell_type": "code",
   "execution_count": 5,
   "metadata": {
    "collapsed": false
   },
   "outputs": [],
   "source": [
    "gs_results_list =  cPickle.load(open(gs_path, 'r'))"
   ]
  },
  {
   "cell_type": "code",
   "execution_count": 74,
   "metadata": {
    "collapsed": true
   },
   "outputs": [],
   "source": [
    "gs_train_errors, gs_test_errors = gs_results_list"
   ]
  },
  {
   "cell_type": "code",
   "execution_count": 75,
   "metadata": {
    "collapsed": false
   },
   "outputs": [],
   "source": [
    "gs_keys = np.unique(gs_train_errors.keys())"
   ]
  },
  {
   "cell_type": "code",
   "execution_count": 76,
   "metadata": {
    "collapsed": false
   },
   "outputs": [
    {
     "data": {
      "text/plain": [
       "18"
      ]
     },
     "execution_count": 76,
     "metadata": {},
     "output_type": "execute_result"
    }
   ],
   "source": [
    "len(gs_keys)"
   ]
  },
  {
   "cell_type": "markdown",
   "metadata": {},
   "source": [
    "The plot below shows the train and test errors for all combinations of the hyperparameters included in the grid search. There seems to be to 2 error categories: those with low training error and those with higher training error. "
   ]
  },
  {
   "cell_type": "code",
   "execution_count": 24,
   "metadata": {
    "collapsed": false
   },
   "outputs": [
    {
     "data": {
      "image/png": "[encoded data removed]",
      "text/plain": [
       "<matplotlib.figure.Figure at 0x10cd9d210>"
      ]
     },
     "metadata": {},
     "output_type": "display_data"
    }
   ],
   "source": [
    "x_values = np.array([10, 20, 30, 40, 50, 60, 70, 80, 90])\n",
    "colormap = np.array(['r', 'g', 'b','m', 'c', 'y', 'k'])\n",
    "plt.figure(figsize = (12,8));\n",
    "plt.title(\"LOOCV - RMSE vs. Training Set Size\");\n",
    "plt.ylabel(\"RMSE\");\n",
    "plt.xlabel(\"Training Set Size (percent of all data)\");\n",
    "\n",
    "i = 0\n",
    "for gs_key in gs_keys:\n",
    "    train = gs_train_errors[gs_key]\n",
    "    test = gs_test_errors[gs_key]\n",
    "    plt.plot(x_values, train,  c=colormap[i],  label=\"train set, L2 = {}\".format(gs_key));\n",
    "    plt.plot(x_values, test,  c=colormap[i], linestyle=\"dashed\", label=\"test set, L2 = {}\".format(gs_key));\n",
    "    \n",
    "    i += 1\n",
    "    if i == 6:\n",
    "        i = 0\n",
    "#plt.legend();"
   ]
  },
  {
   "cell_type": "code",
   "execution_count": 108,
   "metadata": {
    "collapsed": true
   },
   "outputs": [],
   "source": [
    "def get_lowest_error_indices(gs_errors, k =6):\n",
    "    ind = []\n",
    "    for i, errors in  enumerate(gs_errors.values()):\n",
    "        ind.append([i, errors[-1]])\n",
    "    ind = np.array(ind)\n",
    "    return ind[ind.argsort(axis = 0).T[1]][-k:].T[0]"
   ]
  },
  {
   "cell_type": "code",
   "execution_count": 113,
   "metadata": {
    "collapsed": true
   },
   "outputs": [],
   "source": [
    "lowest_error_indices = get_lowest_error_indices(gs_test_errors, k =3)"
   ]
  },
  {
   "cell_type": "markdown",
   "metadata": {},
   "source": [
    "The 3 hyper-parameters combinations with the lowest test error are shown below. The results converge on 0.01 for alpha and, for this gridsearch iteration, it seems that the more latent features and more iterations for the ALS that are provdied, the lower the test error. Of course, those two parameters cannot be increased indefiniately; they will hit a saturation point. "
   ]
  },
  {
   "cell_type": "code",
   "execution_count": 114,
   "metadata": {
    "collapsed": false
   },
   "outputs": [
    {
     "data": {
      "image/png": "[encoded data removed]",
      "text/plain": [
       "<matplotlib.figure.Figure at 0x10c91f1d0>"
      ]
     },
     "metadata": {},
     "output_type": "display_data"
    }
   ],
   "source": [
    "x_values = np.array([10, 20, 30, 40, 50, 60, 70, 80, 90])\n",
    "colormap = np.array(['r', 'g', 'b','m', 'c', 'y', 'k'])\n",
    "plt.figure(figsize = (12,8));\n",
    "plt.title(\"LOOCV - RMSE vs. Training Set Size\");\n",
    "plt.ylabel(\"RMSE\");\n",
    "plt.xlabel(\"Training Set Size (percent of all data)\");\n",
    "\n",
    "cnt = 0\n",
    "for i, gs_key in enumerate(gs_keys):\n",
    "    if i in lowest_error_indices:\n",
    "        train = gs_train_errors[gs_key]\n",
    "        test = gs_test_errors[gs_key]\n",
    "        plt.plot(x_values, train,  c=colormap[cnt],  label=\"train set, L2 = {}\".format(gs_key));\n",
    "        plt.plot(x_values, test,  c=colormap[cnt], linestyle=\"dashed\", label=\"test set, L2 = {}\".format(gs_key));\n",
    "    \n",
    "        cnt += 1\n",
    "        if cnt == 6:\n",
    "            cnt = 0\n",
    "plt.legend(bbox_to_anchor=(1.0, 0.4));"
   ]
  },
  {
   "cell_type": "markdown",
   "metadata": {},
   "source": [
    "# ROC Curves\n",
    "    Train and Test a model. \n",
    "    Include a ROC curve for each bin."
   ]
  },
  {
   "cell_type": "markdown",
   "metadata": {},
   "source": [
    "### Get Predicted Ratings "
   ]
  },
  {
   "cell_type": "code",
   "execution_count": 1,
   "metadata": {
    "collapsed": true
   },
   "outputs": [],
   "source": [
    "def create_cust_tag_bridge_rdd(data, sc):\n",
    "    # create int:cust_tag key value pairs\n",
    "    # spark can't read string user ids\n",
    "    \n",
    "    unique_user_tags = np.unique([row[0] for row in data])\n",
    "    \n",
    "    index_to_int = np.arange(0, len(unique_user_tags) * 100, 100)\n",
    "    cust_tag_bridge = [ (tag_hash, tag_int) for tag_hash, tag_int in zip(unique_user_tags, index_to_int)]\n",
    "    \n",
    "    return sc.parallelize(cust_tag_bridge)"
   ]
  },
  {
   "cell_type": "code",
   "execution_count": 2,
   "metadata": {
    "collapsed": true
   },
   "outputs": [],
   "source": [
    "def create_clean_data_rdd(data, cust_tag_bridge_rdd):\n",
    "    # create bride rdd for customer tags and customer ids\n",
    "    data_rdd = sc.parallelize(data)\n",
    "    \n",
    "    tag_data_bridge_rdd = data_rdd.map(lambda row: (row[0], (row[1], row[2]) ))\n",
    "    \n",
    "    clean_data_rdd = \\\n",
    "    tag_data_bridge_rdd.sortByKey()\\\n",
    "                   .join( cust_tag_bridge_rdd.sortByKey())\\\n",
    "                   .map(lambda row: ( row[1][1], row[1][0][0], row[1][0][1]))\n",
    "            \n",
    "    return clean_data_rdd"
   ]
  },
  {
   "cell_type": "code",
   "execution_count": 3,
   "metadata": {
    "collapsed": true
   },
   "outputs": [],
   "source": [
    "def train_model(training_RDD):\n",
    "    # TODO: still need to optimize hyperparameters in a grid search\n",
    "    seed = 5L\n",
    "    iterations = 30\n",
    "    regularization_parameter = 0.1\n",
    "    rank = 20\n",
    "\n",
    "    model = ALS.train(training_RDD, \n",
    "                      rank=rank, \n",
    "                      seed=seed, \n",
    "                      iterations=iterations,\n",
    "                      lambda_=regularization_parameter,\n",
    "                      nonnegative=True)\n",
    "    return model"
   ]
  },
  {
   "cell_type": "code",
   "execution_count": 4,
   "metadata": {
    "collapsed": true
   },
   "outputs": [],
   "source": [
    "def test_model(model, test_RDD, test_for_predict_RDD ):\n",
    "\n",
    "    predictions = model.predictAll(test_for_predict_RDD).map(lambda r: ((r[0], r[1]), r[2]))\n",
    "\n",
    "    rates_and_preds = test_RDD.map(lambda r: ((int(r[0]), int(r[1])), float(r[2]))).join(predictions)\n",
    "\n",
    "    error = np.sqrt(rates_and_preds.map(lambda r: (r[1][0] - r[1][1])**2).mean())\n",
    "        \n",
    "    print \"Testing Error {:.3}\".format(error)\n",
    "    return predictions"
   ]
  },
  {
   "cell_type": "code",
   "execution_count": 17,
   "metadata": {
    "collapsed": true
   },
   "outputs": [],
   "source": [
    "def get_test_results(sc):\n",
    "    '''Returns ratings test set and predicted ratings on test set'''\n",
    "    \n",
    "    print \"get_ratings_data...\"\n",
    "    data = get_ratings_data()\n",
    "    print \"building RDDs....\"\n",
    "    cust_tag_bridge_rdd = create_cust_tag_bridge_rdd(data, sc)\n",
    "    clean_data_rdd = create_clean_data_rdd(data, cust_tag_bridge_rdd) \n",
    "    \n",
    "    # free up memnory resources\n",
    "    cust_tag_bridge_rdd.unpersist()\n",
    "    print \"spliting data into train and test set...\"\n",
    "    # split data into sets in appropriate proprotions, i.e. weights = [8, 2]\n",
    "    training_RDD, test_RDD = clean_data_rdd.randomSplit([8, 2], seed=0)\n",
    "    \n",
    "    # free up memeory resources\n",
    "    clean_data_rdd.unpersist()\n",
    "    \n",
    "    # format data so that the key is (user_id, wine_feat)\n",
    "    test_for_predict_RDD = test_RDD.map(lambda x: (x[0], x[1]))\n",
    "    \n",
    "    print \"Training Model...\"\n",
    "    start = time()\n",
    "    fitted_model = train_model(training_RDD )\n",
    "    end = time()\n",
    "    print \"Training Model: Time Elapsed = {:.3} \\n\".format(end - start)\n",
    "    \n",
    "    # free up memnory resources\n",
    "    training_RDD.unpersist()\n",
    "    \n",
    "    print \"Testing Model...\"\n",
    "    start = time()\n",
    "    test_pred_RDD = test_model(fitted_model,test_RDD, test_for_predict_RDD )\n",
    "    end = time()\n",
    "    print \"Testing Model: Time Elapsed = {:.3}\".format(end - start)\n",
    "    \n",
    "    test_pred_list = test_pred_RDD.collect()\n",
    "    test_list = test_RDD.collect()\n",
    "    \n",
    "    # free up memnory resources\n",
    "    test_for_predict_RDD.unpersist()\n",
    "    test_RDD.unpersist()\n",
    "    \n",
    "    return test_pred_list, test_list"
   ]
  },
  {
   "cell_type": "code",
   "execution_count": 14,
   "metadata": {
    "collapsed": false
   },
   "outputs": [
    {
     "name": "stdout",
     "output_type": "stream",
     "text": [
      "get_ratings_data...\n",
      "building RDDs....\n",
      "spliting data into train and test set...\n",
      "Training Model...\n",
      "Training Model: Time Elapsed = 2.43e+02 \n",
      "\n",
      "Testing Model...\n",
      "Testing Error 2.13\n",
      "Testing Model: Time Elapsed = 41.6\n"
     ]
    }
   ],
   "source": [
    "test_pred_list, test_list = get_test_results(sc)"
   ]
  },
  {
   "cell_type": "markdown",
   "metadata": {},
   "source": [
    "#### Format Data\n",
    "    Move everything to dictionaires"
   ]
  },
  {
   "cell_type": "code",
   "execution_count": 15,
   "metadata": {
    "collapsed": false
   },
   "outputs": [],
   "source": [
    "test_pred_list = [  [row[0][0], row[0][1] , row[1]]  for row in test_pred_list]"
   ]
  },
  {
   "cell_type": "code",
   "execution_count": 16,
   "metadata": {
    "collapsed": false
   },
   "outputs": [],
   "source": [
    "def list_to_defaultdict(data_lists):\n",
    "    data_dict = defaultdict(dict)\n",
    "    for row in data_lists:\n",
    "        user_id = row[0]\n",
    "        wine_id = row[1]\n",
    "        rating = row[2]\n",
    "        \n",
    "        # i.e. 1234.5678 --> (0.5678000000000338, 1234.0)\n",
    "#         float_, lead = math.modf(rating)\n",
    "#         if float_ >= 0.5:\n",
    "#             rating = int(np.ceil(rating))\n",
    "#         else:\n",
    "#             rating = int(lead)\n",
    "        \n",
    "        \n",
    "        data_dict[user_id].update({wine_id:rating})\n",
    "    return data_dict"
   ]
  },
  {
   "cell_type": "code",
   "execution_count": 17,
   "metadata": {
    "collapsed": false
   },
   "outputs": [],
   "source": [
    "# Predicted test set ratings\n",
    "test_pred_dict = list_to_defaultdict(test_pred_list)"
   ]
  },
  {
   "cell_type": "code",
   "execution_count": 18,
   "metadata": {
    "collapsed": false
   },
   "outputs": [
    {
     "name": "stdout",
     "output_type": "stream",
     "text": [
      "Unique Users 142467\n"
     ]
    },
    {
     "data": {
      "text/plain": [
       "[(0,\n",
       "  {214573: 6.619504087589686,\n",
       "   241388: 6.1994111026348095,\n",
       "   324224: 7.2419354257252335,\n",
       "   343990: 8.32851067846818}),\n",
       " (6553600, {238301: 4.343433890236428, 260111: 4.858565439297247}),\n",
       " (15466500,\n",
       "  {82430: 7.78433825098109,\n",
       "   157853: 8.069110753462972,\n",
       "   305531: 5.272744557901685})]"
      ]
     },
     "execution_count": 18,
     "metadata": {},
     "output_type": "execute_result"
    }
   ],
   "source": [
    "print \"Unique Users {}\".format(len(test_pred_dict.keys()))\n",
    "sorted(test_pred_dict.items()[0:3])"
   ]
  },
  {
   "cell_type": "code",
   "execution_count": 19,
   "metadata": {
    "collapsed": false
   },
   "outputs": [],
   "source": [
    "test_dict = list_to_defaultdict(test_list)"
   ]
  },
  {
   "cell_type": "code",
   "execution_count": 20,
   "metadata": {
    "collapsed": false
   },
   "outputs": [
    {
     "name": "stdout",
     "output_type": "stream",
     "text": [
      "Unique Users 143162\n"
     ]
    },
    {
     "data": {
      "text/plain": [
       "[(0, {214573: 6, 241388: 9, 324224: 9, 343990: 10}),\n",
       " (2359300, {132970: 6, 182062: 10}),\n",
       " (6553600, {238301: 1, 260111: 1})]"
      ]
     },
     "execution_count": 20,
     "metadata": {},
     "output_type": "execute_result"
    }
   ],
   "source": [
    "print \"Unique Users {}\".format(len(test_dict.keys()))\n",
    "# Test set ratings\n",
    "sorted(test_dict.items()[0:3])"
   ]
  },
  {
   "cell_type": "markdown",
   "metadata": {},
   "source": [
    "### Filter Missing Users\n",
    "    For some reason, some users in the test set don't appear in the predict set. \n",
    "    Identify those missing users and remove them from the test set. \n",
    "    We can only compare predicted and actual ratings for users that appear in both sets. "
   ]
  },
  {
   "cell_type": "code",
   "execution_count": 21,
   "metadata": {
    "collapsed": false
   },
   "outputs": [],
   "source": [
    "# filter out users and wines in test_dict that don't show up in test_pred_dict\n",
    "def filter_users(test_pred_dict, test_dict):\n",
    "    '''For some reason, the predicted ratings has slightly fewer unique users than the test set. \n",
    "       Filter out users that don't appear in both sets   '''\n",
    "    test_dict_copy = test_dict.copy()\n",
    "    for user_id in test_dict.keys():\n",
    "        if test_pred_dict.has_key(user_id) == False:\n",
    "            test_dict_copy.pop(user_id);\n",
    "    return test_dict_copy"
   ]
  },
  {
   "cell_type": "code",
   "execution_count": 22,
   "metadata": {
    "collapsed": true
   },
   "outputs": [],
   "source": [
    "test_dict_copy = filter_users(test_pred_dict, test_dict)"
   ]
  },
  {
   "cell_type": "code",
   "execution_count": 23,
   "metadata": {
    "collapsed": false
   },
   "outputs": [
    {
     "name": "stdout",
     "output_type": "stream",
     "text": [
      "Unique users in test set  142467\n"
     ]
    }
   ],
   "source": [
    "# now the number of unqiue users in the test set is the same as in the prediction set\n",
    "print \"Unique users in test set \", len(test_dict_copy.keys())"
   ]
  },
  {
   "cell_type": "code",
   "execution_count": 24,
   "metadata": {
    "collapsed": false
   },
   "outputs": [
    {
     "name": "stdout",
     "output_type": "stream",
     "text": [
      "Unique users in predict set  142467\n"
     ]
    }
   ],
   "source": [
    "print \"Unique users in predict set \", len(test_pred_dict.keys())"
   ]
  },
  {
   "cell_type": "code",
   "execution_count": 25,
   "metadata": {
    "collapsed": false
   },
   "outputs": [],
   "source": [
    "results = [user_id for user_id in test_dict_copy.keys() if len(test_dict_copy[user_id]) != len(test_pred_dict[user_id])]"
   ]
  },
  {
   "cell_type": "code",
   "execution_count": 26,
   "metadata": {
    "collapsed": false
   },
   "outputs": [
    {
     "name": "stdout",
     "output_type": "stream",
     "text": [
      "5235 users have a disimilar number of purchase wines\n"
     ]
    }
   ],
   "source": [
    "print \"{} users have a disimilar number of purchase wines\".format(len(results))"
   ]
  },
  {
   "cell_type": "markdown",
   "metadata": {},
   "source": [
    "### Filter Missing Wines\n",
    "    Just as with the user ids, some purchased wine ids don't appear in the predicted ratings set. \n",
    "    Identify those missing wine ids and remove them from the test set. \n",
    "    We can only compare predicted and actual ratings for wines that appear in both sets. "
   ]
  },
  {
   "cell_type": "code",
   "execution_count": 27,
   "metadata": {
    "collapsed": false
   },
   "outputs": [],
   "source": [
    "def filter_missing_wines(test_dict_copy, test_pred_dict):  \n",
    "    '''For some reason, the predicted ratings has slightly fewer purchased wines than the test set. \n",
    "       Filter out wines that don't appear in both sets   '''\n",
    "    for user_id in results:\n",
    "        # identify wines in test set that don't appear in predict set\n",
    "        # pop those wines from the test dict\n",
    "        drop_ids = []\n",
    "\n",
    "        for test_wine in test_dict_copy[user_id].keys():\n",
    "            if test_wine not in test_pred_dict[user_id].keys():\n",
    "                drop_ids.append(test_wine)\n",
    "\n",
    "        for wine_id in drop_ids:\n",
    "            test_dict_copy[user_id].pop(wine_id);\n",
    "    return test_dict_copy"
   ]
  },
  {
   "cell_type": "code",
   "execution_count": 28,
   "metadata": {
    "collapsed": false
   },
   "outputs": [],
   "source": [
    "clean_test_dict = filter_missing_wines(test_dict_copy, test_pred_dict)"
   ]
  },
  {
   "cell_type": "code",
   "execution_count": 29,
   "metadata": {
    "collapsed": true
   },
   "outputs": [],
   "source": [
    "# Sanity Check\n",
    "results_2 = [user_id for user_id in clean_test_dict.keys() if len(clean_test_dict[user_id]) != len(test_pred_dict[user_id])]"
   ]
  },
  {
   "cell_type": "code",
   "execution_count": 30,
   "metadata": {
    "collapsed": false
   },
   "outputs": [
    {
     "data": {
      "text/plain": [
       "0"
      ]
     },
     "execution_count": 30,
     "metadata": {},
     "output_type": "execute_result"
    }
   ],
   "source": [
    "# Expecting zero length\n",
    "len(results_2)"
   ]
  },
  {
   "cell_type": "code",
   "execution_count": 83,
   "metadata": {
    "collapsed": false
   },
   "outputs": [
    {
     "data": {
      "text/plain": [
       "{240482: 10, 308181: 9, 362276: 9}"
      ]
     },
     "execution_count": 83,
     "metadata": {},
     "output_type": "execute_result"
    }
   ],
   "source": [
    "clean_test_dict.values()[10000]"
   ]
  },
  {
   "cell_type": "markdown",
   "metadata": {},
   "source": [
    "### Validating ROC \n",
    "    Create 7 data sets. \n",
    "    1. Users with 3 or more purchases\n",
    "    2. Users with 4 or more purchases\n",
    "    3. ...\n",
    "    4. Users with 10 purchases \n",
    "    5. Plot all their roc curves "
   ]
  },
  {
   "cell_type": "code",
   "execution_count": 31,
   "metadata": {
    "collapsed": true
   },
   "outputs": [],
   "source": [
    "# will have to build dictionaries for each file \n",
    "def get_roc_data():\n",
    "    data_path = \"/Users/Alexander/WINE/data/roc_data_{}_purchases.pkl\"\n",
    "    for n_purchases in range(3,11):\n",
    "        print \"n_purchases {}\".format(n_purchases)\n",
    "        n_purchase_test_dict = defaultdict(dict)\n",
    "        n_purchase_predict_dict = defaultdict(dict)\n",
    "        \n",
    "        test_wines_n_purchases = []\n",
    "        predict_wines_n_purchases = []\n",
    "        \n",
    "        # user ids in test dict\n",
    "        for user_id in clean_test_dict.keys():\n",
    "            # check number of purchases of user\n",
    "            if len(clean_test_dict[user_id]) >= n_purchases:\n",
    "                # create rating dicts for user iwth n or more purchases \n",
    "                n_purchase_test_dict[user_id].update(clean_test_dict[user_id])\n",
    "                n_purchase_predict_dict[user_id].update(test_pred_dict[user_id])\n",
    "                \n",
    "        cPickle.dump([n_purchase_test_dict, n_purchase_predict_dict ], open(data_path.format(n_purchases), 'w') )"
   ]
  },
  {
   "cell_type": "code",
   "execution_count": 32,
   "metadata": {
    "collapsed": false
   },
   "outputs": [
    {
     "name": "stdout",
     "output_type": "stream",
     "text": [
      "n_purchases 3\n",
      "n_purchases 4\n",
      "n_purchases 5\n",
      "n_purchases 6\n",
      "n_purchases 7\n",
      "n_purchases 8\n",
      "n_purchases 9\n",
      "n_purchases 10\n",
      "Time Elapsed = 0.275\n"
     ]
    }
   ],
   "source": [
    "start = time()\n",
    "get_roc_data()\n",
    "end = time()\n",
    "print \"Time Elapsed = {:.3}\".format((end - start)/60)"
   ]
  },
  {
   "cell_type": "code",
   "execution_count": 34,
   "metadata": {
    "collapsed": true
   },
   "outputs": [],
   "source": [
    "data_path = \"/Users/Alexander/WINE/data/roc_data_{}_purchases.pkl\""
   ]
  },
  {
   "cell_type": "code",
   "execution_count": 35,
   "metadata": {
    "collapsed": false
   },
   "outputs": [],
   "source": [
    "ratings_data = cPickle.load(open(data_path.format(5), 'r'))"
   ]
  },
  {
   "cell_type": "code",
   "execution_count": 36,
   "metadata": {
    "collapsed": false
   },
   "outputs": [
    {
     "name": "stdout",
     "output_type": "stream",
     "text": [
      "<type 'list'>\n",
      "2\n",
      "<type 'collections.defaultdict'>\n",
      "44893\n"
     ]
    }
   ],
   "source": [
    "# Sanity check\n",
    "print type(ratings_data)\n",
    "print len(ratings_data)\n",
    "print type(ratings_data[0])\n",
    "print len(ratings_data[0])"
   ]
  },
  {
   "cell_type": "markdown",
   "metadata": {},
   "source": [
    "### Sort through ratings & identify TP and FP"
   ]
  },
  {
   "cell_type": "code",
   "execution_count": 37,
   "metadata": {
    "collapsed": true
   },
   "outputs": [],
   "source": [
    "def get_tpr_fpr(true_list, pred_list):\n",
    "    '''Returns True Postive Rates and False Positive Rates\n",
    "       Input: true_list, list\n",
    "              pred_list, list\n",
    "       Output: TPR, float\n",
    "               FPR, float'''\n",
    "    TP = 0.\n",
    "    FP = 0.\n",
    "    TN = 0.\n",
    "    FN = 0.\n",
    "    for true, pred in zip(true_list,pred_list):\n",
    "        if(true == 1 and pred == 1):\n",
    "            TP += 1.\n",
    "        elif(true == 0 and pred == 1):\n",
    "            FP += 1.\n",
    "        elif(true == 1 and pred == 0):\n",
    "            FN += 1. \n",
    "        else:\n",
    "            TN += 1.    \n",
    "    try:\n",
    "        TPR = TP  / (FN + TP )\n",
    "        FPR = FP / (FP + TN )  \n",
    "        return TPR, FPR\n",
    "    except:\n",
    "        pass"
   ]
  },
  {
   "cell_type": "code",
   "execution_count": 38,
   "metadata": {
    "collapsed": false
   },
   "outputs": [],
   "source": [
    "def get_metrics(test_pred_dict, test_dict, thres):\n",
    "    '''Collects lists of True Positives and False Positives for each rating labe '''\n",
    "    TPR_list = []\n",
    "    FPR_list = []\n",
    "    TPR_list.append(1)\n",
    "    FPR_list.append(1)\n",
    "    # stores predicted ratings for later analysis \n",
    "    pred_ratings = []\n",
    "    # store R and ~R for test set (i.e. 1 --> Rec, 0 --> Don't Rec)\n",
    "    true_list = []\n",
    "    # store R and ~R for prediction set (i.e. 1 --> Rec, 0 --> Don't Rec)\n",
    "    pred_list = []\n",
    "    # threshold values to determine if wines should be recommended \n",
    "    threshold_list = thres\n",
    "    # pred users, wines, and ratings\n",
    "    \n",
    "    for threshold in threshold_list:\n",
    "        for user, wines_ratings in test_pred_dict.iteritems():\n",
    "\n",
    "\n",
    "            # predicted wines and ratings\n",
    "            for wine, pred_rating in wines_ratings.iteritems():\n",
    "                pred_ratings.append(pred_rating)\n",
    "                \n",
    "                # get actual rating from test set\n",
    "                test_rating = test_dict[user][wine]\n",
    "                \n",
    "                if test_rating >= threshold:\n",
    "                    true_list.append(1)\n",
    "                else:\n",
    "                    true_list.append(0)\n",
    "                    \n",
    "                if pred_rating >= threshold:\n",
    "                    pred_list.append(1)\n",
    "                else:\n",
    "                    pred_list.append(0)\n",
    "           \n",
    "        try:        \n",
    "            TPR, FPR =  get_tpr_fpr(true_list, pred_list)\n",
    "            TPR_list.append(TPR)\n",
    "            FPR_list.append(FPR)\n",
    "        except TypeError:\n",
    "            print \"threshold\", threshold\n",
    "            print \"Test Set Labels    {}\".format(np.unique(true_list))\n",
    "            print \"Predict Set Labels {} \\n\".format(np.unique(pred_list))\n",
    "        \n",
    "        true_list = []\n",
    "        pred_list = []\n",
    "        \n",
    "    TPR_list.append(0)\n",
    "    FPR_list.append(0)\n",
    "                \n",
    "    return TPR_list, FPR_list,  pred_ratings"
   ]
  },
  {
   "cell_type": "markdown",
   "metadata": {},
   "source": [
    "## Two Big Fixes \n",
    "    1. users and wines from appear in the test set but don't appear in the prediction set have been removed \n",
    "    from the prediction set. \n",
    "    \n",
    "    2. Thresholds range [2,10] is the only one that makes sense. \n",
    "    Although predict ratings vary between [0,15], the test set only varies between [1,10]. "
   ]
  },
  {
   "cell_type": "markdown",
   "metadata": {},
   "source": [
    "## Issue...?\n",
    "\n",
    "The labels in the test set will always be between [1,10] because that is how I scaled it. \n",
    "\n",
    "The labels in the predicted set will vary between [0,15]."
   ]
  },
  {
   "cell_type": "markdown",
   "metadata": {},
   "source": [
    "## Plot ROC Curves \n",
    "    Plot a roc curve for each conditon \n",
    "    user's with 3 or more purchase, 4 or more purchase, ..., 8, 9, 10"
   ]
  },
  {
   "cell_type": "code",
   "execution_count": 39,
   "metadata": {
    "collapsed": false
   },
   "outputs": [],
   "source": [
    "def get_metrics_for_conditoned_data(data_path):\n",
    "    metrics_dict = defaultdict(list)\n",
    "    for n_purchases in xrange(3, 11):\n",
    "        print \"n_purchases {}\".format(n_purchases)\n",
    "        print \"load data...\"\n",
    "        # load data from file\n",
    "        ratings_data = cPickle.load(open(data_path.format(n_purchases), 'r'))\n",
    "        # unpack data \n",
    "        test_pred_dict, clean_test_dict = ratings_data\n",
    "        # get metrics \n",
    "        thresholds = np.arange(2.0, 11.0, 1.0)\n",
    "        print \"get_metrics...\"\n",
    "        TPR_list, FPR_list,  _ = get_metrics(test_pred_dict, clean_test_dict, thresholds)\n",
    "        metrics_dict[n_purchases].append(TPR_list)\n",
    "        metrics_dict[n_purchases].append(FPR_list)\n",
    "    return metrics_dict"
   ]
  },
  {
   "cell_type": "code",
   "execution_count": 40,
   "metadata": {
    "collapsed": false
   },
   "outputs": [
    {
     "name": "stdout",
     "output_type": "stream",
     "text": [
      "n_purchases 3\n",
      "load data...\n",
      "get_metrics...\n",
      "n_purchases 4\n",
      "load data...\n",
      "get_metrics...\n",
      "n_purchases 5\n",
      "load data...\n",
      "get_metrics...\n",
      "n_purchases 6\n",
      "load data...\n",
      "get_metrics...\n",
      "n_purchases 7\n",
      "load data...\n",
      "get_metrics...\n",
      "n_purchases 8\n",
      "load data...\n",
      "get_metrics...\n",
      "n_purchases 9\n",
      "load data...\n",
      "get_metrics...\n",
      "n_purchases 10\n",
      "load data...\n",
      "get_metrics...\n",
      "Time Elapsed = 59.3\n"
     ]
    }
   ],
   "source": [
    "data_path = \"/Users/Alexander/WINE/data/roc_data_{}_purchases.pkl\"\n",
    "start = time()\n",
    "metrics_dict = get_metrics_for_conditoned_data(data_path)\n",
    "end = time()\n",
    "print \"Time Elapsed = {:.3}\".format(end - start)"
   ]
  },
  {
   "cell_type": "code",
   "execution_count": 78,
   "metadata": {
    "collapsed": false
   },
   "outputs": [],
   "source": [
    "def plot_roc_curves(metrics_dict):\n",
    "    fig = plt.figure(figsize = (12, 8));\n",
    "    ax1 = fig.add_subplot(111)\n",
    "    \n",
    "    colors = ['b', 'g', 'r', 'm', 'y', 'k', 'orange', 'darkgreen']\n",
    "    for n_purchases, color in zip(metrics_dict.keys(), colors ):\n",
    "        TPR_list, FPR_list = metrics_dict[n_purchases]\n",
    "        ax1.plot([0, 1], [0, 1], 'k--');\n",
    "        #ax1.title(\"ROC Curve: TPR vs. FPR\")\n",
    "        #ax1.xlabel(\"FPR\")\n",
    "        #ax1.ylabel(\"TPR\")\n",
    "        #ax1.xlim(0, 1.1)\n",
    "        #ax1.ylim(0, 1.1)\n",
    "        ax1.plot(FPR_list,TPR_list, color, label = str(n_purchases));\n",
    "    plt.title(\"ROC Curves: TPR vs. FPR\")\n",
    "    plt.xlabel(\"TPR\")\n",
    "    plt.ylabel(\"FPR\")\n",
    "    plt.legend();\n",
    "    plt.show();\n",
    "    fig.savefig(\"/Users/Alexander/Wine_Recommender/Data/roc_curves_3_10.png\");"
   ]
  },
  {
   "cell_type": "code",
   "execution_count": 79,
   "metadata": {
    "collapsed": false
   },
   "outputs": [
    {
     "data": {
      "image/png": "[encoded data removed]",
      "text/plain": [
       "<matplotlib.figure.Figure at 0x11d07ccd0>"
      ]
     },
     "metadata": {},
     "output_type": "display_data"
    }
   ],
   "source": [
    "#  kinks represent undersampling\n",
    "#  the model is undersampling points from latent features\n",
    "# ideally, it would have sampled points from LF and be able to more accurately, and smoothly, \n",
    "# provide TPR and FPR, this would make the kinks a lot smaller and the curve a lot smoother \n",
    "# the solution is identify and predict on those user latent features (man, woman, black, white, rural, city,...)\n",
    "# for users with 9 or more purchases, we see that the curve moves almost directly virtical because \n",
    "plot_roc_curves(metrics_dict)"
   ]
  },
  {
   "cell_type": "code",
   "execution_count": 47,
   "metadata": {
    "collapsed": false
   },
   "outputs": [],
   "source": [
    "thresholds = np.arange(2.0, 11.0, 1.0)\n",
    "TPR_list, FPR_list,  pred_ratings = get_metrics(test_pred_dict, clean_test_dict, thresholds)"
   ]
  },
  {
   "cell_type": "code",
   "execution_count": 48,
   "metadata": {
    "collapsed": false
   },
   "outputs": [
    {
     "data": {
      "text/plain": [
       "array([  2.,   3.,   4.,   5.,   6.,   7.,   8.,   9.,  10.])"
      ]
     },
     "execution_count": 48,
     "metadata": {},
     "output_type": "execute_result"
    }
   ],
   "source": [
    "thresholds"
   ]
  },
  {
   "cell_type": "markdown",
   "metadata": {},
   "source": [
    "A threshold value needs to be choosen in order to determine if a wine should be recommended or not. \n",
    "based on the results from the roc plot below, I recommend using either 9 which has a TPR of about 82% and a FPR of about 25%. "
   ]
  },
  {
   "cell_type": "code",
   "execution_count": 66,
   "metadata": {
    "collapsed": false
   },
   "outputs": [
    {
     "name": "stdout",
     "output_type": "stream",
     "text": [
      "Area Under the Curve 0.871\n"
     ]
    },
    {
     "data": {
      "image/png": "[encoded data removed]",
      "text/plain": [
       "<matplotlib.figure.Figure at 0x127d1aa90>"
      ]
     },
     "metadata": {},
     "output_type": "display_data"
    }
   ],
   "source": [
    "# this plot was created using all of the filtered ratings data (~3,000,000 ratings)\n",
    "print \"Area Under the Curve {:.3}\".format(metrics.auc(FPR_list, TPR_list, reorder=True))\n",
    "plt.figure(figsize = (12, 8));\n",
    "plt.plot([0, 1], [0, 1], 'k--');\n",
    "plt.title(\"ROC Curve: TPR vs. FPR\")\n",
    "plt.xlabel(\"FPR\")\n",
    "plt.ylabel(\"TPR\")\n",
    "plt.xlim(0, 1.0)\n",
    "plt.ylim(0, 1.0)\n",
    "plt.plot(FPR_list,TPR_list, 'b', label=\"AUC = {:.3}\".format(metrics.auc(FPR_list, TPR_list, reorder=True)));\n",
    "plt.legend(loc=(0.8, .05))\n",
    "plt.savefig(\"/Users/Alexander/Wine_Recommender/Data/ROC_Curve.png\");"
   ]
  },
  {
   "cell_type": "code",
   "execution_count": 97,
   "metadata": {
    "collapsed": false
   },
   "outputs": [
    {
     "data": {
      "text/plain": [
       "Counter({0: 285,\n",
       "         1: 343695,\n",
       "         2: 516900,\n",
       "         3: 1216185,\n",
       "         4: 1706625,\n",
       "         5: 1802055,\n",
       "         6: 1728630,\n",
       "         7: 1500015,\n",
       "         8: 1133310,\n",
       "         9: 721860,\n",
       "         10: 340395,\n",
       "         11: 91665,\n",
       "         12: 10755,\n",
       "         13: 990,\n",
       "         14: 105,\n",
       "         15: 30})"
      ]
     },
     "execution_count": 97,
     "metadata": {},
     "output_type": "execute_result"
    }
   ],
   "source": [
    "# The model is outputing ratings below 1 and above 10 \n",
    "Counter([ int(np.ceil(rating)) for rating in pred_ratings])"
   ]
  }
 ],
 "metadata": {
  "kernelspec": {
   "display_name": "Python 2",
   "language": "python",
   "name": "python2"
  },
  "language_info": {
   "codemirror_mode": {
    "name": "ipython",
    "version": 2
   },
   "file_extension": ".py",
   "mimetype": "text/x-python",
   "name": "python",
   "nbconvert_exporter": "python",
   "pygments_lexer": "ipython2",
   "version": "2.7.11"
  }
 },
 "nbformat": 4,
 "nbformat_minor": 0
}
