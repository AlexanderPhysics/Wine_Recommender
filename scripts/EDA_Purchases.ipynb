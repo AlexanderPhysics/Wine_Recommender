{
 "cells": [
  {
   "cell_type": "code",
   "execution_count": 1,
   "metadata": {
    "collapsed": true
   },
   "outputs": [],
   "source": [
    "reset -f -s"
   ]
  },
  {
   "cell_type": "code",
   "execution_count": 2,
   "metadata": {
    "collapsed": false
   },
   "outputs": [],
   "source": [
    "from __future__ import division\n",
    "import numpy as np\n",
    "import pandas as pd\n",
    "import matplotlib.pyplot as plt\n",
    "import plotly.plotly as py\n",
    "import plotly.graph_objs as go\n",
    "import ftfy\n",
    "import json\n",
    "import operator\n",
    "from collections import defaultdict, Counter\n",
    "%matplotlib inline"
   ]
  },
  {
   "cell_type": "code",
   "execution_count": 3,
   "metadata": {
    "collapsed": true
   },
   "outputs": [],
   "source": [
    "def sort_dict_to_list(data_dict, sort_by):\n",
    "    '''Input: dictionary\n",
    "       Input: sort_by, if 1, then sort by value, if 2 sort by key\n",
    "       Output: returns a sorted key and value list'''\n",
    "    # sort dictionary by value --> .itemgetter(1)\n",
    "    sorted_data = sorted(data_dict.items(), key=operator.itemgetter(sort_by), reverse=True)\n",
    "\n",
    "    # move sorted dates and sorted date counts to lists\n",
    "    k_datum = []\n",
    "    v_count_datum = []\n",
    "    for datum in sorted_data:\n",
    "        k_datum.append(datum[0])\n",
    "        v_count_datum.append(datum[1])\n",
    "    return k_datum, v_count_datum"
   ]
  },
  {
   "cell_type": "code",
   "execution_count": 4,
   "metadata": {
    "collapsed": true
   },
   "outputs": [],
   "source": [
    "path3 = \"/Users/Alexander/Wine_Recommender/data/Purchases.txt\"\n",
    "purchases = pd.read_csv(path3, sep = \"\\t\")"
   ]
  },
  {
   "cell_type": "code",
   "execution_count": 5,
   "metadata": {
    "collapsed": false
   },
   "outputs": [
    {
     "data": {
      "text/html": [
       "<div>\n",
       "<table border=\"1\" class=\"dataframe\">\n",
       "  <thead>\n",
       "    <tr style=\"text-align: right;\">\n",
       "      <th></th>\n",
       "      <th>CustomerHash</th>\n",
       "      <th>PurchaseHash</th>\n",
       "      <th>ProductKey</th>\n",
       "      <th>Date</th>\n",
       "      <th>Units</th>\n",
       "    </tr>\n",
       "  </thead>\n",
       "  <tbody>\n",
       "    <tr>\n",
       "      <th>0</th>\n",
       "      <td>F1923160355C00D4D1E7801F74132540</td>\n",
       "      <td>C60D8C98A7328EF5A1F5090D6A29DB7F</td>\n",
       "      <td>222650</td>\n",
       "      <td>2015-06-18</td>\n",
       "      <td>1</td>\n",
       "    </tr>\n",
       "    <tr>\n",
       "      <th>1</th>\n",
       "      <td>D3BE5BC2AA8796FCD402023CD6E5A6AC</td>\n",
       "      <td>C9F6085954D5D36615EE0BA44BEB0A2A</td>\n",
       "      <td>95350</td>\n",
       "      <td>2009-08-04</td>\n",
       "      <td>1</td>\n",
       "    </tr>\n",
       "    <tr>\n",
       "      <th>2</th>\n",
       "      <td>00D7447BAB0443738F81C3660F478357</td>\n",
       "      <td>18B773B0D5568E406CBB946F628C1DC6</td>\n",
       "      <td>38706</td>\n",
       "      <td>2007-12-10</td>\n",
       "      <td>1</td>\n",
       "    </tr>\n",
       "    <tr>\n",
       "      <th>3</th>\n",
       "      <td>F3548BD72E0F97ECBDA95918DE2743AD</td>\n",
       "      <td>96FEEC28AB4F35342DE08987D39406FC</td>\n",
       "      <td>333116</td>\n",
       "      <td>2012-03-16</td>\n",
       "      <td>2</td>\n",
       "    </tr>\n",
       "    <tr>\n",
       "      <th>4</th>\n",
       "      <td>9A260E4A83A112AA06F06A11DBF98BBD</td>\n",
       "      <td>07879D41A42AD75F020E3DA70D698ACC</td>\n",
       "      <td>221136</td>\n",
       "      <td>2007-05-08</td>\n",
       "      <td>1</td>\n",
       "    </tr>\n",
       "  </tbody>\n",
       "</table>\n",
       "</div>"
      ],
      "text/plain": [
       "                       CustomerHash                      PurchaseHash  \\\n",
       "0  F1923160355C00D4D1E7801F74132540  C60D8C98A7328EF5A1F5090D6A29DB7F   \n",
       "1  D3BE5BC2AA8796FCD402023CD6E5A6AC  C9F6085954D5D36615EE0BA44BEB0A2A   \n",
       "2  00D7447BAB0443738F81C3660F478357  18B773B0D5568E406CBB946F628C1DC6   \n",
       "3  F3548BD72E0F97ECBDA95918DE2743AD  96FEEC28AB4F35342DE08987D39406FC   \n",
       "4  9A260E4A83A112AA06F06A11DBF98BBD  07879D41A42AD75F020E3DA70D698ACC   \n",
       "\n",
       "   ProductKey        Date  Units  \n",
       "0      222650  2015-06-18      1  \n",
       "1       95350  2009-08-04      1  \n",
       "2       38706  2007-12-10      1  \n",
       "3      333116  2012-03-16      2  \n",
       "4      221136  2007-05-08      1  "
      ]
     },
     "execution_count": 5,
     "metadata": {},
     "output_type": "execute_result"
    }
   ],
   "source": [
    "purchases.head()"
   ]
  },
  {
   "cell_type": "markdown",
   "metadata": {},
   "source": [
    "### Univariate Distributions"
   ]
  },
  {
   "cell_type": "markdown",
   "metadata": {},
   "source": [
    "##### Customer Purchases"
   ]
  },
  {
   "cell_type": "code",
   "execution_count": 6,
   "metadata": {
    "collapsed": true
   },
   "outputs": [],
   "source": [
    "# get total purchases for each user\n",
    "units = purchases.groupby([\"CustomerHash\"])[\"Units\"].sum()"
   ]
  },
  {
   "cell_type": "code",
   "execution_count": 7,
   "metadata": {
    "collapsed": false
   },
   "outputs": [
    {
     "name": "stdout",
     "output_type": "stream",
     "text": [
      "users wtih 12 or less purchases is 0.802 of the population\n",
      "\n",
      "0.802 of the population will be excluded from phase 1\n"
     ]
    }
   ],
   "source": [
    "k = 12\n",
    "print \"users wtih {0} or less purchases is {1:.4} of the population\".format(k,len(units[units <= k])/ len(units))\n",
    "print \"\\n{:.4} of the population will be excluded from phase 1\".format(len(units[units <= k])/ len(units))"
   ]
  },
  {
   "cell_type": "code",
   "execution_count": 8,
   "metadata": {
    "collapsed": false
   },
   "outputs": [
    {
     "name": "stderr",
     "output_type": "stream",
     "text": [
      "//anaconda/lib/python2.7/site-packages/plotly/plotly/plotly.py:236: UserWarning:\n",
      "\n",
      "Woah there! Look at all those points! Due to browser limitations, the Plotly SVG drawing functions have a hard time graphing more than 500k data points for line charts, or 40k points for other types of charts. Here are some suggestions:\n",
      "(1) Use the `plotly.graph_objs.Scattergl` trace object to generate a WebGl graph.\n",
      "(2) Trying using the image API to return an image instead of a graph URL\n",
      "(3) Use matplotlib\n",
      "(4) See if you can create your visualization with fewer data points\n",
      "\n",
      "If the visualization you're using aggregates points (e.g., box plot, histogram, etc.) you can disregard this warning.\n",
      "\n"
     ]
    }
   ],
   "source": [
    "data = [\n",
    "    go.Histogram(\n",
    "        x=units,\n",
    "        marker=dict(\n",
    "        color=\"#ce2c4b\"\n",
    "    ),\n",
    "    )\n",
    "]\n",
    "layout = go.Layout(\n",
    "title='Total Wine Purchases per user',\n",
    "\n",
    "    yaxis=dict(\n",
    "    title='Total Wine Purchases'\n",
    "),\n",
    "    xaxis=dict(\n",
    "    title=\"Users\"\n",
    ")\n",
    ")    \n",
    "fig = go.Figure(data=data, layout=layout)\n",
    "plot_url_purchases = py.iplot(fig, filename='style-bar')"
   ]
  },
  {
   "cell_type": "code",
   "execution_count": 9,
   "metadata": {
    "collapsed": false,
    "scrolled": false
   },
   "outputs": [
    {
     "data": {
      "text/html": [
       "<iframe id=\"igraph\" scrolling=\"no\" style=\"border:none;\"seamless=\"seamless\" src=\"https://plot.ly/~DataBeast/65.embed\" height=\"525px\" width=\"100%\"></iframe>"
      ],
      "text/plain": [
       "<plotly.tools.PlotlyDisplay object>"
      ]
     },
     "execution_count": 9,
     "metadata": {},
     "output_type": "execute_result"
    }
   ],
   "source": [
    "# univariate\n",
    "# user segmentation is based off of this distribution\n",
    "plot_url_purchases"
   ]
  },
  {
   "cell_type": "code",
   "execution_count": 10,
   "metadata": {
    "collapsed": false
   },
   "outputs": [
    {
     "data": {
      "image/png": "[encoded data removed]",
      "text/plain": [
       "<matplotlib.figure.Figure at 0x103aa9710>"
      ]
     },
     "metadata": {},
     "output_type": "display_data"
    }
   ],
   "source": [
    "_ = plt.hist(units[units < 100], bins=100)"
   ]
  },
  {
   "cell_type": "markdown",
   "metadata": {},
   "source": [
    "### Date"
   ]
  },
  {
   "cell_type": "code",
   "execution_count": 11,
   "metadata": {
    "collapsed": false
   },
   "outputs": [],
   "source": [
    "date_count = Counter(purchases.Date.values)"
   ]
  },
  {
   "cell_type": "code",
   "execution_count": 12,
   "metadata": {
    "collapsed": false
   },
   "outputs": [],
   "source": [
    "sort_by_key = 0\n",
    "date, date_count = sort_dict_to_list(date_count,sort_by_key)"
   ]
  },
  {
   "cell_type": "code",
   "execution_count": 13,
   "metadata": {
    "collapsed": false
   },
   "outputs": [],
   "source": [
    "data = [\n",
    "    go.Scatter(\n",
    "        x=date,\n",
    "        y=date_count,\n",
    "        marker=dict(\n",
    "        color=\"#ce2c4b\"\n",
    "    ),\n",
    "    )\n",
    "]\n",
    "\n",
    "layout = go.Layout(\n",
    "title='Frequency of Wine Purchases by Date',\n",
    "\n",
    "    yaxis=dict(\n",
    "    title='Frequency of Wine Purchases'\n",
    "),\n",
    "    xaxis=dict(\n",
    "    title=\"Date\"\n",
    ")\n",
    ")   \n",
    "fig = go.Figure(data=data, layout=layout)\n",
    "plot_url_date = py.iplot(fig, filename='date-axes')"
   ]
  },
  {
   "cell_type": "code",
   "execution_count": 14,
   "metadata": {
    "collapsed": false
   },
   "outputs": [
    {
     "data": {
      "text/html": [
       "<iframe id=\"igraph\" scrolling=\"no\" style=\"border:none;\"seamless=\"seamless\" src=\"https://plot.ly/~DataBeast/69.embed\" height=\"525px\" width=\"100%\"></iframe>"
      ],
      "text/plain": [
       "<plotly.tools.PlotlyDisplay object>"
      ]
     },
     "execution_count": 14,
     "metadata": {},
     "output_type": "execute_result"
    }
   ],
   "source": [
    "# univariate\n",
    "# each purchases consist of 1 or more bottles of wine\n",
    "plot_url_date"
   ]
  },
  {
   "cell_type": "markdown",
   "metadata": {},
   "source": [
    "### Identify Users who have purchased a total of k bottles of wine\n",
    "\n",
    "    segment users between anomoly spikes \n",
    "    1 - 6 purchase should all be seperate groups \n",
    "    7 - 12 purcahse should all be one group\n",
    "    12 should be its own group because it's an anomoly \n",
    "    13 - 24 purchases should all be one group \n",
    "    25 should its own group because it's also an anomoly\n",
    "    26 - 100 is it's own group\n",
    "    100 + is its own group \n",
    "    power users are the anomolous groups"
   ]
  },
  {
   "cell_type": "code",
   "execution_count": 15,
   "metadata": {
    "collapsed": false
   },
   "outputs": [],
   "source": [
    "#  1 - 6 purchase should all be seperate groups \n",
    "one_purchase    = units[units == 1].index.tolist()\n",
    "two_purchases   = units[units == 2].index.tolist()\n",
    "three_purchases = units[units == 3].index.tolist()\n",
    "four_purchases  = units[units == 4].index.tolist()\n",
    "five_purchases  = units[units == 5].index.tolist()\n",
    "six_purchases   = units[units == 6].index.tolist()"
   ]
  },
  {
   "cell_type": "code",
   "execution_count": 16,
   "metadata": {
    "collapsed": false
   },
   "outputs": [],
   "source": [
    "# 7 - 11 purcahse should all be one group\n",
    "seven_eleven_purchases = []\n",
    "for i in xrange(7, 12):\n",
    "    seven_eleven_purchases =  units[units == i].index.tolist() +  seven_eleven_purchases"
   ]
  },
  {
   "cell_type": "code",
   "execution_count": 17,
   "metadata": {
    "collapsed": true
   },
   "outputs": [],
   "source": [
    "# 12 should be its own group because it's an anomoly \n",
    "twelve_purchase = units[units == 12].index.tolist()"
   ]
  },
  {
   "cell_type": "code",
   "execution_count": 18,
   "metadata": {
    "collapsed": true
   },
   "outputs": [],
   "source": [
    "# 13 - 24 purchases should all be one group \n",
    "thirteen_twentyfour_purchases = []\n",
    "for i in xrange(13, 25):\n",
    "    thirteen_twentyfour_purchases =  units[units == i].tolist() +  thirteen_twentyfour_purchases"
   ]
  },
  {
   "cell_type": "code",
   "execution_count": 19,
   "metadata": {
    "collapsed": false
   },
   "outputs": [],
   "source": [
    "# 25 should its own group because it's also an anomoly\n",
    "twentyfive_purchases = units[units == 25].index.tolist()"
   ]
  },
  {
   "cell_type": "code",
   "execution_count": 20,
   "metadata": {
    "collapsed": true
   },
   "outputs": [],
   "source": [
    "# 26 - 100 is it's own group\n",
    "twentysix_onehundred_purchases = []\n",
    "for i in xrange(26, 101):\n",
    "    twentysix_onehundred_purchases =  units[units == i].index.tolist() +  twentysix_onehundred_purchases"
   ]
  },
  {
   "cell_type": "code",
   "execution_count": 21,
   "metadata": {
    "collapsed": false
   },
   "outputs": [],
   "source": [
    "# 100 + is its own group\n",
    "onehundred_plus = units[units > 100].index.tolist()"
   ]
  },
  {
   "cell_type": "markdown",
   "metadata": {},
   "source": [
    "#### Move all files into single dictionary"
   ]
  },
  {
   "cell_type": "code",
   "execution_count": 22,
   "metadata": {
    "collapsed": true
   },
   "outputs": [],
   "source": [
    "data_dict = {\"one_purchase\":one_purchase,\n",
    "            \"two_purchases\": two_purchases,\n",
    "            \"three_purchases\":three_purchases,\n",
    "            \"four_purchases\":four_purchases,\n",
    "            \"five_purchase\":five_purchases,\n",
    "            \"six_purchase\": six_purchases,\n",
    "            \"seven_eleven_purchases\":seven_eleven_purchases,\n",
    "            \"twelve_purchase\": twelve_purchase,\n",
    "            \"thirteen_twentyfour_purchases\": thirteen_twentyfour_purchases,\n",
    "            \"twentyfive_purchases\":twentyfive_purchases,\n",
    "            \"twentysix_onehundred_purchases\":twentysix_onehundred_purchases,\n",
    "            \"onehundred_plus\":onehundred_plus}"
   ]
  },
  {
   "cell_type": "code",
   "execution_count": 23,
   "metadata": {
    "collapsed": false
   },
   "outputs": [],
   "source": [
    "data = json.dumps(data_dict)"
   ]
  },
  {
   "cell_type": "markdown",
   "metadata": {},
   "source": [
    "#### Save user segmentation to files"
   ]
  },
  {
   "cell_type": "code",
   "execution_count": 24,
   "metadata": {
    "collapsed": true
   },
   "outputs": [],
   "source": [
    "# # Only needs to be ran once !\n",
    "# user_path = \"/Users/Alexander/cap_stone_project_wine/data/user_segmentation\"\n",
    "# np.save(user_path, data)"
   ]
  },
  {
   "cell_type": "markdown",
   "metadata": {},
   "source": [
    "### Bivariate Distributions"
   ]
  },
  {
   "cell_type": "code",
   "execution_count": 25,
   "metadata": {
    "collapsed": false
   },
   "outputs": [
    {
     "data": {
      "text/html": [
       "<div>\n",
       "<table border=\"1\" class=\"dataframe\">\n",
       "  <thead>\n",
       "    <tr style=\"text-align: right;\">\n",
       "      <th></th>\n",
       "      <th>CustomerHash</th>\n",
       "      <th>PurchaseHash</th>\n",
       "      <th>ProductKey</th>\n",
       "      <th>Date</th>\n",
       "      <th>Units</th>\n",
       "    </tr>\n",
       "  </thead>\n",
       "  <tbody>\n",
       "    <tr>\n",
       "      <th>0</th>\n",
       "      <td>F1923160355C00D4D1E7801F74132540</td>\n",
       "      <td>C60D8C98A7328EF5A1F5090D6A29DB7F</td>\n",
       "      <td>222650</td>\n",
       "      <td>2015-06-18</td>\n",
       "      <td>1</td>\n",
       "    </tr>\n",
       "    <tr>\n",
       "      <th>1</th>\n",
       "      <td>D3BE5BC2AA8796FCD402023CD6E5A6AC</td>\n",
       "      <td>C9F6085954D5D36615EE0BA44BEB0A2A</td>\n",
       "      <td>95350</td>\n",
       "      <td>2009-08-04</td>\n",
       "      <td>1</td>\n",
       "    </tr>\n",
       "    <tr>\n",
       "      <th>2</th>\n",
       "      <td>00D7447BAB0443738F81C3660F478357</td>\n",
       "      <td>18B773B0D5568E406CBB946F628C1DC6</td>\n",
       "      <td>38706</td>\n",
       "      <td>2007-12-10</td>\n",
       "      <td>1</td>\n",
       "    </tr>\n",
       "    <tr>\n",
       "      <th>3</th>\n",
       "      <td>F3548BD72E0F97ECBDA95918DE2743AD</td>\n",
       "      <td>96FEEC28AB4F35342DE08987D39406FC</td>\n",
       "      <td>333116</td>\n",
       "      <td>2012-03-16</td>\n",
       "      <td>2</td>\n",
       "    </tr>\n",
       "    <tr>\n",
       "      <th>4</th>\n",
       "      <td>9A260E4A83A112AA06F06A11DBF98BBD</td>\n",
       "      <td>07879D41A42AD75F020E3DA70D698ACC</td>\n",
       "      <td>221136</td>\n",
       "      <td>2007-05-08</td>\n",
       "      <td>1</td>\n",
       "    </tr>\n",
       "  </tbody>\n",
       "</table>\n",
       "</div>"
      ],
      "text/plain": [
       "                       CustomerHash                      PurchaseHash  \\\n",
       "0  F1923160355C00D4D1E7801F74132540  C60D8C98A7328EF5A1F5090D6A29DB7F   \n",
       "1  D3BE5BC2AA8796FCD402023CD6E5A6AC  C9F6085954D5D36615EE0BA44BEB0A2A   \n",
       "2  00D7447BAB0443738F81C3660F478357  18B773B0D5568E406CBB946F628C1DC6   \n",
       "3  F3548BD72E0F97ECBDA95918DE2743AD  96FEEC28AB4F35342DE08987D39406FC   \n",
       "4  9A260E4A83A112AA06F06A11DBF98BBD  07879D41A42AD75F020E3DA70D698ACC   \n",
       "\n",
       "   ProductKey        Date  Units  \n",
       "0      222650  2015-06-18      1  \n",
       "1       95350  2009-08-04      1  \n",
       "2       38706  2007-12-10      1  \n",
       "3      333116  2012-03-16      2  \n",
       "4      221136  2007-05-08      1  "
      ]
     },
     "execution_count": 25,
     "metadata": {},
     "output_type": "execute_result"
    }
   ],
   "source": [
    "purchases.head()"
   ]
  },
  {
   "cell_type": "markdown",
   "metadata": {},
   "source": [
    "#### Which wines are being purchased around the 2014 Chrismas Spikes?"
   ]
  },
  {
   "cell_type": "code",
   "execution_count": 26,
   "metadata": {
    "collapsed": false,
    "scrolled": true
   },
   "outputs": [],
   "source": [
    "chris_spike = purchases[(purchases.Date >= \"2014-12-01\") & (purchases.Date <= \"2014-12-31\")]"
   ]
  },
  {
   "cell_type": "code",
   "execution_count": 27,
   "metadata": {
    "collapsed": true
   },
   "outputs": [],
   "source": [
    "# get total purchases on distinct bottles of wine\n",
    "chris_products = chris_spike.groupby([\"ProductKey\"])[\"Units\"].sum()"
   ]
  },
  {
   "cell_type": "code",
   "execution_count": 28,
   "metadata": {
    "collapsed": false
   },
   "outputs": [
    {
     "name": "stderr",
     "output_type": "stream",
     "text": [
      "/anaconda/lib/python2.7/site-packages/IPython/kernel/__main__.py:1: FutureWarning:\n",
      "\n",
      "sort is deprecated, use sort_values(inplace=True) for for INPLACE sorting\n",
      "\n"
     ]
    }
   ],
   "source": [
    "chris_products.sort()"
   ]
  },
  {
   "cell_type": "code",
   "execution_count": 29,
   "metadata": {
    "collapsed": false
   },
   "outputs": [],
   "source": [
    "data = [\n",
    "    go.Histogram(\n",
    "        x=chris_products.values[chris_products.values < 50],\n",
    "        marker=dict(\n",
    "        color=\"#ce2c4b\"\n",
    "    ),\n",
    "    )\n",
    "]\n",
    "layout = go.Layout(\n",
    "title='Distinct Wines vs 2014 December Purchases',\n",
    "\n",
    "    yaxis=dict(\n",
    "    title='Distinct Wine'\n",
    "),\n",
    "    xaxis=dict(\n",
    "    title=\"December Purchases\"\n",
    ")\n",
    ")    \n",
    "fig = go.Figure(data=data, layout=layout)\n",
    "plot_url_chirs_products = py.iplot(fig, filename='style-bar')"
   ]
  },
  {
   "cell_type": "code",
   "execution_count": 30,
   "metadata": {
    "collapsed": false
   },
   "outputs": [
    {
     "data": {
      "text/html": [
       "<iframe id=\"igraph\" scrolling=\"no\" style=\"border:none;\"seamless=\"seamless\" src=\"https://plot.ly/~DataBeast/65.embed\" height=\"525px\" width=\"100%\"></iframe>"
      ],
      "text/plain": [
       "<plotly.tools.PlotlyDisplay object>"
      ]
     },
     "execution_count": 30,
     "metadata": {},
     "output_type": "execute_result"
    }
   ],
   "source": [
    "plot_url_chirs_products"
   ]
  },
  {
   "cell_type": "markdown",
   "metadata": {},
   "source": [
    "The dist shows anomalous behavior with purchase 12 of 600 distinct wines\n",
    "\n",
    "    Save wines that were purchased 1,2,3 and 12 times "
   ]
  },
  {
   "cell_type": "code",
   "execution_count": 31,
   "metadata": {
    "collapsed": false
   },
   "outputs": [],
   "source": [
    "dec_2014_purchase_1 = chris_products[chris_products == 1]\n",
    "dec_2014_purchase_2 = chris_products[chris_products == 2]\n",
    "dec_2014_purchase_3 = chris_products[chris_products == 3]\n",
    "dec_2014_purchase_12 = chris_products[chris_products == 12]"
   ]
  },
  {
   "cell_type": "markdown",
   "metadata": {},
   "source": [
    "#### Which wines are being purchased around the 2013 Chrismas Spikes?"
   ]
  },
  {
   "cell_type": "code",
   "execution_count": 32,
   "metadata": {
    "collapsed": true
   },
   "outputs": [],
   "source": [
    "christ_spike_2013 = purchases[(purchases.Date >= \"2013-12-01\") & (purchases.Date <= \"2013-12-31\")]"
   ]
  },
  {
   "cell_type": "code",
   "execution_count": 33,
   "metadata": {
    "collapsed": false
   },
   "outputs": [],
   "source": [
    "# get total purchases on distinct bottles of wine\n",
    "christ_spike_2013 = christ_spike_2013.groupby([\"ProductKey\"])[\"Units\"].sum()"
   ]
  },
  {
   "cell_type": "code",
   "execution_count": 34,
   "metadata": {
    "collapsed": false
   },
   "outputs": [
    {
     "name": "stderr",
     "output_type": "stream",
     "text": [
      "/anaconda/lib/python2.7/site-packages/IPython/kernel/__main__.py:1: FutureWarning:\n",
      "\n",
      "sort is deprecated, use sort_values(inplace=True) for for INPLACE sorting\n",
      "\n"
     ]
    }
   ],
   "source": [
    "christ_spike_2013.sort()"
   ]
  },
  {
   "cell_type": "code",
   "execution_count": 35,
   "metadata": {
    "collapsed": true
   },
   "outputs": [],
   "source": [
    "data = [\n",
    "    go.Histogram(\n",
    "        x=christ_spike_2013.values[christ_spike_2013.values < 50],\n",
    "        marker=dict(\n",
    "        color=\"#ce2c4b\"\n",
    "    ),\n",
    "    )\n",
    "]\n",
    "layout = go.Layout(\n",
    "title='Distinct Wines vs 2013 December Purchases',\n",
    "\n",
    "    yaxis=dict(\n",
    "    title='Distinct Wine'\n",
    "),\n",
    "    xaxis=dict(\n",
    "    title=\"December Purchases\"\n",
    ")\n",
    ")    \n",
    "fig = go.Figure(data=data, layout=layout)\n",
    "plot_url_chirst_2013 = py.iplot(fig, filename='style-bar')"
   ]
  },
  {
   "cell_type": "code",
   "execution_count": 36,
   "metadata": {
    "collapsed": false
   },
   "outputs": [
    {
     "data": {
      "text/html": [
       "<iframe id=\"igraph\" scrolling=\"no\" style=\"border:none;\"seamless=\"seamless\" src=\"https://plot.ly/~DataBeast/65.embed\" height=\"525px\" width=\"100%\"></iframe>"
      ],
      "text/plain": [
       "<plotly.tools.PlotlyDisplay object>"
      ]
     },
     "execution_count": 36,
     "metadata": {},
     "output_type": "execute_result"
    }
   ],
   "source": [
    "plot_url_chirst_2013"
   ]
  },
  {
   "cell_type": "markdown",
   "metadata": {},
   "source": [
    "The dist shows anomalous behavior with purchase 12 of 600 distinct wines\n",
    "\n",
    "    Save wines that were purchased 1,2,3 and 12 times "
   ]
  },
  {
   "cell_type": "code",
   "execution_count": 37,
   "metadata": {
    "collapsed": true
   },
   "outputs": [],
   "source": [
    "dec_2013_purchase_1 = christ_spike_2013[christ_spike_2013 == 1]\n",
    "dec_2013_purchase_2 = christ_spike_2013[christ_spike_2013 == 2]\n",
    "dec_2013_purchase_3 = christ_spike_2013[christ_spike_2013 == 3]\n",
    "dec_2013_purchase_12 = christ_spike_2013[christ_spike_2013 == 12]"
   ]
  },
  {
   "cell_type": "markdown",
   "metadata": {},
   "source": [
    "#### Which wines are purchases during the 2015 July Dip?"
   ]
  },
  {
   "cell_type": "code",
   "execution_count": 38,
   "metadata": {
    "collapsed": true
   },
   "outputs": [],
   "source": [
    "july_dip_2015 = purchases[(purchases.Date >= \"2015-07-01\") & (purchases.Date <= \"2015-07-31\")]"
   ]
  },
  {
   "cell_type": "code",
   "execution_count": 39,
   "metadata": {
    "collapsed": true
   },
   "outputs": [],
   "source": [
    "# get total purchases on distinct bottles of wine\n",
    "july_dip_2015 = july_dip_2015.groupby([\"ProductKey\"])[\"Units\"].sum()"
   ]
  },
  {
   "cell_type": "code",
   "execution_count": 40,
   "metadata": {
    "collapsed": true
   },
   "outputs": [],
   "source": [
    "data = [\n",
    "    go.Histogram(\n",
    "        x=july_dip_2015.values[july_dip_2015.values < 50],\n",
    "        marker=dict(\n",
    "        color=\"#ce2c4b\"\n",
    "    ),\n",
    "    )\n",
    "]\n",
    "layout = go.Layout(\n",
    "title='Distinct Wines vs 2015 July Purchases',\n",
    "\n",
    "    yaxis=dict(\n",
    "    title='Distinct Wine'\n",
    "),\n",
    "    xaxis=dict(\n",
    "    title=\"July Purchases\"\n",
    ")\n",
    ")    \n",
    "fig = go.Figure(data=data, layout=layout)\n",
    "plot_url_july_2015 = py.iplot(fig, filename='style-bar')"
   ]
  },
  {
   "cell_type": "code",
   "execution_count": 41,
   "metadata": {
    "collapsed": false
   },
   "outputs": [
    {
     "data": {
      "text/html": [
       "<iframe id=\"igraph\" scrolling=\"no\" style=\"border:none;\"seamless=\"seamless\" src=\"https://plot.ly/~DataBeast/65.embed\" height=\"525px\" width=\"100%\"></iframe>"
      ],
      "text/plain": [
       "<plotly.tools.PlotlyDisplay object>"
      ]
     },
     "execution_count": 41,
     "metadata": {},
     "output_type": "execute_result"
    }
   ],
   "source": [
    "plot_url_july_2015"
   ]
  },
  {
   "cell_type": "markdown",
   "metadata": {},
   "source": [
    "This dist shows anomalous behavior at 6 and 12 purchases \n",
    "    \n",
    "    Save wines that were purchased 1,2,6 and 12 times"
   ]
  },
  {
   "cell_type": "code",
   "execution_count": 42,
   "metadata": {
    "collapsed": true
   },
   "outputs": [],
   "source": [
    "july_2015_purchase_1 = july_dip_2015[july_dip_2015 == 1]\n",
    "july_2015_purchase_2 = july_dip_2015[july_dip_2015 == 2]\n",
    "july_2015_purchase_6 = july_dip_2015[july_dip_2015 == 6]\n",
    "july_2015_purchase_12 = july_dip_2015[july_dip_2015 == 12]"
   ]
  },
  {
   "cell_type": "markdown",
   "metadata": {},
   "source": [
    "#### Which wines are purchases during the 2014 July Dip?"
   ]
  },
  {
   "cell_type": "code",
   "execution_count": 43,
   "metadata": {
    "collapsed": true
   },
   "outputs": [],
   "source": [
    "july_dip_2014 = purchases[(purchases.Date >= \"2014-07-01\") & (purchases.Date <= \"2014-07-31\")]"
   ]
  },
  {
   "cell_type": "code",
   "execution_count": 44,
   "metadata": {
    "collapsed": true
   },
   "outputs": [],
   "source": [
    "# get total purchases on distinct bottles of wine\n",
    "july_dip_2014 = july_dip_2014.groupby([\"ProductKey\"])[\"Units\"].sum()"
   ]
  },
  {
   "cell_type": "code",
   "execution_count": 45,
   "metadata": {
    "collapsed": true
   },
   "outputs": [],
   "source": [
    "data = [\n",
    "    go.Histogram(\n",
    "        x=july_dip_2014.values[july_dip_2014.values < 50],\n",
    "        marker=dict(\n",
    "        color=\"#ce2c4b\"\n",
    "    ),\n",
    "    )\n",
    "]\n",
    "layout = go.Layout(\n",
    "title='Distinct Wines vs 2014 July Purchases',\n",
    "\n",
    "    yaxis=dict(\n",
    "    title='Distinct Wine'\n",
    "),\n",
    "    xaxis=dict(\n",
    "    title=\"July Purchases\"\n",
    ")\n",
    ")    \n",
    "fig = go.Figure(data=data, layout=layout)\n",
    "plot_url_july_2014 = py.iplot(fig, filename='style-bar')"
   ]
  },
  {
   "cell_type": "code",
   "execution_count": 46,
   "metadata": {
    "collapsed": false
   },
   "outputs": [
    {
     "data": {
      "text/html": [
       "<iframe id=\"igraph\" scrolling=\"no\" style=\"border:none;\"seamless=\"seamless\" src=\"https://plot.ly/~DataBeast/65.embed\" height=\"525px\" width=\"100%\"></iframe>"
      ],
      "text/plain": [
       "<plotly.tools.PlotlyDisplay object>"
      ]
     },
     "execution_count": 46,
     "metadata": {},
     "output_type": "execute_result"
    }
   ],
   "source": [
    "plot_url_july_2014"
   ]
  }
 ],
 "metadata": {
  "kernelspec": {
   "display_name": "Python 2",
   "language": "python",
   "name": "python2"
  },
  "language_info": {
   "codemirror_mode": {
    "name": "ipython",
    "version": 2
   },
   "file_extension": ".py",
   "mimetype": "text/x-python",
   "name": "python",
   "nbconvert_exporter": "python",
   "pygments_lexer": "ipython2",
   "version": "2.7.11"
  }
 },
 "nbformat": 4,
 "nbformat_minor": 0
}
