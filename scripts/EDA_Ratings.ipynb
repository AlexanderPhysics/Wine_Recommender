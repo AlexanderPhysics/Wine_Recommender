{
 "cells": [
  {
   "cell_type": "code",
   "execution_count": 1,
   "metadata": {
    "collapsed": true
   },
   "outputs": [],
   "source": [
    "from __future__ import division\n",
    "import numpy as np\n",
    "import pandas as pd\n",
    "import matplotlib.pyplot as plt\n",
    "import plotly.plotly as py\n",
    "import plotly.graph_objs as go\n",
    "from collections import defaultdict, Counter\n",
    "%matplotlib inline"
   ]
  },
  {
   "cell_type": "code",
   "execution_count": 23,
   "metadata": {
    "collapsed": true
   },
   "outputs": [],
   "source": [
    "import ftfy\n",
    "import math\n",
    "import cPickle\n",
    "import operator\n",
    "from time import time"
   ]
  },
  {
   "cell_type": "code",
   "execution_count": 3,
   "metadata": {
    "collapsed": true
   },
   "outputs": [],
   "source": [
    "def clean_text(text_array):\n",
    "        # review what is going on here with Brian -- make sure you understand why this works!\n",
    "    clean_text = []\n",
    "    for i, token in enumerate(text_array):\n",
    "        try:\n",
    "            clean_text.append(ftfy.fix_encoding(ftfy.fix_text(unicode(token,\"utf-8\"))))\n",
    "        except TypeError:\n",
    "            print(token)\n",
    "            print(i)\n",
    "            break\n",
    "        except UnicodeDecodeError:\n",
    "            try:\n",
    "                guessed_encoding = ftfy.guess_bytes(token)[1]\n",
    "                clean_text.append(ftfy.fix_text(unicode(token,guessed_encoding)))\n",
    "                continue\n",
    "            except:\n",
    "                print(token)\n",
    "                print(i)\n",
    "                break\n",
    "    return clean_text"
   ]
  },
  {
   "cell_type": "code",
   "execution_count": 4,
   "metadata": {
    "collapsed": true
   },
   "outputs": [],
   "source": [
    "def sort_dict_to_list(data_dict, sort_by):\n",
    "    '''Input: dictionary\n",
    "       Input: sort_by, if 1, then sort by value, if 2 sort by key\n",
    "       Output: returns a sorted key and value list'''\n",
    "    # sort dictionary by value --> .itemgetter(1)\n",
    "    sorted_data = sorted(data_dict.items(), key=operator.itemgetter(sort_by), reverse=True)\n",
    "\n",
    "    # move sorted dates and sorted date counts to lists\n",
    "    k_datum = []\n",
    "    v_count_datum = []\n",
    "    for datum in sorted_data:\n",
    "        k_datum.append(datum[0])\n",
    "        v_count_datum.append(datum[1])\n",
    "    return k_datum, v_count_datum"
   ]
  },
  {
   "cell_type": "markdown",
   "metadata": {},
   "source": [
    "## Questions\n",
    "  \n",
    "What is the distribution of wines vs ratings? \n",
    "\n",
    "Which types of wines get the most ratings?\n",
    "\n",
    "Which types of wines are more likely to get ratings? Why?\n",
    "\n",
    "What is the distribution of ratings over time?"
   ]
  },
  {
   "cell_type": "code",
   "execution_count": 7,
   "metadata": {
    "collapsed": false
   },
   "outputs": [],
   "source": [
    "path2 = \"/Users/Alexander/WINE/data/Ratings.txt\"\n",
    "ratings = pd.read_csv(path2, sep = \"\\t\")"
   ]
  },
  {
   "cell_type": "code",
   "execution_count": 8,
   "metadata": {
    "collapsed": false
   },
   "outputs": [
    {
     "data": {
      "text/html": [
       "<div>\n",
       "<table border=\"1\" class=\"dataframe\">\n",
       "  <thead>\n",
       "    <tr style=\"text-align: right;\">\n",
       "      <th></th>\n",
       "      <th>CustomerHash</th>\n",
       "      <th>ProductId</th>\n",
       "      <th>CreateDate</th>\n",
       "      <th>Rating</th>\n",
       "    </tr>\n",
       "  </thead>\n",
       "  <tbody>\n",
       "    <tr>\n",
       "      <th>0</th>\n",
       "      <td>004C0705359D9273F089E9665E54A9D0</td>\n",
       "      <td>105144</td>\n",
       "      <td>2010-10-21</td>\n",
       "      <td>2</td>\n",
       "    </tr>\n",
       "    <tr>\n",
       "      <th>1</th>\n",
       "      <td>006BBA0DC576383B706F444B697B98A7</td>\n",
       "      <td>108609</td>\n",
       "      <td>2011-10-27</td>\n",
       "      <td>5</td>\n",
       "    </tr>\n",
       "    <tr>\n",
       "      <th>2</th>\n",
       "      <td>008C5E1F0344D9A8AEF9673B09144035</td>\n",
       "      <td>87133</td>\n",
       "      <td>2008-07-29</td>\n",
       "      <td>4</td>\n",
       "    </tr>\n",
       "    <tr>\n",
       "      <th>3</th>\n",
       "      <td>008C5E1F0344D9A8AEF9673B09144035</td>\n",
       "      <td>94759</td>\n",
       "      <td>2008-07-29</td>\n",
       "      <td>4</td>\n",
       "    </tr>\n",
       "    <tr>\n",
       "      <th>4</th>\n",
       "      <td>00B7C3BB01FE8AE5EF4DAFD07EB118BE</td>\n",
       "      <td>106068</td>\n",
       "      <td>2012-06-08</td>\n",
       "      <td>3</td>\n",
       "    </tr>\n",
       "  </tbody>\n",
       "</table>\n",
       "</div>"
      ],
      "text/plain": [
       "                       CustomerHash  ProductId  CreateDate  Rating\n",
       "0  004C0705359D9273F089E9665E54A9D0     105144  2010-10-21       2\n",
       "1  006BBA0DC576383B706F444B697B98A7     108609  2011-10-27       5\n",
       "2  008C5E1F0344D9A8AEF9673B09144035      87133  2008-07-29       4\n",
       "3  008C5E1F0344D9A8AEF9673B09144035      94759  2008-07-29       4\n",
       "4  00B7C3BB01FE8AE5EF4DAFD07EB118BE     106068  2012-06-08       3"
      ]
     },
     "execution_count": 8,
     "metadata": {},
     "output_type": "execute_result"
    }
   ],
   "source": [
    "ratings.head(5)"
   ]
  },
  {
   "cell_type": "code",
   "execution_count": 8,
   "metadata": {
    "collapsed": false
   },
   "outputs": [
    {
     "data": {
      "text/plain": [
       "Counter({4: 23147, 5: 16085, 3: 14461, 2: 5726, 1: 3566, 0: 1710})"
      ]
     },
     "execution_count": 8,
     "metadata": {},
     "output_type": "execute_result"
    }
   ],
   "source": [
    "Counter(ratings.Rating.values)"
   ]
  },
  {
   "cell_type": "code",
   "execution_count": 9,
   "metadata": {
    "collapsed": false
   },
   "outputs": [],
   "source": [
    "pivot_ratings = ratings.pivot_table(values=\"Rating\",\n",
    "                                    index=\"CustomerHash\",\n",
    "                                    columns=\"ProductId\",\n",
    "                                    aggfunc=\"mean\")"
   ]
  },
  {
   "cell_type": "code",
   "execution_count": 11,
   "metadata": {
    "collapsed": false
   },
   "outputs": [],
   "source": [
    "pivot_ratings.fillna(0, inplace=True)"
   ]
  },
  {
   "cell_type": "code",
   "execution_count": 12,
   "metadata": {
    "collapsed": false
   },
   "outputs": [
    {
     "data": {
      "text/html": [
       "<div>\n",
       "<table border=\"1\" class=\"dataframe\">\n",
       "  <thead>\n",
       "    <tr style=\"text-align: right;\">\n",
       "      <th>ProductId</th>\n",
       "      <th>63</th>\n",
       "      <th>267</th>\n",
       "      <th>270</th>\n",
       "      <th>273</th>\n",
       "      <th>275</th>\n",
       "      <th>277</th>\n",
       "      <th>316</th>\n",
       "      <th>511</th>\n",
       "      <th>513</th>\n",
       "      <th>517</th>\n",
       "      <th>...</th>\n",
       "      <th>146205</th>\n",
       "      <th>146387</th>\n",
       "      <th>146398</th>\n",
       "      <th>146513</th>\n",
       "      <th>146559</th>\n",
       "      <th>146829</th>\n",
       "      <th>146965</th>\n",
       "      <th>146982</th>\n",
       "      <th>147164</th>\n",
       "      <th>147601</th>\n",
       "    </tr>\n",
       "    <tr>\n",
       "      <th>CustomerHash</th>\n",
       "      <th></th>\n",
       "      <th></th>\n",
       "      <th></th>\n",
       "      <th></th>\n",
       "      <th></th>\n",
       "      <th></th>\n",
       "      <th></th>\n",
       "      <th></th>\n",
       "      <th></th>\n",
       "      <th></th>\n",
       "      <th></th>\n",
       "      <th></th>\n",
       "      <th></th>\n",
       "      <th></th>\n",
       "      <th></th>\n",
       "      <th></th>\n",
       "      <th></th>\n",
       "      <th></th>\n",
       "      <th></th>\n",
       "      <th></th>\n",
       "      <th></th>\n",
       "    </tr>\n",
       "  </thead>\n",
       "  <tbody>\n",
       "    <tr>\n",
       "      <th>0002E1353AD7D205F884770C926FAC44</th>\n",
       "      <td>0</td>\n",
       "      <td>0</td>\n",
       "      <td>0</td>\n",
       "      <td>0</td>\n",
       "      <td>0</td>\n",
       "      <td>0</td>\n",
       "      <td>0</td>\n",
       "      <td>0</td>\n",
       "      <td>0</td>\n",
       "      <td>0</td>\n",
       "      <td>...</td>\n",
       "      <td>0</td>\n",
       "      <td>0</td>\n",
       "      <td>0</td>\n",
       "      <td>0</td>\n",
       "      <td>0</td>\n",
       "      <td>0</td>\n",
       "      <td>0</td>\n",
       "      <td>0</td>\n",
       "      <td>0</td>\n",
       "      <td>0</td>\n",
       "    </tr>\n",
       "    <tr>\n",
       "      <th>000678592AD8ECE4DCC2F1651EE4FD9C</th>\n",
       "      <td>0</td>\n",
       "      <td>0</td>\n",
       "      <td>0</td>\n",
       "      <td>0</td>\n",
       "      <td>0</td>\n",
       "      <td>0</td>\n",
       "      <td>0</td>\n",
       "      <td>0</td>\n",
       "      <td>0</td>\n",
       "      <td>0</td>\n",
       "      <td>...</td>\n",
       "      <td>0</td>\n",
       "      <td>0</td>\n",
       "      <td>0</td>\n",
       "      <td>0</td>\n",
       "      <td>0</td>\n",
       "      <td>0</td>\n",
       "      <td>0</td>\n",
       "      <td>0</td>\n",
       "      <td>0</td>\n",
       "      <td>0</td>\n",
       "    </tr>\n",
       "    <tr>\n",
       "      <th>000B73940A22F8964C53B6BE2D786C4E</th>\n",
       "      <td>0</td>\n",
       "      <td>0</td>\n",
       "      <td>0</td>\n",
       "      <td>0</td>\n",
       "      <td>0</td>\n",
       "      <td>0</td>\n",
       "      <td>0</td>\n",
       "      <td>0</td>\n",
       "      <td>0</td>\n",
       "      <td>0</td>\n",
       "      <td>...</td>\n",
       "      <td>0</td>\n",
       "      <td>0</td>\n",
       "      <td>0</td>\n",
       "      <td>0</td>\n",
       "      <td>0</td>\n",
       "      <td>0</td>\n",
       "      <td>0</td>\n",
       "      <td>0</td>\n",
       "      <td>0</td>\n",
       "      <td>0</td>\n",
       "    </tr>\n",
       "    <tr>\n",
       "      <th>000CE1A102166FB2A7212EC36DEC8468</th>\n",
       "      <td>0</td>\n",
       "      <td>0</td>\n",
       "      <td>0</td>\n",
       "      <td>0</td>\n",
       "      <td>0</td>\n",
       "      <td>0</td>\n",
       "      <td>0</td>\n",
       "      <td>0</td>\n",
       "      <td>0</td>\n",
       "      <td>0</td>\n",
       "      <td>...</td>\n",
       "      <td>0</td>\n",
       "      <td>0</td>\n",
       "      <td>0</td>\n",
       "      <td>0</td>\n",
       "      <td>0</td>\n",
       "      <td>0</td>\n",
       "      <td>0</td>\n",
       "      <td>0</td>\n",
       "      <td>0</td>\n",
       "      <td>0</td>\n",
       "    </tr>\n",
       "    <tr>\n",
       "      <th>0011485DCCE4F7D8D2A7A183AA3D28EE</th>\n",
       "      <td>0</td>\n",
       "      <td>0</td>\n",
       "      <td>0</td>\n",
       "      <td>0</td>\n",
       "      <td>0</td>\n",
       "      <td>0</td>\n",
       "      <td>0</td>\n",
       "      <td>0</td>\n",
       "      <td>0</td>\n",
       "      <td>0</td>\n",
       "      <td>...</td>\n",
       "      <td>0</td>\n",
       "      <td>0</td>\n",
       "      <td>0</td>\n",
       "      <td>0</td>\n",
       "      <td>0</td>\n",
       "      <td>0</td>\n",
       "      <td>0</td>\n",
       "      <td>0</td>\n",
       "      <td>0</td>\n",
       "      <td>0</td>\n",
       "    </tr>\n",
       "  </tbody>\n",
       "</table>\n",
       "<p>5 rows × 17786 columns</p>\n",
       "</div>"
      ],
      "text/plain": [
       "ProductId                         63      267     270     273     275     \\\n",
       "CustomerHash                                                               \n",
       "0002E1353AD7D205F884770C926FAC44       0       0       0       0       0   \n",
       "000678592AD8ECE4DCC2F1651EE4FD9C       0       0       0       0       0   \n",
       "000B73940A22F8964C53B6BE2D786C4E       0       0       0       0       0   \n",
       "000CE1A102166FB2A7212EC36DEC8468       0       0       0       0       0   \n",
       "0011485DCCE4F7D8D2A7A183AA3D28EE       0       0       0       0       0   \n",
       "\n",
       "ProductId                         277     316     511     513     517     \\\n",
       "CustomerHash                                                               \n",
       "0002E1353AD7D205F884770C926FAC44       0       0       0       0       0   \n",
       "000678592AD8ECE4DCC2F1651EE4FD9C       0       0       0       0       0   \n",
       "000B73940A22F8964C53B6BE2D786C4E       0       0       0       0       0   \n",
       "000CE1A102166FB2A7212EC36DEC8468       0       0       0       0       0   \n",
       "0011485DCCE4F7D8D2A7A183AA3D28EE       0       0       0       0       0   \n",
       "\n",
       "ProductId                          ...    146205  146387  146398  146513  \\\n",
       "CustomerHash                       ...                                     \n",
       "0002E1353AD7D205F884770C926FAC44   ...         0       0       0       0   \n",
       "000678592AD8ECE4DCC2F1651EE4FD9C   ...         0       0       0       0   \n",
       "000B73940A22F8964C53B6BE2D786C4E   ...         0       0       0       0   \n",
       "000CE1A102166FB2A7212EC36DEC8468   ...         0       0       0       0   \n",
       "0011485DCCE4F7D8D2A7A183AA3D28EE   ...         0       0       0       0   \n",
       "\n",
       "ProductId                         146559  146829  146965  146982  147164  \\\n",
       "CustomerHash                                                               \n",
       "0002E1353AD7D205F884770C926FAC44       0       0       0       0       0   \n",
       "000678592AD8ECE4DCC2F1651EE4FD9C       0       0       0       0       0   \n",
       "000B73940A22F8964C53B6BE2D786C4E       0       0       0       0       0   \n",
       "000CE1A102166FB2A7212EC36DEC8468       0       0       0       0       0   \n",
       "0011485DCCE4F7D8D2A7A183AA3D28EE       0       0       0       0       0   \n",
       "\n",
       "ProductId                         147601  \n",
       "CustomerHash                              \n",
       "0002E1353AD7D205F884770C926FAC44       0  \n",
       "000678592AD8ECE4DCC2F1651EE4FD9C       0  \n",
       "000B73940A22F8964C53B6BE2D786C4E       0  \n",
       "000CE1A102166FB2A7212EC36DEC8468       0  \n",
       "0011485DCCE4F7D8D2A7A183AA3D28EE       0  \n",
       "\n",
       "[5 rows x 17786 columns]"
      ]
     },
     "execution_count": 12,
     "metadata": {},
     "output_type": "execute_result"
    }
   ],
   "source": [
    "pivot_ratings.head()"
   ]
  },
  {
   "cell_type": "code",
   "execution_count": 31,
   "metadata": {
    "collapsed": false
   },
   "outputs": [
    {
     "ename": "KeyboardInterrupt",
     "evalue": "",
     "output_type": "error",
     "traceback": [
      "\u001b[0;31m---------------------------------------------------------------------------\u001b[0m",
      "\u001b[0;31mKeyboardInterrupt\u001b[0m                         Traceback (most recent call last)",
      "\u001b[0;32m<ipython-input-31-bfc26716ade7>\u001b[0m in \u001b[0;36m<module>\u001b[0;34m()\u001b[0m\n\u001b[0;32m----> 1\u001b[0;31m \u001b[0mpivot_ratings\u001b[0m\u001b[0;34m.\u001b[0m\u001b[0mto_sparse\u001b[0m\u001b[0;34m(\u001b[0m\u001b[0;34m)\u001b[0m\u001b[0;34m.\u001b[0m\u001b[0mdensity\u001b[0m\u001b[0;34m\u001b[0m\u001b[0m\n\u001b[0m",
      "\u001b[0;32m//anaconda/lib/python2.7/site-packages/pandas/core/frame.pyc\u001b[0m in \u001b[0;36mto_sparse\u001b[0;34m(self, fill_value, kind)\u001b[0m\n\u001b[1;32m   1193\u001b[0m         return SparseDataFrame(self._series, index=self.index, columns=self.columns,\n\u001b[1;32m   1194\u001b[0m                                \u001b[0mdefault_kind\u001b[0m\u001b[0;34m=\u001b[0m\u001b[0mkind\u001b[0m\u001b[0;34m,\u001b[0m\u001b[0;34m\u001b[0m\u001b[0m\n\u001b[0;32m-> 1195\u001b[0;31m                                default_fill_value=fill_value)\n\u001b[0m\u001b[1;32m   1196\u001b[0m \u001b[0;34m\u001b[0m\u001b[0m\n\u001b[1;32m   1197\u001b[0m     \u001b[0;32mdef\u001b[0m \u001b[0mto_panel\u001b[0m\u001b[0;34m(\u001b[0m\u001b[0mself\u001b[0m\u001b[0;34m)\u001b[0m\u001b[0;34m:\u001b[0m\u001b[0;34m\u001b[0m\u001b[0m\n",
      "\u001b[0;32m//anaconda/lib/python2.7/site-packages/pandas/sparse/frame.pyc\u001b[0m in \u001b[0;36m__init__\u001b[0;34m(self, data, index, columns, default_kind, default_fill_value, dtype, copy)\u001b[0m\n\u001b[1;32m     83\u001b[0m \u001b[0;34m\u001b[0m\u001b[0m\n\u001b[1;32m     84\u001b[0m         \u001b[0;32mif\u001b[0m \u001b[0misinstance\u001b[0m\u001b[0;34m(\u001b[0m\u001b[0mdata\u001b[0m\u001b[0;34m,\u001b[0m \u001b[0mdict\u001b[0m\u001b[0;34m)\u001b[0m\u001b[0;34m:\u001b[0m\u001b[0;34m\u001b[0m\u001b[0m\n\u001b[0;32m---> 85\u001b[0;31m             \u001b[0mmgr\u001b[0m \u001b[0;34m=\u001b[0m \u001b[0mself\u001b[0m\u001b[0;34m.\u001b[0m\u001b[0m_init_dict\u001b[0m\u001b[0;34m(\u001b[0m\u001b[0mdata\u001b[0m\u001b[0;34m,\u001b[0m \u001b[0mindex\u001b[0m\u001b[0;34m,\u001b[0m \u001b[0mcolumns\u001b[0m\u001b[0;34m)\u001b[0m\u001b[0;34m\u001b[0m\u001b[0m\n\u001b[0m\u001b[1;32m     86\u001b[0m             \u001b[0;32mif\u001b[0m \u001b[0mdtype\u001b[0m \u001b[0;32mis\u001b[0m \u001b[0;32mnot\u001b[0m \u001b[0mNone\u001b[0m\u001b[0;34m:\u001b[0m\u001b[0;34m\u001b[0m\u001b[0m\n\u001b[1;32m     87\u001b[0m                 \u001b[0mmgr\u001b[0m \u001b[0;34m=\u001b[0m \u001b[0mmgr\u001b[0m\u001b[0;34m.\u001b[0m\u001b[0mastype\u001b[0m\u001b[0;34m(\u001b[0m\u001b[0mdtype\u001b[0m\u001b[0;34m)\u001b[0m\u001b[0;34m\u001b[0m\u001b[0m\n",
      "\u001b[0;32m//anaconda/lib/python2.7/site-packages/pandas/sparse/frame.pyc\u001b[0m in \u001b[0;36m_init_dict\u001b[0;34m(self, data, index, columns, dtype)\u001b[0m\n\u001b[1;32m    172\u001b[0m \u001b[0;34m\u001b[0m\u001b[0m\n\u001b[1;32m    173\u001b[0m                 \u001b[0mv\u001b[0m \u001b[0;34m=\u001b[0m \u001b[0msp_maker\u001b[0m\u001b[0;34m(\u001b[0m\u001b[0mv\u001b[0m\u001b[0;34m)\u001b[0m\u001b[0;34m\u001b[0m\u001b[0m\n\u001b[0;32m--> 174\u001b[0;31m             \u001b[0msdict\u001b[0m\u001b[0;34m[\u001b[0m\u001b[0mk\u001b[0m\u001b[0;34m]\u001b[0m \u001b[0;34m=\u001b[0m \u001b[0mv\u001b[0m\u001b[0;34m\u001b[0m\u001b[0m\n\u001b[0m\u001b[1;32m    175\u001b[0m \u001b[0;34m\u001b[0m\u001b[0m\n\u001b[1;32m    176\u001b[0m         \u001b[0;31m# TODO: figure out how to handle this case, all nan's?\u001b[0m\u001b[0;34m\u001b[0m\u001b[0;34m\u001b[0m\u001b[0m\n",
      "\u001b[0;32m//anaconda/lib/python2.7/site-packages/pandas/core/frame.pyc\u001b[0m in \u001b[0;36m__setitem__\u001b[0;34m(self, key, value)\u001b[0m\n\u001b[1;32m   2297\u001b[0m         \u001b[0;32melse\u001b[0m\u001b[0;34m:\u001b[0m\u001b[0;34m\u001b[0m\u001b[0m\n\u001b[1;32m   2298\u001b[0m             \u001b[0;31m# set column\u001b[0m\u001b[0;34m\u001b[0m\u001b[0;34m\u001b[0m\u001b[0m\n\u001b[0;32m-> 2299\u001b[0;31m             \u001b[0mself\u001b[0m\u001b[0;34m.\u001b[0m\u001b[0m_set_item\u001b[0m\u001b[0;34m(\u001b[0m\u001b[0mkey\u001b[0m\u001b[0;34m,\u001b[0m \u001b[0mvalue\u001b[0m\u001b[0;34m)\u001b[0m\u001b[0;34m\u001b[0m\u001b[0m\n\u001b[0m\u001b[1;32m   2300\u001b[0m \u001b[0;34m\u001b[0m\u001b[0m\n\u001b[1;32m   2301\u001b[0m     \u001b[0;32mdef\u001b[0m \u001b[0m_setitem_slice\u001b[0m\u001b[0;34m(\u001b[0m\u001b[0mself\u001b[0m\u001b[0;34m,\u001b[0m \u001b[0mkey\u001b[0m\u001b[0;34m,\u001b[0m \u001b[0mvalue\u001b[0m\u001b[0;34m)\u001b[0m\u001b[0;34m:\u001b[0m\u001b[0;34m\u001b[0m\u001b[0m\n",
      "\u001b[0;32m//anaconda/lib/python2.7/site-packages/pandas/core/frame.pyc\u001b[0m in \u001b[0;36m_set_item\u001b[0;34m(self, key, value)\u001b[0m\n\u001b[1;32m   2365\u001b[0m         \u001b[0mself\u001b[0m\u001b[0;34m.\u001b[0m\u001b[0m_ensure_valid_index\u001b[0m\u001b[0;34m(\u001b[0m\u001b[0mvalue\u001b[0m\u001b[0;34m)\u001b[0m\u001b[0;34m\u001b[0m\u001b[0m\n\u001b[1;32m   2366\u001b[0m         \u001b[0mvalue\u001b[0m \u001b[0;34m=\u001b[0m \u001b[0mself\u001b[0m\u001b[0;34m.\u001b[0m\u001b[0m_sanitize_column\u001b[0m\u001b[0;34m(\u001b[0m\u001b[0mkey\u001b[0m\u001b[0;34m,\u001b[0m \u001b[0mvalue\u001b[0m\u001b[0;34m)\u001b[0m\u001b[0;34m\u001b[0m\u001b[0m\n\u001b[0;32m-> 2367\u001b[0;31m         \u001b[0mNDFrame\u001b[0m\u001b[0;34m.\u001b[0m\u001b[0m_set_item\u001b[0m\u001b[0;34m(\u001b[0m\u001b[0mself\u001b[0m\u001b[0;34m,\u001b[0m \u001b[0mkey\u001b[0m\u001b[0;34m,\u001b[0m \u001b[0mvalue\u001b[0m\u001b[0;34m)\u001b[0m\u001b[0;34m\u001b[0m\u001b[0m\n\u001b[0m\u001b[1;32m   2368\u001b[0m \u001b[0;34m\u001b[0m\u001b[0m\n\u001b[1;32m   2369\u001b[0m         \u001b[0;31m# check if we are modifying a copy\u001b[0m\u001b[0;34m\u001b[0m\u001b[0;34m\u001b[0m\u001b[0m\n",
      "\u001b[0;32m//anaconda/lib/python2.7/site-packages/pandas/core/generic.pyc\u001b[0m in \u001b[0;36m_set_item\u001b[0;34m(self, key, value)\u001b[0m\n\u001b[1;32m   1206\u001b[0m \u001b[0;34m\u001b[0m\u001b[0m\n\u001b[1;32m   1207\u001b[0m     \u001b[0;32mdef\u001b[0m \u001b[0m_set_item\u001b[0m\u001b[0;34m(\u001b[0m\u001b[0mself\u001b[0m\u001b[0;34m,\u001b[0m \u001b[0mkey\u001b[0m\u001b[0;34m,\u001b[0m \u001b[0mvalue\u001b[0m\u001b[0;34m)\u001b[0m\u001b[0;34m:\u001b[0m\u001b[0;34m\u001b[0m\u001b[0m\n\u001b[0;32m-> 1208\u001b[0;31m         \u001b[0mself\u001b[0m\u001b[0;34m.\u001b[0m\u001b[0m_data\u001b[0m\u001b[0;34m.\u001b[0m\u001b[0mset\u001b[0m\u001b[0;34m(\u001b[0m\u001b[0mkey\u001b[0m\u001b[0;34m,\u001b[0m \u001b[0mvalue\u001b[0m\u001b[0;34m)\u001b[0m\u001b[0;34m\u001b[0m\u001b[0m\n\u001b[0m\u001b[1;32m   1209\u001b[0m         \u001b[0mself\u001b[0m\u001b[0;34m.\u001b[0m\u001b[0m_clear_item_cache\u001b[0m\u001b[0;34m(\u001b[0m\u001b[0;34m)\u001b[0m\u001b[0;34m\u001b[0m\u001b[0m\n\u001b[1;32m   1210\u001b[0m \u001b[0;34m\u001b[0m\u001b[0m\n",
      "\u001b[0;32m//anaconda/lib/python2.7/site-packages/pandas/core/internals.pyc\u001b[0m in \u001b[0;36mset\u001b[0;34m(self, item, value, check)\u001b[0m\n\u001b[1;32m   3332\u001b[0m         \u001b[0;32mexcept\u001b[0m \u001b[0mKeyError\u001b[0m\u001b[0;34m:\u001b[0m\u001b[0;34m\u001b[0m\u001b[0m\n\u001b[1;32m   3333\u001b[0m             \u001b[0;31m# This item wasn't present, just insert at end\u001b[0m\u001b[0;34m\u001b[0m\u001b[0;34m\u001b[0m\u001b[0m\n\u001b[0;32m-> 3334\u001b[0;31m             \u001b[0mself\u001b[0m\u001b[0;34m.\u001b[0m\u001b[0minsert\u001b[0m\u001b[0;34m(\u001b[0m\u001b[0mlen\u001b[0m\u001b[0;34m(\u001b[0m\u001b[0mself\u001b[0m\u001b[0;34m.\u001b[0m\u001b[0mitems\u001b[0m\u001b[0;34m)\u001b[0m\u001b[0;34m,\u001b[0m \u001b[0mitem\u001b[0m\u001b[0;34m,\u001b[0m \u001b[0mvalue\u001b[0m\u001b[0;34m)\u001b[0m\u001b[0;34m\u001b[0m\u001b[0m\n\u001b[0m\u001b[1;32m   3335\u001b[0m             \u001b[0;32mreturn\u001b[0m\u001b[0;34m\u001b[0m\u001b[0m\n\u001b[1;32m   3336\u001b[0m \u001b[0;34m\u001b[0m\u001b[0m\n",
      "\u001b[0;32m//anaconda/lib/python2.7/site-packages/pandas/core/internals.pyc\u001b[0m in \u001b[0;36minsert\u001b[0;34m(self, loc, item, value, allow_duplicates)\u001b[0m\n\u001b[1;32m   3461\u001b[0m \u001b[0;34m\u001b[0m\u001b[0m\n\u001b[1;32m   3462\u001b[0m         \u001b[0;32mif\u001b[0m \u001b[0mlen\u001b[0m\u001b[0;34m(\u001b[0m\u001b[0mself\u001b[0m\u001b[0;34m.\u001b[0m\u001b[0mblocks\u001b[0m\u001b[0;34m)\u001b[0m \u001b[0;34m>\u001b[0m \u001b[0;36m100\u001b[0m\u001b[0;34m:\u001b[0m\u001b[0;34m\u001b[0m\u001b[0m\n\u001b[0;32m-> 3463\u001b[0;31m             \u001b[0mself\u001b[0m\u001b[0;34m.\u001b[0m\u001b[0m_consolidate_inplace\u001b[0m\u001b[0;34m(\u001b[0m\u001b[0;34m)\u001b[0m\u001b[0;34m\u001b[0m\u001b[0m\n\u001b[0m\u001b[1;32m   3464\u001b[0m \u001b[0;34m\u001b[0m\u001b[0m\n\u001b[1;32m   3465\u001b[0m     def reindex_axis(self, new_index, axis, method=None, limit=None,\n",
      "\u001b[0;32m//anaconda/lib/python2.7/site-packages/pandas/core/internals.pyc\u001b[0m in \u001b[0;36m_consolidate_inplace\u001b[0;34m(self)\u001b[0m\n\u001b[1;32m   3200\u001b[0m             \u001b[0mself\u001b[0m\u001b[0;34m.\u001b[0m\u001b[0m_is_consolidated\u001b[0m \u001b[0;34m=\u001b[0m \u001b[0mTrue\u001b[0m\u001b[0;34m\u001b[0m\u001b[0m\n\u001b[1;32m   3201\u001b[0m             \u001b[0mself\u001b[0m\u001b[0;34m.\u001b[0m\u001b[0m_known_consolidated\u001b[0m \u001b[0;34m=\u001b[0m \u001b[0mTrue\u001b[0m\u001b[0;34m\u001b[0m\u001b[0m\n\u001b[0;32m-> 3202\u001b[0;31m             \u001b[0mself\u001b[0m\u001b[0;34m.\u001b[0m\u001b[0m_rebuild_blknos_and_blklocs\u001b[0m\u001b[0;34m(\u001b[0m\u001b[0;34m)\u001b[0m\u001b[0;34m\u001b[0m\u001b[0m\n\u001b[0m\u001b[1;32m   3203\u001b[0m \u001b[0;34m\u001b[0m\u001b[0m\n\u001b[1;32m   3204\u001b[0m     \u001b[0;32mdef\u001b[0m \u001b[0mget\u001b[0m\u001b[0;34m(\u001b[0m\u001b[0mself\u001b[0m\u001b[0;34m,\u001b[0m \u001b[0mitem\u001b[0m\u001b[0;34m,\u001b[0m \u001b[0mfastpath\u001b[0m\u001b[0;34m=\u001b[0m\u001b[0mTrue\u001b[0m\u001b[0;34m)\u001b[0m\u001b[0;34m:\u001b[0m\u001b[0;34m\u001b[0m\u001b[0m\n",
      "\u001b[0;32m//anaconda/lib/python2.7/site-packages/pandas/core/internals.pyc\u001b[0m in \u001b[0;36m_rebuild_blknos_and_blklocs\u001b[0;34m(self)\u001b[0m\n\u001b[1;32m   2619\u001b[0m \u001b[0;34m\u001b[0m\u001b[0m\n\u001b[1;32m   2620\u001b[0m         \u001b[0;32mfor\u001b[0m \u001b[0mblkno\u001b[0m\u001b[0;34m,\u001b[0m \u001b[0mblk\u001b[0m \u001b[0;32min\u001b[0m \u001b[0menumerate\u001b[0m\u001b[0;34m(\u001b[0m\u001b[0mself\u001b[0m\u001b[0;34m.\u001b[0m\u001b[0mblocks\u001b[0m\u001b[0;34m)\u001b[0m\u001b[0;34m:\u001b[0m\u001b[0;34m\u001b[0m\u001b[0m\n\u001b[0;32m-> 2621\u001b[0;31m             \u001b[0mrl\u001b[0m \u001b[0;34m=\u001b[0m \u001b[0mblk\u001b[0m\u001b[0;34m.\u001b[0m\u001b[0mmgr_locs\u001b[0m\u001b[0;34m\u001b[0m\u001b[0m\n\u001b[0m\u001b[1;32m   2622\u001b[0m             \u001b[0mnew_blknos\u001b[0m\u001b[0;34m[\u001b[0m\u001b[0mrl\u001b[0m\u001b[0;34m.\u001b[0m\u001b[0mindexer\u001b[0m\u001b[0;34m]\u001b[0m \u001b[0;34m=\u001b[0m \u001b[0mblkno\u001b[0m\u001b[0;34m\u001b[0m\u001b[0m\n\u001b[1;32m   2623\u001b[0m             \u001b[0mnew_blklocs\u001b[0m\u001b[0;34m[\u001b[0m\u001b[0mrl\u001b[0m\u001b[0;34m.\u001b[0m\u001b[0mindexer\u001b[0m\u001b[0;34m]\u001b[0m \u001b[0;34m=\u001b[0m \u001b[0mnp\u001b[0m\u001b[0;34m.\u001b[0m\u001b[0marange\u001b[0m\u001b[0;34m(\u001b[0m\u001b[0mlen\u001b[0m\u001b[0;34m(\u001b[0m\u001b[0mrl\u001b[0m\u001b[0;34m)\u001b[0m\u001b[0;34m)\u001b[0m\u001b[0;34m\u001b[0m\u001b[0m\n",
      "\u001b[0;32m//anaconda/lib/python2.7/site-packages/pandas/core/internals.pyc\u001b[0m in \u001b[0;36mmgr_locs\u001b[0;34m(self)\u001b[0m\n\u001b[1;32m    148\u001b[0m         \u001b[0;32mreturn\u001b[0m \u001b[0mnp\u001b[0m\u001b[0;34m.\u001b[0m\u001b[0mnan\u001b[0m\u001b[0;34m\u001b[0m\u001b[0m\n\u001b[1;32m    149\u001b[0m \u001b[0;34m\u001b[0m\u001b[0m\n\u001b[0;32m--> 150\u001b[0;31m     \u001b[0;34m@\u001b[0m\u001b[0mproperty\u001b[0m\u001b[0;34m\u001b[0m\u001b[0m\n\u001b[0m\u001b[1;32m    151\u001b[0m     \u001b[0;32mdef\u001b[0m \u001b[0mmgr_locs\u001b[0m\u001b[0;34m(\u001b[0m\u001b[0mself\u001b[0m\u001b[0;34m)\u001b[0m\u001b[0;34m:\u001b[0m\u001b[0;34m\u001b[0m\u001b[0m\n\u001b[1;32m    152\u001b[0m         \u001b[0;32mreturn\u001b[0m \u001b[0mself\u001b[0m\u001b[0;34m.\u001b[0m\u001b[0m_mgr_locs\u001b[0m\u001b[0;34m\u001b[0m\u001b[0m\n",
      "\u001b[0;31mKeyboardInterrupt\u001b[0m: "
     ]
    }
   ],
   "source": [
    "pivot_ratings.to_sparse().density"
   ]
  },
  {
   "cell_type": "code",
   "execution_count": null,
   "metadata": {
    "collapsed": true
   },
   "outputs": [],
   "source": [
    "data_df.to_sparse().density"
   ]
  },
  {
   "cell_type": "code",
   "execution_count": null,
   "metadata": {
    "collapsed": true
   },
   "outputs": [],
   "source": []
  },
  {
   "cell_type": "code",
   "execution_count": null,
   "metadata": {
    "collapsed": true
   },
   "outputs": [],
   "source": []
  },
  {
   "cell_type": "code",
   "execution_count": null,
   "metadata": {
    "collapsed": true
   },
   "outputs": [],
   "source": []
  },
  {
   "cell_type": "code",
   "execution_count": 19,
   "metadata": {
    "collapsed": false
   },
   "outputs": [],
   "source": [
    "home = '/Users/Alexander/Wine/data/'\n",
    "master_cols_path = home + \"master_cols_varietal_only.pkl\"\n",
    "data_and_tags_path = home + \"data_and_tags_varietal_only.pkl\""
   ]
  },
  {
   "cell_type": "code",
   "execution_count": 24,
   "metadata": {
    "collapsed": false
   },
   "outputs": [
    {
     "name": "stdout",
     "output_type": "stream",
     "text": [
      "Time Elapsed = 14.75 secs\n"
     ]
    }
   ],
   "source": [
    "start = time()\n",
    "data_tags = cPickle.load(open(data_and_tags_path, 'r'))\n",
    "cols = cPickle.load(open(master_cols_path, 'r'))\n",
    "end = time()\n",
    "print \"Time Elapsed = {:.4} secs\".format(end - start)"
   ]
  },
  {
   "cell_type": "code",
   "execution_count": 26,
   "metadata": {
    "collapsed": true
   },
   "outputs": [],
   "source": [
    "data, tags = data_tags"
   ]
  },
  {
   "cell_type": "code",
   "execution_count": 27,
   "metadata": {
    "collapsed": false
   },
   "outputs": [
    {
     "name": "stdout",
     "output_type": "stream",
     "text": [
      "Time Elapsed = 0.4153 secs\n"
     ]
    }
   ],
   "source": [
    "start = time()\n",
    "data_df = pd.DataFrame(data=data.toarray(),\n",
    "                       index = tags,\n",
    "                       columns = cols)\n",
    "end = time()\n",
    "print \"Time Elapsed = {:.4} secs\".format(end - start)"
   ]
  },
  {
   "cell_type": "code",
   "execution_count": null,
   "metadata": {
    "collapsed": true
   },
   "outputs": [],
   "source": []
  },
  {
   "cell_type": "code",
   "execution_count": 9,
   "metadata": {
    "collapsed": false
   },
   "outputs": [
    {
     "name": "stderr",
     "output_type": "stream",
     "text": [
      "//anaconda/lib/python2.7/site-packages/IPython/core/interactiveshell.py:2871: DtypeWarning:\n",
      "\n",
      "Columns (8) have mixed types. Specify dtype option on import or set low_memory=False.\n",
      "\n"
     ]
    }
   ],
   "source": [
    "path4 = \"/Users/Alexander/cap_stone_project_wine/data/Products.txt\"\n",
    "products = pd.read_csv(path4, sep = \"\\t\")"
   ]
  },
  {
   "cell_type": "code",
   "execution_count": 10,
   "metadata": {
    "collapsed": false
   },
   "outputs": [
    {
     "data": {
      "text/html": [
       "<div>\n",
       "<table border=\"1\" class=\"dataframe\">\n",
       "  <thead>\n",
       "    <tr style=\"text-align: right;\">\n",
       "      <th></th>\n",
       "      <th>ProductKey</th>\n",
       "      <th>ProductId</th>\n",
       "      <th>ProductType</th>\n",
       "      <th>CountryOfOrigin</th>\n",
       "      <th>Region</th>\n",
       "      <th>Appellation</th>\n",
       "      <th>Varietal</th>\n",
       "      <th>Class</th>\n",
       "      <th>WineStyle</th>\n",
       "      <th>Vineyard</th>\n",
       "      <th>Vintage</th>\n",
       "      <th>ProductName</th>\n",
       "      <th>ProductNameWithVintage</th>\n",
       "      <th>HighestRating</th>\n",
       "      <th>Price</th>\n",
       "      <th>WarehouseState</th>\n",
       "    </tr>\n",
       "  </thead>\n",
       "  <tbody>\n",
       "    <tr>\n",
       "      <th>0</th>\n",
       "      <td>2</td>\n",
       "      <td>127554</td>\n",
       "      <td>Wine</td>\n",
       "      <td>UNITED STATES OF AMERICA</td>\n",
       "      <td>California</td>\n",
       "      <td>Napa Valley</td>\n",
       "      <td>Cabernet Sauvignon</td>\n",
       "      <td>Red Wines</td>\n",
       "      <td>Red Styles: Big &amp; Bold</td>\n",
       "      <td>Turnbull</td>\n",
       "      <td>2010</td>\n",
       "      <td>Turnbull Cabernet Sauvignon</td>\n",
       "      <td>Turnbull Cabernet Sauvignon 2010</td>\n",
       "      <td>90</td>\n",
       "      <td>42.99</td>\n",
       "      <td>NY</td>\n",
       "    </tr>\n",
       "    <tr>\n",
       "      <th>1</th>\n",
       "      <td>3</td>\n",
       "      <td>133070</td>\n",
       "      <td>Wine</td>\n",
       "      <td>UNITED STATES OF AMERICA</td>\n",
       "      <td>California</td>\n",
       "      <td>Napa Valley</td>\n",
       "      <td>Cabernet Sauvignon</td>\n",
       "      <td>Red Wines</td>\n",
       "      <td>Red Styles: Big &amp; Bold</td>\n",
       "      <td>Turnbull</td>\n",
       "      <td>2012</td>\n",
       "      <td>Turnbull Cabernet Sauvignon</td>\n",
       "      <td>Turnbull Cabernet Sauvignon 2012</td>\n",
       "      <td>91</td>\n",
       "      <td>52.99</td>\n",
       "      <td>NY</td>\n",
       "    </tr>\n",
       "    <tr>\n",
       "      <th>2</th>\n",
       "      <td>4</td>\n",
       "      <td>114037</td>\n",
       "      <td>Wine</td>\n",
       "      <td>UNITED STATES OF AMERICA</td>\n",
       "      <td>California</td>\n",
       "      <td>Napa Valley</td>\n",
       "      <td>Cabernet Sauvignon</td>\n",
       "      <td>Red Wines</td>\n",
       "      <td>Red Styles: Big &amp; Bold</td>\n",
       "      <td>Turnbull</td>\n",
       "      <td>2009</td>\n",
       "      <td>Turnbull Cabernet Sauvignon</td>\n",
       "      <td>Turnbull Cabernet Sauvignon 2009</td>\n",
       "      <td>88</td>\n",
       "      <td>44.99</td>\n",
       "      <td>NY</td>\n",
       "    </tr>\n",
       "    <tr>\n",
       "      <th>3</th>\n",
       "      <td>5</td>\n",
       "      <td>116887</td>\n",
       "      <td>Wine</td>\n",
       "      <td>UNITED STATES OF AMERICA</td>\n",
       "      <td>California</td>\n",
       "      <td>Napa Valley</td>\n",
       "      <td>Sauvignon Blanc</td>\n",
       "      <td>White Wines</td>\n",
       "      <td>White Styles: Fruity &amp; Smooth</td>\n",
       "      <td>Turnbull</td>\n",
       "      <td>2011</td>\n",
       "      <td>Turnbull Sauvignon Blanc</td>\n",
       "      <td>Turnbull Sauvignon Blanc 2011</td>\n",
       "      <td>0</td>\n",
       "      <td>24.99</td>\n",
       "      <td>NY</td>\n",
       "    </tr>\n",
       "    <tr>\n",
       "      <th>4</th>\n",
       "      <td>6</td>\n",
       "      <td>145898</td>\n",
       "      <td>Wine</td>\n",
       "      <td>UNITED STATES OF AMERICA</td>\n",
       "      <td>California</td>\n",
       "      <td>Napa Valley</td>\n",
       "      <td>Sauvignon Blanc</td>\n",
       "      <td>White Wines</td>\n",
       "      <td>White Styles: Light &amp; Crisp</td>\n",
       "      <td>Turnbull</td>\n",
       "      <td>2014</td>\n",
       "      <td>Turnbull Sauvignon Blanc</td>\n",
       "      <td>Turnbull Sauvignon Blanc 2014</td>\n",
       "      <td>0</td>\n",
       "      <td>24.99</td>\n",
       "      <td>NY</td>\n",
       "    </tr>\n",
       "  </tbody>\n",
       "</table>\n",
       "</div>"
      ],
      "text/plain": [
       "   ProductKey  ProductId ProductType           CountryOfOrigin      Region  \\\n",
       "0           2     127554        Wine  UNITED STATES OF AMERICA  California   \n",
       "1           3     133070        Wine  UNITED STATES OF AMERICA  California   \n",
       "2           4     114037        Wine  UNITED STATES OF AMERICA  California   \n",
       "3           5     116887        Wine  UNITED STATES OF AMERICA  California   \n",
       "4           6     145898        Wine  UNITED STATES OF AMERICA  California   \n",
       "\n",
       "   Appellation            Varietal        Class  \\\n",
       "0  Napa Valley  Cabernet Sauvignon    Red Wines   \n",
       "1  Napa Valley  Cabernet Sauvignon    Red Wines   \n",
       "2  Napa Valley  Cabernet Sauvignon    Red Wines   \n",
       "3  Napa Valley     Sauvignon Blanc  White Wines   \n",
       "4  Napa Valley     Sauvignon Blanc  White Wines   \n",
       "\n",
       "                       WineStyle  Vineyard  Vintage  \\\n",
       "0         Red Styles: Big & Bold  Turnbull     2010   \n",
       "1         Red Styles: Big & Bold  Turnbull     2012   \n",
       "2         Red Styles: Big & Bold  Turnbull     2009   \n",
       "3  White Styles: Fruity & Smooth  Turnbull     2011   \n",
       "4    White Styles: Light & Crisp  Turnbull     2014   \n",
       "\n",
       "                   ProductName            ProductNameWithVintage  \\\n",
       "0  Turnbull Cabernet Sauvignon  Turnbull Cabernet Sauvignon 2010   \n",
       "1  Turnbull Cabernet Sauvignon  Turnbull Cabernet Sauvignon 2012   \n",
       "2  Turnbull Cabernet Sauvignon  Turnbull Cabernet Sauvignon 2009   \n",
       "3     Turnbull Sauvignon Blanc     Turnbull Sauvignon Blanc 2011   \n",
       "4     Turnbull Sauvignon Blanc     Turnbull Sauvignon Blanc 2014   \n",
       "\n",
       "   HighestRating  Price WarehouseState  \n",
       "0             90  42.99             NY  \n",
       "1             91  52.99             NY  \n",
       "2             88  44.99             NY  \n",
       "3              0  24.99             NY  \n",
       "4              0  24.99             NY  "
      ]
     },
     "execution_count": 10,
     "metadata": {},
     "output_type": "execute_result"
    }
   ],
   "source": [
    "products.head()"
   ]
  },
  {
   "cell_type": "code",
   "execution_count": 11,
   "metadata": {
    "collapsed": true
   },
   "outputs": [],
   "source": [
    "df_merge = pd.merge(left = ratings,\n",
    "                    right = products, \n",
    "                    how='inner', \n",
    "                    on=\"ProductId\",\n",
    "                    left_index=True,\n",
    "                    sort=True,\n",
    "                    copy=True)"
   ]
  },
  {
   "cell_type": "code",
   "execution_count": 12,
   "metadata": {
    "collapsed": false
   },
   "outputs": [
    {
     "data": {
      "text/html": [
       "<div>\n",
       "<table border=\"1\" class=\"dataframe\">\n",
       "  <thead>\n",
       "    <tr style=\"text-align: right;\">\n",
       "      <th></th>\n",
       "      <th>CustomerHash</th>\n",
       "      <th>ProductId</th>\n",
       "      <th>CreateDate</th>\n",
       "      <th>Rating</th>\n",
       "      <th>ProductKey</th>\n",
       "      <th>ProductType</th>\n",
       "      <th>CountryOfOrigin</th>\n",
       "      <th>Region</th>\n",
       "      <th>Appellation</th>\n",
       "      <th>Varietal</th>\n",
       "      <th>Class</th>\n",
       "      <th>WineStyle</th>\n",
       "      <th>Vineyard</th>\n",
       "      <th>Vintage</th>\n",
       "      <th>ProductName</th>\n",
       "      <th>ProductNameWithVintage</th>\n",
       "      <th>HighestRating</th>\n",
       "      <th>Price</th>\n",
       "      <th>WarehouseState</th>\n",
       "    </tr>\n",
       "  </thead>\n",
       "  <tbody>\n",
       "    <tr>\n",
       "      <th>69526</th>\n",
       "      <td>D676597143A7F4663BC77367A883273C</td>\n",
       "      <td>63</td>\n",
       "      <td>2009-03-22</td>\n",
       "      <td>4</td>\n",
       "      <td>75172</td>\n",
       "      <td>Wine</td>\n",
       "      <td>UNITED STATES OF AMERICA</td>\n",
       "      <td>California</td>\n",
       "      <td>Napa Valley</td>\n",
       "      <td>Merlot</td>\n",
       "      <td>Red Wines</td>\n",
       "      <td>NaN</td>\n",
       "      <td>Beringer</td>\n",
       "      <td>1997</td>\n",
       "      <td>Beringer Howell Mountain Bancroft Ranch Merlot</td>\n",
       "      <td>Beringer Howell Mountain Bancroft Ranch Merlot...</td>\n",
       "      <td>93</td>\n",
       "      <td>89.990</td>\n",
       "      <td>CA</td>\n",
       "    </tr>\n",
       "    <tr>\n",
       "      <th>93013</th>\n",
       "      <td>D676597143A7F4663BC77367A883273C</td>\n",
       "      <td>63</td>\n",
       "      <td>2009-03-22</td>\n",
       "      <td>4</td>\n",
       "      <td>98965</td>\n",
       "      <td>Wine</td>\n",
       "      <td>UNITED STATES OF AMERICA</td>\n",
       "      <td>California</td>\n",
       "      <td>Napa Valley</td>\n",
       "      <td>Merlot</td>\n",
       "      <td>Red Wines</td>\n",
       "      <td>NaN</td>\n",
       "      <td>Beringer</td>\n",
       "      <td>1997</td>\n",
       "      <td>Beringer Howell Mountain Bancroft Ranch Merlot</td>\n",
       "      <td>Beringer Howell Mountain Bancroft Ranch Merlot...</td>\n",
       "      <td>93</td>\n",
       "      <td>103.131</td>\n",
       "      <td>TX</td>\n",
       "    </tr>\n",
       "    <tr>\n",
       "      <th>93014</th>\n",
       "      <td>D676597143A7F4663BC77367A883273C</td>\n",
       "      <td>63</td>\n",
       "      <td>2009-03-22</td>\n",
       "      <td>4</td>\n",
       "      <td>98966</td>\n",
       "      <td>Wine</td>\n",
       "      <td>UNITED STATES OF AMERICA</td>\n",
       "      <td>California</td>\n",
       "      <td>Napa Valley</td>\n",
       "      <td>Merlot</td>\n",
       "      <td>Red Wines</td>\n",
       "      <td>NaN</td>\n",
       "      <td>Beringer</td>\n",
       "      <td>1997</td>\n",
       "      <td>Beringer Howell Mountain Bancroft Ranch Merlot</td>\n",
       "      <td>Beringer Howell Mountain Bancroft Ranch Merlot...</td>\n",
       "      <td>93</td>\n",
       "      <td>59.990</td>\n",
       "      <td>TX</td>\n",
       "    </tr>\n",
       "    <tr>\n",
       "      <th>101684</th>\n",
       "      <td>D676597143A7F4663BC77367A883273C</td>\n",
       "      <td>63</td>\n",
       "      <td>2009-03-22</td>\n",
       "      <td>4</td>\n",
       "      <td>107901</td>\n",
       "      <td>Wine</td>\n",
       "      <td>UNITED STATES OF AMERICA</td>\n",
       "      <td>California</td>\n",
       "      <td>Napa Valley</td>\n",
       "      <td>Merlot</td>\n",
       "      <td>Red Wines</td>\n",
       "      <td>NaN</td>\n",
       "      <td>Beringer</td>\n",
       "      <td>1997</td>\n",
       "      <td>Beringer Howell Mountain Bancroft Ranch Merlot</td>\n",
       "      <td>Beringer Howell Mountain Bancroft Ranch Merlot...</td>\n",
       "      <td>93</td>\n",
       "      <td>105.990</td>\n",
       "      <td>OH</td>\n",
       "    </tr>\n",
       "    <tr>\n",
       "      <th>137693</th>\n",
       "      <td>D676597143A7F4663BC77367A883273C</td>\n",
       "      <td>63</td>\n",
       "      <td>2009-03-22</td>\n",
       "      <td>4</td>\n",
       "      <td>145571</td>\n",
       "      <td>Wine</td>\n",
       "      <td>UNITED STATES OF AMERICA</td>\n",
       "      <td>California</td>\n",
       "      <td>Napa Valley</td>\n",
       "      <td>Merlot</td>\n",
       "      <td>Red Wines</td>\n",
       "      <td>NaN</td>\n",
       "      <td>Beringer</td>\n",
       "      <td>1997</td>\n",
       "      <td>Beringer Howell Mountain Bancroft Ranch Merlot</td>\n",
       "      <td>Beringer Howell Mountain Bancroft Ranch Merlot...</td>\n",
       "      <td>93</td>\n",
       "      <td>110.691</td>\n",
       "      <td>VA</td>\n",
       "    </tr>\n",
       "  </tbody>\n",
       "</table>\n",
       "</div>"
      ],
      "text/plain": [
       "                            CustomerHash  ProductId  CreateDate  Rating  \\\n",
       "69526   D676597143A7F4663BC77367A883273C         63  2009-03-22       4   \n",
       "93013   D676597143A7F4663BC77367A883273C         63  2009-03-22       4   \n",
       "93014   D676597143A7F4663BC77367A883273C         63  2009-03-22       4   \n",
       "101684  D676597143A7F4663BC77367A883273C         63  2009-03-22       4   \n",
       "137693  D676597143A7F4663BC77367A883273C         63  2009-03-22       4   \n",
       "\n",
       "        ProductKey ProductType           CountryOfOrigin      Region  \\\n",
       "69526        75172        Wine  UNITED STATES OF AMERICA  California   \n",
       "93013        98965        Wine  UNITED STATES OF AMERICA  California   \n",
       "93014        98966        Wine  UNITED STATES OF AMERICA  California   \n",
       "101684      107901        Wine  UNITED STATES OF AMERICA  California   \n",
       "137693      145571        Wine  UNITED STATES OF AMERICA  California   \n",
       "\n",
       "        Appellation Varietal      Class WineStyle  Vineyard  Vintage  \\\n",
       "69526   Napa Valley   Merlot  Red Wines       NaN  Beringer     1997   \n",
       "93013   Napa Valley   Merlot  Red Wines       NaN  Beringer     1997   \n",
       "93014   Napa Valley   Merlot  Red Wines       NaN  Beringer     1997   \n",
       "101684  Napa Valley   Merlot  Red Wines       NaN  Beringer     1997   \n",
       "137693  Napa Valley   Merlot  Red Wines       NaN  Beringer     1997   \n",
       "\n",
       "                                           ProductName  \\\n",
       "69526   Beringer Howell Mountain Bancroft Ranch Merlot   \n",
       "93013   Beringer Howell Mountain Bancroft Ranch Merlot   \n",
       "93014   Beringer Howell Mountain Bancroft Ranch Merlot   \n",
       "101684  Beringer Howell Mountain Bancroft Ranch Merlot   \n",
       "137693  Beringer Howell Mountain Bancroft Ranch Merlot   \n",
       "\n",
       "                                   ProductNameWithVintage  HighestRating  \\\n",
       "69526   Beringer Howell Mountain Bancroft Ranch Merlot...             93   \n",
       "93013   Beringer Howell Mountain Bancroft Ranch Merlot...             93   \n",
       "93014   Beringer Howell Mountain Bancroft Ranch Merlot...             93   \n",
       "101684  Beringer Howell Mountain Bancroft Ranch Merlot...             93   \n",
       "137693  Beringer Howell Mountain Bancroft Ranch Merlot...             93   \n",
       "\n",
       "          Price WarehouseState  \n",
       "69526    89.990             CA  \n",
       "93013   103.131             TX  \n",
       "93014    59.990             TX  \n",
       "101684  105.990             OH  \n",
       "137693  110.691             VA  "
      ]
     },
     "execution_count": 12,
     "metadata": {},
     "output_type": "execute_result"
    }
   ],
   "source": [
    "df_merge.head(5)"
   ]
  },
  {
   "cell_type": "markdown",
   "metadata": {},
   "source": [
    "### Distribution of Ratings over Varietal"
   ]
  },
  {
   "cell_type": "code",
   "execution_count": 13,
   "metadata": {
    "collapsed": true
   },
   "outputs": [],
   "source": [
    "ratings_list = df_merge.Rating.values"
   ]
  },
  {
   "cell_type": "code",
   "execution_count": 14,
   "metadata": {
    "collapsed": true
   },
   "outputs": [],
   "source": [
    "clean_varietal = clean_text(df_merge.Varietal.values)"
   ]
  },
  {
   "cell_type": "code",
   "execution_count": 18,
   "metadata": {
    "collapsed": false
   },
   "outputs": [],
   "source": [
    "varietal_count = Counter(clean_varietal)"
   ]
  },
  {
   "cell_type": "code",
   "execution_count": 22,
   "metadata": {
    "collapsed": false
   },
   "outputs": [],
   "source": [
    "sort_by_row = 1\n",
    "var, count_var = sort_dict_to_list(varietal_count,sort_by_row)"
   ]
  },
  {
   "cell_type": "code",
   "execution_count": 26,
   "metadata": {
    "collapsed": false
   },
   "outputs": [
    {
     "name": "stdout",
     "output_type": "stream",
     "text": [
      "[u'Cabernet Sauvignon', u'Non-Vintage', u'Other Red Blends', u'Syrah/Shiraz', u'Pinot Noir']\n",
      "[83221, 48684, 45839, 45017, 34236]\n"
     ]
    }
   ],
   "source": [
    "print var[0:5]\n",
    "print count_var[0:5]"
   ]
  },
  {
   "cell_type": "code",
   "execution_count": 23,
   "metadata": {
    "collapsed": false
   },
   "outputs": [],
   "source": [
    "data = [\n",
    "    go.Scatter(\n",
    "        x=var,\n",
    "        y=count_var,\n",
    "        marker=dict(\n",
    "        color=\"#ce2c4b\"\n",
    "    ),\n",
    "    )\n",
    "]\n",
    "\n",
    "layout = go.Layout(\n",
    "title='Frequency of Wine Ratings by Varietal',\n",
    "\n",
    "    yaxis=dict(\n",
    "    title='Frequency of Wine Ratings'\n",
    "),\n",
    "    xaxis=dict(\n",
    "    title=\"Varietal\"\n",
    ")\n",
    ")   \n",
    "fig = go.Figure(data=data, layout=layout)\n",
    "plot_url_ratings = py.iplot(fig, filename='style-bar')"
   ]
  },
  {
   "cell_type": "code",
   "execution_count": 24,
   "metadata": {
    "collapsed": false
   },
   "outputs": [
    {
     "data": {
      "text/html": [
       "<iframe id=\"igraph\" scrolling=\"no\" style=\"border:none;\"seamless=\"seamless\" src=\"https://plot.ly/~DataBeast/65.embed\" height=\"525px\" width=\"100%\"></iframe>"
      ],
      "text/plain": [
       "<plotly.tools.PlotlyDisplay object>"
      ]
     },
     "execution_count": 24,
     "metadata": {},
     "output_type": "execute_result"
    }
   ],
   "source": [
    "plot_url_ratings"
   ]
  },
  {
   "cell_type": "markdown",
   "metadata": {},
   "source": [
    "### Distribution of Ratings over Price"
   ]
  },
  {
   "cell_type": "code",
   "execution_count": 28,
   "metadata": {
    "collapsed": true
   },
   "outputs": [],
   "source": [
    "price_list = df_merge.Price.values\n",
    "ratings_list = df_merge.Rating.values"
   ]
  },
  {
   "cell_type": "code",
   "execution_count": 31,
   "metadata": {
    "collapsed": false
   },
   "outputs": [
    {
     "name": "stdout",
     "output_type": "stream",
     "text": [
      "The draw time for this plot will be slow for all clients.\n"
     ]
    }
   ],
   "source": [
    "data = [\n",
    "    go.Scatter(\n",
    "        x=ratings_list,\n",
    "        y=price_list,\n",
    "        marker=dict(\n",
    "        color=\"#ce2c4b\"\n",
    "    ),\n",
    "    )\n",
    "]\n",
    "\n",
    "layout = go.Layout(\n",
    "title='Frequency of Wine Ratings by Varietal',\n",
    "\n",
    "    yaxis=dict(\n",
    "    title='Frequency of Wine Ratings'\n",
    "),\n",
    "    xaxis=dict(\n",
    "    title=\"Varietal\"\n",
    ")\n",
    ")   \n",
    "fig = go.Figure(data=data, layout=layout)\n",
    "plot_url_price = py.iplot(fig, filename='style-bar')"
   ]
  },
  {
   "cell_type": "code",
   "execution_count": null,
   "metadata": {
    "collapsed": true
   },
   "outputs": [],
   "source": []
  }
 ],
 "metadata": {
  "kernelspec": {
   "display_name": "Python 2",
   "language": "python",
   "name": "python2"
  },
  "language_info": {
   "codemirror_mode": {
    "name": "ipython",
    "version": 2
   },
   "file_extension": ".py",
   "mimetype": "text/x-python",
   "name": "python",
   "nbconvert_exporter": "python",
   "pygments_lexer": "ipython2",
   "version": "2.7.11"
  }
 },
 "nbformat": 4,
 "nbformat_minor": 0
}
