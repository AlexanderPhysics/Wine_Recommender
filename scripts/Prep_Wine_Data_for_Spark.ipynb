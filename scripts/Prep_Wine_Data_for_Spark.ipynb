{
 "cells": [
  {
   "cell_type": "markdown",
   "metadata": {},
   "source": [
    "### This notebook preps the data for the Spark_Recommender_Prototype\n",
    "    1. Remove non red or white wine product keys from the product data\n",
    "    2. Filter out customers with less than 5 red or white wine purchases hashs\n",
    "    3. Filter out customersh with no subsequent purchases \n",
    "    4. Filter out purchases hashes with 10 or more purchases (bulk purchases)\n",
    "    5. Replace n_purchases with relative rating for each user \n",
    "    6. Transform floating point ratings into categorical values \n",
    "   "
   ]
  },
  {
   "cell_type": "markdown",
   "metadata": {},
   "source": [
    "### Periodic Data Prep\n",
    "This data prep should be performed on the msster data sets perodically, on batches of new data. For instance, after having 10's of new, or existing customers, make their 5th purchase of a wine that they have not purchaused previous. You'll see that user's with less than 5 purchases of distnct wines are filtered out of the purchase data set and never make it to the recommender."
   ]
  },
  {
   "cell_type": "code",
   "execution_count": 1,
   "metadata": {
    "collapsed": true
   },
   "outputs": [],
   "source": [
    "reset -f -s"
   ]
  },
  {
   "cell_type": "code",
   "execution_count": 2,
   "metadata": {
    "collapsed": false
   },
   "outputs": [
    {
     "name": "stdout",
     "output_type": "stream",
     "text": [
      "Interactive namespace is empty.\n"
     ]
    }
   ],
   "source": [
    "whos"
   ]
  },
  {
   "cell_type": "code",
   "execution_count": 3,
   "metadata": {
    "collapsed": false
   },
   "outputs": [],
   "source": [
    "from __future__ import division\n",
    "import numpy as np\n",
    "import pandas as pd\n",
    "import cPickle\n",
    "from time import time\n",
    "from collections import defaultdict, Counter\n",
    "import matplotlib.pyplot as plt\n",
    "import pylab\n",
    "% matplotlib inline"
   ]
  },
  {
   "cell_type": "code",
   "execution_count": 6,
   "metadata": {
    "collapsed": true
   },
   "outputs": [],
   "source": [
    "# needs access to wifi\n",
    "# import plotly.graph_objs as go\n",
    "# import plotly.plotly as py"
   ]
  },
  {
   "cell_type": "markdown",
   "metadata": {},
   "source": [
    "#### Load Data"
   ]
  },
  {
   "cell_type": "code",
   "execution_count": 4,
   "metadata": {
    "collapsed": true
   },
   "outputs": [],
   "source": [
    "wine_path = \"/Users/Alexander/Wine_Recommender/data/Products.txt\"\n",
    "purchases_path = \"/Users/Alexander/Wine_Recommender/data/Purchases.txt\""
   ]
  },
  {
   "cell_type": "code",
   "execution_count": 5,
   "metadata": {
    "collapsed": true
   },
   "outputs": [],
   "source": [
    "def load_data(wine_path, purchases_path):\n",
    "    products_df = pd.read_csv(wine_path, sep = '\\t')\n",
    "    purchase_df = pd.read_csv(purchases_path, sep = '\\t')\n",
    "    return products_df, purchase_df"
   ]
  },
  {
   "cell_type": "code",
   "execution_count": 6,
   "metadata": {
    "collapsed": false
   },
   "outputs": [
    {
     "name": "stderr",
     "output_type": "stream",
     "text": [
      "//anaconda/lib/python2.7/site-packages/IPython/core/interactiveshell.py:2825: DtypeWarning: Columns (8) have mixed types. Specify dtype option on import or set low_memory=False.\n",
      "  if self.run_code(code, result):\n"
     ]
    }
   ],
   "source": [
    "products_df, purchase_df = load_data(wine_path, purchases_path)"
   ]
  },
  {
   "cell_type": "code",
   "execution_count": 8,
   "metadata": {
    "collapsed": false
   },
   "outputs": [
    {
     "data": {
      "text/html": [
       "<div>\n",
       "<table border=\"1\" class=\"dataframe\">\n",
       "  <thead>\n",
       "    <tr style=\"text-align: right;\">\n",
       "      <th></th>\n",
       "      <th>CustomerHash</th>\n",
       "      <th>PurchaseHash</th>\n",
       "      <th>ProductKey</th>\n",
       "      <th>Date</th>\n",
       "      <th>Units</th>\n",
       "    </tr>\n",
       "  </thead>\n",
       "  <tbody>\n",
       "    <tr>\n",
       "      <th>0</th>\n",
       "      <td>F1923160355C00D4D1E7801F74132540</td>\n",
       "      <td>C60D8C98A7328EF5A1F5090D6A29DB7F</td>\n",
       "      <td>222650</td>\n",
       "      <td>2015-06-18</td>\n",
       "      <td>1</td>\n",
       "    </tr>\n",
       "    <tr>\n",
       "      <th>1</th>\n",
       "      <td>D3BE5BC2AA8796FCD402023CD6E5A6AC</td>\n",
       "      <td>C9F6085954D5D36615EE0BA44BEB0A2A</td>\n",
       "      <td>95350</td>\n",
       "      <td>2009-08-04</td>\n",
       "      <td>1</td>\n",
       "    </tr>\n",
       "    <tr>\n",
       "      <th>2</th>\n",
       "      <td>00D7447BAB0443738F81C3660F478357</td>\n",
       "      <td>18B773B0D5568E406CBB946F628C1DC6</td>\n",
       "      <td>38706</td>\n",
       "      <td>2007-12-10</td>\n",
       "      <td>1</td>\n",
       "    </tr>\n",
       "    <tr>\n",
       "      <th>3</th>\n",
       "      <td>F3548BD72E0F97ECBDA95918DE2743AD</td>\n",
       "      <td>96FEEC28AB4F35342DE08987D39406FC</td>\n",
       "      <td>333116</td>\n",
       "      <td>2012-03-16</td>\n",
       "      <td>2</td>\n",
       "    </tr>\n",
       "    <tr>\n",
       "      <th>4</th>\n",
       "      <td>9A260E4A83A112AA06F06A11DBF98BBD</td>\n",
       "      <td>07879D41A42AD75F020E3DA70D698ACC</td>\n",
       "      <td>221136</td>\n",
       "      <td>2007-05-08</td>\n",
       "      <td>1</td>\n",
       "    </tr>\n",
       "  </tbody>\n",
       "</table>\n",
       "</div>"
      ],
      "text/plain": [
       "                       CustomerHash                      PurchaseHash  \\\n",
       "0  F1923160355C00D4D1E7801F74132540  C60D8C98A7328EF5A1F5090D6A29DB7F   \n",
       "1  D3BE5BC2AA8796FCD402023CD6E5A6AC  C9F6085954D5D36615EE0BA44BEB0A2A   \n",
       "2  00D7447BAB0443738F81C3660F478357  18B773B0D5568E406CBB946F628C1DC6   \n",
       "3  F3548BD72E0F97ECBDA95918DE2743AD  96FEEC28AB4F35342DE08987D39406FC   \n",
       "4  9A260E4A83A112AA06F06A11DBF98BBD  07879D41A42AD75F020E3DA70D698ACC   \n",
       "\n",
       "   ProductKey        Date  Units  \n",
       "0      222650  2015-06-18      1  \n",
       "1       95350  2009-08-04      1  \n",
       "2       38706  2007-12-10      1  \n",
       "3      333116  2012-03-16      2  \n",
       "4      221136  2007-05-08      1  "
      ]
     },
     "execution_count": 8,
     "metadata": {},
     "output_type": "execute_result"
    }
   ],
   "source": [
    "purchase_df.head()"
   ]
  },
  {
   "cell_type": "code",
   "execution_count": 9,
   "metadata": {
    "collapsed": true
   },
   "outputs": [],
   "source": [
    "units_purchased = purchase_df.groupby([\"CustomerHash\"])[\"Units\"].sum()"
   ]
  },
  {
   "cell_type": "code",
   "execution_count": 21,
   "metadata": {
    "collapsed": false
   },
   "outputs": [
    {
     "data": {
      "text/plain": [
       "20375"
      ]
     },
     "execution_count": 21,
     "metadata": {},
     "output_type": "execute_result"
    }
   ],
   "source": [
    "# user with the most purchases \n",
    "units_purchased.max()"
   ]
  },
  {
   "cell_type": "code",
   "execution_count": 25,
   "metadata": {
    "collapsed": false
   },
   "outputs": [
    {
     "data": {
      "text/plain": [
       "6628100"
      ]
     },
     "execution_count": 25,
     "metadata": {},
     "output_type": "execute_result"
    }
   ],
   "source": [
    "# total number of purchases over the span of about 10 years \n",
    "purchase_df.Units.count()"
   ]
  },
  {
   "cell_type": "code",
   "execution_count": 22,
   "metadata": {
    "collapsed": false
   },
   "outputs": [
    {
     "data": {
      "text/plain": [
       "851663"
      ]
     },
     "execution_count": 22,
     "metadata": {},
     "output_type": "execute_result"
    }
   ],
   "source": [
    "# total number of unique customers over the span of about 10 years \n",
    "len(purchase_df.CustomerHash.unique())"
   ]
  },
  {
   "cell_type": "code",
   "execution_count": 23,
   "metadata": {
    "collapsed": false
   },
   "outputs": [
    {
     "data": {
      "text/plain": [
       "421666"
      ]
     },
     "execution_count": 23,
     "metadata": {},
     "output_type": "execute_result"
    }
   ],
   "source": [
    "# about half of all customers have purchased 3 or less wines in 10 years\n",
    "len(units_purchased[units_purchased <= 3])"
   ]
  },
  {
   "cell_type": "code",
   "execution_count": 24,
   "metadata": {
    "collapsed": false
   },
   "outputs": [
    {
     "data": {
      "text/plain": [
       "216017"
      ]
     },
     "execution_count": 24,
     "metadata": {},
     "output_type": "execute_result"
    }
   ],
   "source": [
    "# about a forth of all customers have purchased 1 wine in 10 years \n",
    "len(units_purchased[units_purchased == 1])"
   ]
  },
  {
   "cell_type": "code",
   "execution_count": 20,
   "metadata": {
    "collapsed": false
   },
   "outputs": [
    {
     "data": {
      "image/png": "[encoded data removed]",
      "text/plain": [
       "<matplotlib.figure.Figure at 0x116a9b150>"
      ]
     },
     "metadata": {},
     "output_type": "display_data"
    }
   ],
   "source": [
    "plt.figure(figsize = (12, 8));\n",
    "plt.title(\"Customers vs. Total Purchases\")\n",
    "plt.xlabel('Customers')\n",
    "plt.ylabel(\"Total Purchases\")\n",
    "plt.hist(units_purchased[units_purchased < 100], bins = 100);\n",
    "#plt.savefig(\"/Users/Alexander/Wine_Recommender/Data/customersh_vs_total_purchases.png\")"
   ]
  },
  {
   "cell_type": "markdown",
   "metadata": {},
   "source": [
    "### Remove non red or white wine product keys from the product data\n",
    "    The motivations for purchasing wines are different from the motivations for purchasing \n",
    "    whisky or champaign. "
   ]
  },
  {
   "cell_type": "code",
   "execution_count": 14,
   "metadata": {
    "collapsed": true
   },
   "outputs": [],
   "source": [
    "def remove_non_wine_products(products_df):\n",
    "    '''Removes products from the products data that are not red or white wines'''\n",
    "    \n",
    "    # isolate wines from other drinks (Product Types)\n",
    "    white_wine_mask = products_df.Class == 'White Wines'\n",
    "    red_wine_mask = products_df.Class == 'Red Wines'\n",
    "    \n",
    "    white_wine_df = products_df[white_wine_mask]\n",
    "    red_wine_df = products_df[red_wine_mask]\n",
    "    \n",
    "    # build wine df\n",
    "    wine_df = red_wine_df.append(white_wine_df)\n",
    "    wine_cols = [u'ProductKey', u'ProductId', u'Appellation', u'Varietal', u'Vineyard', 'Class']\n",
    "    wine_df = wine_df[wine_cols]\n",
    "    \n",
    "    return wine_df"
   ]
  },
  {
   "cell_type": "code",
   "execution_count": 15,
   "metadata": {
    "collapsed": false
   },
   "outputs": [],
   "source": [
    "wine_df = remove_non_wine_products(products_df)"
   ]
  },
  {
   "cell_type": "code",
   "execution_count": 16,
   "metadata": {
    "collapsed": false
   },
   "outputs": [
    {
     "data": {
      "text/html": [
       "<div>\n",
       "<table border=\"1\" class=\"dataframe\">\n",
       "  <thead>\n",
       "    <tr style=\"text-align: right;\">\n",
       "      <th></th>\n",
       "      <th>ProductKey</th>\n",
       "      <th>ProductId</th>\n",
       "      <th>Appellation</th>\n",
       "      <th>Varietal</th>\n",
       "      <th>Vineyard</th>\n",
       "      <th>Class</th>\n",
       "    </tr>\n",
       "  </thead>\n",
       "  <tbody>\n",
       "    <tr>\n",
       "      <th>0</th>\n",
       "      <td>2</td>\n",
       "      <td>127554</td>\n",
       "      <td>Napa Valley</td>\n",
       "      <td>Cabernet Sauvignon</td>\n",
       "      <td>Turnbull</td>\n",
       "      <td>Red Wines</td>\n",
       "    </tr>\n",
       "    <tr>\n",
       "      <th>1</th>\n",
       "      <td>3</td>\n",
       "      <td>133070</td>\n",
       "      <td>Napa Valley</td>\n",
       "      <td>Cabernet Sauvignon</td>\n",
       "      <td>Turnbull</td>\n",
       "      <td>Red Wines</td>\n",
       "    </tr>\n",
       "    <tr>\n",
       "      <th>2</th>\n",
       "      <td>4</td>\n",
       "      <td>114037</td>\n",
       "      <td>Napa Valley</td>\n",
       "      <td>Cabernet Sauvignon</td>\n",
       "      <td>Turnbull</td>\n",
       "      <td>Red Wines</td>\n",
       "    </tr>\n",
       "    <tr>\n",
       "      <th>5</th>\n",
       "      <td>7</td>\n",
       "      <td>109508</td>\n",
       "      <td>Napa Valley</td>\n",
       "      <td>Other Red Blends</td>\n",
       "      <td>Turnbull</td>\n",
       "      <td>Red Wines</td>\n",
       "    </tr>\n",
       "    <tr>\n",
       "      <th>6</th>\n",
       "      <td>8</td>\n",
       "      <td>110277</td>\n",
       "      <td>Napa Valley</td>\n",
       "      <td>Merlot</td>\n",
       "      <td>Turnbull</td>\n",
       "      <td>Red Wines</td>\n",
       "    </tr>\n",
       "  </tbody>\n",
       "</table>\n",
       "</div>"
      ],
      "text/plain": [
       "   ProductKey  ProductId  Appellation            Varietal  Vineyard      Class\n",
       "0           2     127554  Napa Valley  Cabernet Sauvignon  Turnbull  Red Wines\n",
       "1           3     133070  Napa Valley  Cabernet Sauvignon  Turnbull  Red Wines\n",
       "2           4     114037  Napa Valley  Cabernet Sauvignon  Turnbull  Red Wines\n",
       "5           7     109508  Napa Valley    Other Red Blends  Turnbull  Red Wines\n",
       "6           8     110277  Napa Valley              Merlot  Turnbull  Red Wines"
      ]
     },
     "execution_count": 16,
     "metadata": {},
     "output_type": "execute_result"
    }
   ],
   "source": [
    "# exclusively red and white wine product keys\n",
    "wine_df.head()"
   ]
  },
  {
   "cell_type": "markdown",
   "metadata": {},
   "source": [
    "### Save wine_df to file"
   ]
  },
  {
   "cell_type": "code",
   "execution_count": 17,
   "metadata": {
    "collapsed": true
   },
   "outputs": [],
   "source": [
    "path = \"/Users/Alexander/Wine_Recommender/data/wine_products.pkl\""
   ]
  },
  {
   "cell_type": "code",
   "execution_count": 18,
   "metadata": {
    "collapsed": true
   },
   "outputs": [],
   "source": [
    "wine_df.to_pickle(path)"
   ]
  },
  {
   "cell_type": "code",
   "execution_count": 19,
   "metadata": {
    "collapsed": false
   },
   "outputs": [
    {
     "data": {
      "text/plain": [
       "array(['Red Wines', 'White Wines'], dtype=object)"
      ]
     },
     "execution_count": 19,
     "metadata": {},
     "output_type": "execute_result"
    }
   ],
   "source": [
    "np.unique(wine_df.Class.values)"
   ]
  },
  {
   "cell_type": "code",
   "execution_count": 20,
   "metadata": {
    "collapsed": false
   },
   "outputs": [
    {
     "data": {
      "text/plain": [
       "364456"
      ]
     },
     "execution_count": 20,
     "metadata": {},
     "output_type": "execute_result"
    }
   ],
   "source": [
    "wine_df.shape[0]"
   ]
  },
  {
   "cell_type": "markdown",
   "metadata": {},
   "source": [
    "### Filter out customers with less than 5 red or white wine purchases\n",
    "    In order to detect latent features (wine preferences of users) there needs to be enough \n",
    "    purchase data present in order for patterns to emerge. "
   ]
  },
  {
   "cell_type": "code",
   "execution_count": 21,
   "metadata": {
    "collapsed": true
   },
   "outputs": [],
   "source": [
    "def filter_out_users_with_less_than_5_purchases(purchase_df, wine_df):\n",
    "    '''Remove users with less than 5 red or white purchases of distinct wines \n",
    "       Input: purchase_df, dataframe\n",
    "       Output: userTags_5_or_more_distinct_wine_purchases, list'''\n",
    "    \n",
    "    # append wine class column for filtering (i.e. red wines, white wines)\n",
    "    class_purchase_df = purchase_df.merge(wine_df[[\"ProductKey\",\"Class\"]], how=\"left\", on=\"ProductKey\")\n",
    "    \n",
    "    # isolate red and white wine purchases \n",
    "    red_purchases_df = class_purchase_df[class_purchase_df.Class == \"Red Wines\"]\n",
    "    white_purchases_df = class_purchase_df[class_purchase_df.Class == \"White Wines\"]\n",
    "    \n",
    "    # combine wine types into single purchase df\n",
    "    wine_purchase_df = red_purchases_df.append(white_purchases_df)\n",
    "    \n",
    "    # get tags of unqiue users\n",
    "    unique_user_tags = wine_purchase_df.CustomerHash.unique()\n",
    "    \n",
    "    # group customer tags and wine_ids by count of wine_ids\n",
    "    distinct_wine_purchases = wine_purchase_df.groupby([\"CustomerHash\"])[\"ProductKey\"].count()\n",
    "    \n",
    "    # filter out users with less than 5 purchases of distinct wines\n",
    "    # check: if user has sum >= 5, then keep user, else drop user\n",
    "    userTags_5_or_more_distinct_wine_purchases = \\\n",
    "    [user_tag for user_tag in unique_user_tags if distinct_wine_purchases[user_tag] >= 5]\n",
    "    \n",
    "    # Sanity check -- number of users should dramatically decrease\n",
    "    n_total_unique_tags = len(unique_user_tags)\n",
    "    n_new_tags = len(userTags_5_or_more_distinct_wine_purchases)\n",
    "    \n",
    "    print \"Pre-filter\"\n",
    "    print \"Total users {}\\n\".format(n_total_unique_tags)\n",
    "    print \"Post-filter\"\n",
    "    print \"Total users {}\\n\".format(n_new_tags)\n",
    "    print \"Retained {:.3} percent of users\".format(float(n_new_tags)/ float(n_total_unique_tags) * 100)\n",
    "    \n",
    "    return userTags_5_or_more_distinct_wine_purchases, wine_purchase_df"
   ]
  },
  {
   "cell_type": "code",
   "execution_count": 22,
   "metadata": {
    "collapsed": false
   },
   "outputs": [
    {
     "name": "stdout",
     "output_type": "stream",
     "text": [
      "Pre-filter\n",
      "Total users 719800\n",
      "\n",
      "Post-filter\n",
      "Total users 225056\n",
      "\n",
      "Retained 31.3 percent of users\n",
      "Time Elapsed = 17.6809420586\n"
     ]
    }
   ],
   "source": [
    "start = time()\n",
    "userTags_5_or_more_distinct_wine_purchases, wine_purchase_df = \\\n",
    "filter_out_users_with_less_than_5_purchases(purchase_df, wine_df)\n",
    "end = time()\n",
    "print \"Time Elapsed = {:3}\".format(end - start)"
   ]
  },
  {
   "cell_type": "markdown",
   "metadata": {},
   "source": [
    "### Filter out Customers with no subsequent purchases\n",
    "    The goal of the recommender is to model the purchasing behavior of recurring users. \n",
    "    Users who visit the site once and never return provide no predictive signal, only noise. "
   ]
  },
  {
   "cell_type": "code",
   "execution_count": 23,
   "metadata": {
    "collapsed": true
   },
   "outputs": [],
   "source": [
    "def filter_customers_with_no_subsequent_purchases(wine_purchase_df, purchase_df, userTags_5_or_more_distinct_wine_purchases):\n",
    "    '''Removes customers that don't have at least 1 subsequent purchase '''\n",
    "    distinct_purchase_hash = wine_purchase_df.groupby([\"CustomerHash\"])[\"Date\"].unique()\n",
    "    \n",
    "    # check: if user has sum > 1, then keep user, else drop user\n",
    "    userTags_has_subsequent_purchases = \\\n",
    "    [user_tag for user_tag in userTags_5_or_more_distinct_wine_purchases if len(distinct_purchase_hash[user_tag]) > 1]\n",
    "    \n",
    "    new_purchase_df = wine_purchase_df[wine_purchase_df.CustomerHash.isin(userTags_has_subsequent_purchases)]\n",
    "    \n",
    "    # Sanity check - Before filtering out users \n",
    "    n_total_purchases = purchase_df.shape[0]\n",
    "    n_total_unique_users = len(purchase_df.CustomerHash.unique())\n",
    "    \n",
    "    print \"Pre-filter\"\n",
    "    print \"number of purchases {}\".format(n_total_purchases)\n",
    "    print \"Unique user {}\\n\".format(n_total_unique_users)\n",
    "    \n",
    "    # Sanity check - After filtering out users \n",
    "    n_new_purchases = new_purchase_df.shape[0]\n",
    "    n_new_unique_users = len(new_purchase_df.CustomerHash.unique())\n",
    "    \n",
    "    print \"Post-filter\"\n",
    "    print \"number of purchases {}\".format(n_new_purchases)\n",
    "    print \"Unique user {}\\n\".format(n_new_unique_users)\n",
    "    \n",
    "    print \"Retained {:.3} percent of total purchases \".format(float(n_new_unique_users)/  n_total_unique_users * 100)\n",
    "    print \"Retained {:.3} percent of unique users \"..format(float(n_new_purchases)/ n_total_purchases * 100)\n",
    "    \n",
    "    return new_purchase_df"
   ]
  },
  {
   "cell_type": "code",
   "execution_count": 24,
   "metadata": {
    "collapsed": false
   },
   "outputs": [
    {
     "name": "stdout",
     "output_type": "stream",
     "text": [
      "Pre-filter\n",
      "number of purchases 6628100\n",
      "Unique user 851663\n",
      "\n",
      "Post-filter\n",
      "number of purchases 4561063\n",
      "Unique user 166563\n",
      "\n",
      "Retained 68.8 percent of unique users \n",
      "Retained 19.6 percent of total purchases \n",
      "Time Elapsed = 55.5\n"
     ]
    }
   ],
   "source": [
    "# the retention numbers at bottom of the cell are actually reveresed\n",
    "start = time()\n",
    "new_purchase_df = \\\n",
    "filter_customers_with_no_subsequent_purchases(wine_purchase_df,purchase_df, userTags_5_or_more_distinct_wine_purchases)\n",
    "end = time()\n",
    "print \"Time Elapsed = {:.3}\".format(end - start)"
   ]
  },
  {
   "cell_type": "markdown",
   "metadata": {},
   "source": [
    "### Remove purchases (rows) with more than K purchases \n",
    "    K can be adjusted, say, bewteen 10 and 20. \n",
    "    Let's start with 10. \n",
    "    \n",
    "    We want to remove the bulk purchases made by wedding and party planers. \n",
    "    These bulk purchases of a single type of wine don't reflect any deep wine preferences. "
   ]
  },
  {
   "cell_type": "code",
   "execution_count": 25,
   "metadata": {
    "collapsed": true
   },
   "outputs": [],
   "source": [
    "def remove_bulk_purchases(df, k = 10):\n",
    "    bulk_mask = df.Units < k\n",
    "    return new_purchase_df[bulk_mask]"
   ]
  },
  {
   "cell_type": "code",
   "execution_count": 26,
   "metadata": {
    "collapsed": false
   },
   "outputs": [],
   "source": [
    "non_bulk_purchase_df = remove_bulk_purchases(new_purchase_df, k = 10)"
   ]
  },
  {
   "cell_type": "code",
   "execution_count": 27,
   "metadata": {
    "collapsed": false
   },
   "outputs": [
    {
     "data": {
      "text/html": [
       "<div>\n",
       "<table border=\"1\" class=\"dataframe\">\n",
       "  <thead>\n",
       "    <tr style=\"text-align: right;\">\n",
       "      <th></th>\n",
       "      <th>CustomerHash</th>\n",
       "      <th>PurchaseHash</th>\n",
       "      <th>ProductKey</th>\n",
       "      <th>Date</th>\n",
       "      <th>Units</th>\n",
       "      <th>Class</th>\n",
       "    </tr>\n",
       "  </thead>\n",
       "  <tbody>\n",
       "    <tr>\n",
       "      <th>0</th>\n",
       "      <td>F1923160355C00D4D1E7801F74132540</td>\n",
       "      <td>C60D8C98A7328EF5A1F5090D6A29DB7F</td>\n",
       "      <td>222650</td>\n",
       "      <td>2015-06-18</td>\n",
       "      <td>1</td>\n",
       "      <td>Red Wines</td>\n",
       "    </tr>\n",
       "    <tr>\n",
       "      <th>1</th>\n",
       "      <td>D3BE5BC2AA8796FCD402023CD6E5A6AC</td>\n",
       "      <td>C9F6085954D5D36615EE0BA44BEB0A2A</td>\n",
       "      <td>95350</td>\n",
       "      <td>2009-08-04</td>\n",
       "      <td>1</td>\n",
       "      <td>Red Wines</td>\n",
       "    </tr>\n",
       "    <tr>\n",
       "      <th>3</th>\n",
       "      <td>F3548BD72E0F97ECBDA95918DE2743AD</td>\n",
       "      <td>96FEEC28AB4F35342DE08987D39406FC</td>\n",
       "      <td>333116</td>\n",
       "      <td>2012-03-16</td>\n",
       "      <td>2</td>\n",
       "      <td>Red Wines</td>\n",
       "    </tr>\n",
       "    <tr>\n",
       "      <th>8</th>\n",
       "      <td>07063348FD923179F3DB718A267AC320</td>\n",
       "      <td>CE4BA5D2980284F59BEA70AB85A7133F</td>\n",
       "      <td>228727</td>\n",
       "      <td>2005-09-17</td>\n",
       "      <td>1</td>\n",
       "      <td>Red Wines</td>\n",
       "    </tr>\n",
       "    <tr>\n",
       "      <th>10</th>\n",
       "      <td>431F52162412D5A3D4C83D9EA037F6DA</td>\n",
       "      <td>4A4178935AD6733DEE452ED72E8975DD</td>\n",
       "      <td>212931</td>\n",
       "      <td>2012-10-30</td>\n",
       "      <td>4</td>\n",
       "      <td>Red Wines</td>\n",
       "    </tr>\n",
       "  </tbody>\n",
       "</table>\n",
       "</div>"
      ],
      "text/plain": [
       "                        CustomerHash                      PurchaseHash  \\\n",
       "0   F1923160355C00D4D1E7801F74132540  C60D8C98A7328EF5A1F5090D6A29DB7F   \n",
       "1   D3BE5BC2AA8796FCD402023CD6E5A6AC  C9F6085954D5D36615EE0BA44BEB0A2A   \n",
       "3   F3548BD72E0F97ECBDA95918DE2743AD  96FEEC28AB4F35342DE08987D39406FC   \n",
       "8   07063348FD923179F3DB718A267AC320  CE4BA5D2980284F59BEA70AB85A7133F   \n",
       "10  431F52162412D5A3D4C83D9EA037F6DA  4A4178935AD6733DEE452ED72E8975DD   \n",
       "\n",
       "    ProductKey        Date  Units      Class  \n",
       "0       222650  2015-06-18      1  Red Wines  \n",
       "1        95350  2009-08-04      1  Red Wines  \n",
       "3       333116  2012-03-16      2  Red Wines  \n",
       "8       228727  2005-09-17      1  Red Wines  \n",
       "10      212931  2012-10-30      4  Red Wines  "
      ]
     },
     "execution_count": 27,
     "metadata": {},
     "output_type": "execute_result"
    }
   ],
   "source": [
    "non_bulk_purchase_df.head()"
   ]
  },
  {
   "cell_type": "code",
   "execution_count": 28,
   "metadata": {
    "collapsed": false
   },
   "outputs": [
    {
     "data": {
      "text/plain": [
       "count    4347486.000000\n",
       "mean           1.828909\n",
       "std            1.439642\n",
       "min            1.000000\n",
       "25%            1.000000\n",
       "50%            1.000000\n",
       "75%            2.000000\n",
       "max            9.000000\n",
       "Name: Units, dtype: float64"
      ]
     },
     "execution_count": 28,
     "metadata": {},
     "output_type": "execute_result"
    }
   ],
   "source": [
    "non_bulk_purchase_df.Units.describe()"
   ]
  },
  {
   "cell_type": "code",
   "execution_count": 29,
   "metadata": {
    "collapsed": false
   },
   "outputs": [
    {
     "data": {
      "text/plain": [
       "array(['Red Wines', 'White Wines'], dtype=object)"
      ]
     },
     "execution_count": 29,
     "metadata": {},
     "output_type": "execute_result"
    }
   ],
   "source": [
    "# These users all have 5 or more distinct wine purchases \n",
    "# As well as at least 1 subsequent purchase\n",
    "np.unique(non_bulk_purchase_df.Class.values)"
   ]
  },
  {
   "cell_type": "markdown",
   "metadata": {},
   "source": [
    "### Convert purchases into pseudo-rating data\n",
    "    Transform user's number of purchases into a relative rating for each wine\n",
    "    \n",
    "For each distinct bottle of wine, \n",
    "$$ Rating_{u,w} = \\frac{N_{bottles,~ w} - \\mu_{(bottle~|~type)~w}}{\\sum{N_{(bottles~|~type))~w}}} $$\n",
    "\n",
    "$N_{bottles}$, number of purchases for wine, w\n",
    "\n",
    "$\\mu_{(bottle~|~type)~w}$, frequency of purchases for this type of wine (i.e. red, white)\n",
    "\n",
    "$\\sum{N_{(bottles~|~type))~w}}$, total number of purchase for this type of wine, for this user\n",
    "\n",
    "$Rating_{u,w} $, rating of wine $w$ by user $u$\n"
   ]
  },
  {
   "cell_type": "code",
   "execution_count": 30,
   "metadata": {
    "collapsed": false
   },
   "outputs": [],
   "source": [
    "def get_user_stats(new_purchase_df):\n",
    "    '''Get statistics about the user's purchases by wine type (i.e. red wines, white wines)\n",
    "       Input: total_class_purchases_by_users, series\n",
    "       Output: users_data, array'''\n",
    "    \n",
    "    # get user hash tags\n",
    "    n_unique_users = len(new_purchase_df.CustomerHash.values) - 1\n",
    "    # get total number of purchase for each wine type by each user\n",
    "    total_class_purchases_by_users = new_purchase_df.groupby([\"CustomerHash\", \"Class\"])[\"Class\"].count()\n",
    "    unique_user_tags = np.unique([ item[0][0] for  item in total_class_purchases_by_users.iteritems()])\n",
    "    \n",
    "    users_data = []\n",
    "    \n",
    "    print \"n_unique_users\", n_unique_users\n",
    "    for i, user_tag in enumerate(unique_user_tags):\n",
    "        user_purchases = total_class_purchases_by_users[user_tag]\n",
    "        \n",
    "        indices = user_purchases.index\n",
    "        \n",
    "        if 'Red Wines' in indices and \"White Wines\" in indices:\n",
    "            total_red_purchases = user_purchases[0]\n",
    "            total_white_purchases = user_purchases[1]\n",
    "\n",
    "        elif 'Red Wines' in indices and \"White Wines\" not in indices:\n",
    "            total_red_purchases = user_purchases[0]\n",
    "            total_white_purchases = 0\n",
    "\n",
    "        else:\n",
    "            total_red_purchases = 0\n",
    "            total_white_purchases = user_purchases[0]\n",
    "        \n",
    "        total_purchases = total_red_purchases + total_white_purchases\n",
    "        freq_red_purchases = total_red_purchases/total_purchases\n",
    "        freq_white_purchases = total_white_purchases/total_purchases\n",
    "        \n",
    "        users_data.append([user_tag, \n",
    "                   freq_red_purchases, \n",
    "                   freq_white_purchases, \n",
    "                   total_red_purchases, \n",
    "                   total_white_purchases])\n",
    "        \n",
    "        if i % 10000 == 0:\n",
    "            print i\n",
    "    user_stats_df = pd.DataFrame(users_data)\n",
    "    col_names = [\"CustomerHash\", \"freq_red\", \"freq_white\", \"total_red\", \"total_white\"]\n",
    "    user_stats_df.columns = col_names\n",
    "    return user_stats_df"
   ]
  },
  {
   "cell_type": "code",
   "execution_count": 31,
   "metadata": {
    "collapsed": false,
    "scrolled": true
   },
   "outputs": [
    {
     "name": "stdout",
     "output_type": "stream",
     "text": [
      "n_unique_users 4347485\n",
      "0\n",
      "10000\n",
      "20000\n",
      "30000\n",
      "40000\n",
      "50000\n",
      "60000\n",
      "70000\n",
      "80000\n",
      "90000\n",
      "100000\n",
      "110000\n",
      "120000\n",
      "130000\n",
      "140000\n",
      "150000\n",
      "160000\n",
      "Time Elapsed = 2.7 minutes\n"
     ]
    }
   ],
   "source": [
    "start = time()\n",
    "user_stats_df = get_user_stats(non_bulk_purchase_df)\n",
    "end = time()\n",
    "print \"Time Elapsed = {:.3} minutes\".format((end - start)/60)"
   ]
  },
  {
   "cell_type": "code",
   "execution_count": 32,
   "metadata": {
    "collapsed": false
   },
   "outputs": [
    {
     "name": "stdout",
     "output_type": "stream",
     "text": [
      "165679\n",
      "165679\n"
     ]
    }
   ],
   "source": [
    "# Sanity check - non_bulk_purchase_df and user_stats_df must have the same number of unique customer hashs\n",
    "print user_stats_df.shape[0]\n",
    "print len(np.unique(non_bulk_purchase_df.CustomerHash.values))"
   ]
  },
  {
   "cell_type": "markdown",
   "metadata": {},
   "source": [
    "### Save data to file"
   ]
  },
  {
   "cell_type": "code",
   "execution_count": 33,
   "metadata": {
    "collapsed": true
   },
   "outputs": [],
   "source": [
    "home = \"/Users/Alexander/Wine_Recommender/data/\"\n",
    "new_purchase_df_path = home + \"non_bulk_purchase_df.pkl\"\n",
    "user_stats_df_path = home + \"user_stats_df.pkl\""
   ]
  },
  {
   "cell_type": "code",
   "execution_count": 34,
   "metadata": {
    "collapsed": false
   },
   "outputs": [],
   "source": [
    "new_purchase_df.to_pickle(new_purchase_df_path)"
   ]
  },
  {
   "cell_type": "code",
   "execution_count": 35,
   "metadata": {
    "collapsed": true
   },
   "outputs": [],
   "source": [
    "#ser_stats_df.to_pickle(user_stats_df_path)"
   ]
  },
  {
   "cell_type": "markdown",
   "metadata": {},
   "source": [
    "\n",
    "### Load from file"
   ]
  },
  {
   "cell_type": "code",
   "execution_count": 36,
   "metadata": {
    "collapsed": false
   },
   "outputs": [],
   "source": [
    "#new_purchase_df = pd.read_pickle(new_purchase_df_path)"
   ]
  },
  {
   "cell_type": "code",
   "execution_count": 37,
   "metadata": {
    "collapsed": true
   },
   "outputs": [],
   "source": [
    "#user_stats_df = pd.read_pickle(user_stats_df_path)"
   ]
  },
  {
   "cell_type": "markdown",
   "metadata": {},
   "source": [
    "### Transform purchases to floating point ratings"
   ]
  },
  {
   "cell_type": "code",
   "execution_count": 38,
   "metadata": {
    "collapsed": false
   },
   "outputs": [],
   "source": [
    "def list_to_dict(user_stats_df):\n",
    "    user_data_dict = dict()\n",
    "    user_stats_list = user_stats_df.values.tolist()\n",
    "    for user_data in user_stats_list:\n",
    "        user_data_dict[user_data[0]] = user_data[1:]\n",
    "    return user_data_dict"
   ]
  },
  {
   "cell_type": "code",
   "execution_count": 39,
   "metadata": {
    "collapsed": false
   },
   "outputs": [],
   "source": [
    "def map_purchases_to_ratings(non_bulk_purchase_df, user_data_dict):\n",
    "    results = []\n",
    "    \n",
    "    sorted_data = non_bulk_purchase_df.groupby([\"CustomerHash\", \"ProductKey\", 'Class'])[\"Units\"].sum()\n",
    "    \n",
    "    for item in sorted_data.iteritems():\n",
    "        user_tag = item[0][0]\n",
    "        wine_id = item[0][1]\n",
    "        wine_type = item[0][2]\n",
    "        N_bottles = item[1]\n",
    "\n",
    "        user_i_stats = user_data_dict[user_tag]\n",
    "        red_freq = user_i_stats[0]\n",
    "        white_freq = user_i_stats[1]\n",
    "        N_total_red = user_i_stats[2]\n",
    "        N_total_white = user_i_stats[3]\n",
    "\n",
    "        if wine_type == \"White Wines\":\n",
    "            rating_i = (N_bottles - white_freq) / N_total_white\n",
    "        elif wine_type == \"Red Wines\":\n",
    "            rating_i = (N_bottles - red_freq) / N_total_red\n",
    "        else:\n",
    "            print \"ERROR: NIETHER RED OR WHITE WINE\"\n",
    "            print item\n",
    "            break\n",
    "\n",
    "        results.append([user_tag, wine_id, rating_i])\n",
    "    return results"
   ]
  },
  {
   "cell_type": "code",
   "execution_count": 40,
   "metadata": {
    "collapsed": false
   },
   "outputs": [],
   "source": [
    "user_data_dict = list_to_dict(user_stats_df)"
   ]
  },
  {
   "cell_type": "code",
   "execution_count": 41,
   "metadata": {
    "collapsed": false
   },
   "outputs": [
    {
     "name": "stdout",
     "output_type": "stream",
     "text": [
      "Time Elapsed = 22.4\n"
     ]
    }
   ],
   "source": [
    "start = time()\n",
    "results = map_purchases_to_ratings(non_bulk_purchase_df, user_data_dict)\n",
    "end = time()\n",
    "print \"Time Elapsed = {:.3}\".format(end - start)"
   ]
  },
  {
   "cell_type": "code",
   "execution_count": 42,
   "metadata": {
    "collapsed": false
   },
   "outputs": [
    {
     "data": {
      "text/plain": [
       "165679"
      ]
     },
     "execution_count": 42,
     "metadata": {},
     "output_type": "execute_result"
    }
   ],
   "source": [
    "# Sanity check unique ids\n",
    "len(np.unique([result[0] for result in results]))"
   ]
  },
  {
   "cell_type": "markdown",
   "metadata": {
    "collapsed": true
   },
   "source": [
    "### Save Ratings to file\n",
    "    This file contains the ratings that will be directly passed into the Spark recommender."
   ]
  },
  {
   "cell_type": "code",
   "execution_count": 43,
   "metadata": {
    "collapsed": true
   },
   "outputs": [],
   "source": [
    "home = \"/Users/Alexander/Wine_Recommender/data/\"\n",
    "pseudo_ratings_path = home + \"pseudo_ratings.pkl\""
   ]
  },
  {
   "cell_type": "code",
   "execution_count": 44,
   "metadata": {
    "collapsed": true
   },
   "outputs": [],
   "source": [
    "#cPickle.dump(results, open(pseudo_ratings_path, 'w'))"
   ]
  },
  {
   "cell_type": "markdown",
   "metadata": {},
   "source": [
    "#### Load Ratings data"
   ]
  },
  {
   "cell_type": "code",
   "execution_count": 45,
   "metadata": {
    "collapsed": false
   },
   "outputs": [],
   "source": [
    "#results = cPickle.load(open(pseudo_ratings_path, 'r'))"
   ]
  },
  {
   "cell_type": "markdown",
   "metadata": {},
   "source": [
    "### View Distribution of Floating Point Ratings"
   ]
  },
  {
   "cell_type": "code",
   "execution_count": 46,
   "metadata": {
    "collapsed": true
   },
   "outputs": [],
   "source": [
    "results_df = pd.DataFrame(results)"
   ]
  },
  {
   "cell_type": "code",
   "execution_count": 47,
   "metadata": {
    "collapsed": false
   },
   "outputs": [
    {
     "data": {
      "text/plain": [
       "count    3737914.000000\n",
       "mean           0.098768\n",
       "std            0.308420\n",
       "min            0.000000\n",
       "25%            0.002778\n",
       "50%            0.017850\n",
       "75%            0.074074\n",
       "max            8.993939\n",
       "Name: 2, dtype: float64"
      ]
     },
     "execution_count": 47,
     "metadata": {},
     "output_type": "execute_result"
    }
   ],
   "source": [
    "results_df[2].describe()"
   ]
  },
  {
   "cell_type": "code",
   "execution_count": 48,
   "metadata": {
    "collapsed": false,
    "scrolled": false
   },
   "outputs": [
    {
     "data": {
      "image/png": "[encoded data removed]",
      "text/plain": [
       "<matplotlib.figure.Figure at 0x1107f7ad0>"
      ]
     },
     "metadata": {},
     "output_type": "display_data"
    }
   ],
   "source": [
    "plt.figure(figsize = (12,8));\n",
    "plt.hist(results_df[2].values[results_df[2].values < 1], bins = 150);\n",
    "plt.xlim([0,1]);\n",
    "plt.title(\"Number of Wines vs. User Ratings\");\n",
    "plt.xlabel(\"User Ratings\");\n",
    "plt.ylabel(\"Number of Wines\");\n",
    "plt.savefig(\"/Users/Alexander/Wine_Recommender/data/continuous_ratings_dist.png\")"
   ]
  },
  {
   "cell_type": "code",
   "execution_count": 49,
   "metadata": {
    "collapsed": false
   },
   "outputs": [],
   "source": [
    "def get_ranges_for_bins(bin_ranges):\n",
    "    '''Creates dictionary where keys are discrete rating labels \n",
    "       and values are floating point ranges for each labels bin. \n",
    "       \n",
    "       Input: bin_ranges, array of ints\n",
    "       Output: ranges_dict, defaultdict of lists\n",
    "       '''\n",
    "    ranges = []\n",
    "    ranges_dict = defaultdict(list)\n",
    "    for i, bin_end in enumerate(bin_ranges):\n",
    "        if i % 2 == 0:\n",
    "            temp = bin_end\n",
    "        else:\n",
    "            temp_2 = bin_end\n",
    "\n",
    "        if i > 0 and i % 2 != 0:\n",
    "            ranges.append([temp, temp_2])\n",
    "\n",
    "        if i > 0 and i % 2 == 0:\n",
    "            ranges.append([temp_2, temp])\n",
    "            \n",
    "            \n",
    "    for i, range_ in enumerate(ranges):\n",
    "        ranges_dict[i].append(range_)\n",
    "        ranges_dict[i] = ranges_dict[i][0]\n",
    "    return ranges_dict"
   ]
  },
  {
   "cell_type": "code",
   "execution_count": 50,
   "metadata": {
    "collapsed": false
   },
   "outputs": [],
   "source": [
    "def transform_float_ratings_into_categories(ranges_dict, ratings):\n",
    "    discret_ratings = []\n",
    "    for rating in ratings:\n",
    "        for bin_num, bin_range in ranges_dict.iteritems():\n",
    "            if rating >= bin_range[0] and rating <= bin_range[1]:\n",
    "                discret_ratings.append(bin_num)\n",
    "                break\n",
    "    return np.array(discret_ratings)"
   ]
  },
  {
   "cell_type": "markdown",
   "metadata": {},
   "source": [
    "### Build Rating Bins \n",
    "\n",
    "Iterations through the sorted ratings, add ratings to a bin until a max count is reached, then move on to the next bin, for all B number of bins."
   ]
  },
  {
   "cell_type": "code",
   "execution_count": 51,
   "metadata": {
    "collapsed": true
   },
   "outputs": [],
   "source": [
    "# create B number of bins\n",
    "n_bins = 10\n",
    "total_ratings = results_df.shape[0]\n",
    "bin_count = total_ratings/n_bins"
   ]
  },
  {
   "cell_type": "code",
   "execution_count": 52,
   "metadata": {
    "collapsed": false
   },
   "outputs": [
    {
     "data": {
      "text/plain": [
       "373791.4"
      ]
     },
     "execution_count": 52,
     "metadata": {},
     "output_type": "execute_result"
    }
   ],
   "source": [
    "# number of ratings that will be assigned to each bin\n",
    "bin_count"
   ]
  },
  {
   "cell_type": "code",
   "execution_count": 53,
   "metadata": {
    "collapsed": false
   },
   "outputs": [],
   "source": [
    "# sort ratings - lowest to largest\n",
    "sorted_ratings = sorted(results_df[2].values.tolist())"
   ]
  },
  {
   "cell_type": "code",
   "execution_count": 54,
   "metadata": {
    "collapsed": false
   },
   "outputs": [],
   "source": [
    "def sort_ratings_into_bins(sorted_ratings, bin_count):\n",
    "    '''Moves sorted ratings into bins in equal amounts'''\n",
    "    rating_bins_dict = defaultdict(list)\n",
    "    rating_cnt = 0\n",
    "    bin_cnt = 1\n",
    "    for rating in sorted_ratings:\n",
    "        if rating_cnt <= bin_count:\n",
    "            rating_bins_dict[bin_cnt].append(rating)\n",
    "        else:\n",
    "            bin_cnt += 1\n",
    "            rating_cnt = 0\n",
    "        rating_cnt += 1\n",
    "    return rating_bins_dict"
   ]
  },
  {
   "cell_type": "code",
   "execution_count": 55,
   "metadata": {
    "collapsed": true
   },
   "outputs": [],
   "source": [
    "rating_bins_dict = sort_ratings_into_bins(sorted_ratings, bin_count)"
   ]
  },
  {
   "cell_type": "code",
   "execution_count": 57,
   "metadata": {
    "collapsed": false
   },
   "outputs": [],
   "source": [
    "# write function that identifies the ranges for each bin\n",
    "def get_bin_ranges(rating_bins_dict):\n",
    "    bin_ranges = defaultdict(list)\n",
    "    for k, v in rating_bins_dict.iteritems():\n",
    "        bin_ranges[k].append([np.min(v), np.max(v)])\n",
    "        bin_ranges[k] = bin_ranges[k][0]\n",
    "    return bin_ranges"
   ]
  },
  {
   "cell_type": "code",
   "execution_count": 58,
   "metadata": {
    "collapsed": true
   },
   "outputs": [],
   "source": [
    "bin_ranges = get_bin_ranges(rating_bins_dict)"
   ]
  },
  {
   "cell_type": "code",
   "execution_count": 59,
   "metadata": {
    "collapsed": false
   },
   "outputs": [
    {
     "data": {
      "text/plain": [
       "defaultdict(list,\n",
       "            {1: [0.0, 6.4935064935065111e-05],\n",
       "             2: [6.4935064935065111e-05, 0.0014925109509679243],\n",
       "             3: [0.0014925109509679243, 0.0045026881720430104],\n",
       "             4: [0.0045026881720430104, 0.009486828751709836],\n",
       "             5: [0.009486828751709836, 0.017850408548082966],\n",
       "             6: [0.017850408548082966, 0.031490015360983108],\n",
       "             7: [0.031490015360983108, 0.054545454545454543],\n",
       "             8: [0.054545454545454543, 0.10039215686274509],\n",
       "             9: [0.10039215686274509, 0.22222222222222224],\n",
       "             10: [0.22222222222222224, 8.9939393939393941]})"
      ]
     },
     "execution_count": 59,
     "metadata": {},
     "output_type": "execute_result"
    }
   ],
   "source": [
    "bin_ranges"
   ]
  },
  {
   "cell_type": "code",
   "execution_count": 60,
   "metadata": {
    "collapsed": true
   },
   "outputs": [],
   "source": [
    "discret_ratings =  transform_float_ratings_into_categories(bin_ranges, results_df[2].values.tolist())"
   ]
  },
  {
   "cell_type": "code",
   "execution_count": 61,
   "metadata": {
    "collapsed": false
   },
   "outputs": [],
   "source": [
    "# Sanity check: get total number of ratings\n",
    "sum_ = 0\n",
    "for k, v in Counter(discret_ratings).iteritems():\n",
    "    sum_ += v"
   ]
  },
  {
   "cell_type": "code",
   "execution_count": 62,
   "metadata": {
    "collapsed": false
   },
   "outputs": [
    {
     "data": {
      "text/plain": [
       "3737914"
      ]
     },
     "execution_count": 62,
     "metadata": {},
     "output_type": "execute_result"
    }
   ],
   "source": [
    "sum_"
   ]
  },
  {
   "cell_type": "code",
   "execution_count": 63,
   "metadata": {
    "collapsed": false
   },
   "outputs": [
    {
     "data": {
      "text/plain": [
       "Counter({1: 373867,\n",
       "         2: 373826,\n",
       "         3: 373718,\n",
       "         4: 373760,\n",
       "         5: 373803,\n",
       "         6: 373846,\n",
       "         7: 374439,\n",
       "         8: 373093,\n",
       "         9: 374955,\n",
       "         10: 372607})"
      ]
     },
     "execution_count": 63,
     "metadata": {},
     "output_type": "execute_result"
    }
   ],
   "source": [
    "# Distribution of ratings into bins should be approximately equal \n",
    "Counter(discret_ratings)"
   ]
  },
  {
   "cell_type": "code",
   "execution_count": 67,
   "metadata": {
    "collapsed": false
   },
   "outputs": [
    {
     "data": {
      "image/png": "[encoded data removed]",
      "text/plain": [
       "<matplotlib.figure.Figure at 0x118b3b390>"
      ]
     },
     "metadata": {},
     "output_type": "display_data"
    }
   ],
   "source": [
    "plt.figure(figsize = (10,6));\n",
    "plt.title('Number of Ratings vs. Rating Value');\n",
    "plt.hist(discret_ratings, bins =10);"
   ]
  },
  {
   "cell_type": "markdown",
   "metadata": {},
   "source": [
    "### Move Categorical Ratings to results_df"
   ]
  },
  {
   "cell_type": "code",
   "execution_count": 68,
   "metadata": {
    "collapsed": false
   },
   "outputs": [],
   "source": [
    "results_df[\"Ratings\"] = discret_ratings"
   ]
  },
  {
   "cell_type": "code",
   "execution_count": 69,
   "metadata": {
    "collapsed": false
   },
   "outputs": [],
   "source": [
    "results_df.columns = [\"CustomerHash\", \"Wine_id\", \"Wine_Rating\", \"Ratings\"]"
   ]
  },
  {
   "cell_type": "code",
   "execution_count": 70,
   "metadata": {
    "collapsed": false
   },
   "outputs": [],
   "source": [
    "results_df = results_df[[\"CustomerHash\", \"Wine_id\", \"Ratings\"]]"
   ]
  },
  {
   "cell_type": "code",
   "execution_count": 71,
   "metadata": {
    "collapsed": false
   },
   "outputs": [
    {
     "data": {
      "text/html": [
       "<div>\n",
       "<table border=\"1\" class=\"dataframe\">\n",
       "  <thead>\n",
       "    <tr style=\"text-align: right;\">\n",
       "      <th></th>\n",
       "      <th>CustomerHash</th>\n",
       "      <th>Wine_id</th>\n",
       "      <th>Ratings</th>\n",
       "    </tr>\n",
       "  </thead>\n",
       "  <tbody>\n",
       "    <tr>\n",
       "      <th>0</th>\n",
       "      <td>00000F7264C27BA6FEA0C837ED6AA0AA</td>\n",
       "      <td>202463</td>\n",
       "      <td>9</td>\n",
       "    </tr>\n",
       "    <tr>\n",
       "      <th>1</th>\n",
       "      <td>00000F7264C27BA6FEA0C837ED6AA0AA</td>\n",
       "      <td>202922</td>\n",
       "      <td>6</td>\n",
       "    </tr>\n",
       "    <tr>\n",
       "      <th>2</th>\n",
       "      <td>00000F7264C27BA6FEA0C837ED6AA0AA</td>\n",
       "      <td>214365</td>\n",
       "      <td>6</td>\n",
       "    </tr>\n",
       "    <tr>\n",
       "      <th>3</th>\n",
       "      <td>00000F7264C27BA6FEA0C837ED6AA0AA</td>\n",
       "      <td>214573</td>\n",
       "      <td>6</td>\n",
       "    </tr>\n",
       "    <tr>\n",
       "      <th>4</th>\n",
       "      <td>00000F7264C27BA6FEA0C837ED6AA0AA</td>\n",
       "      <td>219550</td>\n",
       "      <td>6</td>\n",
       "    </tr>\n",
       "  </tbody>\n",
       "</table>\n",
       "</div>"
      ],
      "text/plain": [
       "                       CustomerHash  Wine_id  Ratings\n",
       "0  00000F7264C27BA6FEA0C837ED6AA0AA   202463        9\n",
       "1  00000F7264C27BA6FEA0C837ED6AA0AA   202922        6\n",
       "2  00000F7264C27BA6FEA0C837ED6AA0AA   214365        6\n",
       "3  00000F7264C27BA6FEA0C837ED6AA0AA   214573        6\n",
       "4  00000F7264C27BA6FEA0C837ED6AA0AA   219550        6"
      ]
     },
     "execution_count": 71,
     "metadata": {},
     "output_type": "execute_result"
    }
   ],
   "source": [
    "results_df.head()"
   ]
  },
  {
   "cell_type": "markdown",
   "metadata": {},
   "source": [
    "### Move Spark Ready Wine Ratings Data to File"
   ]
  },
  {
   "cell_type": "code",
   "execution_count": 72,
   "metadata": {
    "collapsed": true
   },
   "outputs": [],
   "source": [
    "ratings_data_list = results_df.values.tolist()"
   ]
  },
  {
   "cell_type": "code",
   "execution_count": 73,
   "metadata": {
    "collapsed": true
   },
   "outputs": [],
   "source": [
    "spark_ready_data_path = \"/Users/Alexander/Wine_Recommender/data/spark_ready_data.pkl\"\n",
    "cPickle.dump(ratings_data_list, open(spark_ready_data_path, 'w') )"
   ]
  }
 ],
 "metadata": {
  "kernelspec": {
   "display_name": "Python 2",
   "language": "python",
   "name": "python2"
  },
  "language_info": {
   "codemirror_mode": {
    "name": "ipython",
    "version": 2
   },
   "file_extension": ".py",
   "mimetype": "text/x-python",
   "name": "python",
   "nbconvert_exporter": "python",
   "pygments_lexer": "ipython2",
   "version": "2.7.11"
  }
 },
 "nbformat": 4,
 "nbformat_minor": 0
}
