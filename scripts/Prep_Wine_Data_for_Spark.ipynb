{
 "cells": [
  {
   "cell_type": "markdown",
   "metadata": {},
   "source": [
    "### This notebook preps the data for the Build_UserFeature_Matrix notebook. \n",
    "    1. Remove non red or white wine product keys from the product data\n",
    "    2. Filter out customers with less than 3 red or white wine purchases\n",
    "    3. Bucket wines into 1 - 5 categories based on number of purchases \n",
    "    4. Get top K rated wines from the top Q varietals\n",
    "    \n",
    "    \n",
    "In Build_UserFeature_Matrix botebook, wine product keys with no purchases will not be included in the user_feature matrix. Therefore, these same wines won't be recommended. Only wines with at least a single purchase will make their way to the recommender and have the potential to be recommended. \n",
    "        Remove red and white wine product keys with no purchases \n",
    "         -- Columns of zeros contribute nothing toward recommendations"
   ]
  },
  {
   "cell_type": "code",
   "execution_count": 1,
   "metadata": {
    "collapsed": false
   },
   "outputs": [],
   "source": [
    "import numpy as np\n",
    "import pandas as pd\n",
    "import cPickle\n",
    "import matplotlib.pyplot as plt\n",
    "from collections import Counter\n",
    "% matplotlib inline"
   ]
  },
  {
   "cell_type": "code",
   "execution_count": 2,
   "metadata": {
    "collapsed": true
   },
   "outputs": [],
   "source": [
    "# needs access to wifi\n",
    "import plotly.graph_objs as go\n",
    "import plotly.plotly as py"
   ]
  },
  {
   "cell_type": "markdown",
   "metadata": {},
   "source": [
    "#### Load Data"
   ]
  },
  {
   "cell_type": "code",
   "execution_count": 13,
   "metadata": {
    "collapsed": true
   },
   "outputs": [],
   "source": [
    "wine_path = \"/Users/Alexander/WINE/data/Products.txt\"\n",
    "purchases_path = \"/Users/Alexander/WINE/data/Purchases.txt\""
   ]
  },
  {
   "cell_type": "code",
   "execution_count": 4,
   "metadata": {
    "collapsed": false
   },
   "outputs": [
    {
     "name": "stderr",
     "output_type": "stream",
     "text": [
      "//anaconda/lib/python2.7/site-packages/IPython/core/interactiveshell.py:2723: DtypeWarning:\n",
      "\n",
      "Columns (8) have mixed types. Specify dtype option on import or set low_memory=False.\n",
      "\n"
     ]
    }
   ],
   "source": [
    "products_df = pd.read_csv(wine_path, sep = '\\t')"
   ]
  },
  {
   "cell_type": "code",
   "execution_count": 5,
   "metadata": {
    "collapsed": false
   },
   "outputs": [],
   "source": [
    "purchase_df = pd.read_csv(purchases_path, sep = '\\t')"
   ]
  },
  {
   "cell_type": "markdown",
   "metadata": {},
   "source": [
    "### Remove non red or white wine product keys from the product data"
   ]
  },
  {
   "cell_type": "code",
   "execution_count": 6,
   "metadata": {
    "collapsed": true
   },
   "outputs": [],
   "source": [
    "# isolate wines from other drinks (Product Types)\n",
    "white_wine_mask = products_df.Class == 'White Wines'\n",
    "red_wine_mask = products_df.Class == 'Red Wines'"
   ]
  },
  {
   "cell_type": "code",
   "execution_count": 7,
   "metadata": {
    "collapsed": true
   },
   "outputs": [],
   "source": [
    "white_wine_df = products_df[white_wine_mask]\n",
    "red_wine_df = products_df[red_wine_mask]"
   ]
  },
  {
   "cell_type": "code",
   "execution_count": 8,
   "metadata": {
    "collapsed": true
   },
   "outputs": [],
   "source": [
    "# build wine df\n",
    "wine_df = red_wine_df.append(white_wine_df)"
   ]
  },
  {
   "cell_type": "code",
   "execution_count": 9,
   "metadata": {
    "collapsed": false
   },
   "outputs": [],
   "source": [
    "wine_cols = [u'ProductKey', u'ProductId', u'Appellation', u'Varietal', u'Vineyard']"
   ]
  },
  {
   "cell_type": "code",
   "execution_count": 10,
   "metadata": {
    "collapsed": false
   },
   "outputs": [],
   "source": [
    "wine_df = wine_df[wine_cols]"
   ]
  },
  {
   "cell_type": "code",
   "execution_count": 11,
   "metadata": {
    "collapsed": false
   },
   "outputs": [
    {
     "data": {
      "text/html": [
       "<div>\n",
       "<table border=\"1\" class=\"dataframe\">\n",
       "  <thead>\n",
       "    <tr style=\"text-align: right;\">\n",
       "      <th></th>\n",
       "      <th>ProductKey</th>\n",
       "      <th>ProductId</th>\n",
       "      <th>Appellation</th>\n",
       "      <th>Varietal</th>\n",
       "      <th>Vineyard</th>\n",
       "    </tr>\n",
       "  </thead>\n",
       "  <tbody>\n",
       "    <tr>\n",
       "      <th>0</th>\n",
       "      <td>2</td>\n",
       "      <td>127554</td>\n",
       "      <td>Napa Valley</td>\n",
       "      <td>Cabernet Sauvignon</td>\n",
       "      <td>Turnbull</td>\n",
       "    </tr>\n",
       "    <tr>\n",
       "      <th>1</th>\n",
       "      <td>3</td>\n",
       "      <td>133070</td>\n",
       "      <td>Napa Valley</td>\n",
       "      <td>Cabernet Sauvignon</td>\n",
       "      <td>Turnbull</td>\n",
       "    </tr>\n",
       "    <tr>\n",
       "      <th>2</th>\n",
       "      <td>4</td>\n",
       "      <td>114037</td>\n",
       "      <td>Napa Valley</td>\n",
       "      <td>Cabernet Sauvignon</td>\n",
       "      <td>Turnbull</td>\n",
       "    </tr>\n",
       "    <tr>\n",
       "      <th>5</th>\n",
       "      <td>7</td>\n",
       "      <td>109508</td>\n",
       "      <td>Napa Valley</td>\n",
       "      <td>Other Red Blends</td>\n",
       "      <td>Turnbull</td>\n",
       "    </tr>\n",
       "    <tr>\n",
       "      <th>6</th>\n",
       "      <td>8</td>\n",
       "      <td>110277</td>\n",
       "      <td>Napa Valley</td>\n",
       "      <td>Merlot</td>\n",
       "      <td>Turnbull</td>\n",
       "    </tr>\n",
       "  </tbody>\n",
       "</table>\n",
       "</div>"
      ],
      "text/plain": [
       "   ProductKey  ProductId  Appellation            Varietal  Vineyard\n",
       "0           2     127554  Napa Valley  Cabernet Sauvignon  Turnbull\n",
       "1           3     133070  Napa Valley  Cabernet Sauvignon  Turnbull\n",
       "2           4     114037  Napa Valley  Cabernet Sauvignon  Turnbull\n",
       "5           7     109508  Napa Valley    Other Red Blends  Turnbull\n",
       "6           8     110277  Napa Valley              Merlot  Turnbull"
      ]
     },
     "execution_count": 11,
     "metadata": {},
     "output_type": "execute_result"
    }
   ],
   "source": [
    "# exclusively red and white wine product keys\n",
    "wine_df.head()"
   ]
  },
  {
   "cell_type": "markdown",
   "metadata": {},
   "source": [
    "### Filter out customers with less than 3 red or white wine purchases"
   ]
  },
  {
   "cell_type": "code",
   "execution_count": 12,
   "metadata": {
    "collapsed": false
   },
   "outputs": [
    {
     "data": {
      "text/html": [
       "<div>\n",
       "<table border=\"1\" class=\"dataframe\">\n",
       "  <thead>\n",
       "    <tr style=\"text-align: right;\">\n",
       "      <th></th>\n",
       "      <th>CustomerHash</th>\n",
       "      <th>PurchaseHash</th>\n",
       "      <th>ProductKey</th>\n",
       "      <th>Date</th>\n",
       "      <th>Units</th>\n",
       "    </tr>\n",
       "  </thead>\n",
       "  <tbody>\n",
       "    <tr>\n",
       "      <th>0</th>\n",
       "      <td>F1923160355C00D4D1E7801F74132540</td>\n",
       "      <td>C60D8C98A7328EF5A1F5090D6A29DB7F</td>\n",
       "      <td>222650</td>\n",
       "      <td>2015-06-18</td>\n",
       "      <td>1</td>\n",
       "    </tr>\n",
       "    <tr>\n",
       "      <th>1</th>\n",
       "      <td>D3BE5BC2AA8796FCD402023CD6E5A6AC</td>\n",
       "      <td>C9F6085954D5D36615EE0BA44BEB0A2A</td>\n",
       "      <td>95350</td>\n",
       "      <td>2009-08-04</td>\n",
       "      <td>1</td>\n",
       "    </tr>\n",
       "    <tr>\n",
       "      <th>2</th>\n",
       "      <td>00D7447BAB0443738F81C3660F478357</td>\n",
       "      <td>18B773B0D5568E406CBB946F628C1DC6</td>\n",
       "      <td>38706</td>\n",
       "      <td>2007-12-10</td>\n",
       "      <td>1</td>\n",
       "    </tr>\n",
       "    <tr>\n",
       "      <th>3</th>\n",
       "      <td>F3548BD72E0F97ECBDA95918DE2743AD</td>\n",
       "      <td>96FEEC28AB4F35342DE08987D39406FC</td>\n",
       "      <td>333116</td>\n",
       "      <td>2012-03-16</td>\n",
       "      <td>2</td>\n",
       "    </tr>\n",
       "    <tr>\n",
       "      <th>4</th>\n",
       "      <td>9A260E4A83A112AA06F06A11DBF98BBD</td>\n",
       "      <td>07879D41A42AD75F020E3DA70D698ACC</td>\n",
       "      <td>221136</td>\n",
       "      <td>2007-05-08</td>\n",
       "      <td>1</td>\n",
       "    </tr>\n",
       "  </tbody>\n",
       "</table>\n",
       "</div>"
      ],
      "text/plain": [
       "                       CustomerHash                      PurchaseHash  \\\n",
       "0  F1923160355C00D4D1E7801F74132540  C60D8C98A7328EF5A1F5090D6A29DB7F   \n",
       "1  D3BE5BC2AA8796FCD402023CD6E5A6AC  C9F6085954D5D36615EE0BA44BEB0A2A   \n",
       "2  00D7447BAB0443738F81C3660F478357  18B773B0D5568E406CBB946F628C1DC6   \n",
       "3  F3548BD72E0F97ECBDA95918DE2743AD  96FEEC28AB4F35342DE08987D39406FC   \n",
       "4  9A260E4A83A112AA06F06A11DBF98BBD  07879D41A42AD75F020E3DA70D698ACC   \n",
       "\n",
       "   ProductKey        Date  Units  \n",
       "0      222650  2015-06-18      1  \n",
       "1       95350  2009-08-04      1  \n",
       "2       38706  2007-12-10      1  \n",
       "3      333116  2012-03-16      2  \n",
       "4      221136  2007-05-08      1  "
      ]
     },
     "execution_count": 12,
     "metadata": {},
     "output_type": "execute_result"
    }
   ],
   "source": [
    "purchase_df.head()"
   ]
  },
  {
   "cell_type": "code",
   "execution_count": 13,
   "metadata": {
    "collapsed": true
   },
   "outputs": [],
   "source": [
    "red_white_product_keys = wine_df.ProductId.unique()"
   ]
  },
  {
   "cell_type": "code",
   "execution_count": 14,
   "metadata": {
    "collapsed": true
   },
   "outputs": [],
   "source": [
    "wine_purchase_df = purchase_df[purchase_df['ProductKey'].isin(red_white_product_keys)]"
   ]
  },
  {
   "cell_type": "code",
   "execution_count": 15,
   "metadata": {
    "collapsed": false
   },
   "outputs": [
    {
     "data": {
      "text/html": [
       "<div>\n",
       "<table border=\"1\" class=\"dataframe\">\n",
       "  <thead>\n",
       "    <tr style=\"text-align: right;\">\n",
       "      <th></th>\n",
       "      <th>CustomerHash</th>\n",
       "      <th>PurchaseHash</th>\n",
       "      <th>ProductKey</th>\n",
       "      <th>Date</th>\n",
       "      <th>Units</th>\n",
       "    </tr>\n",
       "  </thead>\n",
       "  <tbody>\n",
       "    <tr>\n",
       "      <th>1</th>\n",
       "      <td>D3BE5BC2AA8796FCD402023CD6E5A6AC</td>\n",
       "      <td>C9F6085954D5D36615EE0BA44BEB0A2A</td>\n",
       "      <td>95350</td>\n",
       "      <td>2009-08-04</td>\n",
       "      <td>1</td>\n",
       "    </tr>\n",
       "    <tr>\n",
       "      <th>5</th>\n",
       "      <td>64F6A2CEC420680A259172BF4CF17CE2</td>\n",
       "      <td>4298C2D3673C22E2319F6A6D6C6AEE43</td>\n",
       "      <td>95375</td>\n",
       "      <td>2011-04-22</td>\n",
       "      <td>1</td>\n",
       "    </tr>\n",
       "    <tr>\n",
       "      <th>16</th>\n",
       "      <td>6131DC57D6050C3EB674DD8722C83B2B</td>\n",
       "      <td>35DB015FB5F5873924A6B569DA88CCCC</td>\n",
       "      <td>79964</td>\n",
       "      <td>2015-03-25</td>\n",
       "      <td>1</td>\n",
       "    </tr>\n",
       "    <tr>\n",
       "      <th>17</th>\n",
       "      <td>525CD8F0BF94E814F16F4FA947B995B6</td>\n",
       "      <td>4A99CE4E5571FCA366E43D9E928DC19F</td>\n",
       "      <td>102020</td>\n",
       "      <td>2013-10-18</td>\n",
       "      <td>12</td>\n",
       "    </tr>\n",
       "    <tr>\n",
       "      <th>18</th>\n",
       "      <td>710DBFAAB43DF7B5E304ED0D26B7966A</td>\n",
       "      <td>6AC657FD2D473FD0816E3D2E916AB012</td>\n",
       "      <td>129946</td>\n",
       "      <td>2013-11-26</td>\n",
       "      <td>1</td>\n",
       "    </tr>\n",
       "  </tbody>\n",
       "</table>\n",
       "</div>"
      ],
      "text/plain": [
       "                        CustomerHash                      PurchaseHash  \\\n",
       "1   D3BE5BC2AA8796FCD402023CD6E5A6AC  C9F6085954D5D36615EE0BA44BEB0A2A   \n",
       "5   64F6A2CEC420680A259172BF4CF17CE2  4298C2D3673C22E2319F6A6D6C6AEE43   \n",
       "16  6131DC57D6050C3EB674DD8722C83B2B  35DB015FB5F5873924A6B569DA88CCCC   \n",
       "17  525CD8F0BF94E814F16F4FA947B995B6  4A99CE4E5571FCA366E43D9E928DC19F   \n",
       "18  710DBFAAB43DF7B5E304ED0D26B7966A  6AC657FD2D473FD0816E3D2E916AB012   \n",
       "\n",
       "    ProductKey        Date  Units  \n",
       "1        95350  2009-08-04      1  \n",
       "5        95375  2011-04-22      1  \n",
       "16       79964  2015-03-25      1  \n",
       "17      102020  2013-10-18     12  \n",
       "18      129946  2013-11-26      1  "
      ]
     },
     "execution_count": 15,
     "metadata": {},
     "output_type": "execute_result"
    }
   ],
   "source": [
    "# these customers have purchased 3, or more, wines \n",
    "wine_purchase_df.head()"
   ]
  },
  {
   "cell_type": "markdown",
   "metadata": {},
   "source": [
    "### Save data to file"
   ]
  },
  {
   "cell_type": "code",
   "execution_count": 2,
   "metadata": {
    "collapsed": true
   },
   "outputs": [],
   "source": [
    "home = \"/Users/Alexander/WINE/data/\"\n",
    "purchase_path = home + \"customers_df_red_white_at_least_3.pkl\"\n",
    "wine_path = home + \"wine_df_red_white_only.pkl\""
   ]
  },
  {
   "cell_type": "code",
   "execution_count": 17,
   "metadata": {
    "collapsed": false
   },
   "outputs": [],
   "source": [
    "#wine_purchase_df.to_pickle(purchase_path)"
   ]
  },
  {
   "cell_type": "code",
   "execution_count": 18,
   "metadata": {
    "collapsed": true
   },
   "outputs": [],
   "source": [
    "#wine_df.to_pickle(wine_path)"
   ]
  },
  {
   "cell_type": "markdown",
   "metadata": {},
   "source": [
    "### Load from file"
   ]
  },
  {
   "cell_type": "code",
   "execution_count": 3,
   "metadata": {
    "collapsed": true
   },
   "outputs": [],
   "source": [
    "purchase_df = pd.read_pickle(purchase_path)"
   ]
  },
  {
   "cell_type": "code",
   "execution_count": 20,
   "metadata": {
    "collapsed": true
   },
   "outputs": [],
   "source": [
    "product_df = pd.read_pickle(wine_path)"
   ]
  },
  {
   "cell_type": "markdown",
   "metadata": {},
   "source": [
    "### Bucket wines into 1 - 5 categories based on number of purchases \n",
    "    Map number of purchases to categories\n",
    "    Ensure balanced classes"
   ]
  },
  {
   "cell_type": "code",
   "execution_count": 18,
   "metadata": {
    "collapsed": false
   },
   "outputs": [],
   "source": [
    "wine_purchase_df = pd.read_csv(purchases_path, sep=\"\\t\")"
   ]
  },
  {
   "cell_type": "code",
   "execution_count": 19,
   "metadata": {
    "collapsed": false
   },
   "outputs": [
    {
     "data": {
      "text/html": [
       "<div>\n",
       "<table border=\"1\" class=\"dataframe\">\n",
       "  <thead>\n",
       "    <tr style=\"text-align: right;\">\n",
       "      <th></th>\n",
       "      <th>CustomerHash</th>\n",
       "      <th>PurchaseHash</th>\n",
       "      <th>ProductKey</th>\n",
       "      <th>Date</th>\n",
       "      <th>Units</th>\n",
       "    </tr>\n",
       "  </thead>\n",
       "  <tbody>\n",
       "    <tr>\n",
       "      <th>0</th>\n",
       "      <td>F1923160355C00D4D1E7801F74132540</td>\n",
       "      <td>C60D8C98A7328EF5A1F5090D6A29DB7F</td>\n",
       "      <td>222650</td>\n",
       "      <td>2015-06-18</td>\n",
       "      <td>1</td>\n",
       "    </tr>\n",
       "    <tr>\n",
       "      <th>1</th>\n",
       "      <td>D3BE5BC2AA8796FCD402023CD6E5A6AC</td>\n",
       "      <td>C9F6085954D5D36615EE0BA44BEB0A2A</td>\n",
       "      <td>95350</td>\n",
       "      <td>2009-08-04</td>\n",
       "      <td>1</td>\n",
       "    </tr>\n",
       "    <tr>\n",
       "      <th>2</th>\n",
       "      <td>00D7447BAB0443738F81C3660F478357</td>\n",
       "      <td>18B773B0D5568E406CBB946F628C1DC6</td>\n",
       "      <td>38706</td>\n",
       "      <td>2007-12-10</td>\n",
       "      <td>1</td>\n",
       "    </tr>\n",
       "    <tr>\n",
       "      <th>3</th>\n",
       "      <td>F3548BD72E0F97ECBDA95918DE2743AD</td>\n",
       "      <td>96FEEC28AB4F35342DE08987D39406FC</td>\n",
       "      <td>333116</td>\n",
       "      <td>2012-03-16</td>\n",
       "      <td>2</td>\n",
       "    </tr>\n",
       "    <tr>\n",
       "      <th>4</th>\n",
       "      <td>9A260E4A83A112AA06F06A11DBF98BBD</td>\n",
       "      <td>07879D41A42AD75F020E3DA70D698ACC</td>\n",
       "      <td>221136</td>\n",
       "      <td>2007-05-08</td>\n",
       "      <td>1</td>\n",
       "    </tr>\n",
       "  </tbody>\n",
       "</table>\n",
       "</div>"
      ],
      "text/plain": [
       "                       CustomerHash                      PurchaseHash  \\\n",
       "0  F1923160355C00D4D1E7801F74132540  C60D8C98A7328EF5A1F5090D6A29DB7F   \n",
       "1  D3BE5BC2AA8796FCD402023CD6E5A6AC  C9F6085954D5D36615EE0BA44BEB0A2A   \n",
       "2  00D7447BAB0443738F81C3660F478357  18B773B0D5568E406CBB946F628C1DC6   \n",
       "3  F3548BD72E0F97ECBDA95918DE2743AD  96FEEC28AB4F35342DE08987D39406FC   \n",
       "4  9A260E4A83A112AA06F06A11DBF98BBD  07879D41A42AD75F020E3DA70D698ACC   \n",
       "\n",
       "   ProductKey        Date  Units  \n",
       "0      222650  2015-06-18      1  \n",
       "1       95350  2009-08-04      1  \n",
       "2       38706  2007-12-10      1  \n",
       "3      333116  2012-03-16      2  \n",
       "4      221136  2007-05-08      1  "
      ]
     },
     "execution_count": 19,
     "metadata": {},
     "output_type": "execute_result"
    }
   ],
   "source": [
    "wine_purchase_df.head()"
   ]
  },
  {
   "cell_type": "code",
   "execution_count": 20,
   "metadata": {
    "collapsed": false
   },
   "outputs": [],
   "source": [
    "productKey_units = wine_purchase_df.groupby([\"ProductKey\"])[\"Units\"].sum()"
   ]
  },
  {
   "cell_type": "code",
   "execution_count": 21,
   "metadata": {
    "collapsed": false
   },
   "outputs": [],
   "source": [
    "n_purchases = productKey_units.sort_values()"
   ]
  },
  {
   "cell_type": "code",
   "execution_count": 22,
   "metadata": {
    "collapsed": false
   },
   "outputs": [],
   "source": [
    "productKeys = n_purchases.index"
   ]
  },
  {
   "cell_type": "code",
   "execution_count": 33,
   "metadata": {
    "collapsed": false
   },
   "outputs": [
    {
     "data": {
      "image/png": "[encoded data removed]",
      "text/plain": [
       "<matplotlib.figure.Figure at 0x12ea99d10>"
      ]
     },
     "metadata": {},
     "output_type": "display_data"
    }
   ],
   "source": [
    "# unpopular wines are to the left of the hist\n",
    "# popular wines are to the right of the hist\n",
    "# the frist bar tells us that there are a lot of wines that were only purchased once\n",
    "plt.figure(figsize = (15,8));\n",
    "plt.title(\"Total Purchases vs. Number of Bottles\");\n",
    "plt.hist(n_purchases[n_purchases < 100], bins=100);\n",
    "plt.xlabel(\"Total Number of Purchases\")\n",
    "plt.ylabel(\"Number of Bottles\");\n",
    "#plt.savefig(\"/Users/Alexander/WINE/data/Total_Purchases_vs_Number_of_Bottles.png\")"
   ]
  },
  {
   "cell_type": "code",
   "execution_count": null,
   "metadata": {
    "collapsed": true
   },
   "outputs": [],
   "source": []
  },
  {
   "cell_type": "code",
   "execution_count": 96,
   "metadata": {
    "collapsed": true
   },
   "outputs": [],
   "source": [
    "data = [\n",
    "    go.Histogram(\n",
    "        x=n_purchases[n_purchases < 100]\n",
    "    )\n",
    "]\n",
    "plot_url = py.iplot(data, filename='basic-histogram')"
   ]
  },
  {
   "cell_type": "code",
   "execution_count": 97,
   "metadata": {
    "collapsed": false
   },
   "outputs": [
    {
     "data": {
      "text/html": [
       "<iframe id=\"igraph\" scrolling=\"no\" style=\"border:none;\"seamless=\"seamless\" src=\"https://plot.ly/~DataBeast/11.embed\" height=\"525px\" width=\"100%\"></iframe>"
      ],
      "text/plain": [
       "<plotly.tools.PlotlyDisplay object>"
      ]
     },
     "execution_count": 97,
     "metadata": {},
     "output_type": "execute_result"
    }
   ],
   "source": [
    "plot_url"
   ]
  },
  {
   "cell_type": "markdown",
   "metadata": {},
   "source": [
    "Due to the distribution of the data, number of purchases can be categorized bewteen 1 - 5 or 1 - 10. \n",
    "Here, we want to stick to the rating convention of 1 - 5. \n",
    "\n",
    "\n",
    "Purchase Ranges:\n",
    "\n",
    "    1) 1 - 11\n",
    "    2) 12 - 23\n",
    "    3) 24 - 47\n",
    "    4) 48 - 147\n",
    "    5) 138 - above\n",
    "\n",
    "\n",
    "Alternate Ranges:\n",
    "\n",
    "    1) 1 - 5\n",
    "    2) 6 - 11\n",
    "    3) 12 - 17\n",
    "    4) 18 - 23\n",
    "    5) 24 - 35\n",
    "    6) 36 - 47\n",
    "    7) 48 - 59\n",
    "    8) 60 - 71\n",
    "    9) 72 - 95\n",
    "    10) 96 - above\n",
    "\n",
    "\n"
   ]
  },
  {
   "cell_type": "code",
   "execution_count": 8,
   "metadata": {
    "collapsed": false
   },
   "outputs": [],
   "source": [
    "def map_n_purchases_to_5_category(df):\n",
    "    ratings = [] \n",
    "    wine_ids = []\n",
    "    units = []\n",
    "    for wine_id, n_units in zip(df.index, df.values):\n",
    "        #cust_tag = tag_wineID[0]\n",
    "        if n_units <= 11:\n",
    "            wine_ids.append(wine_id)\n",
    "            ratings.append(1)\n",
    "            units.append(n_units)\n",
    "        elif n_units >=12 and n_units <=23:\n",
    "            wine_ids.append(wine_id)\n",
    "            ratings.append(2)\n",
    "            units.append(n_units)\n",
    "        elif n_units >=24 and n_units <=47:\n",
    "            wine_ids.append(wine_id)\n",
    "            ratings.append(3)\n",
    "            units.append(n_units)\n",
    "        elif n_units >=48 and n_units <=147:\n",
    "            wine_ids.append(wine_id)\n",
    "            ratings.append(4)\n",
    "            units.append(n_units)\n",
    "        elif n_units >=148:\n",
    "            wine_ids.append(wine_id)\n",
    "            ratings.append(5)\n",
    "            units.append(n_units)\n",
    "        else:\n",
    "            print \"ERROR: num of units {0} for tag {1} do not fall in ranges \".format(n_units, cust_tag)\n",
    "    return ratings, wine_ids, units"
   ]
  },
  {
   "cell_type": "code",
   "execution_count": 9,
   "metadata": {
    "collapsed": false
   },
   "outputs": [],
   "source": [
    "ratings, wine_ids, units_purchased = map_n_purchases_to_5_category(productKey_units)"
   ]
  },
  {
   "cell_type": "code",
   "execution_count": 10,
   "metadata": {
    "collapsed": false
   },
   "outputs": [
    {
     "name": "stdout",
     "output_type": "stream",
     "text": [
      "48330\n",
      "48330\n"
     ]
    }
   ],
   "source": [
    "print len(wine_ids)\n",
    "print len(units_purchased)"
   ]
  },
  {
   "cell_type": "code",
   "execution_count": 110,
   "metadata": {
    "collapsed": false
   },
   "outputs": [],
   "source": [
    "five_total = float(np.sum(Counter(ratings).values()))"
   ]
  },
  {
   "cell_type": "markdown",
   "metadata": {},
   "source": [
    "The class are relatively balanced and represent the distribution of purchases well"
   ]
  },
  {
   "cell_type": "code",
   "execution_count": 111,
   "metadata": {
    "collapsed": false
   },
   "outputs": [
    {
     "name": "stdout",
     "output_type": "stream",
     "text": [
      "label 1,  percent 36.0\n",
      "label 2,  percent 21.3\n",
      "label 3,  percent 16.7\n",
      "label 4,  percent 16.5\n",
      "label 5,  percent 9.42\n"
     ]
    }
   ],
   "source": [
    "for key, value in Counter(ratings).iteritems():\n",
    "    print \"label {},  percent {:.3}\".format(key, (value/five_total) * 100)"
   ]
  },
  {
   "cell_type": "markdown",
   "metadata": {},
   "source": [
    "### Create Ratings DataFrame"
   ]
  },
  {
   "cell_type": "code",
   "execution_count": 11,
   "metadata": {
    "collapsed": false
   },
   "outputs": [],
   "source": [
    "pseudo_ratings_df = pd.DataFrame(data=ratings, columns=[\"Ratings\"])"
   ]
  },
  {
   "cell_type": "code",
   "execution_count": 12,
   "metadata": {
    "collapsed": false
   },
   "outputs": [],
   "source": [
    "pseudo_ratings_df[\"ProductKey\"] = wine_ids"
   ]
  },
  {
   "cell_type": "code",
   "execution_count": 13,
   "metadata": {
    "collapsed": false
   },
   "outputs": [
    {
     "data": {
      "text/html": [
       "<div>\n",
       "<table border=\"1\" class=\"dataframe\">\n",
       "  <thead>\n",
       "    <tr style=\"text-align: right;\">\n",
       "      <th></th>\n",
       "      <th>Ratings</th>\n",
       "      <th>ProductKey</th>\n",
       "    </tr>\n",
       "  </thead>\n",
       "  <tbody>\n",
       "    <tr>\n",
       "      <th>0</th>\n",
       "      <td>2</td>\n",
       "      <td>4</td>\n",
       "    </tr>\n",
       "    <tr>\n",
       "      <th>1</th>\n",
       "      <td>1</td>\n",
       "      <td>6</td>\n",
       "    </tr>\n",
       "    <tr>\n",
       "      <th>2</th>\n",
       "      <td>1</td>\n",
       "      <td>9</td>\n",
       "    </tr>\n",
       "    <tr>\n",
       "      <th>3</th>\n",
       "      <td>4</td>\n",
       "      <td>10</td>\n",
       "    </tr>\n",
       "    <tr>\n",
       "      <th>4</th>\n",
       "      <td>5</td>\n",
       "      <td>14</td>\n",
       "    </tr>\n",
       "  </tbody>\n",
       "</table>\n",
       "</div>"
      ],
      "text/plain": [
       "   Ratings  ProductKey\n",
       "0        2           4\n",
       "1        1           6\n",
       "2        1           9\n",
       "3        4          10\n",
       "4        5          14"
      ]
     },
     "execution_count": 13,
     "metadata": {},
     "output_type": "execute_result"
    }
   ],
   "source": [
    "pseudo_ratings_df.head()"
   ]
  },
  {
   "cell_type": "code",
   "execution_count": 14,
   "metadata": {
    "collapsed": true
   },
   "outputs": [],
   "source": [
    "cols = [\"CustomerHash\", \"ProductKey\"]"
   ]
  },
  {
   "cell_type": "code",
   "execution_count": 15,
   "metadata": {
    "collapsed": false
   },
   "outputs": [],
   "source": [
    "wine_purchase_df = wine_purchase_df[cols]"
   ]
  },
  {
   "cell_type": "code",
   "execution_count": 16,
   "metadata": {
    "collapsed": false
   },
   "outputs": [
    {
     "data": {
      "text/html": [
       "<div>\n",
       "<table border=\"1\" class=\"dataframe\">\n",
       "  <thead>\n",
       "    <tr style=\"text-align: right;\">\n",
       "      <th></th>\n",
       "      <th>CustomerHash</th>\n",
       "      <th>ProductKey</th>\n",
       "    </tr>\n",
       "  </thead>\n",
       "  <tbody>\n",
       "    <tr>\n",
       "      <th>1</th>\n",
       "      <td>D3BE5BC2AA8796FCD402023CD6E5A6AC</td>\n",
       "      <td>95350</td>\n",
       "    </tr>\n",
       "    <tr>\n",
       "      <th>5</th>\n",
       "      <td>64F6A2CEC420680A259172BF4CF17CE2</td>\n",
       "      <td>95375</td>\n",
       "    </tr>\n",
       "    <tr>\n",
       "      <th>16</th>\n",
       "      <td>6131DC57D6050C3EB674DD8722C83B2B</td>\n",
       "      <td>79964</td>\n",
       "    </tr>\n",
       "    <tr>\n",
       "      <th>17</th>\n",
       "      <td>525CD8F0BF94E814F16F4FA947B995B6</td>\n",
       "      <td>102020</td>\n",
       "    </tr>\n",
       "    <tr>\n",
       "      <th>18</th>\n",
       "      <td>710DBFAAB43DF7B5E304ED0D26B7966A</td>\n",
       "      <td>129946</td>\n",
       "    </tr>\n",
       "  </tbody>\n",
       "</table>\n",
       "</div>"
      ],
      "text/plain": [
       "                        CustomerHash  ProductKey\n",
       "1   D3BE5BC2AA8796FCD402023CD6E5A6AC       95350\n",
       "5   64F6A2CEC420680A259172BF4CF17CE2       95375\n",
       "16  6131DC57D6050C3EB674DD8722C83B2B       79964\n",
       "17  525CD8F0BF94E814F16F4FA947B995B6      102020\n",
       "18  710DBFAAB43DF7B5E304ED0D26B7966A      129946"
      ]
     },
     "execution_count": 16,
     "metadata": {},
     "output_type": "execute_result"
    }
   ],
   "source": [
    "wine_purchase_df.head()"
   ]
  },
  {
   "cell_type": "code",
   "execution_count": 17,
   "metadata": {
    "collapsed": false
   },
   "outputs": [],
   "source": [
    "ratings_df = wine_purchase_df.merge(pseudo_ratings_df, how=\"left\", on=\"ProductKey\")"
   ]
  },
  {
   "cell_type": "code",
   "execution_count": 36,
   "metadata": {
    "collapsed": false
   },
   "outputs": [
    {
     "data": {
      "text/html": [
       "<div>\n",
       "<table border=\"1\" class=\"dataframe\">\n",
       "  <thead>\n",
       "    <tr style=\"text-align: right;\">\n",
       "      <th></th>\n",
       "      <th>CustomerHash</th>\n",
       "      <th>ProductKey</th>\n",
       "      <th>Ratings</th>\n",
       "    </tr>\n",
       "  </thead>\n",
       "  <tbody>\n",
       "    <tr>\n",
       "      <th>1107557</th>\n",
       "      <td>4F10404CC10255ECEFA056E2A993EC18</td>\n",
       "      <td>4</td>\n",
       "      <td>2</td>\n",
       "    </tr>\n",
       "    <tr>\n",
       "      <th>1359581</th>\n",
       "      <td>7C9890212043EB1D7BA30D2F2ACD7822</td>\n",
       "      <td>4</td>\n",
       "      <td>2</td>\n",
       "    </tr>\n",
       "    <tr>\n",
       "      <th>1076307</th>\n",
       "      <td>E4954F3F432A5BC5F82EFF4602BA9F13</td>\n",
       "      <td>4</td>\n",
       "      <td>2</td>\n",
       "    </tr>\n",
       "    <tr>\n",
       "      <th>288632</th>\n",
       "      <td>CD4E82A94C6CA1A217FD7E053F83D910</td>\n",
       "      <td>4</td>\n",
       "      <td>2</td>\n",
       "    </tr>\n",
       "    <tr>\n",
       "      <th>145768</th>\n",
       "      <td>E3AAD20AC54CD33B7AD4319E8B4B5648</td>\n",
       "      <td>4</td>\n",
       "      <td>2</td>\n",
       "    </tr>\n",
       "  </tbody>\n",
       "</table>\n",
       "</div>"
      ],
      "text/plain": [
       "                             CustomerHash  ProductKey  Ratings\n",
       "1107557  4F10404CC10255ECEFA056E2A993EC18           4        2\n",
       "1359581  7C9890212043EB1D7BA30D2F2ACD7822           4        2\n",
       "1076307  E4954F3F432A5BC5F82EFF4602BA9F13           4        2\n",
       "288632   CD4E82A94C6CA1A217FD7E053F83D910           4        2\n",
       "145768   E3AAD20AC54CD33B7AD4319E8B4B5648           4        2"
      ]
     },
     "execution_count": 36,
     "metadata": {},
     "output_type": "execute_result"
    }
   ],
   "source": [
    "ratings_df.sort_values(by=\"ProductKey\").head()"
   ]
  },
  {
   "cell_type": "code",
   "execution_count": 37,
   "metadata": {
    "collapsed": true
   },
   "outputs": [],
   "source": [
    "home = \"/Users/Alexander/WINE/data/\"\n",
    "pseudo_ratings_path = home + \"ratings_df.pkl\""
   ]
  },
  {
   "cell_type": "code",
   "execution_count": 38,
   "metadata": {
    "collapsed": true
   },
   "outputs": [],
   "source": [
    "ratings_df.to_pickle(pseudo_ratings_path)"
   ]
  },
  {
   "cell_type": "code",
   "execution_count": 33,
   "metadata": {
    "collapsed": false
   },
   "outputs": [
    {
     "data": {
      "image/png": "[encoded data removed]",
      "text/plain": [
       "<matplotlib.figure.Figure at 0x130d5bbd0>"
      ]
     },
     "metadata": {},
     "output_type": "display_data"
    }
   ],
   "source": [
    "# Distribution of unique wine's ratings \n",
    "# most wines have a low rating because they were purchased only a few times\n",
    "pseudo_ratings_df.Ratings.hist();"
   ]
  },
  {
   "cell_type": "code",
   "execution_count": 32,
   "metadata": {
    "collapsed": false
   },
   "outputs": [
    {
     "data": {
      "image/png": "[encoded data removed]",
      "text/plain": [
       "<matplotlib.figure.Figure at 0x1266d4610>"
      ]
     },
     "metadata": {},
     "output_type": "display_data"
    }
   ],
   "source": [
    "# Distribution of purchased wine's ratings\n",
    "# most of the purchased wines have a high rating because individual bottles were purchased several times over\n",
    "ratings_df.Ratings.hist();"
   ]
  },
  {
   "cell_type": "markdown",
   "metadata": {},
   "source": [
    "###  Get top K rated wines from the top Q varietals"
   ]
  },
  {
   "cell_type": "code",
   "execution_count": 7,
   "metadata": {
    "collapsed": false
   },
   "outputs": [
    {
     "data": {
      "text/html": [
       "<div>\n",
       "<table border=\"1\" class=\"dataframe\">\n",
       "  <thead>\n",
       "    <tr style=\"text-align: right;\">\n",
       "      <th></th>\n",
       "      <th>CustomerHash</th>\n",
       "      <th>ProductKey</th>\n",
       "      <th>Ratings</th>\n",
       "    </tr>\n",
       "  </thead>\n",
       "  <tbody>\n",
       "    <tr>\n",
       "      <th>0</th>\n",
       "      <td>D3BE5BC2AA8796FCD402023CD6E5A6AC</td>\n",
       "      <td>95350</td>\n",
       "      <td>5</td>\n",
       "    </tr>\n",
       "    <tr>\n",
       "      <th>1</th>\n",
       "      <td>64F6A2CEC420680A259172BF4CF17CE2</td>\n",
       "      <td>95375</td>\n",
       "      <td>4</td>\n",
       "    </tr>\n",
       "    <tr>\n",
       "      <th>2</th>\n",
       "      <td>6131DC57D6050C3EB674DD8722C83B2B</td>\n",
       "      <td>79964</td>\n",
       "      <td>5</td>\n",
       "    </tr>\n",
       "    <tr>\n",
       "      <th>3</th>\n",
       "      <td>525CD8F0BF94E814F16F4FA947B995B6</td>\n",
       "      <td>102020</td>\n",
       "      <td>5</td>\n",
       "    </tr>\n",
       "    <tr>\n",
       "      <th>4</th>\n",
       "      <td>710DBFAAB43DF7B5E304ED0D26B7966A</td>\n",
       "      <td>129946</td>\n",
       "      <td>3</td>\n",
       "    </tr>\n",
       "  </tbody>\n",
       "</table>\n",
       "</div>"
      ],
      "text/plain": [
       "                       CustomerHash  ProductKey  Ratings\n",
       "0  D3BE5BC2AA8796FCD402023CD6E5A6AC       95350        5\n",
       "1  64F6A2CEC420680A259172BF4CF17CE2       95375        4\n",
       "2  6131DC57D6050C3EB674DD8722C83B2B       79964        5\n",
       "3  525CD8F0BF94E814F16F4FA947B995B6      102020        5\n",
       "4  710DBFAAB43DF7B5E304ED0D26B7966A      129946        3"
      ]
     },
     "execution_count": 7,
     "metadata": {},
     "output_type": "execute_result"
    }
   ],
   "source": [
    "purchase_df.head()"
   ]
  },
  {
   "cell_type": "code",
   "execution_count": 8,
   "metadata": {
    "collapsed": false
   },
   "outputs": [
    {
     "data": {
      "text/html": [
       "<div>\n",
       "<table border=\"1\" class=\"dataframe\">\n",
       "  <thead>\n",
       "    <tr style=\"text-align: right;\">\n",
       "      <th></th>\n",
       "      <th>ProductKey</th>\n",
       "      <th>ProductId</th>\n",
       "      <th>Appellation</th>\n",
       "      <th>Varietal</th>\n",
       "      <th>Vineyard</th>\n",
       "    </tr>\n",
       "  </thead>\n",
       "  <tbody>\n",
       "    <tr>\n",
       "      <th>0</th>\n",
       "      <td>2</td>\n",
       "      <td>127554</td>\n",
       "      <td>Napa Valley</td>\n",
       "      <td>Cabernet Sauvignon</td>\n",
       "      <td>Turnbull</td>\n",
       "    </tr>\n",
       "    <tr>\n",
       "      <th>1</th>\n",
       "      <td>3</td>\n",
       "      <td>133070</td>\n",
       "      <td>Napa Valley</td>\n",
       "      <td>Cabernet Sauvignon</td>\n",
       "      <td>Turnbull</td>\n",
       "    </tr>\n",
       "    <tr>\n",
       "      <th>2</th>\n",
       "      <td>4</td>\n",
       "      <td>114037</td>\n",
       "      <td>Napa Valley</td>\n",
       "      <td>Cabernet Sauvignon</td>\n",
       "      <td>Turnbull</td>\n",
       "    </tr>\n",
       "    <tr>\n",
       "      <th>5</th>\n",
       "      <td>7</td>\n",
       "      <td>109508</td>\n",
       "      <td>Napa Valley</td>\n",
       "      <td>Other Red Blends</td>\n",
       "      <td>Turnbull</td>\n",
       "    </tr>\n",
       "    <tr>\n",
       "      <th>6</th>\n",
       "      <td>8</td>\n",
       "      <td>110277</td>\n",
       "      <td>Napa Valley</td>\n",
       "      <td>Merlot</td>\n",
       "      <td>Turnbull</td>\n",
       "    </tr>\n",
       "  </tbody>\n",
       "</table>\n",
       "</div>"
      ],
      "text/plain": [
       "   ProductKey  ProductId  Appellation            Varietal  Vineyard\n",
       "0           2     127554  Napa Valley  Cabernet Sauvignon  Turnbull\n",
       "1           3     133070  Napa Valley  Cabernet Sauvignon  Turnbull\n",
       "2           4     114037  Napa Valley  Cabernet Sauvignon  Turnbull\n",
       "5           7     109508  Napa Valley    Other Red Blends  Turnbull\n",
       "6           8     110277  Napa Valley              Merlot  Turnbull"
      ]
     },
     "execution_count": 8,
     "metadata": {},
     "output_type": "execute_result"
    }
   ],
   "source": [
    "product_df.head()"
   ]
  },
  {
   "cell_type": "code",
   "execution_count": 10,
   "metadata": {
    "collapsed": false
   },
   "outputs": [],
   "source": [
    "full_data_df = purchase_df.merge(product_df, how=\"left\", on=\"ProductKey\")"
   ]
  },
  {
   "cell_type": "code",
   "execution_count": 23,
   "metadata": {
    "collapsed": false
   },
   "outputs": [],
   "source": [
    "# get count of ratings for each varietal \n",
    "var_count = full_data_df.groupby([\"Varietal\"])[\"Ratings\"].count()"
   ]
  },
  {
   "cell_type": "code",
   "execution_count": 12,
   "metadata": {
    "collapsed": false
   },
   "outputs": [],
   "source": [
    "# add ratings for each varietal\n",
    "var_rat = full_data_df.groupby([\"Varietal\"])[\"Ratings\"].sum()"
   ]
  },
  {
   "cell_type": "code",
   "execution_count": 25,
   "metadata": {
    "collapsed": false
   },
   "outputs": [],
   "source": [
    "var_count.sort_values(ascending=False, inplace=True)"
   ]
  },
  {
   "cell_type": "code",
   "execution_count": 19,
   "metadata": {
    "collapsed": false
   },
   "outputs": [],
   "source": [
    "# sort so varietals with the highest rating sums are displayed at the top\n",
    "var_rat.sort_values(ascending=False, inplace=True)"
   ]
  },
  {
   "cell_type": "code",
   "execution_count": 30,
   "metadata": {
    "collapsed": false
   },
   "outputs": [],
   "source": [
    "# divide varietal ratings by varietal count in order to normalize values\n",
    "normalized_varietal_ratings = var_rat/var_count"
   ]
  },
  {
   "cell_type": "code",
   "execution_count": 31,
   "metadata": {
    "collapsed": true
   },
   "outputs": [],
   "source": [
    "normalized_varietal_ratings.sort_values(ascending=False, inplace=True)"
   ]
  },
  {
   "cell_type": "markdown",
   "metadata": {},
   "source": [
    "### Top 10 Rated Varietals "
   ]
  },
  {
   "cell_type": "code",
   "execution_count": 136,
   "metadata": {
    "collapsed": false
   },
   "outputs": [],
   "source": [
    "top_10_varietals = normalized_varietal_ratings[0:10]"
   ]
  },
  {
   "cell_type": "code",
   "execution_count": 137,
   "metadata": {
    "collapsed": false
   },
   "outputs": [
    {
     "data": {
      "text/plain": [
       "Varietal\n",
       "Mourvedre             4.704632\n",
       "Grenache              4.607134\n",
       "Tempranillo           4.506202\n",
       "Rhone Red Blends      4.482256\n",
       "Other Red Blends      4.461226\n",
       "Cabernet Sauvignon    4.459922\n",
       "Pinot Noir            4.378713\n",
       "Sauvignon Blanc       4.377878\n",
       "Malbec                4.368699\n",
       "Sangiovese            4.352507\n",
       "Name: Ratings, dtype: float64"
      ]
     },
     "execution_count": 137,
     "metadata": {},
     "output_type": "execute_result"
    }
   ],
   "source": [
    "top_10_varietals"
   ]
  },
  {
   "cell_type": "code",
   "execution_count": 138,
   "metadata": {
    "collapsed": false
   },
   "outputs": [
    {
     "data": {
      "text/plain": [
       "Index([u'Mourvedre', u'Grenache', u'Tempranillo', u'Rhone Red Blends',\n",
       "       u'Other Red Blends', u'Cabernet Sauvignon', u'Pinot Noir',\n",
       "       u'Sauvignon Blanc', u'Malbec', u'Sangiovese'],\n",
       "      dtype='object', name=u'Varietal')"
      ]
     },
     "execution_count": 138,
     "metadata": {},
     "output_type": "execute_result"
    }
   ],
   "source": [
    "top_10_varietals.index"
   ]
  },
  {
   "cell_type": "markdown",
   "metadata": {},
   "source": [
    "### Get top 10 rated wines from each varietal "
   ]
  },
  {
   "cell_type": "code",
   "execution_count": 60,
   "metadata": {
    "collapsed": false
   },
   "outputs": [
    {
     "data": {
      "text/html": [
       "<div>\n",
       "<table border=\"1\" class=\"dataframe\">\n",
       "  <thead>\n",
       "    <tr style=\"text-align: right;\">\n",
       "      <th></th>\n",
       "      <th>CustomerHash</th>\n",
       "      <th>ProductKey</th>\n",
       "      <th>Ratings</th>\n",
       "      <th>ProductId</th>\n",
       "      <th>Appellation</th>\n",
       "      <th>Varietal</th>\n",
       "      <th>Vineyard</th>\n",
       "    </tr>\n",
       "  </thead>\n",
       "  <tbody>\n",
       "    <tr>\n",
       "      <th>0</th>\n",
       "      <td>D3BE5BC2AA8796FCD402023CD6E5A6AC</td>\n",
       "      <td>95350</td>\n",
       "      <td>5</td>\n",
       "      <td>97912</td>\n",
       "      <td>Russian River</td>\n",
       "      <td>Pinot Noir</td>\n",
       "      <td>DeLoach</td>\n",
       "    </tr>\n",
       "    <tr>\n",
       "      <th>1</th>\n",
       "      <td>64F6A2CEC420680A259172BF4CF17CE2</td>\n",
       "      <td>95375</td>\n",
       "      <td>4</td>\n",
       "      <td>107505</td>\n",
       "      <td>Russian River</td>\n",
       "      <td>Pinot Noir</td>\n",
       "      <td>Dutton Goldfield</td>\n",
       "    </tr>\n",
       "    <tr>\n",
       "      <th>2</th>\n",
       "      <td>6131DC57D6050C3EB674DD8722C83B2B</td>\n",
       "      <td>79964</td>\n",
       "      <td>5</td>\n",
       "      <td>NaN</td>\n",
       "      <td>NaN</td>\n",
       "      <td>NaN</td>\n",
       "      <td>NaN</td>\n",
       "    </tr>\n",
       "    <tr>\n",
       "      <th>3</th>\n",
       "      <td>525CD8F0BF94E814F16F4FA947B995B6</td>\n",
       "      <td>102020</td>\n",
       "      <td>5</td>\n",
       "      <td>121010</td>\n",
       "      <td>Central Coast</td>\n",
       "      <td>Cabernet Sauvignon</td>\n",
       "      <td>Estancia</td>\n",
       "    </tr>\n",
       "    <tr>\n",
       "      <th>4</th>\n",
       "      <td>710DBFAAB43DF7B5E304ED0D26B7966A</td>\n",
       "      <td>129946</td>\n",
       "      <td>3</td>\n",
       "      <td>124678</td>\n",
       "      <td>Other Italian</td>\n",
       "      <td>Pinot Gris/Grigio</td>\n",
       "      <td>Stella</td>\n",
       "    </tr>\n",
       "  </tbody>\n",
       "</table>\n",
       "</div>"
      ],
      "text/plain": [
       "                       CustomerHash  ProductKey  Ratings  ProductId  \\\n",
       "0  D3BE5BC2AA8796FCD402023CD6E5A6AC       95350        5      97912   \n",
       "1  64F6A2CEC420680A259172BF4CF17CE2       95375        4     107505   \n",
       "2  6131DC57D6050C3EB674DD8722C83B2B       79964        5        NaN   \n",
       "3  525CD8F0BF94E814F16F4FA947B995B6      102020        5     121010   \n",
       "4  710DBFAAB43DF7B5E304ED0D26B7966A      129946        3     124678   \n",
       "\n",
       "     Appellation            Varietal          Vineyard  \n",
       "0  Russian River          Pinot Noir           DeLoach  \n",
       "1  Russian River          Pinot Noir  Dutton Goldfield  \n",
       "2            NaN                 NaN               NaN  \n",
       "3  Central Coast  Cabernet Sauvignon          Estancia  \n",
       "4  Other Italian   Pinot Gris/Grigio            Stella  "
      ]
     },
     "execution_count": 60,
     "metadata": {},
     "output_type": "execute_result"
    }
   ],
   "source": [
    "full_data_df.head()"
   ]
  },
  {
   "cell_type": "code",
   "execution_count": 174,
   "metadata": {
    "collapsed": false
   },
   "outputs": [],
   "source": [
    "test_varietal = \"Malbec\"\n",
    "test_var_sum = full_data_df[full_data_df.Varietal.isin([test_varietal])]\\\n",
    ".groupby([\"Varietal\", \"Appellation\", \"Vineyard\", \"ProductKey\"])[\"Ratings\"].sum()"
   ]
  },
  {
   "cell_type": "code",
   "execution_count": 175,
   "metadata": {
    "collapsed": true
   },
   "outputs": [],
   "source": [
    "test_var_count = full_data_df[full_data_df.Varietal.isin([test_varietal])]\\\n",
    ".groupby([\"Varietal\", \"Appellation\", \"Vineyard\", \"ProductKey\"])[\"Ratings\"].count()"
   ]
  },
  {
   "cell_type": "code",
   "execution_count": 176,
   "metadata": {
    "collapsed": false
   },
   "outputs": [],
   "source": [
    "test_norm = test_var_sum/ test_var_count"
   ]
  },
  {
   "cell_type": "code",
   "execution_count": 177,
   "metadata": {
    "collapsed": true
   },
   "outputs": [],
   "source": [
    "test_norm.sort_values(ascending=False, inplace=True)"
   ]
  },
  {
   "cell_type": "code",
   "execution_count": 178,
   "metadata": {
    "collapsed": false
   },
   "outputs": [],
   "source": [
    "test_norm_top = test_norm[test_norm > 3.5]"
   ]
  },
  {
   "cell_type": "code",
   "execution_count": 179,
   "metadata": {
    "collapsed": false
   },
   "outputs": [
    {
     "data": {
      "text/plain": [
       "Varietal  Appellation  Vineyard        ProductKey\n",
       "Malbec    Argentina    Achaval-Ferrer  3566          5\n",
       "                       Altocedro       25021         5\n",
       "                       Trapiche        54510         5\n",
       "                       Middle Sister   102925        5\n",
       "                                       130065        5\n",
       "                       Trapiche        37764         5\n",
       "                                       37763         5\n",
       "                                       37762         5\n",
       "                                       37761         5\n",
       "                       Bodega Norton   140880        5\n",
       "Name: Ratings, dtype: float64"
      ]
     },
     "execution_count": 179,
     "metadata": {},
     "output_type": "execute_result"
    }
   ],
   "source": [
    "test_norm_top[0:10]"
   ]
  },
  {
   "cell_type": "code",
   "execution_count": 180,
   "metadata": {
    "collapsed": false
   },
   "outputs": [],
   "source": [
    "def get_top_10_wines_from_varietals(full_data_df, top_10_varietals):\n",
    "    top_wines_per_varietal = []\n",
    "    groupby_cols =[\"Varietal\", \"Appellation\", \"Vineyard\", \"ProductKey\"]\n",
    "    for varietal in top_10_varietals:\n",
    "        test_var_sum = full_data_df[full_data_df.Varietal.isin([varietal])]\\\n",
    "                        .groupby(groupby_cols)[\"Ratings\"].sum()\n",
    "        test_var_count = full_data_df[full_data_df.Varietal.isin([varietal])]\\\n",
    "                        .groupby(groupby_cols)[\"Ratings\"].count()\n",
    "\n",
    "        test_norm = test_var_sum/ test_var_count\n",
    "        test_norm.sort_values(ascending=False, inplace=True)\n",
    "        test_norm_top = test_norm[test_norm > 3.5]\n",
    "        top_wines_per_varietal.append(test_norm_top[0:10])\n",
    "    return top_wines_per_varietal"
   ]
  },
  {
   "cell_type": "code",
   "execution_count": 181,
   "metadata": {
    "collapsed": true
   },
   "outputs": [],
   "source": [
    "top_wines_per_varietal = \\\n",
    "get_top_10_wines_from_varietals(full_data_df, top_10_varietals.index)"
   ]
  },
  {
   "cell_type": "code",
   "execution_count": 195,
   "metadata": {
    "collapsed": false
   },
   "outputs": [
    {
     "data": {
      "text/plain": [
       "Varietal   Appellation      Vineyard         ProductKey\n",
       "Mourvedre  Other Spain      Bodegas Castano  85831         5\n",
       "                            Casa Castillo    109455        5\n",
       "                                             84887         5\n",
       "                                             84886         5\n",
       "                            Bodegas Castano  84011         5\n",
       "                                             37835         5\n",
       "           Other Australia  Hewitson         50554         5\n",
       "           Other Spain      Bodegas Volver   114890        5\n",
       "                                             114889        5\n",
       "                                             114887        5\n",
       "Name: Ratings, dtype: float64"
      ]
     },
     "execution_count": 195,
     "metadata": {},
     "output_type": "execute_result"
    }
   ],
   "source": [
    "top_wines_per_varietal[0]"
   ]
  },
  {
   "cell_type": "code",
   "execution_count": 205,
   "metadata": {
    "collapsed": false
   },
   "outputs": [],
   "source": [
    "def get_productKeys_from_top_varietals(top_wines_per_varietal):\n",
    "    productKeys_from_top_varietals = []\n",
    "    for varietal in top_wines_per_varietal:\n",
    "        temp = []\n",
    "        for row in varietal.index:\n",
    "            temp.append(row[3])\n",
    "        productKeys_from_top_varietals.append(temp)\n",
    "    return productKeys_from_top_varietals"
   ]
  },
  {
   "cell_type": "code",
   "execution_count": 206,
   "metadata": {
    "collapsed": false
   },
   "outputs": [],
   "source": [
    "productKeys_from_top_varietals = get_productKeys_from_top_varietals(top_wines_per_varietal)"
   ]
  },
  {
   "cell_type": "code",
   "execution_count": 216,
   "metadata": {
    "collapsed": false
   },
   "outputs": [
    {
     "name": "stdout",
     "output_type": "stream",
     "text": [
      "10\n",
      "[31016, 85625, 21116, 95346, 49312, 95347, 101902, 95379, 116936, 28534]\n"
     ]
    }
   ],
   "source": [
    "print len(productKeys_from_top_varietals)\n",
    "print productKeys_from_top_varietals[5]"
   ]
  },
  {
   "cell_type": "code",
   "execution_count": 213,
   "metadata": {
    "collapsed": false
   },
   "outputs": [
    {
     "data": {
      "text/html": [
       "<div>\n",
       "<table border=\"1\" class=\"dataframe\">\n",
       "  <thead>\n",
       "    <tr style=\"text-align: right;\">\n",
       "      <th></th>\n",
       "      <th>ProductKey</th>\n",
       "      <th>ProductId</th>\n",
       "      <th>Appellation</th>\n",
       "      <th>Varietal</th>\n",
       "      <th>Vineyard</th>\n",
       "    </tr>\n",
       "  </thead>\n",
       "  <tbody>\n",
       "    <tr>\n",
       "      <th>17991</th>\n",
       "      <td>21116</td>\n",
       "      <td>112979</td>\n",
       "      <td>Central Coast</td>\n",
       "      <td>Cabernet Sauvignon</td>\n",
       "      <td>Concannon</td>\n",
       "    </tr>\n",
       "    <tr>\n",
       "      <th>24890</th>\n",
       "      <td>28534</td>\n",
       "      <td>97262</td>\n",
       "      <td>Napa Valley</td>\n",
       "      <td>Cabernet Sauvignon</td>\n",
       "      <td>Inglenook</td>\n",
       "    </tr>\n",
       "    <tr>\n",
       "      <th>27372</th>\n",
       "      <td>31016</td>\n",
       "      <td>114789</td>\n",
       "      <td>Napa Valley</td>\n",
       "      <td>Cabernet Sauvignon</td>\n",
       "      <td>Stag's Leap Wine Cellars</td>\n",
       "    </tr>\n",
       "    <tr>\n",
       "      <th>45413</th>\n",
       "      <td>49312</td>\n",
       "      <td>99584</td>\n",
       "      <td>Central Coast</td>\n",
       "      <td>Cabernet Sauvignon</td>\n",
       "      <td>Concannon</td>\n",
       "    </tr>\n",
       "    <tr>\n",
       "      <th>79690</th>\n",
       "      <td>85625</td>\n",
       "      <td>89138</td>\n",
       "      <td>Sonoma County</td>\n",
       "      <td>Cabernet Sauvignon</td>\n",
       "      <td>Kendall-Jackson</td>\n",
       "    </tr>\n",
       "    <tr>\n",
       "      <th>89396</th>\n",
       "      <td>95346</td>\n",
       "      <td>105605</td>\n",
       "      <td>Other California</td>\n",
       "      <td>Cabernet Sauvignon</td>\n",
       "      <td>DeLoach</td>\n",
       "    </tr>\n",
       "    <tr>\n",
       "      <th>89397</th>\n",
       "      <td>95347</td>\n",
       "      <td>127323</td>\n",
       "      <td>Other California</td>\n",
       "      <td>Cabernet Sauvignon</td>\n",
       "      <td>DeLoach</td>\n",
       "    </tr>\n",
       "    <tr>\n",
       "      <th>89429</th>\n",
       "      <td>95379</td>\n",
       "      <td>111503</td>\n",
       "      <td>Sonoma County</td>\n",
       "      <td>Cabernet Sauvignon</td>\n",
       "      <td>Kenwood</td>\n",
       "    </tr>\n",
       "    <tr>\n",
       "      <th>95941</th>\n",
       "      <td>101902</td>\n",
       "      <td>126553</td>\n",
       "      <td>Sonoma County</td>\n",
       "      <td>Cabernet Sauvignon</td>\n",
       "      <td>Kenwood</td>\n",
       "    </tr>\n",
       "    <tr>\n",
       "      <th>110655</th>\n",
       "      <td>116936</td>\n",
       "      <td>75730</td>\n",
       "      <td>Napa Valley</td>\n",
       "      <td>Cabernet Sauvignon</td>\n",
       "      <td>St. Supery</td>\n",
       "    </tr>\n",
       "  </tbody>\n",
       "</table>\n",
       "</div>"
      ],
      "text/plain": [
       "        ProductKey  ProductId       Appellation            Varietal  \\\n",
       "17991        21116     112979     Central Coast  Cabernet Sauvignon   \n",
       "24890        28534      97262       Napa Valley  Cabernet Sauvignon   \n",
       "27372        31016     114789       Napa Valley  Cabernet Sauvignon   \n",
       "45413        49312      99584     Central Coast  Cabernet Sauvignon   \n",
       "79690        85625      89138     Sonoma County  Cabernet Sauvignon   \n",
       "89396        95346     105605  Other California  Cabernet Sauvignon   \n",
       "89397        95347     127323  Other California  Cabernet Sauvignon   \n",
       "89429        95379     111503     Sonoma County  Cabernet Sauvignon   \n",
       "95941       101902     126553     Sonoma County  Cabernet Sauvignon   \n",
       "110655      116936      75730       Napa Valley  Cabernet Sauvignon   \n",
       "\n",
       "                        Vineyard  \n",
       "17991                  Concannon  \n",
       "24890                  Inglenook  \n",
       "27372   Stag's Leap Wine Cellars  \n",
       "45413                  Concannon  \n",
       "79690            Kendall-Jackson  \n",
       "89396                    DeLoach  \n",
       "89397                    DeLoach  \n",
       "89429                    Kenwood  \n",
       "95941                    Kenwood  \n",
       "110655                St. Supery  "
      ]
     },
     "execution_count": 213,
     "metadata": {},
     "output_type": "execute_result"
    }
   ],
   "source": [
    "product_df[product_df.ProductKey.isin(productKeys_from_top_varietals[5])]"
   ]
  },
  {
   "cell_type": "markdown",
   "metadata": {},
   "source": [
    "### Save top 10 product keys from top 10 varietals to file"
   ]
  },
  {
   "cell_type": "code",
   "execution_count": 217,
   "metadata": {
    "collapsed": true
   },
   "outputs": [],
   "source": [
    "home_path = \"/Users/Alexander/WINE/data/\"\n",
    "productKeys_from_top_varietals_path = \"productKeys_from_top_varietals.pkl\""
   ]
  },
  {
   "cell_type": "code",
   "execution_count": 218,
   "metadata": {
    "collapsed": true
   },
   "outputs": [],
   "source": [
    "cPickle.dump(productKeys_from_top_varietals, open(home_path + productKeys_from_top_varietals_path, \"w\"))"
   ]
  }
 ],
 "metadata": {
  "kernelspec": {
   "display_name": "Python 2",
   "language": "python",
   "name": "python2"
  },
  "language_info": {
   "codemirror_mode": {
    "name": "ipython",
    "version": 2
   },
   "file_extension": ".py",
   "mimetype": "text/x-python",
   "name": "python",
   "nbconvert_exporter": "python",
   "pygments_lexer": "ipython2",
   "version": "2.7.11"
  }
 },
 "nbformat": 4,
 "nbformat_minor": 0
}
