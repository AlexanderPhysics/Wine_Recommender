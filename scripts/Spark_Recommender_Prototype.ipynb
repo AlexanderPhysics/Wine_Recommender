{
 "cells": [
  {
   "cell_type": "markdown",
   "metadata": {},
   "source": [
    "## Notes\n",
    "    Complete: Provide user with top k previously wines, based on productKey\n"
   ]
  },
  {
   "cell_type": "markdown",
   "metadata": {},
   "source": [
    "#### Import Libraries"
   ]
  },
  {
   "cell_type": "code",
   "execution_count": 1,
   "metadata": {
    "collapsed": false
   },
   "outputs": [],
   "source": [
    "import numpy as np\n",
    "import pandas as pd\n",
    "import numpy as np\n",
    "import matplotlib.pyplot as plt\n",
    "import os\n",
    "import cPickle\n",
    "from time import time\n",
    "from sklearn.utils import shuffle\n",
    "import pyspark\n",
    "% matplotlib inline"
   ]
  },
  {
   "cell_type": "code",
   "execution_count": 2,
   "metadata": {
    "collapsed": true
   },
   "outputs": [],
   "source": [
    "from pyspark.mllib.recommendation import ALS\n",
    "import math"
   ]
  },
  {
   "cell_type": "markdown",
   "metadata": {},
   "source": [
    "#### Import Data"
   ]
  },
  {
   "cell_type": "code",
   "execution_count": 3,
   "metadata": {
    "collapsed": true
   },
   "outputs": [],
   "source": [
    "home = \"/Users/Alexander/WINE/data/\"\n",
    "pseudo_ratings_path = home + \"ratings_df.pkl\"\n",
    "wine_path = home + \"wine_df_red_white_only.pkl\""
   ]
  },
  {
   "cell_type": "code",
   "execution_count": 4,
   "metadata": {
    "collapsed": false
   },
   "outputs": [],
   "source": [
    "products_df = pd.read_pickle(wine_path)"
   ]
  },
  {
   "cell_type": "code",
   "execution_count": 5,
   "metadata": {
    "collapsed": false
   },
   "outputs": [
    {
     "data": {
      "text/html": [
       "<div>\n",
       "<table border=\"1\" class=\"dataframe\">\n",
       "  <thead>\n",
       "    <tr style=\"text-align: right;\">\n",
       "      <th></th>\n",
       "      <th>ProductKey</th>\n",
       "      <th>ProductId</th>\n",
       "      <th>Appellation</th>\n",
       "      <th>Varietal</th>\n",
       "      <th>Vineyard</th>\n",
       "    </tr>\n",
       "  </thead>\n",
       "  <tbody>\n",
       "    <tr>\n",
       "      <th>0</th>\n",
       "      <td>2</td>\n",
       "      <td>127554</td>\n",
       "      <td>Napa Valley</td>\n",
       "      <td>Cabernet Sauvignon</td>\n",
       "      <td>Turnbull</td>\n",
       "    </tr>\n",
       "    <tr>\n",
       "      <th>1</th>\n",
       "      <td>3</td>\n",
       "      <td>133070</td>\n",
       "      <td>Napa Valley</td>\n",
       "      <td>Cabernet Sauvignon</td>\n",
       "      <td>Turnbull</td>\n",
       "    </tr>\n",
       "    <tr>\n",
       "      <th>2</th>\n",
       "      <td>4</td>\n",
       "      <td>114037</td>\n",
       "      <td>Napa Valley</td>\n",
       "      <td>Cabernet Sauvignon</td>\n",
       "      <td>Turnbull</td>\n",
       "    </tr>\n",
       "    <tr>\n",
       "      <th>5</th>\n",
       "      <td>7</td>\n",
       "      <td>109508</td>\n",
       "      <td>Napa Valley</td>\n",
       "      <td>Other Red Blends</td>\n",
       "      <td>Turnbull</td>\n",
       "    </tr>\n",
       "    <tr>\n",
       "      <th>6</th>\n",
       "      <td>8</td>\n",
       "      <td>110277</td>\n",
       "      <td>Napa Valley</td>\n",
       "      <td>Merlot</td>\n",
       "      <td>Turnbull</td>\n",
       "    </tr>\n",
       "  </tbody>\n",
       "</table>\n",
       "</div>"
      ],
      "text/plain": [
       "   ProductKey  ProductId  Appellation            Varietal  Vineyard\n",
       "0           2     127554  Napa Valley  Cabernet Sauvignon  Turnbull\n",
       "1           3     133070  Napa Valley  Cabernet Sauvignon  Turnbull\n",
       "2           4     114037  Napa Valley  Cabernet Sauvignon  Turnbull\n",
       "5           7     109508  Napa Valley    Other Red Blends  Turnbull\n",
       "6           8     110277  Napa Valley              Merlot  Turnbull"
      ]
     },
     "execution_count": 5,
     "metadata": {},
     "output_type": "execute_result"
    }
   ],
   "source": [
    "products_df.head()"
   ]
  },
  {
   "cell_type": "code",
   "execution_count": 6,
   "metadata": {
    "collapsed": false
   },
   "outputs": [],
   "source": [
    "rating_df = pd.read_pickle(pseudo_ratings_path)"
   ]
  },
  {
   "cell_type": "code",
   "execution_count": 7,
   "metadata": {
    "collapsed": false
   },
   "outputs": [
    {
     "data": {
      "text/html": [
       "<div>\n",
       "<table border=\"1\" class=\"dataframe\">\n",
       "  <thead>\n",
       "    <tr style=\"text-align: right;\">\n",
       "      <th></th>\n",
       "      <th>CustomerHash</th>\n",
       "      <th>ProductKey</th>\n",
       "      <th>Ratings</th>\n",
       "    </tr>\n",
       "  </thead>\n",
       "  <tbody>\n",
       "    <tr>\n",
       "      <th>0</th>\n",
       "      <td>D3BE5BC2AA8796FCD402023CD6E5A6AC</td>\n",
       "      <td>95350</td>\n",
       "      <td>5</td>\n",
       "    </tr>\n",
       "    <tr>\n",
       "      <th>1</th>\n",
       "      <td>64F6A2CEC420680A259172BF4CF17CE2</td>\n",
       "      <td>95375</td>\n",
       "      <td>4</td>\n",
       "    </tr>\n",
       "    <tr>\n",
       "      <th>2</th>\n",
       "      <td>6131DC57D6050C3EB674DD8722C83B2B</td>\n",
       "      <td>79964</td>\n",
       "      <td>5</td>\n",
       "    </tr>\n",
       "    <tr>\n",
       "      <th>3</th>\n",
       "      <td>525CD8F0BF94E814F16F4FA947B995B6</td>\n",
       "      <td>102020</td>\n",
       "      <td>5</td>\n",
       "    </tr>\n",
       "    <tr>\n",
       "      <th>4</th>\n",
       "      <td>710DBFAAB43DF7B5E304ED0D26B7966A</td>\n",
       "      <td>129946</td>\n",
       "      <td>3</td>\n",
       "    </tr>\n",
       "  </tbody>\n",
       "</table>\n",
       "</div>"
      ],
      "text/plain": [
       "                       CustomerHash  ProductKey  Ratings\n",
       "0  D3BE5BC2AA8796FCD402023CD6E5A6AC       95350        5\n",
       "1  64F6A2CEC420680A259172BF4CF17CE2       95375        4\n",
       "2  6131DC57D6050C3EB674DD8722C83B2B       79964        5\n",
       "3  525CD8F0BF94E814F16F4FA947B995B6      102020        5\n",
       "4  710DBFAAB43DF7B5E304ED0D26B7966A      129946        3"
      ]
     },
     "execution_count": 7,
     "metadata": {},
     "output_type": "execute_result"
    }
   ],
   "source": [
    "rating_df.head()"
   ]
  },
  {
   "cell_type": "markdown",
   "metadata": {},
   "source": [
    "#### Get Subset of Data"
   ]
  },
  {
   "cell_type": "code",
   "execution_count": 8,
   "metadata": {
    "collapsed": false
   },
   "outputs": [],
   "source": [
    "# Spark keeps crashing when using full data set\n",
    "# Perhaps running Sparking on AWS cluster will help\n",
    "rating_df = rating_df.sample(n = 500000)"
   ]
  },
  {
   "cell_type": "markdown",
   "metadata": {},
   "source": [
    "### Format Data for Spark Recommender\n",
    "    Data needs to be in this form --> (user_id, item_id, n_purchases)"
   ]
  },
  {
   "cell_type": "code",
   "execution_count": 9,
   "metadata": {
    "collapsed": true
   },
   "outputs": [],
   "source": [
    "# number of nodes in local spark cluster\n",
    "n_nodes = 3\n",
    "sc = pyspark.SparkContext(master = \"local[{}]\".format(n_nodes))"
   ]
  },
  {
   "cell_type": "code",
   "execution_count": 10,
   "metadata": {
    "collapsed": true
   },
   "outputs": [],
   "source": [
    "def get_df_values_by_col(df):\n",
    "    cust_tags = df.CustomerHash.values\n",
    "    wine_productKeys = df.ProductKey.values\n",
    "    ratings = df.Ratings.values\n",
    "    return cust_tags, wine_productKeys, ratings"
   ]
  },
  {
   "cell_type": "code",
   "execution_count": 11,
   "metadata": {
    "collapsed": true
   },
   "outputs": [],
   "source": [
    "def create_userHash_userid_pairs(cust_tags):\n",
    "    # create int:cust_tag key value pairs\n",
    "    # spark can't read string user ids\n",
    "    index_to_int = np.arange(0, len(cust_tags) * 100, 100)\n",
    "    return  index_to_int, [ [tag_int, tag_hash] for tag_hash, tag_int in zip(cust_tags, index_to_int)]"
   ]
  },
  {
   "cell_type": "code",
   "execution_count": 12,
   "metadata": {
    "collapsed": false
   },
   "outputs": [],
   "source": [
    "cust_tags, wine_productKeys, ratings = get_df_values_by_col(rating_df)"
   ]
  },
  {
   "cell_type": "code",
   "execution_count": 13,
   "metadata": {
    "collapsed": false
   },
   "outputs": [],
   "source": [
    "index_to_int, cust_tag_bridge = create_userHash_userid_pairs(cust_tags)"
   ]
  },
  {
   "cell_type": "markdown",
   "metadata": {},
   "source": [
    "#### Wine Products RDD"
   ]
  },
  {
   "cell_type": "code",
   "execution_count": 14,
   "metadata": {
    "collapsed": true
   },
   "outputs": [],
   "source": [
    "# create products_rdd\n",
    "products_rdd = sc.parallelize(products_df.values.tolist())"
   ]
  },
  {
   "cell_type": "code",
   "execution_count": 15,
   "metadata": {
    "collapsed": false
   },
   "outputs": [],
   "source": [
    "# format --> (productKey, (productID, Appellation, Varietal, Vinyard) )\n",
    "products_rdd = products_rdd.map(lambda row: (row[0], (row[1], row[2], row[3], row[4]) )   )"
   ]
  },
  {
   "cell_type": "code",
   "execution_count": 16,
   "metadata": {
    "collapsed": false
   },
   "outputs": [
    {
     "data": {
      "text/plain": [
       "[(2, (127554, 'Napa Valley', 'Cabernet Sauvignon', 'Turnbull')),\n",
       " (3, (133070, 'Napa Valley', 'Cabernet Sauvignon', 'Turnbull'))]"
      ]
     },
     "execution_count": 16,
     "metadata": {},
     "output_type": "execute_result"
    }
   ],
   "source": [
    "products_rdd.take(2)"
   ]
  },
  {
   "cell_type": "code",
   "execution_count": 17,
   "metadata": {
    "collapsed": false
   },
   "outputs": [],
   "source": [
    "complete_data = rating_df.values.tolist()"
   ]
  },
  {
   "cell_type": "code",
   "execution_count": 18,
   "metadata": {
    "collapsed": true
   },
   "outputs": [],
   "source": [
    "# create bride rdd for customer tags and customer ids\n",
    "cust_tag_bridge_rdd = sc.parallelize(cust_tag_bridge)"
   ]
  },
  {
   "cell_type": "markdown",
   "metadata": {},
   "source": [
    "### Move Complete Data to RDD"
   ]
  },
  {
   "cell_type": "code",
   "execution_count": 19,
   "metadata": {
    "collapsed": false
   },
   "outputs": [],
   "source": [
    "complete_data_rdd = sc.parallelize(complete_data)"
   ]
  },
  {
   "cell_type": "code",
   "execution_count": 20,
   "metadata": {
    "collapsed": false
   },
   "outputs": [],
   "source": [
    "complete_data_rdd = complete_data_rdd.map(lambda row: (row[0], (row[1], row[2])) )"
   ]
  },
  {
   "cell_type": "code",
   "execution_count": 21,
   "metadata": {
    "collapsed": false
   },
   "outputs": [],
   "source": [
    "cust_tag_bridge_rdd = cust_tag_bridge_rdd.map(lambda row: (row[1],row[0]))"
   ]
  },
  {
   "cell_type": "code",
   "execution_count": 22,
   "metadata": {
    "collapsed": false
   },
   "outputs": [],
   "source": [
    "complete_data_id_bridge_rdd = \\\n",
    "complete_data_rdd.join(cust_tag_bridge_rdd)"
   ]
  },
  {
   "cell_type": "code",
   "execution_count": 23,
   "metadata": {
    "collapsed": false
   },
   "outputs": [],
   "source": [
    "# format -->  (user_id, wine_id, rating)\n",
    "clean_data_rdd =\\\n",
    "complete_data_id_bridge_rdd.map(lambda row: (row[1][1], row[1][0][0], row[1][0][1] )   )"
   ]
  },
  {
   "cell_type": "code",
   "execution_count": 24,
   "metadata": {
    "collapsed": false
   },
   "outputs": [],
   "source": [
    "# save spark ready data to file\n",
    "# path = \"/Users/Alexander/WINE/data/spark_ready_data.pkl\"\n",
    "# cPickle.dump(clean_data_local, open(path, \"w\"))"
   ]
  },
  {
   "cell_type": "code",
   "execution_count": 25,
   "metadata": {
    "collapsed": false
   },
   "outputs": [],
   "source": [
    "#load spark ready data \n",
    "# path = \"/Users/Alexander/WINE/data/spark_ready_data.pkl\"\n",
    "# data = cPickle.load(open(path , 'r'))"
   ]
  },
  {
   "cell_type": "markdown",
   "metadata": {},
   "source": [
    "### Create Train, Test, and Validation Sets"
   ]
  },
  {
   "cell_type": "code",
   "execution_count": 26,
   "metadata": {
    "collapsed": false
   },
   "outputs": [],
   "source": [
    "# split data into sets in appropriate proprotions, i.e. weights = [6, 2, 2]\n",
    "training_RDD, validation_RDD, test_RDD = clean_data_rdd.randomSplit([6, 2, 2], seed=0)"
   ]
  },
  {
   "cell_type": "code",
   "execution_count": 27,
   "metadata": {
    "collapsed": true
   },
   "outputs": [],
   "source": [
    "# format data so that the key is (user_id, wine_feat)\n",
    "validation_for_predict_RDD = validation_RDD.map(lambda x: (x[0], x[1]))\n",
    "test_for_predict_RDD = test_RDD.map(lambda x: (x[0], x[1]))"
   ]
  },
  {
   "cell_type": "code",
   "execution_count": 28,
   "metadata": {
    "collapsed": false
   },
   "outputs": [
    {
     "data": {
      "text/plain": [
       "[(1162600, 8630, 4),\n",
       " (5744500, 91637, 5),\n",
       " (18133500, 91637, 5),\n",
       " (27481500, 91637, 5),\n",
       " (32731000, 91637, 5)]"
      ]
     },
     "execution_count": 28,
     "metadata": {},
     "output_type": "execute_result"
    }
   ],
   "source": [
    "# sanity check\n",
    "training_RDD.take(5)"
   ]
  },
  {
   "cell_type": "code",
   "execution_count": 29,
   "metadata": {
    "collapsed": false
   },
   "outputs": [
    {
     "data": {
      "text/plain": [
       "[(15536500, 91637),\n",
       " (17967100, 91637),\n",
       " (29664800, 91637),\n",
       " (31077900, 91637),\n",
       " (5744500, 85829)]"
      ]
     },
     "execution_count": 29,
     "metadata": {},
     "output_type": "execute_result"
    }
   ],
   "source": [
    "validation_for_predict_RDD.take(5)"
   ]
  },
  {
   "cell_type": "code",
   "execution_count": 30,
   "metadata": {
    "collapsed": false
   },
   "outputs": [
    {
     "data": {
      "text/plain": [
       "[(32905700, 58268),\n",
       " (20118200, 91637),\n",
       " (20867000, 91637),\n",
       " (22829500, 91637),\n",
       " (24221400, 91637)]"
      ]
     },
     "execution_count": 30,
     "metadata": {},
     "output_type": "execute_result"
    }
   ],
   "source": [
    "test_for_predict_RDD.take(5)"
   ]
  },
  {
   "cell_type": "markdown",
   "metadata": {
    "collapsed": true
   },
   "source": [
    "### Train Recommender"
   ]
  },
  {
   "cell_type": "code",
   "execution_count": 31,
   "metadata": {
    "collapsed": true
   },
   "outputs": [],
   "source": [
    "seed = 5L\n",
    "iterations = 10\n",
    "regularization_parameter = 0.1\n",
    "ranks = [8, 12, 16]\n",
    "errors = [0, 0, 0]\n",
    "err = 0\n",
    "tolerance = 0.02"
   ]
  },
  {
   "cell_type": "code",
   "execution_count": 32,
   "metadata": {
    "collapsed": true
   },
   "outputs": [],
   "source": [
    "min_error = float('inf')\n",
    "best_rank = -1\n",
    "best_iteration = -1"
   ]
  },
  {
   "cell_type": "code",
   "execution_count": 33,
   "metadata": {
    "collapsed": false
   },
   "outputs": [
    {
     "name": "stdout",
     "output_type": "stream",
     "text": [
      "For rank 12 the RMSE is 0.282031090896\n",
      "The best model was trained with rank 12\n"
     ]
    }
   ],
   "source": [
    "# pre-liminary run shows that ALS.train performs much better than ALS.trainImplict\n",
    "\n",
    "# iterate through ranks (n_latent feats) to find best performing model\n",
    "for rank in ranks:\n",
    "    model = ALS.train(training_RDD, \n",
    "                      rank, \n",
    "                      seed=seed, \n",
    "                      iterations=iterations,\n",
    "                      lambda_=regularization_parameter,\n",
    "                      nonnegative=True)\n",
    "    \n",
    "#     model = ALS.trainImplicit(ratings=training_RDD, \n",
    "#                       rank=rank, \n",
    "#                       seed=seed, \n",
    "#                       iterations=iterations,\n",
    "#                       lambda_=regularization_parameter,\n",
    "#                       alpha=0.1,\n",
    "#                       nonnegative=True)\n",
    "\n",
    "    # (r[0], r[1]), r[2]) --> user_id, wine_id, rating \n",
    "    predictions = model.predictAll(validation_for_predict_RDD).map(lambda r: ((r[0], r[1]), r[2]))\n",
    "    \n",
    "    # combine predictions and validation sets\n",
    "    rates_and_preds = validation_RDD.map(lambda r: ((int(r[0]), int(r[1])), float(r[2])))\\\n",
    "                                    .join(predictions)\n",
    "    # get RMSE for each rank\n",
    "    error = math.sqrt(rates_and_preds.map(lambda r: (r[1][0] - r[1][1])**2).mean())\n",
    "    \n",
    "    # store rank's error to list\n",
    "    errors[err] = error\n",
    "    err += 1\n",
    "    \n",
    "    print 'For rank %s the RMSE is %s' % (rank, error)\n",
    "    # assign best performing rank\n",
    "    if error < min_error:\n",
    "        min_error = error\n",
    "        best_rank = rank\n",
    "\n",
    "print 'The best model was trained with rank %s' % best_rank"
   ]
  },
  {
   "cell_type": "code",
   "execution_count": 34,
   "metadata": {
    "collapsed": false,
    "scrolled": true
   },
   "outputs": [
    {
     "data": {
      "text/plain": [
       "[((16530300, 43104), 4.855068138767528),\n",
       " ((16530300, 84993), 4.829131104728967),\n",
       " ((16530300, 84993), 4.829131104728967)]"
      ]
     },
     "execution_count": 34,
     "metadata": {},
     "output_type": "execute_result"
    }
   ],
   "source": [
    "predictions.take(3)"
   ]
  },
  {
   "cell_type": "code",
   "execution_count": 35,
   "metadata": {
    "collapsed": false
   },
   "outputs": [
    {
     "data": {
      "text/plain": [
       "[(15536500, 91637, 5)]"
      ]
     },
     "execution_count": 35,
     "metadata": {},
     "output_type": "execute_result"
    }
   ],
   "source": [
    "validation_RDD.take(1)"
   ]
  },
  {
   "cell_type": "code",
   "execution_count": 36,
   "metadata": {
    "collapsed": false
   },
   "outputs": [
    {
     "data": {
      "text/plain": [
       "[((12248400, 95473), (5.0, 4.606306783490254)),\n",
       " ((20425300, 4109), (5.0, 4.804794030363759)),\n",
       " ((49201400, 53032), (4.0, 3.8254028142251393)),\n",
       " ((28699100, 56507), (5.0, 4.807317246380448)),\n",
       " ((14475400, 38369), (4.0, 3.852179366988439))]"
      ]
     },
     "execution_count": 36,
     "metadata": {},
     "output_type": "execute_result"
    }
   ],
   "source": [
    "# ( (user_id, wine_id), (true_rating, pred_rating)  )\n",
    "rates_and_preds.take(5)"
   ]
  },
  {
   "cell_type": "markdown",
   "metadata": {},
   "source": [
    "### Test Best Performing Model with Test Set"
   ]
  },
  {
   "cell_type": "code",
   "execution_count": 37,
   "metadata": {
    "collapsed": false
   },
   "outputs": [
    {
     "name": "stdout",
     "output_type": "stream",
     "text": [
      "For testing data the RMSE is 0.382633786773\n"
     ]
    }
   ],
   "source": [
    "model_best = ALS.train(training_RDD, \n",
    "                  best_rank, \n",
    "                  seed=seed, \n",
    "                  iterations=iterations,\n",
    "                  lambda_=regularization_parameter)\n",
    "\n",
    "predictions = model_best.predictAll(test_for_predict_RDD).map(lambda r: ((r[0], r[1]), r[2]))\n",
    "\n",
    "rates_and_preds = test_RDD.map(lambda r: ((int(r[0]), int(r[1])), float(r[2]))).join(predictions)\n",
    "\n",
    "error = math.sqrt(rates_and_preds.map(lambda r: (r[1][0] - r[1][1])**2).mean())\n",
    "    \n",
    "print 'For testing data the RMSE is %s' % (error)"
   ]
  },
  {
   "cell_type": "code",
   "execution_count": 38,
   "metadata": {
    "collapsed": false
   },
   "outputs": [
    {
     "data": {
      "text/plain": [
       "[((31534200, 6306), 4.725018152874531)]"
      ]
     },
     "execution_count": 38,
     "metadata": {},
     "output_type": "execute_result"
    }
   ],
   "source": [
    "predictions.take(1)"
   ]
  },
  {
   "cell_type": "markdown",
   "metadata": {},
   "source": [
    "###  Assign user tags and wine names to predictions"
   ]
  },
  {
   "cell_type": "code",
   "execution_count": 39,
   "metadata": {
    "collapsed": false
   },
   "outputs": [
    {
     "data": {
      "text/plain": [
       "[(2, (127554, 'Napa Valley', 'Cabernet Sauvignon', 'Turnbull')),\n",
       " (3, (133070, 'Napa Valley', 'Cabernet Sauvignon', 'Turnbull'))]"
      ]
     },
     "execution_count": 39,
     "metadata": {},
     "output_type": "execute_result"
    }
   ],
   "source": [
    "products_rdd.take(2)"
   ]
  },
  {
   "cell_type": "code",
   "execution_count": 40,
   "metadata": {
    "collapsed": false
   },
   "outputs": [
    {
     "data": {
      "text/plain": [
       "[('7FB94B0031E91D1A154EF2ABE5A592B9', 0),\n",
       " ('23BF359699C02CBFAA556A0F83E37F6F', 100)]"
      ]
     },
     "execution_count": 40,
     "metadata": {},
     "output_type": "execute_result"
    }
   ],
   "source": [
    "cust_tag_bridge_rdd.take(2)"
   ]
  },
  {
   "cell_type": "code",
   "execution_count": 41,
   "metadata": {
    "collapsed": false
   },
   "outputs": [
    {
     "data": {
      "text/plain": [
       "[(31534200, (6306, 4.725018152874531)),\n",
       " (16530300, (21067, 4.847240108239152)),\n",
       " (16530300, (25253, 4.8431486448950025)),\n",
       " (28975200, (140103, 3.823485597797087)),\n",
       " (28975200, (140460, 1.9168850711443555))]"
      ]
     },
     "execution_count": 41,
     "metadata": {},
     "output_type": "execute_result"
    }
   ],
   "source": [
    "predictions.map(lambda row: (row[0][0], (row[0][1], row[1]) ) ).take(5)"
   ]
  },
  {
   "cell_type": "code",
   "execution_count": 42,
   "metadata": {
    "collapsed": false
   },
   "outputs": [],
   "source": [
    "# format --> (wine_id, (user_tag, rating)  )\n",
    "wineID_userTag_ratings_rdd = \\\n",
    "predictions.map(lambda row: (row[0][0], (row[0][1], row[1]) ) )\\\n",
    "           .join(cust_tag_bridge_rdd)\\\n",
    "           .map(lambda row: (row[1][0][0],  (row[1][1], row[1][0][1])  ) )"
   ]
  },
  {
   "cell_type": "code",
   "execution_count": 43,
   "metadata": {
    "collapsed": false
   },
   "outputs": [],
   "source": [
    "# format --> (wine_id, appellation, varietal, vineyard, user_tag, rating)\n",
    "complete_prediction_data =\\\n",
    "wineID_userTag_ratings_rdd.join(products_rdd)\\\n",
    "                          .map(lambda row: (row[1][1][0], \n",
    "                                            row[1][1][1], \n",
    "                                            row[1][1][2], \n",
    "                                            row[1][1][3], \n",
    "                                            row[1][0][0], \n",
    "                                            row[1][0][1]  ) ) "
   ]
  },
  {
   "cell_type": "markdown",
   "metadata": {},
   "source": [
    "### Get top K recommendations for an existing user"
   ]
  },
  {
   "cell_type": "code",
   "execution_count": 44,
   "metadata": {
    "collapsed": true
   },
   "outputs": [],
   "source": [
    "# will get K predictions for user with this id\n",
    "user_id = 0"
   ]
  },
  {
   "cell_type": "code",
   "execution_count": 45,
   "metadata": {
    "collapsed": false
   },
   "outputs": [
    {
     "data": {
      "text/plain": [
       "[(32905700, 58268, 5), (1162600, 8630, 4)]"
      ]
     },
     "execution_count": 45,
     "metadata": {},
     "output_type": "execute_result"
    }
   ],
   "source": [
    "#Let's now get some recommendations! \n",
    "#For that we will get an RDD with all the movies the new user hasn't rated yet. \n",
    "#We will them together with the model to predict ratings.\n",
    "clean_data_rdd.take(2)"
   ]
  },
  {
   "cell_type": "code",
   "execution_count": 46,
   "metadata": {
    "collapsed": false
   },
   "outputs": [],
   "source": [
    "# ( user_id, movie_id, rating  )\n",
    "# get user 0's movie ids in a list\n",
    "movie_ids = clean_data_rdd.filter(lambda row: row[0] == user_id )\\\n",
    "                           .map(lambda row: row[1]).collect()"
   ]
  },
  {
   "cell_type": "code",
   "execution_count": 47,
   "metadata": {
    "collapsed": false
   },
   "outputs": [
    {
     "data": {
      "text/plain": [
       "[140922]"
      ]
     },
     "execution_count": 47,
     "metadata": {},
     "output_type": "execute_result"
    }
   ],
   "source": [
    "# wine_ids that user_id has not purchased\n",
    "movie_ids"
   ]
  },
  {
   "cell_type": "code",
   "execution_count": 48,
   "metadata": {
    "collapsed": false
   },
   "outputs": [],
   "source": [
    "# get wine_ids that user 0 has not purchased \n",
    "unpurchased_wines = \\\n",
    "clean_data_rdd.filter(lambda row: row[0] != user_id )\\\n",
    "    .filter(lambda row: row[2] not in  movie_ids)\\\n",
    "    .map(lambda row: (user_id, row[1] ) ).distinct()"
   ]
  },
  {
   "cell_type": "code",
   "execution_count": 49,
   "metadata": {
    "collapsed": false
   },
   "outputs": [
    {
     "data": {
      "text/plain": [
       "39899"
      ]
     },
     "execution_count": 49,
     "metadata": {},
     "output_type": "execute_result"
    }
   ],
   "source": [
    "unpurchased_wines.count()"
   ]
  },
  {
   "cell_type": "markdown",
   "metadata": {},
   "source": [
    "#### Get Recommendations for Single User"
   ]
  },
  {
   "cell_type": "code",
   "execution_count": 50,
   "metadata": {
    "collapsed": false
   },
   "outputs": [],
   "source": [
    "user_recs = model_best.predictAll(unpurchased_wines)"
   ]
  },
  {
   "cell_type": "code",
   "execution_count": 51,
   "metadata": {
    "collapsed": false
   },
   "outputs": [
    {
     "data": {
      "text/plain": [
       "[Rating(user=0, product=18624, rating=0.46908649515432366),\n",
       " Rating(user=0, product=120018, rating=1.8333220174762752),\n",
       " Rating(user=0, product=23556, rating=0.9080505226436114),\n",
       " Rating(user=0, product=76569, rating=2.477164601205952),\n",
       " Rating(user=0, product=84750, rating=3.096918076105213)]"
      ]
     },
     "execution_count": 51,
     "metadata": {},
     "output_type": "execute_result"
    }
   ],
   "source": [
    "# Wine Recommendations, for user 0, without prior purchase \n",
    "user_recs.take(5)"
   ]
  },
  {
   "cell_type": "markdown",
   "metadata": {},
   "source": [
    "### Distribution of Predicted Ratings for User"
   ]
  },
  {
   "cell_type": "code",
   "execution_count": 52,
   "metadata": {
    "collapsed": true
   },
   "outputs": [],
   "source": [
    "local_ratings = user_recs.map(lambda row: row[2]).collect()"
   ]
  },
  {
   "cell_type": "code",
   "execution_count": 69,
   "metadata": {
    "collapsed": false
   },
   "outputs": [
    {
     "data": {
      "image/png": "[encoded data removed]",
      "text/plain": [
       "<matplotlib.figure.Figure at 0x125912ad0>"
      ]
     },
     "metadata": {},
     "output_type": "display_data"
    }
   ],
   "source": [
    "plt.figure(figsize = (12, 8));\n",
    "plt.hist(np.abs(local_ratings), bins = 80);"
   ]
  },
  {
   "cell_type": "markdown",
   "metadata": {},
   "source": [
    "#### Get Count of Ratings for Each Wine"
   ]
  },
  {
   "cell_type": "code",
   "execution_count": 55,
   "metadata": {
    "collapsed": false
   },
   "outputs": [],
   "source": [
    "# build wine_purchase_count rdd to filter out unpopular recommendations \n",
    "# get ( wine_id, n_total_purchases )\n",
    "wine_id_with_purchases_rdd = \\\n",
    "clean_data_rdd.map(lambda row: (row[1], row[2]) ).groupByKey()"
   ]
  },
  {
   "cell_type": "code",
   "execution_count": 56,
   "metadata": {
    "collapsed": true
   },
   "outputs": [],
   "source": [
    "def get_counts_and_averages(ID_and_purchases_tuple):\n",
    "    n_purchases = float(sum(x for x in ID_and_purchases_tuple[1]))\n",
    "    ave_norm = len(ID_and_purchases_tuple[1])\n",
    "    # ( wine_id,  ( n_purchases, ave_n_purchases )    )\n",
    "    return ID_and_purchases_tuple[0], (n_purchases, n_purchases /ave_norm)"
   ]
  },
  {
   "cell_type": "code",
   "execution_count": 57,
   "metadata": {
    "collapsed": false,
    "scrolled": false
   },
   "outputs": [],
   "source": [
    "wine_id_with_purchase_count_and_ave_rdd = wine_id_with_purchases_rdd.map(get_counts_and_averages)"
   ]
  },
  {
   "cell_type": "code",
   "execution_count": 58,
   "metadata": {
    "collapsed": false
   },
   "outputs": [],
   "source": [
    "wine_id_with_purchase_count_rdd = \\\n",
    "wine_id_with_purchase_count_and_ave_rdd.map(lambda row: (row[0], row[1][0]) )"
   ]
  },
  {
   "cell_type": "code",
   "execution_count": 59,
   "metadata": {
    "collapsed": false
   },
   "outputs": [
    {
     "data": {
      "text/plain": [
       "[(6, 9.0)]"
      ]
     },
     "execution_count": 59,
     "metadata": {},
     "output_type": "execute_result"
    }
   ],
   "source": [
    "# format -->  (wine_id, ratings_count )\n",
    "wine_id_with_purchase_count_rdd.take(1)"
   ]
  },
  {
   "cell_type": "code",
   "execution_count": 60,
   "metadata": {
    "collapsed": false
   },
   "outputs": [
    {
     "data": {
      "text/plain": [
       "[(48,\n",
       "  ((1.1913236228633604, 56.0),\n",
       "   (122791, 'Sonoma County', 'Pinot Noir', 'Patz & Hall')))]"
      ]
     },
     "execution_count": 60,
     "metadata": {},
     "output_type": "execute_result"
    }
   ],
   "source": [
    "user_recs.map(lambda row: (row[1], row[2] ))\\\n",
    "         .join(wine_id_with_purchase_count_rdd)\\\n",
    "         .join(products_rdd)\\\n",
    "         .take(1)"
   ]
  },
  {
   "cell_type": "code",
   "execution_count": 61,
   "metadata": {
    "collapsed": false
   },
   "outputs": [],
   "source": [
    "# format --> (productID, Appellation, Varietal, Vineyard, Rating, Rating Count)\n",
    "user_recs_clean = \\\n",
    "user_recs.map(lambda row: (row[1], row[2] ))\\\n",
    "         .join(wine_id_with_purchase_count_rdd)\\\n",
    "         .join(products_rdd)\\\n",
    "         .map(lambda row: (row[1][1][0], \n",
    "                           row[1][1][1], \n",
    "                           row[1][1][2], \n",
    "                           row[1][1][3], \n",
    "                           row[1][0][0], \n",
    "                           row[1][0][1] ))"
   ]
  },
  {
   "cell_type": "code",
   "execution_count": 62,
   "metadata": {
    "collapsed": false
   },
   "outputs": [
    {
     "data": {
      "text/plain": [
       "[(122791,\n",
       "  'Sonoma County',\n",
       "  'Pinot Noir',\n",
       "  'Patz & Hall',\n",
       "  1.1913236228633604,\n",
       "  56.0)]"
      ]
     },
     "execution_count": 62,
     "metadata": {},
     "output_type": "execute_result"
    }
   ],
   "source": [
    "user_recs_clean.take(1)"
   ]
  },
  {
   "cell_type": "markdown",
   "metadata": {},
   "source": [
    "### Top k Recommendations for Single User, m "
   ]
  },
  {
   "cell_type": "code",
   "execution_count": 63,
   "metadata": {
    "collapsed": false
   },
   "outputs": [],
   "source": [
    "# ( wine_tag, pred_rating, total_n_purchases  )\n",
    "# the neg in \"key\" indicates descending order\n",
    "top_k = 10\n",
    "top_k_wine_recs = user_recs_clean.takeOrdered(top_k, key=lambda row: -row[4])"
   ]
  },
  {
   "cell_type": "code",
   "execution_count": 64,
   "metadata": {
    "collapsed": false
   },
   "outputs": [
    {
     "data": {
      "text/plain": [
       "[(84369,\n",
       "  'Other Australia',\n",
       "  'Chardonnay',\n",
       "  'Trevor Jones',\n",
       "  5.380739349420712,\n",
       "  415.0),\n",
       " (126839,\n",
       "  'Other California',\n",
       "  'Other White Blends',\n",
       "  'Fifty Shades of Grey',\n",
       "  5.066814392958143,\n",
       "  355.0),\n",
       " (138923, 'Napa Valley', 'Chardonnay', 'Cakebread', 4.984116896715815, 150.0),\n",
       " (85667,\n",
       "  'Central Coast',\n",
       "  'Chardonnay',\n",
       "  'Kendall-Jackson',\n",
       "  4.9229526202898235,\n",
       "  705.0),\n",
       " (91207,\n",
       "  'Central Coast',\n",
       "  'Chardonnay',\n",
       "  'Bernardus',\n",
       "  4.873421558144883,\n",
       "  1340.0),\n",
       " (126267,\n",
       "  'Marlborough',\n",
       "  'Sauvignon Blanc',\n",
       "  'Brancott',\n",
       "  4.807674054085124,\n",
       "  740.0),\n",
       " (105082,\n",
       "  'Sonoma County',\n",
       "  'Pinot Noir',\n",
       "  'Hartford Court',\n",
       "  4.740581647742314,\n",
       "  1140.0),\n",
       " (110001,\n",
       "  'Napa Valley',\n",
       "  'Cabernet Sauvignon',\n",
       "  'Hall',\n",
       "  4.7305402482237175,\n",
       "  1195.0),\n",
       " (88591,\n",
       "  'Chateauneuf-du-Pape',\n",
       "  'Rhone Red Blends',\n",
       "  'Guigal',\n",
       "  4.726060758550213,\n",
       "  180.0),\n",
       " (131570,\n",
       "  'Central Coast',\n",
       "  'Sauvignon Blanc',\n",
       "  'SeaGlass',\n",
       "  4.691501604480356,\n",
       "  800.0)]"
      ]
     },
     "execution_count": 64,
     "metadata": {},
     "output_type": "execute_result"
    }
   ],
   "source": [
    "top_k_wine_recs"
   ]
  }
 ],
 "metadata": {
  "kernelspec": {
   "display_name": "Python 2",
   "language": "python",
   "name": "python2"
  },
  "language_info": {
   "codemirror_mode": {
    "name": "ipython",
    "version": 2
   },
   "file_extension": ".py",
   "mimetype": "text/x-python",
   "name": "python",
   "nbconvert_exporter": "python",
   "pygments_lexer": "ipython2",
   "version": "2.7.11"
  }
 },
 "nbformat": 4,
 "nbformat_minor": 0
}
