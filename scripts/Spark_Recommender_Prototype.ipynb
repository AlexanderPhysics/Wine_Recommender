{
 "cells": [
  {
   "cell_type": "markdown",
   "metadata": {},
   "source": [
    "## Make Recommendations\n",
    "    Train the model on the entire data set. \n",
    "    Recommend the top 5 wines from the top 5 varietals for each user. \n",
    "    These wines will be previously unpurchased wines by the user. "
   ]
  },
  {
   "cell_type": "markdown",
   "metadata": {},
   "source": [
    "#### Import Libraries"
   ]
  },
  {
   "cell_type": "code",
   "execution_count": 41,
   "metadata": {
    "collapsed": false
   },
   "outputs": [
    {
     "data": {
      "text/html": [
       "<style>.container { width:80% !important; }</style>"
      ],
      "text/plain": [
       "<IPython.core.display.HTML object>"
      ]
     },
     "execution_count": 41,
     "metadata": {},
     "output_type": "execute_result"
    }
   ],
   "source": [
    "# increase area of notebook - good for plots \n",
    "# from IPython.core.display import HTML\n",
    "# HTML(\"<style>.container { width:80% !important; }</style>\")"
   ]
  },
  {
   "cell_type": "code",
   "execution_count": 1,
   "metadata": {
    "collapsed": false
   },
   "outputs": [],
   "source": [
    "import numpy as np\n",
    "import pandas as pd\n",
    "import numpy as np\n",
    "import matplotlib.pyplot as plt\n",
    "import os\n",
    "import cPickle\n",
    "from time import time\n",
    "from sklearn.utils import shuffle\n",
    "from collections import defaultdict, Counter\n",
    "import pyspark\n",
    "% matplotlib inline"
   ]
  },
  {
   "cell_type": "code",
   "execution_count": 2,
   "metadata": {
    "collapsed": true
   },
   "outputs": [],
   "source": [
    "from  pyspark import SparkContext\n",
    "from pyspark.mllib.recommendation import ALS, MatrixFactorizationModel\n",
    "import math"
   ]
  },
  {
   "cell_type": "markdown",
   "metadata": {},
   "source": [
    "#### Import Data"
   ]
  },
  {
   "cell_type": "code",
   "execution_count": 3,
   "metadata": {
    "collapsed": true
   },
   "outputs": [],
   "source": [
    "home = \"/Users/Alexander/Wine_Recommender/data/\"\n",
    "ratings_path = home + \"spark_ready_data.pkl\"\n",
    "products_path = home + \"wine_products.pkl\""
   ]
  },
  {
   "cell_type": "code",
   "execution_count": 92,
   "metadata": {
    "collapsed": false
   },
   "outputs": [],
   "source": [
    "products_df = pd.read_pickle(products_path)"
   ]
  },
  {
   "cell_type": "code",
   "execution_count": 93,
   "metadata": {
    "collapsed": false
   },
   "outputs": [
    {
     "data": {
      "text/html": [
       "<div>\n",
       "<table border=\"1\" class=\"dataframe\">\n",
       "  <thead>\n",
       "    <tr style=\"text-align: right;\">\n",
       "      <th></th>\n",
       "      <th>ProductKey</th>\n",
       "      <th>ProductId</th>\n",
       "      <th>Appellation</th>\n",
       "      <th>Varietal</th>\n",
       "      <th>Vineyard</th>\n",
       "      <th>Class</th>\n",
       "    </tr>\n",
       "  </thead>\n",
       "  <tbody>\n",
       "    <tr>\n",
       "      <th>0</th>\n",
       "      <td>2</td>\n",
       "      <td>127554</td>\n",
       "      <td>Napa Valley</td>\n",
       "      <td>Cabernet Sauvignon</td>\n",
       "      <td>Turnbull</td>\n",
       "      <td>Red Wines</td>\n",
       "    </tr>\n",
       "    <tr>\n",
       "      <th>1</th>\n",
       "      <td>3</td>\n",
       "      <td>133070</td>\n",
       "      <td>Napa Valley</td>\n",
       "      <td>Cabernet Sauvignon</td>\n",
       "      <td>Turnbull</td>\n",
       "      <td>Red Wines</td>\n",
       "    </tr>\n",
       "    <tr>\n",
       "      <th>2</th>\n",
       "      <td>4</td>\n",
       "      <td>114037</td>\n",
       "      <td>Napa Valley</td>\n",
       "      <td>Cabernet Sauvignon</td>\n",
       "      <td>Turnbull</td>\n",
       "      <td>Red Wines</td>\n",
       "    </tr>\n",
       "    <tr>\n",
       "      <th>5</th>\n",
       "      <td>7</td>\n",
       "      <td>109508</td>\n",
       "      <td>Napa Valley</td>\n",
       "      <td>Other Red Blends</td>\n",
       "      <td>Turnbull</td>\n",
       "      <td>Red Wines</td>\n",
       "    </tr>\n",
       "    <tr>\n",
       "      <th>6</th>\n",
       "      <td>8</td>\n",
       "      <td>110277</td>\n",
       "      <td>Napa Valley</td>\n",
       "      <td>Merlot</td>\n",
       "      <td>Turnbull</td>\n",
       "      <td>Red Wines</td>\n",
       "    </tr>\n",
       "  </tbody>\n",
       "</table>\n",
       "</div>"
      ],
      "text/plain": [
       "   ProductKey  ProductId  Appellation            Varietal  Vineyard      Class\n",
       "0           2     127554  Napa Valley  Cabernet Sauvignon  Turnbull  Red Wines\n",
       "1           3     133070  Napa Valley  Cabernet Sauvignon  Turnbull  Red Wines\n",
       "2           4     114037  Napa Valley  Cabernet Sauvignon  Turnbull  Red Wines\n",
       "5           7     109508  Napa Valley    Other Red Blends  Turnbull  Red Wines\n",
       "6           8     110277  Napa Valley              Merlot  Turnbull  Red Wines"
      ]
     },
     "execution_count": 93,
     "metadata": {},
     "output_type": "execute_result"
    }
   ],
   "source": [
    "# contains wine attributes like Appelations and Varietal\n",
    "# will want to refer to this df once recommendations are made\n",
    "products_df.head()"
   ]
  },
  {
   "cell_type": "code",
   "execution_count": 19,
   "metadata": {
    "collapsed": false
   },
   "outputs": [],
   "source": [
    "def get_ratings_data(ratings_path):\n",
    "    start = time()\n",
    "    data = cPickle.load(open(ratings_path, 'r'))\n",
    "    end = time()\n",
    "    print \"Load Data Time Elapsed = {:.3} seconds\".format(end - start)\n",
    "    return data"
   ]
  },
  {
   "cell_type": "code",
   "execution_count": 24,
   "metadata": {
    "collapsed": false
   },
   "outputs": [
    {
     "name": "stdout",
     "output_type": "stream",
     "text": [
      "Time Elapsed = 20.1 seconds\n"
     ]
    }
   ],
   "source": [
    "data = get_ratings_data(ratings_path)"
   ]
  },
  {
   "cell_type": "code",
   "execution_count": 25,
   "metadata": {
    "collapsed": false
   },
   "outputs": [
    {
     "data": {
      "text/plain": [
       "3737914"
      ]
     },
     "execution_count": 25,
     "metadata": {},
     "output_type": "execute_result"
    }
   ],
   "source": [
    "len(data)"
   ]
  },
  {
   "cell_type": "code",
   "execution_count": 26,
   "metadata": {
    "collapsed": false
   },
   "outputs": [
    {
     "data": {
      "text/plain": [
       "[['00000F7264C27BA6FEA0C837ED6AA0AA', 202463, 9],\n",
       " ['00000F7264C27BA6FEA0C837ED6AA0AA', 202922, 6],\n",
       " ['00000F7264C27BA6FEA0C837ED6AA0AA', 214365, 6]]"
      ]
     },
     "execution_count": 26,
     "metadata": {},
     "output_type": "execute_result"
    }
   ],
   "source": [
    "# format --> (user hash, product key, rating)\n",
    "data[0:3]"
   ]
  },
  {
   "cell_type": "markdown",
   "metadata": {},
   "source": [
    "### Note\n",
    "\n",
    "The next couple of sections are here so that output from the various functions can be read. \n",
    "Scroll down to the Train Recommender header. Functions like create_cust_tag_bridge_rdd will be encapsulated in the train_recommender function so as to minimize memory useage.\n",
    "\n",
    "Make sure to swift + enter each cell with the functions. Those functions will be used in train_recommender."
   ]
  },
  {
   "cell_type": "markdown",
   "metadata": {},
   "source": [
    "### Format Data for Spark Recommender\n",
    "    Data needs to be in this form --> (user_id, item_id, n_purchases)"
   ]
  },
  {
   "cell_type": "markdown",
   "metadata": {},
   "source": [
    "#### Create user tags/user ids bride rdd"
   ]
  },
  {
   "cell_type": "code",
   "execution_count": 6,
   "metadata": {
    "collapsed": false
   },
   "outputs": [],
   "source": [
    "def create_cust_tag_bridge_rdd(data, sc):\n",
    "    # create int:cust_tag key value pairs\n",
    "    # spark can't read string user ids\n",
    "    \n",
    "    unique_user_tags = np.unique([row[0] for row in data])\n",
    "    \n",
    "    index_to_int = np.arange(0, len(unique_user_tags) * 100, 100)\n",
    "    cust_tag_bridge = [ (tag_hash, tag_int) for tag_hash, tag_int in zip(unique_user_tags, index_to_int)]\n",
    "    \n",
    "    return sc.parallelize(cust_tag_bridge)"
   ]
  },
  {
   "cell_type": "code",
   "execution_count": 28,
   "metadata": {
    "collapsed": false
   },
   "outputs": [],
   "source": [
    "cust_tag_bridge_rdd = create_cust_tag_bridge_rdd(data, sc)"
   ]
  },
  {
   "cell_type": "code",
   "execution_count": 34,
   "metadata": {
    "collapsed": false
   },
   "outputs": [
    {
     "data": {
      "text/plain": [
       "[('00000F7264C27BA6FEA0C837ED6AA0AA', 0),\n",
       " ('0000BE4B3C81E1CEF858D536BB740052', 100)]"
      ]
     },
     "execution_count": 34,
     "metadata": {},
     "output_type": "execute_result"
    }
   ],
   "source": [
    "cust_tag_bridge_rdd.take(2)"
   ]
  },
  {
   "cell_type": "code",
   "execution_count": 32,
   "metadata": {
    "collapsed": false
   },
   "outputs": [
    {
     "data": {
      "text/plain": [
       "list"
      ]
     },
     "execution_count": 32,
     "metadata": {},
     "output_type": "execute_result"
    }
   ],
   "source": [
    "type(cust_tag_bridge_rdd.map(lambda row: row[1]).take(1))"
   ]
  },
  {
   "cell_type": "markdown",
   "metadata": {},
   "source": [
    "#### Wine Products RDD"
   ]
  },
  {
   "cell_type": "code",
   "execution_count": 5,
   "metadata": {
    "collapsed": true
   },
   "outputs": [],
   "source": [
    "def create_products_rdd(products_df):\n",
    "    # create products_rdd\n",
    "    products_rdd = sc.parallelize(products_df.values.tolist())\n",
    "    \n",
    "    # format --> (productKey, (productID, Appellation, Varietal, Vinyard) )\n",
    "    products_rdd = products_rdd.map(lambda row: (row[0], (row[1], row[2], row[3], row[4], row[5]) )   )\n",
    "    \n",
    "    return products_rdd"
   ]
  },
  {
   "cell_type": "code",
   "execution_count": 95,
   "metadata": {
    "collapsed": false
   },
   "outputs": [],
   "source": [
    "products_rdd = create_products_rdd(products_df)"
   ]
  },
  {
   "cell_type": "code",
   "execution_count": 96,
   "metadata": {
    "collapsed": false
   },
   "outputs": [
    {
     "data": {
      "text/plain": [
       "[(2, (127554, 'Napa Valley', 'Cabernet Sauvignon', 'Turnbull', 'Red Wines')),\n",
       " (3, (133070, 'Napa Valley', 'Cabernet Sauvignon', 'Turnbull', 'Red Wines'))]"
      ]
     },
     "execution_count": 96,
     "metadata": {},
     "output_type": "execute_result"
    }
   ],
   "source": [
    "# format --> (productKey, (ProductID, Appellation, Varietal, Vineyard, Class) )\n",
    "products_rdd.take(2)"
   ]
  },
  {
   "cell_type": "markdown",
   "metadata": {},
   "source": [
    "#### Ratings RDD"
   ]
  },
  {
   "cell_type": "code",
   "execution_count": 7,
   "metadata": {
    "collapsed": true
   },
   "outputs": [],
   "source": [
    "def create_clean_data_rdd(data, cust_tag_bridge_rdd):\n",
    "    # create bride rdd for customer tags and customer ids\n",
    "    data_rdd = sc.parallelize(data)\n",
    "    \n",
    "    tag_data_bridge_rdd = data_rdd.map(lambda row: (row[0], (row[1], row[2]) ))\n",
    "    \n",
    "    clean_data_rdd = \\\n",
    "    tag_data_bridge_rdd.sortByKey()\\\n",
    "                   .join( cust_tag_bridge_rdd.sortByKey())\\\n",
    "                   .map(lambda row: ( row[1][1], row[1][0][0], row[1][0][1]))\n",
    "            \n",
    "    return clean_data_rdd"
   ]
  },
  {
   "cell_type": "code",
   "execution_count": 15,
   "metadata": {
    "collapsed": false
   },
   "outputs": [],
   "source": [
    "clean_data_rdd = create_clean_data_rdd(data, cust_tag_bridge_rdd) "
   ]
  },
  {
   "cell_type": "code",
   "execution_count": 16,
   "metadata": {
    "collapsed": false
   },
   "outputs": [
    {
     "data": {
      "text/plain": [
       "[(13793000, 11501, 0.93333333333333335),\n",
       " (13793000, 83729, 0.0047619047619047606),\n",
       " (13793000, 85684, 0.0047619047619047606)]"
      ]
     },
     "execution_count": 16,
     "metadata": {},
     "output_type": "execute_result"
    }
   ],
   "source": [
    "# format --> (user_id, productKey, rating)\n",
    "clean_data_rdd.take(3)"
   ]
  },
  {
   "cell_type": "code",
   "execution_count": 26,
   "metadata": {
    "collapsed": true
   },
   "outputs": [],
   "source": [
    "#clean_data_local = clean_data_rdd.collect()"
   ]
  },
  {
   "cell_type": "code",
   "execution_count": 28,
   "metadata": {
    "collapsed": false
   },
   "outputs": [],
   "source": [
    "# save spark ready data to file\n",
    "spark_ready_data_path = \"/Users/Alexander/WINE/data/spark_ready_data.pkl\"\n",
    "cPickle.dump(clean_data_local, open(spark_ready_data_path, \"w\"))"
   ]
  },
  {
   "cell_type": "code",
   "execution_count": 25,
   "metadata": {
    "collapsed": false
   },
   "outputs": [],
   "source": [
    "#load spark ready data \n",
    "# path = \"/Users/Alexander/WINE/data/spark_ready_data.pkl\"\n",
    "# data = cPickle.load(open(path , 'r'))"
   ]
  },
  {
   "cell_type": "markdown",
   "metadata": {},
   "source": [
    "### Create Train, Test, and Validation Sets"
   ]
  },
  {
   "cell_type": "code",
   "execution_count": 17,
   "metadata": {
    "collapsed": false
   },
   "outputs": [],
   "source": [
    "# split data into sets in appropriate proprotions, i.e. weights = [6, 2, 2]\n",
    "training_RDD, validation_RDD, test_RDD = clean_data_rdd.randomSplit([6, 2, 2], seed=0)"
   ]
  },
  {
   "cell_type": "code",
   "execution_count": 18,
   "metadata": {
    "collapsed": true
   },
   "outputs": [],
   "source": [
    "# format data so that the key is (user_id, wine_feat)\n",
    "validation_for_predict_RDD = validation_RDD.map(lambda x: (x[0], x[1]))\n",
    "test_for_predict_RDD = test_RDD.map(lambda x: (x[0], x[1]))"
   ]
  },
  {
   "cell_type": "code",
   "execution_count": 19,
   "metadata": {
    "collapsed": false
   },
   "outputs": [
    {
     "data": {
      "text/plain": [
       "[(13793000, 83729, 0.0047619047619047606),\n",
       " (13793000, 85684, 0.0047619047619047606),\n",
       " (13793000, 175401, 0.0047619047619047606),\n",
       " (13793000, 391194, 0.0047619047619047606),\n",
       " (13793000, 423777, 0.0047619047619047606)]"
      ]
     },
     "execution_count": 19,
     "metadata": {},
     "output_type": "execute_result"
    }
   ],
   "source": [
    "# sanity check\n",
    "training_RDD.take(5)"
   ]
  },
  {
   "cell_type": "code",
   "execution_count": 20,
   "metadata": {
    "collapsed": false
   },
   "outputs": [
    {
     "data": {
      "text/plain": [
       "[(13793000, 109575),\n",
       " (13793000, 114390),\n",
       " (13793000, 392096),\n",
       " (13793000, 423538),\n",
       " (5219800, 159314)]"
      ]
     },
     "execution_count": 20,
     "metadata": {},
     "output_type": "execute_result"
    }
   ],
   "source": [
    "validation_for_predict_RDD.take(5)"
   ]
  },
  {
   "cell_type": "code",
   "execution_count": 21,
   "metadata": {
    "collapsed": false
   },
   "outputs": [
    {
     "data": {
      "text/plain": [
       "[(13793000, 11501),\n",
       " (13793000, 186881),\n",
       " (13793000, 253825),\n",
       " (13793000, 255098),\n",
       " (13793000, 354603)]"
      ]
     },
     "execution_count": 21,
     "metadata": {},
     "output_type": "execute_result"
    }
   ],
   "source": [
    "test_for_predict_RDD.take(5)"
   ]
  },
  {
   "cell_type": "markdown",
   "metadata": {
    "collapsed": true
   },
   "source": [
    "### Train Recommender\n",
    "    Here we will train the model on the entire data set. \n"
   ]
  },
  {
   "cell_type": "markdown",
   "metadata": {},
   "source": [
    "#### Spark cluster\n",
    "    Spark clusters can be created on a local or remote machine.\n",
    "    In either case, the number of worker cups should always be, at most, \n",
    "    one less than the total number of cups available. \n",
    "    \n",
    "    There are 4 cups on a typical laptop. "
   ]
  },
  {
   "cell_type": "code",
   "execution_count": 8,
   "metadata": {
    "collapsed": true
   },
   "outputs": [],
   "source": [
    "# number of nodes in local spark cluster\n",
    "n_worker_cups = 3\n",
    "sc = pyspark.SparkContext(master = \"local[{}]\".format(n_worker_cups))"
   ]
  },
  {
   "cell_type": "code",
   "execution_count": 9,
   "metadata": {
    "collapsed": false
   },
   "outputs": [
    {
     "data": {
      "text/plain": [
       "<pyspark.context.SparkContext at 0x1163ac590>"
      ]
     },
     "execution_count": 9,
     "metadata": {},
     "output_type": "execute_result"
    }
   ],
   "source": [
    "sc"
   ]
  },
  {
   "cell_type": "code",
   "execution_count": 10,
   "metadata": {
    "collapsed": false
   },
   "outputs": [],
   "source": [
    "def get_clean_data_rdd(sc, return_cust_brige_rdd = False):\n",
    "    '''Loads ratings from master file and formats data into model readable form.\n",
    "       data --> (user_id, productKey, rating)'''\n",
    "    # load data\n",
    "    data = get_ratings_data(ratings_path)\n",
    "    # assigne each user hash tag a user_id\n",
    "    cust_tag_bridge_rdd = create_cust_tag_bridge_rdd(data, sc)\n",
    "    # model readable format\n",
    "    clean_data_rdd = create_clean_data_rdd(data, cust_tag_bridge_rdd) \n",
    "    \n",
    "    if return_cust_brige_rdd == False:\n",
    "        cust_tag_bridge_rdd.unpersist()\n",
    "        return clean_data_rdd\n",
    "    else:\n",
    "        return clean_data_rdd, cust_tag_bridge_rdd"
   ]
  },
  {
   "cell_type": "code",
   "execution_count": 10,
   "metadata": {
    "collapsed": true
   },
   "outputs": [],
   "source": [
    "def train_model(training_RDD):\n",
    "    # TODO: still need to optimize hyperparameters in a grid search\n",
    "    seed = 5L\n",
    "    iterations = 30\n",
    "    regularization_parameter = 0.1\n",
    "    rank = 20\n",
    "\n",
    "    model = ALS.train(training_RDD, \n",
    "                      rank=rank, \n",
    "                      seed=seed, \n",
    "                      iterations=iterations,\n",
    "                      lambda_=regularization_parameter,\n",
    "                      nonnegative=True)\n",
    "    return model"
   ]
  },
  {
   "cell_type": "code",
   "execution_count": 11,
   "metadata": {
    "collapsed": true
   },
   "outputs": [],
   "source": [
    "def get_fitted_model(sc, ratings_path):\n",
    "    '''Loads rating data from file, trains model, and returns a fitted model'''\n",
    "    \n",
    "    print \"load data and build RDDs...\"\n",
    "    clean_data_rdd = get_clean_data_rdd(sc, return_bridge_rdd = False)\n",
    "    \n",
    "    print \"Training Model...\"\n",
    "    start = time()\n",
    "    fitted_model = train_model(clean_data_rdd )\n",
    "    end = time()\n",
    "    print \"Training Model: Time Elapsed = {:.3} \\n\".format(end - start)\n",
    "    \n",
    "    # restore memory resources\n",
    "    clean_data_rdd.unpersist()\n",
    "    \n",
    "    return fitted_model"
   ]
  },
  {
   "cell_type": "code",
   "execution_count": 12,
   "metadata": {
    "collapsed": false
   },
   "outputs": [
    {
     "name": "stdout",
     "output_type": "stream",
     "text": [
      "get_ratings_data...\n",
      "Time Elapsed = 20.7 seconds\n",
      "building RDDs....\n",
      "Training Model...\n",
      "Training Model: Time Elapsed = 2.88e+02 \n",
      "\n",
      "Time Elapsed = 3.25e+02 seconds\n"
     ]
    }
   ],
   "source": [
    "start = time()\n",
    "fitted_model  = get_fitted_model(sc, ratings_path )\n",
    "end = time()\n",
    "print \"Time Elapsed = {:.3} seconds\".format(end - start)"
   ]
  },
  {
   "cell_type": "code",
   "execution_count": 12,
   "metadata": {
    "collapsed": true
   },
   "outputs": [],
   "source": [
    "# Save model\n",
    "model_path = \"/Users/Alexander/Wine_Recommender/models/spark_recommender\""
   ]
  },
  {
   "cell_type": "code",
   "execution_count": 13,
   "metadata": {
    "collapsed": false
   },
   "outputs": [],
   "source": [
    "# Save model\n",
    "#fitted_model.save(sc ,model_path)"
   ]
  },
  {
   "cell_type": "code",
   "execution_count": 14,
   "metadata": {
    "collapsed": false
   },
   "outputs": [],
   "source": [
    "# load model\n",
    "fitted_model = MatrixFactorizationModel.load(sc, model_path)"
   ]
  },
  {
   "cell_type": "markdown",
   "metadata": {},
   "source": [
    "### Get K Recommendations for a Users\n",
    "    1. For some ith user, remove their purchased wines from the total data.\n",
    "    2. Get predicted rating on all previously unpurchased wines. \n",
    "    3. Filter recomendations based on the rating threshold vaule that was \n",
    "       validated in the model validation notebook. \n",
    "    4. Curate recommendations"
   ]
  },
  {
   "cell_type": "markdown",
   "metadata": {},
   "source": [
    "### Get top K recommendations for an existing user"
   ]
  },
  {
   "cell_type": "code",
   "execution_count": null,
   "metadata": {
    "collapsed": true
   },
   "outputs": [],
   "source": [
    "# pick a user\n",
    "# remove their wine ids from the total set\n",
    "# get recommendations for that user\n",
    "# filter recommendations based on threshold vaule\n",
    "# curate recommendations "
   ]
  },
  {
   "cell_type": "code",
   "execution_count": 25,
   "metadata": {
    "collapsed": true
   },
   "outputs": [],
   "source": [
    "# will get K predictions for user with this id\n",
    "user_id = 0"
   ]
  },
  {
   "cell_type": "code",
   "execution_count": 20,
   "metadata": {
    "collapsed": false
   },
   "outputs": [
    {
     "name": "stdout",
     "output_type": "stream",
     "text": [
      "Load Data Time Elapsed = 19.9 seconds\n"
     ]
    }
   ],
   "source": [
    "clean_data_rdd, cust_tag_bridge_rdd = get_clean_data_rdd(sc, return_cust_brige_rdd = True)"
   ]
  },
  {
   "cell_type": "code",
   "execution_count": 21,
   "metadata": {
    "collapsed": false
   },
   "outputs": [
    {
     "data": {
      "text/plain": [
       "[(13720100, 11501, 10),\n",
       " (13720100, 83729, 4),\n",
       " (13720100, 85684, 4),\n",
       " (13720100, 109575, 4),\n",
       " (13720100, 114390, 4)]"
      ]
     },
     "execution_count": 21,
     "metadata": {},
     "output_type": "execute_result"
    }
   ],
   "source": [
    "#Let's now get some recommendations! \n",
    "#For that we will get an RDD with all the movies the new user hasn't rated yet. \n",
    "#We will them together with the model to predict ratings.\n",
    "clean_data_rdd.take(5)"
   ]
  },
  {
   "cell_type": "code",
   "execution_count": 23,
   "metadata": {
    "collapsed": false
   },
   "outputs": [
    {
     "data": {
      "text/plain": [
       "[('00000F7264C27BA6FEA0C837ED6AA0AA', 0),\n",
       " ('0000BE4B3C81E1CEF858D536BB740052', 100),\n",
       " ('0000CFF17C117A02813740C93DC33507', 200),\n",
       " ('000233FB8CBD3FCD20304423156CDF39', 300),\n",
       " ('0002891908E9F41F05F440792B4FF2E7', 400)]"
      ]
     },
     "execution_count": 23,
     "metadata": {},
     "output_type": "execute_result"
    }
   ],
   "source": [
    "cust_tag_bridge_rdd.take(5)"
   ]
  },
  {
   "cell_type": "code",
   "execution_count": 71,
   "metadata": {
    "collapsed": false
   },
   "outputs": [],
   "source": [
    "# ( user_id, movie_id, rating  )\n",
    "# get user_id 0's movie ids in a list\n",
    "movie_ids = clean_data_rdd.filter(lambda row: row[0] == user_id )\\\n",
    "                           .map(lambda row: row[1]).collect()"
   ]
  },
  {
   "cell_type": "code",
   "execution_count": 72,
   "metadata": {
    "collapsed": false
   },
   "outputs": [
    {
     "data": {
      "text/plain": [
       "[6141, 22448, 65302, 175466, 179203, 186475, 254129]"
      ]
     },
     "execution_count": 72,
     "metadata": {},
     "output_type": "execute_result"
    }
   ],
   "source": [
    "# wine_ids that user_id has purchased\n",
    "movie_ids"
   ]
  },
  {
   "cell_type": "code",
   "execution_count": 73,
   "metadata": {
    "collapsed": false
   },
   "outputs": [],
   "source": [
    "# get wine_ids that user_id has not purchased \n",
    "unpurchased_wines = \\\n",
    "clean_data_rdd.filter(lambda row: row[0] != user_id )\\\n",
    "    .filter(lambda row: row[2] not in  movie_ids)\\\n",
    "    .map(lambda row: (user_id, row[1] ) ).distinct()"
   ]
  },
  {
   "cell_type": "code",
   "execution_count": 300,
   "metadata": {
    "collapsed": false
   },
   "outputs": [
    {
     "name": "stdout",
     "output_type": "stream",
     "text": [
      "163176\n",
      "[(100, 370794), (100, 78150), (100, 61992)]\n"
     ]
    }
   ],
   "source": [
    "# rdd contains user_id, movie_id pairs \n",
    "print unpurchased_wines.count()\n",
    "print unpurchased_wines.take(3)"
   ]
  },
  {
   "cell_type": "code",
   "execution_count": 26,
   "metadata": {
    "collapsed": true
   },
   "outputs": [],
   "source": [
    "def get_userID_moiveID_pairs(sc, user_id, clean_data_rdd):\n",
    "    '''In order to get recommendations for a user, we need to build an RDD with (user_id, wine_id)\n",
    "       pairs for wines that the user has not previously purchased.'''\n",
    "    # ( user_id, movie_id, rating  )\n",
    "    # get user_id 0's movie ids in a list\n",
    "    movie_ids = clean_data_rdd.filter(lambda row: row[0] == user_id )\\\n",
    "                              .map(lambda row: row[1]).collect()\n",
    "        \n",
    "    # get wine_ids that user_id has not purchased \n",
    "    unpurchased_wines = clean_data_rdd.filter(lambda row: row[0] != user_id )\\\n",
    "                                      .filter(lambda row: row[2] not in  movie_ids)\\\n",
    "                                      .map(lambda row: (user_id, row[1] ) ).distinct()\n",
    "    return unpurchased_wines"
   ]
  },
  {
   "cell_type": "code",
   "execution_count": 27,
   "metadata": {
    "collapsed": true
   },
   "outputs": [],
   "source": [
    "unpurchased_wines = get_userID_moiveID_pairs(sc, user_id, clean_data_rdd)"
   ]
  },
  {
   "cell_type": "code",
   "execution_count": 28,
   "metadata": {
    "collapsed": false
   },
   "outputs": [
    {
     "data": {
      "text/plain": [
       "[(0, 321422), (0, 421074), (0, 118860), (0, 202214), (0, 218768)]"
      ]
     },
     "execution_count": 28,
     "metadata": {},
     "output_type": "execute_result"
    }
   ],
   "source": [
    "unpurchased_wines.take(5)"
   ]
  },
  {
   "cell_type": "markdown",
   "metadata": {},
   "source": [
    "#### Get Recommendations for Single User"
   ]
  },
  {
   "cell_type": "code",
   "execution_count": 75,
   "metadata": {
    "collapsed": false
   },
   "outputs": [],
   "source": [
    "user_recs = fitted_model.predictAll(unpurchased_wines)"
   ]
  },
  {
   "cell_type": "code",
   "execution_count": 299,
   "metadata": {
    "collapsed": false
   },
   "outputs": [
    {
     "data": {
      "text/plain": [
       "[(100, 370794), (100, 78150), (100, 61992), (100, 277742)]"
      ]
     },
     "execution_count": 299,
     "metadata": {},
     "output_type": "execute_result"
    }
   ],
   "source": [
    "unpurchased_wines.take(4)"
   ]
  },
  {
   "cell_type": "code",
   "execution_count": 55,
   "metadata": {
    "collapsed": false
   },
   "outputs": [
    {
     "data": {
      "text/plain": [
       "[Rating(user=1000, product=305874, rating=3.7131686912300754),\n",
       " Rating(user=1000, product=298083, rating=3.2092248123754024),\n",
       " Rating(user=1000, product=364608, rating=5.556800041627887),\n",
       " Rating(user=1000, product=228384, rating=4.03954516220769),\n",
       " Rating(user=1000, product=153030, rating=2.9128882694715372)]"
      ]
     },
     "execution_count": 55,
     "metadata": {},
     "output_type": "execute_result"
    }
   ],
   "source": [
    "# Wine Recommendations, for user 0, without prior purchase \n",
    "user_recs.take(5)"
   ]
  },
  {
   "cell_type": "code",
   "execution_count": 29,
   "metadata": {
    "collapsed": true
   },
   "outputs": [],
   "source": [
    "def get_user_recommendations(fitted_model, unpurchased_wines):\n",
    "    return fitted_model.predictAll(unpurchased_wines)"
   ]
  },
  {
   "cell_type": "code",
   "execution_count": 30,
   "metadata": {
    "collapsed": true
   },
   "outputs": [],
   "source": [
    "user_recs = get_user_recommendations(fitted_model, unpurchased_wines)"
   ]
  },
  {
   "cell_type": "code",
   "execution_count": 31,
   "metadata": {
    "collapsed": false
   },
   "outputs": [
    {
     "data": {
      "text/plain": [
       "[Rating(user=0, product=305874, rating=7.01631197814871),\n",
       " Rating(user=0, product=364608, rating=7.442682097218994),\n",
       " Rating(user=0, product=153030, rating=4.47915274942996),\n",
       " Rating(user=0, product=82512, rating=6.859826137953069),\n",
       " Rating(user=0, product=340764, rating=7.857795248802013)]"
      ]
     },
     "execution_count": 31,
     "metadata": {},
     "output_type": "execute_result"
    }
   ],
   "source": [
    "user_recs.take(5)"
   ]
  },
  {
   "cell_type": "markdown",
   "metadata": {},
   "source": [
    "### Distribution of Predicted Ratings for User"
   ]
  },
  {
   "cell_type": "code",
   "execution_count": 76,
   "metadata": {
    "collapsed": true
   },
   "outputs": [],
   "source": [
    "local_ratings = user_recs.map(lambda row: row[2]).collect()"
   ]
  },
  {
   "cell_type": "code",
   "execution_count": 77,
   "metadata": {
    "collapsed": false
   },
   "outputs": [
    {
     "data": {
      "image/png": "[encoded data removed]",
      "text/plain": [
       "<matplotlib.figure.Figure at 0x11658c3d0>"
      ]
     },
     "metadata": {},
     "output_type": "display_data"
    }
   ],
   "source": [
    "plt.figure(figsize = (12, 8));\n",
    "plt.hist(local_ratings, bins = 80);"
   ]
  },
  {
   "cell_type": "markdown",
   "metadata": {},
   "source": [
    "### Apply Threshold"
   ]
  },
  {
   "cell_type": "code",
   "execution_count": 78,
   "metadata": {
    "collapsed": true
   },
   "outputs": [],
   "source": [
    "# value validated in Spark_Recommendation_Model_Validation notebook\n",
    "threshold = 9"
   ]
  },
  {
   "cell_type": "code",
   "execution_count": 80,
   "metadata": {
    "collapsed": false
   },
   "outputs": [],
   "source": [
    "validated_user_recs = user_recs.filter(lambda row: row[2] >= threshold )"
   ]
  },
  {
   "cell_type": "markdown",
   "metadata": {},
   "source": [
    "### Make Recommendations Human Readable\n",
    "    Retreive the users customerhash and the wine's features"
   ]
  },
  {
   "cell_type": "code",
   "execution_count": 87,
   "metadata": {
    "collapsed": false
   },
   "outputs": [
    {
     "data": {
      "text/plain": [
       "[Rating(user=100, product=76737, rating=9.43446552597446),\n",
       " Rating(user=100, product=374880, rating=10.669865278252697),\n",
       " Rating(user=100, product=102366, rating=9.012218641252758),\n",
       " Rating(user=100, product=190677, rating=9.01926121814591),\n",
       " Rating(user=100, product=173754, rating=10.166848250514818)]"
      ]
     },
     "execution_count": 87,
     "metadata": {},
     "output_type": "execute_result"
    }
   ],
   "source": [
    "validated_user_recs.take(5)"
   ]
  },
  {
   "cell_type": "code",
   "execution_count": 106,
   "metadata": {
    "collapsed": false
   },
   "outputs": [
    {
     "data": {
      "text/plain": [
       "[(0, '00000F7264C27BA6FEA0C837ED6AA0AA'),\n",
       " (100, '0000BE4B3C81E1CEF858D536BB740052'),\n",
       " (200, '0000CFF17C117A02813740C93DC33507'),\n",
       " (300, '000233FB8CBD3FCD20304423156CDF39'),\n",
       " (400, '0002891908E9F41F05F440792B4FF2E7')]"
      ]
     },
     "execution_count": 106,
     "metadata": {},
     "output_type": "execute_result"
    }
   ],
   "source": [
    "cust_tag_bridge_rdd.map(lambda row: (row[1], row[0])).take(5)"
   ]
  },
  {
   "cell_type": "code",
   "execution_count": 115,
   "metadata": {
    "collapsed": false
   },
   "outputs": [],
   "source": [
    "# format --> (product key, predicted rating, user hash tag)\n",
    "wineID_rating_userHash = \\\n",
    "validated_user_recs.map(lambda row:  (row[0], (row[1], row[2]) )  )\\\n",
    "                   .join(cust_tag_bridge_rdd\\\n",
    "                   .map(lambda row: (row[1], row[0])))\\\n",
    "                   .map(lambda row: ( row[1][0][0],\n",
    "                                      (row[1][0][1],\n",
    "                                      row[1][1] ) ))"
   ]
  },
  {
   "cell_type": "code",
   "execution_count": 120,
   "metadata": {
    "collapsed": false
   },
   "outputs": [
    {
     "data": {
      "text/plain": [
       "[(18594,\n",
       "  ((9.31494187084013, '0000BE4B3C81E1CEF858D536BB740052'),\n",
       "   (116127,\n",
       "    'Columbia Valley',\n",
       "    'Chardonnay',\n",
       "    'Columbia Crest',\n",
       "    'White Wines')))]"
      ]
     },
     "execution_count": 120,
     "metadata": {},
     "output_type": "execute_result"
    }
   ],
   "source": [
    "wineID_rating_userHash.join(products_rdd).take(1)"
   ]
  },
  {
   "cell_type": "code",
   "execution_count": 127,
   "metadata": {
    "collapsed": false
   },
   "outputs": [],
   "source": [
    "# Key:Value pair RDD\n",
    "# format --> (custumer tag, (productKey , productID, Appellation, Varietal, Vineyard, wine type, Rating  ) )  \n",
    "clean_user_recs = \\\n",
    "wineID_rating_userHash.join(products_rdd)\\\n",
    "                      .map(lambda row: ( row[1][0][1], \n",
    "                                         (row[0], \n",
    "                                          row[1][1][0], \n",
    "                                          row[1][1][1], \n",
    "                                          row[1][1][2], \n",
    "                                          row[1][1][3],\n",
    "                                          row[1][1][4],\n",
    "                                          row[1][0][0])))"
   ]
  },
  {
   "cell_type": "code",
   "execution_count": 128,
   "metadata": {
    "collapsed": false
   },
   "outputs": [
    {
     "data": {
      "text/plain": [
       "[('0000BE4B3C81E1CEF858D536BB740052',\n",
       "  (18594,\n",
       "   116127,\n",
       "   'Columbia Valley',\n",
       "   'Chardonnay',\n",
       "   'Columbia Crest',\n",
       "   'White Wines',\n",
       "   9.31494187084013)),\n",
       " ('0000BE4B3C81E1CEF858D536BB740052',\n",
       "  (173754,\n",
       "   117076,\n",
       "   'Sonoma County',\n",
       "   'Cabernet Sauvignon',\n",
       "   'Alexander Valley Vineyards',\n",
       "   'Red Wines',\n",
       "   10.166848250514818))]"
      ]
     },
     "execution_count": 128,
     "metadata": {},
     "output_type": "execute_result"
    }
   ],
   "source": [
    "clean_user_recs.take(2)"
   ]
  },
  {
   "cell_type": "code",
   "execution_count": null,
   "metadata": {
    "collapsed": true
   },
   "outputs": [],
   "source": [
    "def format_user_recs(user_recs, cust_tag_bridge_rdd, thresh = 9):\n",
    "    '''Reformat user recommendations so it's human readable and in preperation for curation.\n",
    "       This function swaps the user_id back to the original user hash tag, and attachs the wine\n",
    "       features (i.e. productID, appellation, varieatl, ...) '''\n",
    "    \n",
    "    # value validated in Spark_Recommendation_Model_Validation notebook\n",
    "    threshold = thresh\n",
    "    validated_user_recs = user_recs.filter(lambda row: row[2] >= threshold )\n",
    "    \n",
    "    # format --> (product key, predicted rating, user hash tag)\n",
    "    wineID_rating_userHash = \\\n",
    "    validated_user_recs.map(lambda row:  (row[0], (row[1], row[2]) )  )\\\n",
    "                       .join(cust_tag_bridge_rdd\\\n",
    "                       .map(lambda row: (row[1], row[0])))\\\n",
    "                       .map(lambda row: (row[1][0][0],\n",
    "                                        (row[1][0][1],\n",
    "                                         row[1][1] ) ))  \n",
    "    # Key:Value pair RDD\n",
    "    # format --> (custumer tag, (productKey , productID, Appellation, Varietal, Vineyard, wine type, Rating  ) )  \n",
    "    clean_user_recs = \\\n",
    "    wineID_rating_userHash.join(products_rdd)\\\n",
    "                          .map(lambda row: ( row[1][0][1], \n",
    "                                             (row[0], \n",
    "                                              row[1][1][0], \n",
    "                                              row[1][1][1], \n",
    "                                              row[1][1][2], \n",
    "                                              row[1][1][3],\n",
    "                                              row[1][1][4],\n",
    "                                              row[1][0][0])))\n",
    "    return clean_user_recs"
   ]
  },
  {
   "cell_type": "markdown",
   "metadata": {},
   "source": [
    "### Curate Recommendations into Varietal Sub-Genres\n",
    "    Return the top 3 rated wines from the the top 3 most recommended varietals. \n",
    "    If above condition can't be met, \n",
    "    Then the top 5 reds and the top 5 whites. "
   ]
  },
  {
   "cell_type": "markdown",
   "metadata": {},
   "source": [
    "### Return the top 3 rated wines from the the top 3 most recommended varietals"
   ]
  },
  {
   "cell_type": "code",
   "execution_count": 141,
   "metadata": {
    "collapsed": false
   },
   "outputs": [],
   "source": [
    "# (custumer tag,  (productKey , productID, Appellation, Varietal, Vineyard, wine type, Rating  ) )\n",
    "user_recs_dicts = clean_user_recs.collect()"
   ]
  },
  {
   "cell_type": "code",
   "execution_count": 183,
   "metadata": {
    "collapsed": false
   },
   "outputs": [
    {
     "data": {
      "text/plain": [
       "('0000BE4B3C81E1CEF858D536BB740052',\n",
       " (18594,\n",
       "  116127,\n",
       "  'Columbia Valley',\n",
       "  'Chardonnay',\n",
       "  'Columbia Crest',\n",
       "  'White Wines',\n",
       "  9.31494187084013))"
      ]
     },
     "execution_count": 183,
     "metadata": {},
     "output_type": "execute_result"
    }
   ],
   "source": [
    "user_recs_dicts[0]"
   ]
  },
  {
   "cell_type": "code",
   "execution_count": 144,
   "metadata": {
    "collapsed": false
   },
   "outputs": [],
   "source": [
    "varietals = [row[1][3] for row in user_recs_dicts]"
   ]
  },
  {
   "cell_type": "code",
   "execution_count": 184,
   "metadata": {
    "collapsed": false
   },
   "outputs": [],
   "source": [
    "var_count = Counter(varietals)"
   ]
  },
  {
   "cell_type": "markdown",
   "metadata": {},
   "source": [
    "##### Check condition 1: at least 3 varietals with 3 or more recommended wines"
   ]
  },
  {
   "cell_type": "code",
   "execution_count": 188,
   "metadata": {
    "collapsed": false
   },
   "outputs": [
    {
     "data": {
      "text/plain": [
       "17"
      ]
     },
     "execution_count": 188,
     "metadata": {},
     "output_type": "execute_result"
    }
   ],
   "source": [
    "# check 1 -->  varietal count\n",
    "len(var_count)"
   ]
  },
  {
   "cell_type": "code",
   "execution_count": 209,
   "metadata": {
    "collapsed": false
   },
   "outputs": [
    {
     "data": {
      "text/plain": [
       "[('Cabernet Sauvignon', 8), ('Chardonnay', 6), ('Merlot', 5)]"
      ]
     },
     "execution_count": 209,
     "metadata": {},
     "output_type": "execute_result"
    }
   ],
   "source": [
    "var_count.most_common()[0:3]"
   ]
  },
  {
   "cell_type": "code",
   "execution_count": 276,
   "metadata": {
    "collapsed": false
   },
   "outputs": [],
   "source": [
    "# check wine count\n",
    "def check_top_varietal_wine_count(most_common_varietals):\n",
    "    cnt = 0\n",
    "    for row in most_common_varietals:\n",
    "        if row[1] >= 3:\n",
    "            cnt += 1\n",
    "    return cnt"
   ]
  },
  {
   "cell_type": "markdown",
   "metadata": {},
   "source": [
    "#### Check condition 2: at least 3 or more wines from each top varietal"
   ]
  },
  {
   "cell_type": "code",
   "execution_count": 278,
   "metadata": {
    "collapsed": false
   },
   "outputs": [
    {
     "data": {
      "text/plain": [
       "True"
      ]
     },
     "execution_count": 278,
     "metadata": {},
     "output_type": "execute_result"
    }
   ],
   "source": [
    "# check 2 --> top 3 varietals have at least 3 wines to choose from\n",
    "check_top_varietal_wine_count(var_count.most_common()[0:3]) == 3"
   ]
  },
  {
   "cell_type": "code",
   "execution_count": 194,
   "metadata": {
    "collapsed": false
   },
   "outputs": [],
   "source": [
    "# get top 3 most recommender varietals for this user\n",
    "top_varietals =  [row[0] for row in var_count.most_common()[0:3]] "
   ]
  },
  {
   "cell_type": "code",
   "execution_count": 210,
   "metadata": {
    "collapsed": false
   },
   "outputs": [
    {
     "data": {
      "text/plain": [
       "['Cabernet Sauvignon', 'Chardonnay', 'Merlot']"
      ]
     },
     "execution_count": 210,
     "metadata": {},
     "output_type": "execute_result"
    }
   ],
   "source": [
    "top_varietals"
   ]
  },
  {
   "cell_type": "code",
   "execution_count": 206,
   "metadata": {
    "collapsed": false
   },
   "outputs": [],
   "source": [
    "top_varietal_recs = clean_user_recs.filter(lambda row: row[1][3] in  top_varietals ).collect()"
   ]
  },
  {
   "cell_type": "code",
   "execution_count": 20,
   "metadata": {
    "collapsed": false
   },
   "outputs": [],
   "source": [
    "def curate_top_wines(top_varietal_recs):\n",
    "    final_recs = defaultdict(list)\n",
    "    for var in top_varietals:\n",
    "        var_cnt = 1\n",
    "        for row in top_varietal_recs:\n",
    "            if row[1][3] == var:\n",
    "                if var_cnt <= 3:\n",
    "                    var_cnt += 1\n",
    "                    #final_recs.append((row[0], row[1][:-1]))\n",
    "                    final_recs[row[0]].append(row[1][:-1])\n",
    "    return final_recs"
   ]
  },
  {
   "cell_type": "code",
   "execution_count": null,
   "metadata": {
    "collapsed": true
   },
   "outputs": [],
   "source": [
    "def get_top_rec_varietals(clean_user_recs):\n",
    "    '''Returns the top 3 wines from the top 3 varietals for user'''\n",
    "    \n",
    "    # { custumer tag : (productKey , productID, Appellation, Varietal, Vineyard, wine type, Rating  ) }\n",
    "    user_recs_dicts = clean_user_recs.collect()\n",
    "    \n",
    "    var_count = Counter(varietals)\n",
    "    \n",
    "    # get top 3 most recommender varietals for this user\n",
    "    top_varietals =  [row[0] for row in var_count.most_common()[0:3]] \n",
    "    \n",
    "    top_varietal_recs = clean_user_recs.filter(lambda row: row[1][3] in  top_varietals ).collect()\n",
    "    \n",
    "    return curate_top_wines(top_varietal_recs)"
   ]
  },
  {
   "cell_type": "code",
   "execution_count": 262,
   "metadata": {
    "collapsed": false
   },
   "outputs": [
    {
     "name": "stdout",
     "output_type": "stream",
     "text": [
      "0000BE4B3C81E1CEF858D536BB740052\n"
     ]
    },
    {
     "data": {
      "text/plain": [
       "[(173754,\n",
       "  117076,\n",
       "  'Sonoma County',\n",
       "  'Cabernet Sauvignon',\n",
       "  'Alexander Valley Vineyards',\n",
       "  'Red Wines'),\n",
       " (102366,\n",
       "  123556,\n",
       "  'Sonoma County',\n",
       "  'Cabernet Sauvignon',\n",
       "  'Kendall-Jackson',\n",
       "  'Red Wines'),\n",
       " (258913,\n",
       "  105847,\n",
       "  'Napa Valley',\n",
       "  'Cabernet Sauvignon',\n",
       "  'Beaulieu Vineyard',\n",
       "  'Red Wines'),\n",
       " (18594,\n",
       "  116127,\n",
       "  'Columbia Valley',\n",
       "  'Chardonnay',\n",
       "  'Columbia Crest',\n",
       "  'White Wines'),\n",
       " (332048, 114203, 'Napa Valley', 'Chardonnay', 'Markham', 'White Wines'),\n",
       " (153078,\n",
       "  91585,\n",
       "  'Margaret River',\n",
       "  'Chardonnay',\n",
       "  'Leeuwin Estate',\n",
       "  'White Wines'),\n",
       " (222328, 119107, 'Sonoma County', 'Merlot', 'Souverain', 'Red Wines'),\n",
       " (264575, 140541, 'Sonoma County', 'Merlot', 'St. Francis', 'Red Wines'),\n",
       " (13011, 120169, 'Napa Valley', 'Merlot', 'Irony', 'Red Wines')]"
      ]
     },
     "execution_count": 262,
     "metadata": {},
     "output_type": "execute_result"
    }
   ],
   "source": [
    "# {custumer tag : (productKey , productID, Appellation, Varietal, Vineyard, wine type, Rating  ) )\n",
    "print final_recs.keys()[0]\n",
    "final_recs.values()[0]"
   ]
  },
  {
   "cell_type": "markdown",
   "metadata": {},
   "source": [
    "### If above condition can't be met, Then the top 5 reds and the top 5 whites. "
   ]
  },
  {
   "cell_type": "code",
   "execution_count": 21,
   "metadata": {
    "collapsed": true
   },
   "outputs": [],
   "source": [
    "def get_top_reds_and_whites(clean_user_recs):\n",
    "    '''Returns top rated wines, 5 red and 5 white '''\n",
    "\n",
    "    # { custumer tag : (productKey , productID, Appellation, Varietal, Vineyard, wine type, Rating  ) }\n",
    "    user_recs_dicts = clean_user_recs.collect()\n",
    "    \n",
    "    red_white_recs_dict = defaultdict(list)\n",
    "    white_cnt = 1\n",
    "    red_cnt = 1\n",
    "    for rec in user_recs_dicts:\n",
    "        if rec[1][5] == \"White Wines\":\n",
    "            if white_cnt <= 5:\n",
    "                red_white_recs_dict[rec[0]].append(rec[1])\n",
    "                white_cnt += 1\n",
    "        else:\n",
    "            if red_cnt <= 5:\n",
    "                red_white_recs_dict[rec[0]].append(rec[1])\n",
    "                red_cnt += 1\n",
    "                \n",
    "    return red_white_recs_dict"
   ]
  },
  {
   "cell_type": "code",
   "execution_count": 294,
   "metadata": {
    "collapsed": false
   },
   "outputs": [],
   "source": [
    "red_white_recs_dict = defaultdict(list)\n",
    "white_cnt = 1\n",
    "red_cnt = 1\n",
    "for rec in user_recs_dicts:\n",
    "    if rec[1][5] == \"White Wines\":\n",
    "        if white_cnt <= 5:\n",
    "            red_white_recs_dict[rec[0]].append(rec[1])\n",
    "            white_cnt += 1\n",
    "    else:\n",
    "        if red_cnt <= 5:\n",
    "            red_white_recs_dict[rec[0]].append(rec[1])\n",
    "            red_cnt += 1"
   ]
  },
  {
   "cell_type": "code",
   "execution_count": 297,
   "metadata": {
    "collapsed": false
   },
   "outputs": [
    {
     "name": "stdout",
     "output_type": "stream",
     "text": [
      "0000BE4B3C81E1CEF858D536BB740052\n"
     ]
    },
    {
     "data": {
      "text/plain": [
       "[(18594,\n",
       "  116127,\n",
       "  'Columbia Valley',\n",
       "  'Chardonnay',\n",
       "  'Columbia Crest',\n",
       "  'White Wines',\n",
       "  9.31494187084013),\n",
       " (173754,\n",
       "  117076,\n",
       "  'Sonoma County',\n",
       "  'Cabernet Sauvignon',\n",
       "  'Alexander Valley Vineyards',\n",
       "  'Red Wines',\n",
       "  10.166848250514818),\n",
       " (57186,\n",
       "  87909,\n",
       "  'Russian River',\n",
       "  'Zinfandel',\n",
       "  'DeLoach',\n",
       "  'Red Wines',\n",
       "  9.085938853885436),\n",
       " (331479,\n",
       "  143384,\n",
       "  'Other California',\n",
       "  'Pinot Noir',\n",
       "  'Chateau St. Jean',\n",
       "  'Red Wines',\n",
       "  10.101814034176321),\n",
       " (333234,\n",
       "  96689,\n",
       "  'Priorat',\n",
       "  'Other Red Blends',\n",
       "  'Mas Doix',\n",
       "  'Red Wines',\n",
       "  9.318783239714847),\n",
       " (102366,\n",
       "  123556,\n",
       "  'Sonoma County',\n",
       "  'Cabernet Sauvignon',\n",
       "  'Kendall-Jackson',\n",
       "  'Red Wines',\n",
       "  9.012218641252758),\n",
       " (42040,\n",
       "  109650,\n",
       "  'Mosel-Saar-Ruwer',\n",
       "  'Riesling',\n",
       "  'S.A. Prum',\n",
       "  'White Wines',\n",
       "  9.719795281461451),\n",
       " (422858,\n",
       "  128536,\n",
       "  'Marlborough',\n",
       "  'Sauvignon Blanc',\n",
       "  'The Seeker',\n",
       "  'White Wines',\n",
       "  9.313705611694452),\n",
       " (332048,\n",
       "  114203,\n",
       "  'Napa Valley',\n",
       "  'Chardonnay',\n",
       "  'Markham',\n",
       "  'White Wines',\n",
       "  10.906143758096773),\n",
       " (89282,\n",
       "  131273,\n",
       "  'Piedmont',\n",
       "  'Muscat',\n",
       "  'Batasiolo',\n",
       "  'White Wines',\n",
       "  9.657394431595772)]"
      ]
     },
     "execution_count": 297,
     "metadata": {},
     "output_type": "execute_result"
    }
   ],
   "source": [
    "print red_white_recs_dict.keys()[0]\n",
    "red_white_recs_dict.values()[0]"
   ]
  }
 ],
 "metadata": {
  "kernelspec": {
   "display_name": "Python 2",
   "language": "python",
   "name": "python2"
  },
  "language_info": {
   "codemirror_mode": {
    "name": "ipython",
    "version": 2
   },
   "file_extension": ".py",
   "mimetype": "text/x-python",
   "name": "python",
   "nbconvert_exporter": "python",
   "pygments_lexer": "ipython2",
   "version": "2.7.11"
  }
 },
 "nbformat": 4,
 "nbformat_minor": 0
}
