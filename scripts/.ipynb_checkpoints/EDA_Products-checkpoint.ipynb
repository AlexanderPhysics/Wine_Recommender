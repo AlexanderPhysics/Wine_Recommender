{
 "cells": [
  {
   "cell_type": "markdown",
   "metadata": {},
   "source": [
    "## Exploratory Data Analysis\n"
   ]
  },
  {
   "cell_type": "code",
   "execution_count": 1,
   "metadata": {
    "collapsed": true
   },
   "outputs": [],
   "source": [
    "reset -f -s"
   ]
  },
  {
   "cell_type": "code",
   "execution_count": 2,
   "metadata": {
    "collapsed": false
   },
   "outputs": [
    {
     "name": "stderr",
     "output_type": "stream",
     "text": [
      "//anaconda/lib/python2.7/site-packages/matplotlib/__init__.py:872: UserWarning:\n",
      "\n",
      "axes.color_cycle is deprecated and replaced with axes.prop_cycle; please use the latter.\n",
      "\n"
     ]
    }
   ],
   "source": [
    "# print_function turns print into a python 3 function \n",
    "# this enables python to print funky text i.e. f\\xn --> fun\n",
    "from __future__ import (division,\n",
    "                        absolute_import,\n",
    "                        print_function,\n",
    "                        unicode_literals\n",
    "                        )\n",
    "import numpy as np\n",
    "import pandas as pd\n",
    "import matplotlib.pyplot as plt\n",
    "import plotly.plotly as py\n",
    "import plotly.graph_objs as go\n",
    "import ftfy\n",
    "import math\n",
    "import operator\n",
    "from collections import defaultdict, Counter\n",
    "import seaborn as sns\n",
    "%matplotlib inline"
   ]
  },
  {
   "cell_type": "code",
   "execution_count": 3,
   "metadata": {
    "collapsed": true
   },
   "outputs": [],
   "source": [
    "def clean_text(text_array):\n",
    "        # review what is going on here with Brian -- make sure you understand why this works!\n",
    "    clean_text = []\n",
    "    for i, token in enumerate(text_array):\n",
    "        try:\n",
    "            clean_text.append(ftfy.fix_encoding(ftfy.fix_text(unicode(token,\"utf-8\"))))\n",
    "        except TypeError:\n",
    "            print(token)\n",
    "            print(i)\n",
    "            break\n",
    "        except UnicodeDecodeError:\n",
    "            try:\n",
    "                guessed_encoding = ftfy.guess_bytes(token)[1]\n",
    "                clean_text.append(ftfy.fix_text(unicode(token,guessed_encoding)))\n",
    "                continue\n",
    "            except:\n",
    "                print(token)\n",
    "                print(i)\n",
    "                break\n",
    "    return clean_text"
   ]
  },
  {
   "cell_type": "code",
   "execution_count": 4,
   "metadata": {
    "collapsed": true
   },
   "outputs": [],
   "source": [
    "def sort_dict_to_list(data_dict, sort_by):\n",
    "    '''Input: dictionary\n",
    "       Input: sort_by, if 1, then sort by value, if 2 sort by key\n",
    "       Output: returns a sorted key and value list'''\n",
    "    # sort dictionary by value --> .itemgetter(1)\n",
    "    sorted_data = sorted(data_dict.items(), key=operator.itemgetter(sort_by), reverse=True)\n",
    "\n",
    "    # move sorted dates and sorted date counts to lists\n",
    "    k_datum = []\n",
    "    v_count_datum = []\n",
    "    for datum in sorted_data:\n",
    "        k_datum.append(datum[0])\n",
    "        v_count_datum.append(datum[1])\n",
    "    return k_datum, v_count_datum"
   ]
  },
  {
   "cell_type": "code",
   "execution_count": null,
   "metadata": {
    "collapsed": true
   },
   "outputs": [],
   "source": [
    "home = \"/Users/Alexander/\""
   ]
  },
  {
   "cell_type": "code",
   "execution_count": 5,
   "metadata": {
    "collapsed": true
   },
   "outputs": [],
   "source": [
    "path1 = home + \"Wine_Recommender/data/Customers.txt\"\n",
    "customers = pd.read_csv(path1, sep = \"\\t\")"
   ]
  },
  {
   "cell_type": "code",
   "execution_count": 6,
   "metadata": {
    "collapsed": true
   },
   "outputs": [],
   "source": [
    "path2 = home + \"Wine_Recommender/data/Ratings.txt\"\n",
    "ratings = pd.read_csv(path2, sep = \"\\t\")"
   ]
  },
  {
   "cell_type": "code",
   "execution_count": 7,
   "metadata": {
    "collapsed": true
   },
   "outputs": [],
   "source": [
    "path3 = homme + \"Wine_Recommender/data/Purchases.txt\"\n",
    "purchases = pd.read_csv(path3, sep = \"\\t\")"
   ]
  },
  {
   "cell_type": "code",
   "execution_count": 8,
   "metadata": {
    "collapsed": false
   },
   "outputs": [
    {
     "name": "stderr",
     "output_type": "stream",
     "text": [
      "//anaconda/lib/python2.7/site-packages/IPython/core/interactiveshell.py:2871: DtypeWarning:\n",
      "\n",
      "Columns (8) have mixed types. Specify dtype option on import or set low_memory=False.\n",
      "\n"
     ]
    }
   ],
   "source": [
    "path4 = \"/Users/Alexander/Wine_Recommender/data/Products.txt\"\n",
    "products = pd.read_csv(path4, sep = \"\\t\")"
   ]
  },
  {
   "cell_type": "markdown",
   "metadata": {},
   "source": [
    "### Note on Plotly\n",
    "    For some reason, all plotly plots of the same type (i.e. bar charts)in the same notebook appear with the same plots, which is misleading. In order to view the actual distribution of the various wine features, you need to rerun the cells that produce the plotly plots. \n",
    " "
   ]
  },
  {
   "cell_type": "markdown",
   "metadata": {},
   "source": [
    "## Products"
   ]
  },
  {
   "cell_type": "code",
   "execution_count": 9,
   "metadata": {
    "collapsed": false
   },
   "outputs": [
    {
     "data": {
      "text/html": [
       "<div>\n",
       "<table border=\"1\" class=\"dataframe\">\n",
       "  <thead>\n",
       "    <tr style=\"text-align: right;\">\n",
       "      <th></th>\n",
       "      <th>ProductKey</th>\n",
       "      <th>ProductId</th>\n",
       "      <th>ProductType</th>\n",
       "      <th>CountryOfOrigin</th>\n",
       "      <th>Region</th>\n",
       "      <th>Appellation</th>\n",
       "      <th>Varietal</th>\n",
       "      <th>Class</th>\n",
       "      <th>WineStyle</th>\n",
       "      <th>Vineyard</th>\n",
       "      <th>Vintage</th>\n",
       "      <th>ProductName</th>\n",
       "      <th>ProductNameWithVintage</th>\n",
       "      <th>HighestRating</th>\n",
       "      <th>Price</th>\n",
       "      <th>WarehouseState</th>\n",
       "    </tr>\n",
       "  </thead>\n",
       "  <tbody>\n",
       "    <tr>\n",
       "      <th>0</th>\n",
       "      <td>2</td>\n",
       "      <td>127554</td>\n",
       "      <td>Wine</td>\n",
       "      <td>UNITED STATES OF AMERICA</td>\n",
       "      <td>California</td>\n",
       "      <td>Napa Valley</td>\n",
       "      <td>Cabernet Sauvignon</td>\n",
       "      <td>Red Wines</td>\n",
       "      <td>Red Styles: Big &amp; Bold</td>\n",
       "      <td>Turnbull</td>\n",
       "      <td>2010</td>\n",
       "      <td>Turnbull Cabernet Sauvignon</td>\n",
       "      <td>Turnbull Cabernet Sauvignon 2010</td>\n",
       "      <td>90</td>\n",
       "      <td>42.99</td>\n",
       "      <td>NY</td>\n",
       "    </tr>\n",
       "    <tr>\n",
       "      <th>1</th>\n",
       "      <td>3</td>\n",
       "      <td>133070</td>\n",
       "      <td>Wine</td>\n",
       "      <td>UNITED STATES OF AMERICA</td>\n",
       "      <td>California</td>\n",
       "      <td>Napa Valley</td>\n",
       "      <td>Cabernet Sauvignon</td>\n",
       "      <td>Red Wines</td>\n",
       "      <td>Red Styles: Big &amp; Bold</td>\n",
       "      <td>Turnbull</td>\n",
       "      <td>2012</td>\n",
       "      <td>Turnbull Cabernet Sauvignon</td>\n",
       "      <td>Turnbull Cabernet Sauvignon 2012</td>\n",
       "      <td>91</td>\n",
       "      <td>52.99</td>\n",
       "      <td>NY</td>\n",
       "    </tr>\n",
       "    <tr>\n",
       "      <th>2</th>\n",
       "      <td>4</td>\n",
       "      <td>114037</td>\n",
       "      <td>Wine</td>\n",
       "      <td>UNITED STATES OF AMERICA</td>\n",
       "      <td>California</td>\n",
       "      <td>Napa Valley</td>\n",
       "      <td>Cabernet Sauvignon</td>\n",
       "      <td>Red Wines</td>\n",
       "      <td>Red Styles: Big &amp; Bold</td>\n",
       "      <td>Turnbull</td>\n",
       "      <td>2009</td>\n",
       "      <td>Turnbull Cabernet Sauvignon</td>\n",
       "      <td>Turnbull Cabernet Sauvignon 2009</td>\n",
       "      <td>88</td>\n",
       "      <td>44.99</td>\n",
       "      <td>NY</td>\n",
       "    </tr>\n",
       "    <tr>\n",
       "      <th>3</th>\n",
       "      <td>5</td>\n",
       "      <td>116887</td>\n",
       "      <td>Wine</td>\n",
       "      <td>UNITED STATES OF AMERICA</td>\n",
       "      <td>California</td>\n",
       "      <td>Napa Valley</td>\n",
       "      <td>Sauvignon Blanc</td>\n",
       "      <td>White Wines</td>\n",
       "      <td>White Styles: Fruity &amp; Smooth</td>\n",
       "      <td>Turnbull</td>\n",
       "      <td>2011</td>\n",
       "      <td>Turnbull Sauvignon Blanc</td>\n",
       "      <td>Turnbull Sauvignon Blanc 2011</td>\n",
       "      <td>0</td>\n",
       "      <td>24.99</td>\n",
       "      <td>NY</td>\n",
       "    </tr>\n",
       "    <tr>\n",
       "      <th>4</th>\n",
       "      <td>6</td>\n",
       "      <td>145898</td>\n",
       "      <td>Wine</td>\n",
       "      <td>UNITED STATES OF AMERICA</td>\n",
       "      <td>California</td>\n",
       "      <td>Napa Valley</td>\n",
       "      <td>Sauvignon Blanc</td>\n",
       "      <td>White Wines</td>\n",
       "      <td>White Styles: Light &amp; Crisp</td>\n",
       "      <td>Turnbull</td>\n",
       "      <td>2014</td>\n",
       "      <td>Turnbull Sauvignon Blanc</td>\n",
       "      <td>Turnbull Sauvignon Blanc 2014</td>\n",
       "      <td>0</td>\n",
       "      <td>24.99</td>\n",
       "      <td>NY</td>\n",
       "    </tr>\n",
       "    <tr>\n",
       "      <th>5</th>\n",
       "      <td>7</td>\n",
       "      <td>109508</td>\n",
       "      <td>Wine</td>\n",
       "      <td>UNITED STATES OF AMERICA</td>\n",
       "      <td>California</td>\n",
       "      <td>Napa Valley</td>\n",
       "      <td>Other Red Blends</td>\n",
       "      <td>Red Wines</td>\n",
       "      <td>Red Styles: Big &amp; Bold</td>\n",
       "      <td>Turnbull</td>\n",
       "      <td>2009</td>\n",
       "      <td>Turnbull Old Bull Red Blend</td>\n",
       "      <td>Turnbull Old Bull Red Blend 2009</td>\n",
       "      <td>0</td>\n",
       "      <td>19.97</td>\n",
       "      <td>NY</td>\n",
       "    </tr>\n",
       "    <tr>\n",
       "      <th>6</th>\n",
       "      <td>8</td>\n",
       "      <td>110277</td>\n",
       "      <td>Wine</td>\n",
       "      <td>UNITED STATES OF AMERICA</td>\n",
       "      <td>California</td>\n",
       "      <td>Napa Valley</td>\n",
       "      <td>Merlot</td>\n",
       "      <td>Red Wines</td>\n",
       "      <td>Red Styles: Smooth &amp; Supple</td>\n",
       "      <td>Turnbull</td>\n",
       "      <td>2007</td>\n",
       "      <td>Turnbull Merlot</td>\n",
       "      <td>Turnbull Merlot 2007</td>\n",
       "      <td>0</td>\n",
       "      <td>35.99</td>\n",
       "      <td>NY</td>\n",
       "    </tr>\n",
       "    <tr>\n",
       "      <th>7</th>\n",
       "      <td>9</td>\n",
       "      <td>113520</td>\n",
       "      <td>Wine</td>\n",
       "      <td>UNITED STATES OF AMERICA</td>\n",
       "      <td>California</td>\n",
       "      <td>Napa Valley</td>\n",
       "      <td>Cabernet Sauvignon</td>\n",
       "      <td>Red Wines</td>\n",
       "      <td>Red Styles: Big &amp; Bold</td>\n",
       "      <td>Turnbull</td>\n",
       "      <td>2008</td>\n",
       "      <td>Turnbull Black Label Cabernet Sauvignon</td>\n",
       "      <td>Turnbull Black Label Cabernet Sauvignon 2008</td>\n",
       "      <td>0</td>\n",
       "      <td>99.00</td>\n",
       "      <td>NY</td>\n",
       "    </tr>\n",
       "    <tr>\n",
       "      <th>8</th>\n",
       "      <td>10</td>\n",
       "      <td>134691</td>\n",
       "      <td>Wine</td>\n",
       "      <td>NEW ZEALAND</td>\n",
       "      <td>New Zealand</td>\n",
       "      <td>Martinborough</td>\n",
       "      <td>Pinot Gris/Grigio</td>\n",
       "      <td>White Wines</td>\n",
       "      <td>White Styles: Light &amp; Crisp</td>\n",
       "      <td>Tablelands</td>\n",
       "      <td>2013</td>\n",
       "      <td>Tablelands Pinot Gris</td>\n",
       "      <td>Tablelands Pinot Gris 2013</td>\n",
       "      <td>90</td>\n",
       "      <td>16.99</td>\n",
       "      <td>NY</td>\n",
       "    </tr>\n",
       "    <tr>\n",
       "      <th>9</th>\n",
       "      <td>11</td>\n",
       "      <td>133601</td>\n",
       "      <td>Wine</td>\n",
       "      <td>NEW ZEALAND</td>\n",
       "      <td>New Zealand</td>\n",
       "      <td>Martinborough</td>\n",
       "      <td>Sauvignon Blanc</td>\n",
       "      <td>White Wines</td>\n",
       "      <td>White Styles: Light &amp; Crisp</td>\n",
       "      <td>Tablelands</td>\n",
       "      <td>2013</td>\n",
       "      <td>Tablelands Sauvignon Blanc</td>\n",
       "      <td>Tablelands Sauvignon Blanc 2013</td>\n",
       "      <td>90</td>\n",
       "      <td>15.99</td>\n",
       "      <td>NY</td>\n",
       "    </tr>\n",
       "  </tbody>\n",
       "</table>\n",
       "</div>"
      ],
      "text/plain": [
       "   ProductKey  ProductId ProductType           CountryOfOrigin       Region  \\\n",
       "0           2     127554        Wine  UNITED STATES OF AMERICA   California   \n",
       "1           3     133070        Wine  UNITED STATES OF AMERICA   California   \n",
       "2           4     114037        Wine  UNITED STATES OF AMERICA   California   \n",
       "3           5     116887        Wine  UNITED STATES OF AMERICA   California   \n",
       "4           6     145898        Wine  UNITED STATES OF AMERICA   California   \n",
       "5           7     109508        Wine  UNITED STATES OF AMERICA   California   \n",
       "6           8     110277        Wine  UNITED STATES OF AMERICA   California   \n",
       "7           9     113520        Wine  UNITED STATES OF AMERICA   California   \n",
       "8          10     134691        Wine               NEW ZEALAND  New Zealand   \n",
       "9          11     133601        Wine               NEW ZEALAND  New Zealand   \n",
       "\n",
       "     Appellation            Varietal        Class  \\\n",
       "0    Napa Valley  Cabernet Sauvignon    Red Wines   \n",
       "1    Napa Valley  Cabernet Sauvignon    Red Wines   \n",
       "2    Napa Valley  Cabernet Sauvignon    Red Wines   \n",
       "3    Napa Valley     Sauvignon Blanc  White Wines   \n",
       "4    Napa Valley     Sauvignon Blanc  White Wines   \n",
       "5    Napa Valley    Other Red Blends    Red Wines   \n",
       "6    Napa Valley              Merlot    Red Wines   \n",
       "7    Napa Valley  Cabernet Sauvignon    Red Wines   \n",
       "8  Martinborough   Pinot Gris/Grigio  White Wines   \n",
       "9  Martinborough     Sauvignon Blanc  White Wines   \n",
       "\n",
       "                       WineStyle    Vineyard  Vintage  \\\n",
       "0         Red Styles: Big & Bold    Turnbull     2010   \n",
       "1         Red Styles: Big & Bold    Turnbull     2012   \n",
       "2         Red Styles: Big & Bold    Turnbull     2009   \n",
       "3  White Styles: Fruity & Smooth    Turnbull     2011   \n",
       "4    White Styles: Light & Crisp    Turnbull     2014   \n",
       "5         Red Styles: Big & Bold    Turnbull     2009   \n",
       "6    Red Styles: Smooth & Supple    Turnbull     2007   \n",
       "7         Red Styles: Big & Bold    Turnbull     2008   \n",
       "8    White Styles: Light & Crisp  Tablelands     2013   \n",
       "9    White Styles: Light & Crisp  Tablelands     2013   \n",
       "\n",
       "                               ProductName  \\\n",
       "0              Turnbull Cabernet Sauvignon   \n",
       "1              Turnbull Cabernet Sauvignon   \n",
       "2              Turnbull Cabernet Sauvignon   \n",
       "3                 Turnbull Sauvignon Blanc   \n",
       "4                 Turnbull Sauvignon Blanc   \n",
       "5              Turnbull Old Bull Red Blend   \n",
       "6                          Turnbull Merlot   \n",
       "7  Turnbull Black Label Cabernet Sauvignon   \n",
       "8                    Tablelands Pinot Gris   \n",
       "9               Tablelands Sauvignon Blanc   \n",
       "\n",
       "                         ProductNameWithVintage  HighestRating  Price  \\\n",
       "0              Turnbull Cabernet Sauvignon 2010             90  42.99   \n",
       "1              Turnbull Cabernet Sauvignon 2012             91  52.99   \n",
       "2              Turnbull Cabernet Sauvignon 2009             88  44.99   \n",
       "3                 Turnbull Sauvignon Blanc 2011              0  24.99   \n",
       "4                 Turnbull Sauvignon Blanc 2014              0  24.99   \n",
       "5              Turnbull Old Bull Red Blend 2009              0  19.97   \n",
       "6                          Turnbull Merlot 2007              0  35.99   \n",
       "7  Turnbull Black Label Cabernet Sauvignon 2008              0  99.00   \n",
       "8                    Tablelands Pinot Gris 2013             90  16.99   \n",
       "9               Tablelands Sauvignon Blanc 2013             90  15.99   \n",
       "\n",
       "  WarehouseState  \n",
       "0             NY  \n",
       "1             NY  \n",
       "2             NY  \n",
       "3             NY  \n",
       "4             NY  \n",
       "5             NY  \n",
       "6             NY  \n",
       "7             NY  \n",
       "8             NY  \n",
       "9             NY  "
      ]
     },
     "execution_count": 9,
     "metadata": {},
     "output_type": "execute_result"
    }
   ],
   "source": [
    "products.head(10)"
   ]
  },
  {
   "cell_type": "code",
   "execution_count": 10,
   "metadata": {
    "collapsed": false
   },
   "outputs": [
    {
     "data": {
      "text/plain": [
       "array(['Turnbull Cabernet Sauvignon', 'Turnbull Sauvignon Blanc',\n",
       "       'Turnbull Old Bull Red Blend', ...,\n",
       "       'Reginato Torrontes / Chardonnay Brut NV',\n",
       "       'Waterstone Carneros Pinot Noir',\n",
       "       'Amala Springs Sonoma County Zinfandel'], dtype=object)"
      ]
     },
     "execution_count": 10,
     "metadata": {},
     "output_type": "execute_result"
    }
   ],
   "source": [
    "products.ProductName.unique()"
   ]
  },
  {
   "cell_type": "markdown",
   "metadata": {},
   "source": [
    "### ProductId"
   ]
  },
  {
   "cell_type": "code",
   "execution_count": 11,
   "metadata": {
    "collapsed": false
   },
   "outputs": [
    {
     "data": {
      "text/plain": [
       "394026"
      ]
     },
     "execution_count": 11,
     "metadata": {},
     "output_type": "execute_result"
    }
   ],
   "source": [
    "# total number of wines\n",
    "products.ProductId.count()"
   ]
  },
  {
   "cell_type": "code",
   "execution_count": 12,
   "metadata": {
    "collapsed": false
   },
   "outputs": [
    {
     "data": {
      "text/plain": [
       "110511"
      ]
     },
     "execution_count": 12,
     "metadata": {},
     "output_type": "execute_result"
    }
   ],
   "source": [
    "# numner of unique wines\n",
    "len(products.ProductId.unique())"
   ]
  },
  {
   "cell_type": "markdown",
   "metadata": {},
   "source": [
    "### ProductType"
   ]
  },
  {
   "cell_type": "code",
   "execution_count": 13,
   "metadata": {
    "collapsed": false
   },
   "outputs": [
    {
     "data": {
      "text/plain": [
       "394026"
      ]
     },
     "execution_count": 13,
     "metadata": {},
     "output_type": "execute_result"
    }
   ],
   "source": [
    "products.ProductType.count()"
   ]
  },
  {
   "cell_type": "code",
   "execution_count": 14,
   "metadata": {
    "collapsed": false
   },
   "outputs": [
    {
     "data": {
      "text/plain": [
       "array(['Wine'], dtype=object)"
      ]
     },
     "execution_count": 14,
     "metadata": {},
     "output_type": "execute_result"
    }
   ],
   "source": [
    "products.ProductType.unique()"
   ]
  },
  {
   "cell_type": "markdown",
   "metadata": {},
   "source": [
    "### WarehouseState"
   ]
  },
  {
   "cell_type": "code",
   "execution_count": 15,
   "metadata": {
    "collapsed": false
   },
   "outputs": [
    {
     "name": "stdout",
     "output_type": "stream",
     "text": [
      "['NY' 'MA' 'NC' 'NJ' 'MI' 'CA' 'VA' 'CT' 'MT' 'IN' 'OH' 'FL' 'OR' 'TX' 'JA'\n",
      " 'WA' 'AZ' 'WI' 'RI' 'IA' 'VT' 'CO' 'ME' 'IL' 'HI' 'WG' 'Fl']\n",
      "27 warehouse states -- not all in the USA\n"
     ]
    }
   ],
   "source": [
    "print(products.WarehouseState.unique())\n",
    "print(\"{} warehouse states -- not all in the USA\".format(len(products.WarehouseState.unique())))"
   ]
  },
  {
   "cell_type": "code",
   "execution_count": 16,
   "metadata": {
    "collapsed": true
   },
   "outputs": [],
   "source": [
    "state_count = Counter(products.WarehouseState.values)"
   ]
  },
  {
   "cell_type": "code",
   "execution_count": 17,
   "metadata": {
    "collapsed": false
   },
   "outputs": [],
   "source": [
    "sort_by_row = 1\n",
    "states, count_states = sort_dict_to_list(state_count,sort_by_row)"
   ]
  },
  {
   "cell_type": "code",
   "execution_count": 18,
   "metadata": {
    "collapsed": false,
    "scrolled": true
   },
   "outputs": [],
   "source": [
    "data = [\n",
    "    go.Bar(\n",
    "        x=states,\n",
    "        y=count_states,\n",
    "        marker=dict(\n",
    "        color=\"#ce2c4b\"\n",
    "    ),\n",
    "    )\n",
    "]\n",
    "layout = go.Layout(\n",
    "    title='Frequency of Wine by WarehouseState',\n",
    "    \n",
    "        yaxis=dict(\n",
    "        title='Frequency of wine'\n",
    "    ),\n",
    "        xaxis=dict(\n",
    "        title=\"State\"\n",
    "    )\n",
    ")\n",
    "fig = go.Figure(data=data, layout=layout)\n",
    "plot_url_WarehouseState = py.iplot(fig, filename='style-bar')"
   ]
  },
  {
   "cell_type": "code",
   "execution_count": 19,
   "metadata": {
    "collapsed": false
   },
   "outputs": [
    {
     "data": {
      "text/html": [
       "<iframe id=\"igraph\" scrolling=\"no\" style=\"border:none;\"seamless=\"seamless\" src=\"https://plot.ly/~DataBeast/65.embed\" height=\"525px\" width=\"100%\"></iframe>"
      ],
      "text/plain": [
       "<plotly.tools.PlotlyDisplay object>"
      ]
     },
     "execution_count": 19,
     "metadata": {},
     "output_type": "execute_result"
    }
   ],
   "source": [
    "plot_url_WarehouseState"
   ]
  },
  {
   "cell_type": "markdown",
   "metadata": {},
   "source": [
    "### WineStyles"
   ]
  },
  {
   "cell_type": "code",
   "execution_count": 20,
   "metadata": {
    "collapsed": false
   },
   "outputs": [
    {
     "data": {
      "text/plain": [
       "array(['Red Styles: Big & Bold', 'White Styles: Fruity & Smooth',\n",
       "       'White Styles: Light & Crisp', 'Red Styles: Smooth & Supple',\n",
       "       'Red Styles: Earthy & Spicy', 'White Styles: Rich & Creamy',\n",
       "       'Red Styles: Light & Fruity', nan], dtype=object)"
      ]
     },
     "execution_count": 20,
     "metadata": {},
     "output_type": "execute_result"
    }
   ],
   "source": [
    "products.WineStyle.unique()"
   ]
  },
  {
   "cell_type": "code",
   "execution_count": 21,
   "metadata": {
    "collapsed": false
   },
   "outputs": [
    {
     "name": "stdout",
     "output_type": "stream",
     "text": [
      "258299\n",
      "135727\n",
      "\n",
      "0.5255 Wine Styles are nan\n"
     ]
    }
   ],
   "source": [
    "print (np.sum(products.WineStyle.isnull() == True))\n",
    "print (np.sum(products.WineStyle.isnull() == False))\n",
    "print (\"\\n{:.4} Wine Styles are nan\".format(np.sum(products.WineStyle.isnull() == False)/np.sum(products.WineStyle.isnull() == True)))"
   ]
  },
  {
   "cell_type": "code",
   "execution_count": 22,
   "metadata": {
    "collapsed": true
   },
   "outputs": [],
   "source": [
    "style_count = Counter(products.WineStyle.values)"
   ]
  },
  {
   "cell_type": "code",
   "execution_count": 23,
   "metadata": {
    "collapsed": true
   },
   "outputs": [],
   "source": [
    "sort_by_row = 1\n",
    "style, count_style = sort_dict_to_list(style_count,sort_by_row)"
   ]
  },
  {
   "cell_type": "code",
   "execution_count": 24,
   "metadata": {
    "collapsed": true
   },
   "outputs": [],
   "source": [
    "data = [\n",
    "    go.Bar(\n",
    "        x=style,\n",
    "        y=count_style,\n",
    "        marker=dict(\n",
    "        color=\"#ce2c4b\"\n",
    "    ),\n",
    "    )\n",
    "]\n",
    "layout = go.Layout(\n",
    "    title='Count of Wine by Style',\n",
    "    \n",
    "        yaxis=dict(\n",
    "        title='Count of wine'\n",
    "    ),\n",
    "        xaxis=dict(\n",
    "        title=\"Style\"\n",
    "    )\n",
    ")\n",
    "fig = go.Figure(data=data, layout=layout)\n",
    "plot_url_style = py.iplot(fig, filename='style-bar')"
   ]
  },
  {
   "cell_type": "code",
   "execution_count": 25,
   "metadata": {
    "collapsed": false
   },
   "outputs": [
    {
     "data": {
      "text/html": [
       "<iframe id=\"igraph\" scrolling=\"no\" style=\"border:none;\"seamless=\"seamless\" src=\"https://plot.ly/~DataBeast/65.embed\" height=\"525px\" width=\"100%\"></iframe>"
      ],
      "text/plain": [
       "<plotly.tools.PlotlyDisplay object>"
      ]
     },
     "execution_count": 25,
     "metadata": {},
     "output_type": "execute_result"
    }
   ],
   "source": [
    "# null vs not null\n",
    "# all non-null values \n",
    "# fork data and find out why nulls are so numerous\n",
    "# I need to impute the null values -- very  important !!!!\n",
    "# look at other wines with similar/identical attributes and infer correct style\n",
    "plot_url_style"
   ]
  },
  {
   "cell_type": "markdown",
   "metadata": {
    "collapsed": true
   },
   "source": [
    "# To Do\n",
    "\n",
    "### Imput Null wine styles\n",
    "    Will have to cluster similar wines to find wine style label for nulls"
   ]
  },
  {
   "cell_type": "code",
   "execution_count": 26,
   "metadata": {
    "collapsed": false
   },
   "outputs": [
    {
     "data": {
      "text/html": [
       "<div>\n",
       "<table border=\"1\" class=\"dataframe\">\n",
       "  <thead>\n",
       "    <tr style=\"text-align: right;\">\n",
       "      <th></th>\n",
       "      <th>ProductKey</th>\n",
       "      <th>ProductId</th>\n",
       "      <th>ProductType</th>\n",
       "      <th>CountryOfOrigin</th>\n",
       "      <th>Region</th>\n",
       "      <th>Appellation</th>\n",
       "      <th>Varietal</th>\n",
       "      <th>Class</th>\n",
       "      <th>WineStyle</th>\n",
       "      <th>Vineyard</th>\n",
       "      <th>Vintage</th>\n",
       "      <th>ProductName</th>\n",
       "      <th>ProductNameWithVintage</th>\n",
       "      <th>HighestRating</th>\n",
       "      <th>Price</th>\n",
       "      <th>WarehouseState</th>\n",
       "    </tr>\n",
       "  </thead>\n",
       "  <tbody>\n",
       "    <tr>\n",
       "      <th>0</th>\n",
       "      <td>2</td>\n",
       "      <td>127554</td>\n",
       "      <td>Wine</td>\n",
       "      <td>UNITED STATES OF AMERICA</td>\n",
       "      <td>California</td>\n",
       "      <td>Napa Valley</td>\n",
       "      <td>Cabernet Sauvignon</td>\n",
       "      <td>Red Wines</td>\n",
       "      <td>Red Styles: Big &amp; Bold</td>\n",
       "      <td>Turnbull</td>\n",
       "      <td>2010</td>\n",
       "      <td>Turnbull Cabernet Sauvignon</td>\n",
       "      <td>Turnbull Cabernet Sauvignon 2010</td>\n",
       "      <td>90</td>\n",
       "      <td>42.99</td>\n",
       "      <td>NY</td>\n",
       "    </tr>\n",
       "    <tr>\n",
       "      <th>1</th>\n",
       "      <td>3</td>\n",
       "      <td>133070</td>\n",
       "      <td>Wine</td>\n",
       "      <td>UNITED STATES OF AMERICA</td>\n",
       "      <td>California</td>\n",
       "      <td>Napa Valley</td>\n",
       "      <td>Cabernet Sauvignon</td>\n",
       "      <td>Red Wines</td>\n",
       "      <td>Red Styles: Big &amp; Bold</td>\n",
       "      <td>Turnbull</td>\n",
       "      <td>2012</td>\n",
       "      <td>Turnbull Cabernet Sauvignon</td>\n",
       "      <td>Turnbull Cabernet Sauvignon 2012</td>\n",
       "      <td>91</td>\n",
       "      <td>52.99</td>\n",
       "      <td>NY</td>\n",
       "    </tr>\n",
       "    <tr>\n",
       "      <th>2</th>\n",
       "      <td>4</td>\n",
       "      <td>114037</td>\n",
       "      <td>Wine</td>\n",
       "      <td>UNITED STATES OF AMERICA</td>\n",
       "      <td>California</td>\n",
       "      <td>Napa Valley</td>\n",
       "      <td>Cabernet Sauvignon</td>\n",
       "      <td>Red Wines</td>\n",
       "      <td>Red Styles: Big &amp; Bold</td>\n",
       "      <td>Turnbull</td>\n",
       "      <td>2009</td>\n",
       "      <td>Turnbull Cabernet Sauvignon</td>\n",
       "      <td>Turnbull Cabernet Sauvignon 2009</td>\n",
       "      <td>88</td>\n",
       "      <td>44.99</td>\n",
       "      <td>NY</td>\n",
       "    </tr>\n",
       "    <tr>\n",
       "      <th>3</th>\n",
       "      <td>5</td>\n",
       "      <td>116887</td>\n",
       "      <td>Wine</td>\n",
       "      <td>UNITED STATES OF AMERICA</td>\n",
       "      <td>California</td>\n",
       "      <td>Napa Valley</td>\n",
       "      <td>Sauvignon Blanc</td>\n",
       "      <td>White Wines</td>\n",
       "      <td>White Styles: Fruity &amp; Smooth</td>\n",
       "      <td>Turnbull</td>\n",
       "      <td>2011</td>\n",
       "      <td>Turnbull Sauvignon Blanc</td>\n",
       "      <td>Turnbull Sauvignon Blanc 2011</td>\n",
       "      <td>0</td>\n",
       "      <td>24.99</td>\n",
       "      <td>NY</td>\n",
       "    </tr>\n",
       "    <tr>\n",
       "      <th>4</th>\n",
       "      <td>6</td>\n",
       "      <td>145898</td>\n",
       "      <td>Wine</td>\n",
       "      <td>UNITED STATES OF AMERICA</td>\n",
       "      <td>California</td>\n",
       "      <td>Napa Valley</td>\n",
       "      <td>Sauvignon Blanc</td>\n",
       "      <td>White Wines</td>\n",
       "      <td>White Styles: Light &amp; Crisp</td>\n",
       "      <td>Turnbull</td>\n",
       "      <td>2014</td>\n",
       "      <td>Turnbull Sauvignon Blanc</td>\n",
       "      <td>Turnbull Sauvignon Blanc 2014</td>\n",
       "      <td>0</td>\n",
       "      <td>24.99</td>\n",
       "      <td>NY</td>\n",
       "    </tr>\n",
       "    <tr>\n",
       "      <th>5</th>\n",
       "      <td>7</td>\n",
       "      <td>109508</td>\n",
       "      <td>Wine</td>\n",
       "      <td>UNITED STATES OF AMERICA</td>\n",
       "      <td>California</td>\n",
       "      <td>Napa Valley</td>\n",
       "      <td>Other Red Blends</td>\n",
       "      <td>Red Wines</td>\n",
       "      <td>Red Styles: Big &amp; Bold</td>\n",
       "      <td>Turnbull</td>\n",
       "      <td>2009</td>\n",
       "      <td>Turnbull Old Bull Red Blend</td>\n",
       "      <td>Turnbull Old Bull Red Blend 2009</td>\n",
       "      <td>0</td>\n",
       "      <td>19.97</td>\n",
       "      <td>NY</td>\n",
       "    </tr>\n",
       "    <tr>\n",
       "      <th>6</th>\n",
       "      <td>8</td>\n",
       "      <td>110277</td>\n",
       "      <td>Wine</td>\n",
       "      <td>UNITED STATES OF AMERICA</td>\n",
       "      <td>California</td>\n",
       "      <td>Napa Valley</td>\n",
       "      <td>Merlot</td>\n",
       "      <td>Red Wines</td>\n",
       "      <td>Red Styles: Smooth &amp; Supple</td>\n",
       "      <td>Turnbull</td>\n",
       "      <td>2007</td>\n",
       "      <td>Turnbull Merlot</td>\n",
       "      <td>Turnbull Merlot 2007</td>\n",
       "      <td>0</td>\n",
       "      <td>35.99</td>\n",
       "      <td>NY</td>\n",
       "    </tr>\n",
       "    <tr>\n",
       "      <th>7</th>\n",
       "      <td>9</td>\n",
       "      <td>113520</td>\n",
       "      <td>Wine</td>\n",
       "      <td>UNITED STATES OF AMERICA</td>\n",
       "      <td>California</td>\n",
       "      <td>Napa Valley</td>\n",
       "      <td>Cabernet Sauvignon</td>\n",
       "      <td>Red Wines</td>\n",
       "      <td>Red Styles: Big &amp; Bold</td>\n",
       "      <td>Turnbull</td>\n",
       "      <td>2008</td>\n",
       "      <td>Turnbull Black Label Cabernet Sauvignon</td>\n",
       "      <td>Turnbull Black Label Cabernet Sauvignon 2008</td>\n",
       "      <td>0</td>\n",
       "      <td>99.00</td>\n",
       "      <td>NY</td>\n",
       "    </tr>\n",
       "    <tr>\n",
       "      <th>8</th>\n",
       "      <td>10</td>\n",
       "      <td>134691</td>\n",
       "      <td>Wine</td>\n",
       "      <td>NEW ZEALAND</td>\n",
       "      <td>New Zealand</td>\n",
       "      <td>Martinborough</td>\n",
       "      <td>Pinot Gris/Grigio</td>\n",
       "      <td>White Wines</td>\n",
       "      <td>White Styles: Light &amp; Crisp</td>\n",
       "      <td>Tablelands</td>\n",
       "      <td>2013</td>\n",
       "      <td>Tablelands Pinot Gris</td>\n",
       "      <td>Tablelands Pinot Gris 2013</td>\n",
       "      <td>90</td>\n",
       "      <td>16.99</td>\n",
       "      <td>NY</td>\n",
       "    </tr>\n",
       "    <tr>\n",
       "      <th>9</th>\n",
       "      <td>11</td>\n",
       "      <td>133601</td>\n",
       "      <td>Wine</td>\n",
       "      <td>NEW ZEALAND</td>\n",
       "      <td>New Zealand</td>\n",
       "      <td>Martinborough</td>\n",
       "      <td>Sauvignon Blanc</td>\n",
       "      <td>White Wines</td>\n",
       "      <td>White Styles: Light &amp; Crisp</td>\n",
       "      <td>Tablelands</td>\n",
       "      <td>2013</td>\n",
       "      <td>Tablelands Sauvignon Blanc</td>\n",
       "      <td>Tablelands Sauvignon Blanc 2013</td>\n",
       "      <td>90</td>\n",
       "      <td>15.99</td>\n",
       "      <td>NY</td>\n",
       "    </tr>\n",
       "  </tbody>\n",
       "</table>\n",
       "</div>"
      ],
      "text/plain": [
       "   ProductKey  ProductId ProductType           CountryOfOrigin       Region  \\\n",
       "0           2     127554        Wine  UNITED STATES OF AMERICA   California   \n",
       "1           3     133070        Wine  UNITED STATES OF AMERICA   California   \n",
       "2           4     114037        Wine  UNITED STATES OF AMERICA   California   \n",
       "3           5     116887        Wine  UNITED STATES OF AMERICA   California   \n",
       "4           6     145898        Wine  UNITED STATES OF AMERICA   California   \n",
       "5           7     109508        Wine  UNITED STATES OF AMERICA   California   \n",
       "6           8     110277        Wine  UNITED STATES OF AMERICA   California   \n",
       "7           9     113520        Wine  UNITED STATES OF AMERICA   California   \n",
       "8          10     134691        Wine               NEW ZEALAND  New Zealand   \n",
       "9          11     133601        Wine               NEW ZEALAND  New Zealand   \n",
       "\n",
       "     Appellation            Varietal        Class  \\\n",
       "0    Napa Valley  Cabernet Sauvignon    Red Wines   \n",
       "1    Napa Valley  Cabernet Sauvignon    Red Wines   \n",
       "2    Napa Valley  Cabernet Sauvignon    Red Wines   \n",
       "3    Napa Valley     Sauvignon Blanc  White Wines   \n",
       "4    Napa Valley     Sauvignon Blanc  White Wines   \n",
       "5    Napa Valley    Other Red Blends    Red Wines   \n",
       "6    Napa Valley              Merlot    Red Wines   \n",
       "7    Napa Valley  Cabernet Sauvignon    Red Wines   \n",
       "8  Martinborough   Pinot Gris/Grigio  White Wines   \n",
       "9  Martinborough     Sauvignon Blanc  White Wines   \n",
       "\n",
       "                       WineStyle    Vineyard  Vintage  \\\n",
       "0         Red Styles: Big & Bold    Turnbull     2010   \n",
       "1         Red Styles: Big & Bold    Turnbull     2012   \n",
       "2         Red Styles: Big & Bold    Turnbull     2009   \n",
       "3  White Styles: Fruity & Smooth    Turnbull     2011   \n",
       "4    White Styles: Light & Crisp    Turnbull     2014   \n",
       "5         Red Styles: Big & Bold    Turnbull     2009   \n",
       "6    Red Styles: Smooth & Supple    Turnbull     2007   \n",
       "7         Red Styles: Big & Bold    Turnbull     2008   \n",
       "8    White Styles: Light & Crisp  Tablelands     2013   \n",
       "9    White Styles: Light & Crisp  Tablelands     2013   \n",
       "\n",
       "                               ProductName  \\\n",
       "0              Turnbull Cabernet Sauvignon   \n",
       "1              Turnbull Cabernet Sauvignon   \n",
       "2              Turnbull Cabernet Sauvignon   \n",
       "3                 Turnbull Sauvignon Blanc   \n",
       "4                 Turnbull Sauvignon Blanc   \n",
       "5              Turnbull Old Bull Red Blend   \n",
       "6                          Turnbull Merlot   \n",
       "7  Turnbull Black Label Cabernet Sauvignon   \n",
       "8                    Tablelands Pinot Gris   \n",
       "9               Tablelands Sauvignon Blanc   \n",
       "\n",
       "                         ProductNameWithVintage  HighestRating  Price  \\\n",
       "0              Turnbull Cabernet Sauvignon 2010             90  42.99   \n",
       "1              Turnbull Cabernet Sauvignon 2012             91  52.99   \n",
       "2              Turnbull Cabernet Sauvignon 2009             88  44.99   \n",
       "3                 Turnbull Sauvignon Blanc 2011              0  24.99   \n",
       "4                 Turnbull Sauvignon Blanc 2014              0  24.99   \n",
       "5              Turnbull Old Bull Red Blend 2009              0  19.97   \n",
       "6                          Turnbull Merlot 2007              0  35.99   \n",
       "7  Turnbull Black Label Cabernet Sauvignon 2008              0  99.00   \n",
       "8                    Tablelands Pinot Gris 2013             90  16.99   \n",
       "9               Tablelands Sauvignon Blanc 2013             90  15.99   \n",
       "\n",
       "  WarehouseState  \n",
       "0             NY  \n",
       "1             NY  \n",
       "2             NY  \n",
       "3             NY  \n",
       "4             NY  \n",
       "5             NY  \n",
       "6             NY  \n",
       "7             NY  \n",
       "8             NY  \n",
       "9             NY  "
      ]
     },
     "execution_count": 26,
     "metadata": {},
     "output_type": "execute_result"
    }
   ],
   "source": [
    "# region, appellation, varietal, class, price, highestratings - subgenre, some combination of these features\n",
    "# vineyard, vintage may not be predictive\n",
    "# style will soon be dropped \n",
    "# stay away from topic modeling, use the above features for creating sub-genres \n",
    "\n",
    "products.head(10)"
   ]
  },
  {
   "cell_type": "code",
   "execution_count": 27,
   "metadata": {
    "collapsed": false
   },
   "outputs": [],
   "source": [
    "import sklearn"
   ]
  },
  {
   "cell_type": "code",
   "execution_count": 28,
   "metadata": {
    "collapsed": false
   },
   "outputs": [
    {
     "name": "stdout",
     "output_type": "stream",
     "text": [
      "Counter({True: 394026})\n",
      "394026\n"
     ]
    }
   ],
   "source": [
    "# Check that Class has no nulls\n",
    "print (Counter(products.Class.notnull()))\n",
    "print (products.Class.count())"
   ]
  },
  {
   "cell_type": "code",
   "execution_count": 29,
   "metadata": {
    "collapsed": false
   },
   "outputs": [
    {
     "name": "stdout",
     "output_type": "stream",
     "text": [
      "Counter({True: 394026})\n",
      "394026\n"
     ]
    }
   ],
   "source": [
    "# Check that Varietal has no nulls\n",
    "print (Counter(products.Varietal.notnull()))\n",
    "print (products.Varietal.count())"
   ]
  },
  {
   "cell_type": "code",
   "execution_count": 30,
   "metadata": {
    "collapsed": false
   },
   "outputs": [
    {
     "name": "stdout",
     "output_type": "stream",
     "text": [
      "Counter({True: 394026})\n",
      "394026\n"
     ]
    }
   ],
   "source": [
    "# Check that Vineyard has no nulls\n",
    "print (Counter(products.Vineyard.notnull()))\n",
    "print (products.Vineyard.count())"
   ]
  },
  {
   "cell_type": "markdown",
   "metadata": {},
   "source": [
    "### Vineyard"
   ]
  },
  {
   "cell_type": "code",
   "execution_count": 31,
   "metadata": {
    "collapsed": false
   },
   "outputs": [
    {
     "name": "stdout",
     "output_type": "stream",
     "text": [
      "['Turnbull' 'Tablelands' 'Evodia' ..., \"Veterans' Spirit\" 'Calvano'\n",
      " 'Amala Springs']\n",
      "\n",
      "8352 total number of vineyards\n"
     ]
    }
   ],
   "source": [
    "print(products.Vineyard.unique())\n",
    "print(\"\\n{} total number of vineyards\".format(len(products.Vineyard.unique())))"
   ]
  },
  {
   "cell_type": "code",
   "execution_count": 32,
   "metadata": {
    "collapsed": false
   },
   "outputs": [],
   "source": [
    "clean_vineyards = clean_text(products.Vineyard.values)"
   ]
  },
  {
   "cell_type": "code",
   "execution_count": 33,
   "metadata": {
    "collapsed": false
   },
   "outputs": [],
   "source": [
    "vineyards_count = Counter(clean_vineyards)"
   ]
  },
  {
   "cell_type": "code",
   "execution_count": 34,
   "metadata": {
    "collapsed": false
   },
   "outputs": [],
   "source": [
    "sort_by_row = 1\n",
    "vineyards, count_vineyards = sort_dict_to_list(vineyards_count,sort_by_row)"
   ]
  },
  {
   "cell_type": "code",
   "execution_count": 35,
   "metadata": {
    "collapsed": false,
    "scrolled": true
   },
   "outputs": [],
   "source": [
    "data = [\n",
    "    go.Bar(\n",
    "        x=vineyards,\n",
    "        y=count_vineyards,\n",
    "        marker=dict(\n",
    "        color=\"#ce2c4b\"\n",
    "    ),\n",
    "    )\n",
    "]\n",
    "layout = go.Layout(\n",
    "    title='Frequency of Wine by Vineyard',\n",
    "    \n",
    "        yaxis=dict(\n",
    "        title='Frequency of wine'\n",
    "        )\n",
    ")\n",
    "fig = go.Figure(data=data, layout=layout)\n",
    "plot_url_vineyard = py.iplot(fig, filename='style-bar')"
   ]
  },
  {
   "cell_type": "code",
   "execution_count": 36,
   "metadata": {
    "collapsed": false
   },
   "outputs": [
    {
     "data": {
      "text/html": [
       "<iframe id=\"igraph\" scrolling=\"no\" style=\"border:none;\"seamless=\"seamless\" src=\"https://plot.ly/~DataBeast/65.embed\" height=\"525px\" width=\"100%\"></iframe>"
      ],
      "text/plain": [
       "<plotly.tools.PlotlyDisplay object>"
      ]
     },
     "execution_count": 36,
     "metadata": {},
     "output_type": "execute_result"
    }
   ],
   "source": [
    "plot_url_vineyard"
   ]
  },
  {
   "cell_type": "markdown",
   "metadata": {},
   "source": [
    "### CountryOfOrigin"
   ]
  },
  {
   "cell_type": "code",
   "execution_count": 37,
   "metadata": {
    "collapsed": false
   },
   "outputs": [
    {
     "data": {
      "text/plain": [
       "array(['UNITED STATES OF AMERICA', 'NEW ZEALAND', 'SPAIN', 'FRANCE',\n",
       "       'GERMANY', 'AUSTRALIA', 'ITALY', 'CHILE', 'ARGENTINA',\n",
       "       'SOUTH AFRICA', 'GREECE', 'AUSTRIA', 'PORTUGAL', 'SLOVENIA',\n",
       "       'Unknown', 'ISRAEL', 'CANADA', 'JAPAN', 'HUNGARY', 'SWITZERLAND'], dtype=object)"
      ]
     },
     "execution_count": 37,
     "metadata": {},
     "output_type": "execute_result"
    }
   ],
   "source": [
    "# string look clean\n",
    "products.CountryOfOrigin.unique()"
   ]
  },
  {
   "cell_type": "code",
   "execution_count": 38,
   "metadata": {
    "collapsed": true
   },
   "outputs": [],
   "source": [
    "origin_count = Counter(products.CountryOfOrigin.values)"
   ]
  },
  {
   "cell_type": "code",
   "execution_count": 39,
   "metadata": {
    "collapsed": false
   },
   "outputs": [],
   "source": [
    "sort_by_row = 1\n",
    "origin, count_origin = sort_dict_to_list(origin_count,sort_by_row)"
   ]
  },
  {
   "cell_type": "code",
   "execution_count": 87,
   "metadata": {
    "collapsed": false
   },
   "outputs": [],
   "source": [
    "data = [\n",
    "    go.Bar(\n",
    "        x=origin,\n",
    "        y=count_origin,\n",
    "        marker=dict(\n",
    "        color=\"#ce2c4b\"\n",
    "    ),\n",
    "    )\n",
    "]\n",
    "layout = go.Layout(\n",
    "    title='Frequency of Wine by Country of Origin',\n",
    "    \n",
    "        yaxis=dict(\n",
    "        title='Frequency of wine'\n",
    "    )\n",
    ")\n",
    "fig = go.Figure(data=data, layout=layout)\n",
    "plot_url_origin_origin = py.iplot(fig, filename='style-bar')"
   ]
  },
  {
   "cell_type": "code",
   "execution_count": 88,
   "metadata": {
    "collapsed": false
   },
   "outputs": [
    {
     "data": {
      "text/html": [
       "<iframe id=\"igraph\" scrolling=\"no\" style=\"border:none;\"seamless=\"seamless\" src=\"https://plot.ly/~DataBeast/65.embed\" height=\"525px\" width=\"100%\"></iframe>"
      ],
      "text/plain": [
       "<plotly.tools.PlotlyDisplay object>"
      ]
     },
     "execution_count": 88,
     "metadata": {},
     "output_type": "execute_result"
    }
   ],
   "source": [
    "plot_url_origin_origin"
   ]
  },
  {
   "cell_type": "markdown",
   "metadata": {},
   "source": [
    "### Region"
   ]
  },
  {
   "cell_type": "code",
   "execution_count": 42,
   "metadata": {
    "collapsed": false
   },
   "outputs": [
    {
     "data": {
      "text/plain": [
       "array(['California', 'New Zealand', 'Spain', 'France - Other regions',\n",
       "       'Oregon', 'Germany', 'Other US', 'Australia', 'Italy',\n",
       "       'South America', 'France - Bordeaux', 'France - Rhone',\n",
       "       'Washington', 'South Africa', 'Greece', 'Other Europe', 'Portugal',\n",
       "       'Various Regional', 'Israel', 'Canada', 'Japan', 'Unknown',\n",
       "       'Californian(JA)', 'Italian(JA)', 'Spanish(JA)', 'French(JA)',\n",
       "       'Mexico', 'Various Regional(JA)', 'Washington(JA)', 'German(JA)',\n",
       "       'Oregon(JA)', 'South American(JA)', 'Australian(JA)',\n",
       "       'New Zealand(JA)'], dtype=object)"
      ]
     },
     "execution_count": 42,
     "metadata": {},
     "output_type": "execute_result"
    }
   ],
   "source": [
    "# Assuming meaningful distinction bteween JA and non-JA locations --> strings look clean\n",
    "# what's the difference between 'New Zealand' and 'New Zealand(JA)'\n",
    "products.Region.unique()"
   ]
  },
  {
   "cell_type": "code",
   "execution_count": 43,
   "metadata": {
    "collapsed": true
   },
   "outputs": [],
   "source": [
    "region_count = Counter(products.Region.values)"
   ]
  },
  {
   "cell_type": "code",
   "execution_count": 44,
   "metadata": {
    "collapsed": true
   },
   "outputs": [],
   "source": [
    "sort_by_row = 1\n",
    "region, count_region = sort_dict_to_list(region_count,sort_by_row)"
   ]
  },
  {
   "cell_type": "code",
   "execution_count": 90,
   "metadata": {
    "collapsed": false
   },
   "outputs": [],
   "source": [
    "data = [\n",
    "    go.Bar(\n",
    "        x=region,\n",
    "        y=count_region,\n",
    "        marker=dict(\n",
    "        color=\"#ce2c4b\"\n",
    "    ),\n",
    "    )\n",
    "]\n",
    "layout = go.Layout(\n",
    "    title='Frequency of Wine by Region',\n",
    "    \n",
    "        yaxis=dict(\n",
    "        title='Frequency of wine'\n",
    "    )\n",
    ")\n",
    "fig = go.Figure(data=data, layout=layout)\n",
    "plot_url_region = py.iplot(fig, filename='style-bar')"
   ]
  },
  {
   "cell_type": "code",
   "execution_count": 91,
   "metadata": {
    "collapsed": false
   },
   "outputs": [
    {
     "data": {
      "text/html": [
       "<iframe id=\"igraph\" scrolling=\"no\" style=\"border:none;\"seamless=\"seamless\" src=\"https://plot.ly/~DataBeast/65.embed\" height=\"525px\" width=\"100%\"></iframe>"
      ],
      "text/plain": [
       "<plotly.tools.PlotlyDisplay object>"
      ]
     },
     "execution_count": 91,
     "metadata": {},
     "output_type": "execute_result"
    }
   ],
   "source": [
    "plot_url_region"
   ]
  },
  {
   "cell_type": "markdown",
   "metadata": {},
   "source": [
    "### Appellation"
   ]
  },
  {
   "cell_type": "code",
   "execution_count": 97,
   "metadata": {
    "collapsed": false,
    "scrolled": true
   },
   "outputs": [
    {
     "data": {
      "text/plain": [
       "array(['Napa Valley', 'Martinborough', 'Other Spain',\n",
       "       'Languedoc-Roussillon', 'Rias Baixas', 'Other Oregon',\n",
       "       'Other California', 'Mosel-Saar-Ruwer', 'New York', 'Sonoma County',\n",
       "       'Yarra Valley', 'Russian River', 'Carneros', 'Rioja',\n",
       "       'Other Australia', 'Tuscany', 'Veneto', 'Central Coast', 'Chile',\n",
       "       'Other Bordeaux'], dtype=object)"
      ]
     },
     "execution_count": 97,
     "metadata": {},
     "output_type": "execute_result"
    }
   ],
   "source": [
    "# strings look clean\n",
    "# what's the difference between 'Other New Zealand' and 'Other New Zealand(JA)'\n",
    "products.Appellation.unique()[0:20]"
   ]
  },
  {
   "cell_type": "code",
   "execution_count": 98,
   "metadata": {
    "collapsed": true
   },
   "outputs": [],
   "source": [
    "clean_appell = clean_text(products.Appellation.values)"
   ]
  },
  {
   "cell_type": "code",
   "execution_count": 99,
   "metadata": {
    "collapsed": true
   },
   "outputs": [],
   "source": [
    "appellation_count = Counter(clean_appell)"
   ]
  },
  {
   "cell_type": "code",
   "execution_count": 100,
   "metadata": {
    "collapsed": false
   },
   "outputs": [],
   "source": [
    "sort_by_row = 1\n",
    "appell, count_appell = sort_dict_to_list(appellation_count, sort_by_row)"
   ]
  },
  {
   "cell_type": "code",
   "execution_count": 101,
   "metadata": {
    "collapsed": false,
    "scrolled": true
   },
   "outputs": [],
   "source": [
    "data = [\n",
    "    go.Bar(\n",
    "        x=appell,\n",
    "        y=count_appell,\n",
    "        marker=dict(\n",
    "        color=\"#ce2c4b\"\n",
    "    ),\n",
    "    )\n",
    "]\n",
    "layout = go.Layout(\n",
    "    title='Frequency of Wine by appellation',\n",
    "    \n",
    "        yaxis=dict(\n",
    "        title='Frequency of wine'\n",
    "    )\n",
    ")\n",
    "fig = go.Figure(data=data, layout=layout)\n",
    "plot_url_appellation = py.iplot(fig, filename='style-bar')"
   ]
  },
  {
   "cell_type": "code",
   "execution_count": 102,
   "metadata": {
    "collapsed": false
   },
   "outputs": [
    {
     "data": {
      "text/html": [
       "<iframe id=\"igraph\" scrolling=\"no\" style=\"border:none;\"seamless=\"seamless\" src=\"https://plot.ly/~DataBeast/65.embed\" height=\"525px\" width=\"100%\"></iframe>"
      ],
      "text/plain": [
       "<plotly.tools.PlotlyDisplay object>"
      ]
     },
     "execution_count": 102,
     "metadata": {},
     "output_type": "execute_result"
    }
   ],
   "source": [
    "plot_url_appellation"
   ]
  },
  {
   "cell_type": "markdown",
   "metadata": {},
   "source": [
    "### Varietal"
   ]
  },
  {
   "cell_type": "code",
   "execution_count": 53,
   "metadata": {
    "collapsed": false,
    "scrolled": true
   },
   "outputs": [
    {
     "data": {
      "text/plain": [
       "array(['Cabernet Sauvignon', 'Sauvignon Blanc', 'Other Red Blends',\n",
       "       'Merlot', 'Pinot Gris/Grigio', 'Grenache', 'Syrah/Shiraz',\n",
       "       'Rhone Red Blends', 'Other White Wine', 'Cabernet Franc',\n",
       "       'Albarino', 'Pinot Noir', 'Zinfandel', 'Gewurztraminer', 'Riesling',\n",
       "       'Chardonnay', 'Tempranillo', 'Sangiovese', 'Other Red Wine',\n",
       "       'Bordeaux Red Blends'], dtype=object)"
      ]
     },
     "execution_count": 53,
     "metadata": {},
     "output_type": "execute_result"
    }
   ],
   "source": [
    "# string look clean\n",
    "products.Varietal.unique()[0:20]"
   ]
  },
  {
   "cell_type": "code",
   "execution_count": 54,
   "metadata": {
    "collapsed": true
   },
   "outputs": [],
   "source": [
    "clean_varietal = clean_text(products.Varietal.values)"
   ]
  },
  {
   "cell_type": "code",
   "execution_count": 55,
   "metadata": {
    "collapsed": true
   },
   "outputs": [],
   "source": [
    "varietal_count = Counter(clean_varietal)"
   ]
  },
  {
   "cell_type": "code",
   "execution_count": 105,
   "metadata": {
    "collapsed": true
   },
   "outputs": [],
   "source": [
    "sort_by_row = 1\n",
    "var, count_var = sort_dict_to_list(varietal_count, sort_by_row)"
   ]
  },
  {
   "cell_type": "code",
   "execution_count": 106,
   "metadata": {
    "collapsed": false,
    "scrolled": true
   },
   "outputs": [],
   "source": [
    "data = [\n",
    "    go.Bar(\n",
    "        x=var,\n",
    "        y=count_var,\n",
    "        marker=dict(\n",
    "        color=\"#ce2c4b\"\n",
    "    ),\n",
    "    )\n",
    "]\n",
    "layout = go.Layout(\n",
    "    title='Frequency of Wine by Varietal',\n",
    "    \n",
    "        yaxis=dict(\n",
    "        title='Frequency of wine'\n",
    "    )\n",
    ")\n",
    "fig = go.Figure(data=data, layout=layout)\n",
    "plot_url_varietal = py.iplot(fig, filename='style-bar')"
   ]
  },
  {
   "cell_type": "code",
   "execution_count": 107,
   "metadata": {
    "collapsed": false
   },
   "outputs": [
    {
     "data": {
      "text/html": [
       "<iframe id=\"igraph\" scrolling=\"no\" style=\"border:none;\"seamless=\"seamless\" src=\"https://plot.ly/~DataBeast/65.embed\" height=\"525px\" width=\"100%\"></iframe>"
      ],
      "text/plain": [
       "<plotly.tools.PlotlyDisplay object>"
      ]
     },
     "execution_count": 107,
     "metadata": {},
     "output_type": "execute_result"
    }
   ],
   "source": [
    "plot_url_varietal"
   ]
  },
  {
   "cell_type": "markdown",
   "metadata": {},
   "source": [
    "### Vintage"
   ]
  },
  {
   "cell_type": "code",
   "execution_count": 59,
   "metadata": {
    "collapsed": false
   },
   "outputs": [
    {
     "data": {
      "text/plain": [
       "array([2010, 2012, 2009, 2011, 2014, 2007, 2008, 2013, 2006, 2005, 2004,\n",
       "       2002, 2003,    0, 1994, 2001, 1995, 1999, 1996, 2000, 1991, 1966,\n",
       "       1998, 1983, 1997, 1985, 1990, 1988, 1979, 1989, 1982, 1981, 1986,\n",
       "       1993, 1992, 2015, 1972, 1984, 1987, 1977, 1975, 1969, 1961, 1971,\n",
       "       1980, 1934, 1978, 1976, 1968, 1845, 1958, 1964, 1954, 1973,  199,\n",
       "       1922, 1967, 1970,  200, 1963, 1920, 1962,    4, 1910, 1875, 1953,\n",
       "       1944,   97, 1974, 1950, 1949, 1959, 1945, 1921, 1937, 1955, 1947,\n",
       "       1933, 1908,   94,    3, 1912, 1960, 1911, 1952,    1, 1940, 1965,\n",
       "       2201, 1948, 1941, 1943, 1951, 1929])"
      ]
     },
     "execution_count": 59,
     "metadata": {},
     "output_type": "execute_result"
    }
   ],
   "source": [
    "# Ask Cam if he knows about the anomalies \"4\", \"1\", \"3\", \"2201\"...\n",
    "# Will likely have to replace with best guess based on similarity score \n",
    "products.Vintage.unique()"
   ]
  },
  {
   "cell_type": "code",
   "execution_count": 60,
   "metadata": {
    "collapsed": true
   },
   "outputs": [],
   "source": [
    "vintage = products.Vintage.values"
   ]
  },
  {
   "cell_type": "code",
   "execution_count": 61,
   "metadata": {
    "collapsed": false
   },
   "outputs": [],
   "source": [
    "vintage.sort()"
   ]
  },
  {
   "cell_type": "code",
   "execution_count": 62,
   "metadata": {
    "collapsed": true
   },
   "outputs": [],
   "source": [
    "start_year = 1994\n",
    "end_year = 2015"
   ]
  },
  {
   "cell_type": "code",
   "execution_count": 63,
   "metadata": {
    "collapsed": false
   },
   "outputs": [],
   "source": [
    "vintage = vintage[vintage >= start_year]"
   ]
  },
  {
   "cell_type": "code",
   "execution_count": 64,
   "metadata": {
    "collapsed": true
   },
   "outputs": [],
   "source": [
    "vintage = vintage[vintage <= end_year]"
   ]
  },
  {
   "cell_type": "code",
   "execution_count": 65,
   "metadata": {
    "collapsed": false
   },
   "outputs": [],
   "source": [
    "vintage_count = Counter(vintage)"
   ]
  },
  {
   "cell_type": "code",
   "execution_count": 66,
   "metadata": {
    "collapsed": false
   },
   "outputs": [],
   "source": [
    "data = [\n",
    "    go.Bar(\n",
    "        x=vintage_count.keys(),\n",
    "        y=vintage_count.values(),\n",
    "        \n",
    "        marker=dict(\n",
    "        color=\"#ce2c4b\"\n",
    "    ),\n",
    "    )\n",
    "]\n",
    "layout = go.Layout(\n",
    "    title='Frequency of Wine by Vintage',\n",
    "    \n",
    "        yaxis=dict(\n",
    "        title='Frequency of wine'\n",
    "    )\n",
    ")\n",
    "fig = go.Figure(data=data, layout=layout)\n",
    "plot_url_vintage = py.iplot(fig, filename='style-histogram')"
   ]
  },
  {
   "cell_type": "code",
   "execution_count": 67,
   "metadata": {
    "collapsed": false
   },
   "outputs": [
    {
     "data": {
      "text/html": [
       "<iframe id=\"igraph\" scrolling=\"no\" style=\"border:none;\"seamless=\"seamless\" src=\"https://plot.ly/~DataBeast/67.embed\" height=\"525px\" width=\"100%\"></iframe>"
      ],
      "text/plain": [
       "<plotly.tools.PlotlyDisplay object>"
      ]
     },
     "execution_count": 67,
     "metadata": {},
     "output_type": "execute_result"
    }
   ],
   "source": [
    "# truncate vintage - want years 1994 and above\n",
    "# i.e. do not recommend a 60 year old, $40,000  bottle of wine\n",
    "plot_url_vintage"
   ]
  },
  {
   "cell_type": "markdown",
   "metadata": {},
   "source": [
    "### Class"
   ]
  },
  {
   "cell_type": "code",
   "execution_count": 111,
   "metadata": {
    "collapsed": false
   },
   "outputs": [
    {
     "data": {
      "text/plain": [
       "array(['Red Wines', 'White Wines', 'Champagne & Sparkling', 'Ros\\xe9 Wine',\n",
       "       'Dessert, Fortified & Fruit Wines', 'Collections', 'Sake',\n",
       "       'Accessories', 'Rum', 'Liqueur', 'Brandy', 'Vodka', 'Tequila',\n",
       "       'Whisky', 'Catalogs', 'Glassware'], dtype=object)"
      ]
     },
     "execution_count": 111,
     "metadata": {},
     "output_type": "execute_result"
    }
   ],
   "source": [
    "products.Class.unique()"
   ]
  },
  {
   "cell_type": "code",
   "execution_count": 112,
   "metadata": {
    "collapsed": true
   },
   "outputs": [],
   "source": [
    "clean_class = clean_text(products.Class.values)"
   ]
  },
  {
   "cell_type": "code",
   "execution_count": 113,
   "metadata": {
    "collapsed": true
   },
   "outputs": [],
   "source": [
    "count_class = Counter(clean_class)"
   ]
  },
  {
   "cell_type": "code",
   "execution_count": 114,
   "metadata": {
    "collapsed": false
   },
   "outputs": [],
   "source": [
    "sort_by_row = 1\n",
    "Class, count_class = sort_dict_to_list(count_class,sort_by_row)"
   ]
  },
  {
   "cell_type": "code",
   "execution_count": 117,
   "metadata": {
    "collapsed": false,
    "scrolled": true
   },
   "outputs": [],
   "source": [
    "data = [\n",
    "    go.Bar(\n",
    "        x=Class,\n",
    "        y=count_class,\n",
    "            marker=dict(\n",
    "        color=\"#ce2c4b\"\n",
    "    ),\n",
    "    )\n",
    "]\n",
    "layout = go.Layout(\n",
    "    title='Frequency of Wine by Class',\n",
    "    \n",
    "        yaxis=dict(\n",
    "        title='Frequency of wine'\n",
    "    )\n",
    ")\n",
    "fig = go.Figure(data=data, layout=layout)\n",
    "plot_url_class = py.iplot(fig, filename='style-bar')"
   ]
  },
  {
   "cell_type": "code",
   "execution_count": 118,
   "metadata": {
    "collapsed": false
   },
   "outputs": [
    {
     "data": {
      "text/html": [
       "<iframe id=\"igraph\" scrolling=\"no\" style=\"border:none;\"seamless=\"seamless\" src=\"https://plot.ly/~DataBeast/65.embed\" height=\"525px\" width=\"100%\"></iframe>"
      ],
      "text/plain": [
       "<plotly.tools.PlotlyDisplay object>"
      ]
     },
     "execution_count": 118,
     "metadata": {},
     "output_type": "execute_result"
    }
   ],
   "source": [
    "plot_url_class"
   ]
  },
  {
   "cell_type": "markdown",
   "metadata": {},
   "source": [
    "### Price\n",
    "    somethings wrong with the plot\n",
    "    vertical values should in the 1000's not in the 1's and 10's"
   ]
  },
  {
   "cell_type": "code",
   "execution_count": 74,
   "metadata": {
    "collapsed": false
   },
   "outputs": [],
   "source": [
    "clean_price = map(int,np.ceil(products.Price.values))"
   ]
  },
  {
   "cell_type": "code",
   "execution_count": 75,
   "metadata": {
    "collapsed": true
   },
   "outputs": [],
   "source": [
    "price_count = Counter(clean_price)"
   ]
  },
  {
   "cell_type": "code",
   "execution_count": 76,
   "metadata": {
    "collapsed": false
   },
   "outputs": [],
   "source": [
    "sort_by_key = 0\n",
    "price, count_price = sort_dict_to_list(price_count, sort_by_key)"
   ]
  },
  {
   "cell_type": "code",
   "execution_count": 77,
   "metadata": {
    "collapsed": false
   },
   "outputs": [],
   "source": [
    "data = [\n",
    "    go.Bar(\n",
    "        x=price,\n",
    "        y=count_price,\n",
    "        marker=dict(\n",
    "        color=\"#ce2c4b\"\n",
    "    ),\n",
    "    )\n",
    "]\n",
    "layout = go.Layout(\n",
    "    title='Frequency of Wine by Price',\n",
    "    \n",
    "        yaxis=dict(\n",
    "        title='Frequency of Wine'\n",
    "    \n",
    "    ),\n",
    "        xaxis=dict(\n",
    "        title=\"Price\"\n",
    "    )\n",
    ")\n",
    "fig = go.Figure(data=data, layout=layout)\n",
    "plot_url_price = py.iplot(fig, filename='style-bar')"
   ]
  },
  {
   "cell_type": "code",
   "execution_count": 78,
   "metadata": {
    "collapsed": false
   },
   "outputs": [],
   "source": [
    "# wine that is priced at round factors of 10 sell very well\n",
    "# expore this anomaly \n",
    "#plot_url_price"
   ]
  },
  {
   "cell_type": "markdown",
   "metadata": {
    "collapsed": true
   },
   "source": [
    "### Highest Ratings"
   ]
  },
  {
   "cell_type": "code",
   "execution_count": 79,
   "metadata": {
    "collapsed": false
   },
   "outputs": [
    {
     "data": {
      "text/plain": [
       "array([ 90,  91,  88,   0,  89,  93,  92,  94,  87,  96,  95,  98,  97,\n",
       "       100,  99,  86,  85,  84,  18])"
      ]
     },
     "execution_count": 79,
     "metadata": {},
     "output_type": "execute_result"
    }
   ],
   "source": [
    "products.HighestRating.unique()"
   ]
  },
  {
   "cell_type": "code",
   "execution_count": 80,
   "metadata": {
    "collapsed": true
   },
   "outputs": [],
   "source": [
    "rating_count = Counter(products.HighestRating.values)"
   ]
  },
  {
   "cell_type": "code",
   "execution_count": 81,
   "metadata": {
    "collapsed": true
   },
   "outputs": [],
   "source": [
    "data = [\n",
    "    go.Bar(\n",
    "        x=rating_count.keys(),\n",
    "        y=rating_count.values(),\n",
    "        marker=dict(\n",
    "        color=\"#ce2c4b\"\n",
    "    ),\n",
    "    )\n",
    "]\n",
    "layout = go.Layout(\n",
    "    title='Frequency of Wine by Highest Rating',\n",
    "    \n",
    "        yaxis=dict(\n",
    "        title='Frequency of Wine'\n",
    "    \n",
    "    ),\n",
    "        xaxis=dict(\n",
    "        title=\"Highest Rating\"\n",
    "    )\n",
    ")\n",
    "fig = go.Figure(data=data, layout=layout)\n",
    "plot_url_rating = py.iplot(fig, filename='style-bar')"
   ]
  },
  {
   "cell_type": "code",
   "execution_count": 82,
   "metadata": {
    "collapsed": false
   },
   "outputs": [],
   "source": [
    "# should I throw out the zeros? \n",
    "# Answer is Yes! Note why I ulimately decide to throw it away. \n",
    "#plot_url_rating"
   ]
  },
  {
   "cell_type": "code",
   "execution_count": 83,
   "metadata": {
    "collapsed": false
   },
   "outputs": [],
   "source": [
    "temp_rating = dict()\n",
    "for k, v in rating_count.iteritems():\n",
    "    if k > 80:\n",
    "        temp_rating[k] = v"
   ]
  },
  {
   "cell_type": "code",
   "execution_count": 84,
   "metadata": {
    "collapsed": false
   },
   "outputs": [],
   "source": [
    "data = [\n",
    "    go.Bar(\n",
    "        x=temp_rating.keys(),\n",
    "        y=temp_rating.values(),\n",
    "        marker=dict(\n",
    "        color=\"#ce2c4b\"\n",
    "    ),\n",
    "    )\n",
    "]\n",
    "layout = go.Layout(\n",
    "    title='Frequency of Wine by Highest Rating',\n",
    "    \n",
    "        yaxis=dict(\n",
    "        title='Frequency of Wine'\n",
    "    \n",
    "    ),\n",
    "        xaxis=dict(\n",
    "        title=\"Highest Rating\"\n",
    "    )\n",
    ")\n",
    "fig = go.Figure(data=data, layout=layout)\n",
    "plot_url_rating_temp = py.iplot(fig, filename='style-bar')"
   ]
  }
 ],
 "metadata": {
  "kernelspec": {
   "display_name": "Python 2",
   "language": "python",
   "name": "python2"
  },
  "language_info": {
   "codemirror_mode": {
    "name": "ipython",
    "version": 2
   },
   "file_extension": ".py",
   "mimetype": "text/x-python",
   "name": "python",
   "nbconvert_exporter": "python",
   "pygments_lexer": "ipython2",
   "version": "2.7.11"
  }
 },
 "nbformat": 4,
 "nbformat_minor": 0
}
