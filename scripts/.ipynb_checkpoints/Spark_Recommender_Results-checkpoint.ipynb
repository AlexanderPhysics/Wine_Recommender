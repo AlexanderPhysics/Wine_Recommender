{
 "cells": [
  {
   "cell_type": "markdown",
   "metadata": {},
   "source": [
    "## Get Results\n",
    "    Now that the data has been cleaned and the model has been validated,\n",
    "    we trained the model on 90% of of a 500,000 entry sub sample and analyze the results\n",
    "    \n",
    "    In order to train model on all of the data, it may be necessary to implement Spark on AWS. \n",
    "    Using the entire data set breaks the jupyter kernel"
   ]
  },
  {
   "cell_type": "code",
   "execution_count": 1,
   "metadata": {
    "collapsed": true
   },
   "outputs": [],
   "source": [
    "import numpy as np\n",
    "import pandas as pd\n",
    "import numpy as np\n",
    "import matplotlib.pyplot as plt\n",
    "import os\n",
    "import cPickle\n",
    "from time import time\n",
    "from sklearn.utils import shuffle\n",
    "import pyspark\n",
    "% matplotlib inline"
   ]
  },
  {
   "cell_type": "code",
   "execution_count": 2,
   "metadata": {
    "collapsed": true
   },
   "outputs": [],
   "source": [
    "from pyspark.mllib.recommendation import ALS\n",
    "import math"
   ]
  },
  {
   "cell_type": "markdown",
   "metadata": {},
   "source": [
    "#### Import Data"
   ]
  },
  {
   "cell_type": "code",
   "execution_count": 3,
   "metadata": {
    "collapsed": true
   },
   "outputs": [],
   "source": [
    "# number of nodes in local spark cluster\n",
    "n_nodes = 3\n",
    "sc = pyspark.SparkContext(master = \"local[{}]\".format(n_nodes))"
   ]
  },
  {
   "cell_type": "code",
   "execution_count": 48,
   "metadata": {
    "collapsed": true
   },
   "outputs": [],
   "source": [
    "def load_data():\n",
    "    home = \"/Users/Alexander/WINE/data/\"\n",
    "    pseudo_ratings_path = home + \"ratings_df.pkl\"\n",
    "    wine_path = home + \"wine_df_red_white_only.pkl\"\n",
    "\n",
    "    products_df = pd.read_pickle(wine_path)\n",
    "    rating_df = pd.read_pickle(pseudo_ratings_path)\n",
    "\n",
    "    return rating_df, products_df "
   ]
  },
  {
   "cell_type": "code",
   "execution_count": 16,
   "metadata": {
    "collapsed": false
   },
   "outputs": [],
   "source": [
    "def get_rdds():\n",
    "    def get_df_values_by_col(df):\n",
    "        cust_tags = df.CustomerHash.values\n",
    "        wine_productKeys = df.ProductKey.values\n",
    "        ratings = df.Ratings.values\n",
    "        return cust_tags, wine_productKeys, ratings\n",
    "\n",
    "    def create_userHash_userid_pairs(cust_tags):\n",
    "        # create int:cust_tag key value pairs\n",
    "        # spark can't read string user ids\n",
    "        index_to_int = np.arange(0, len(cust_tags) * 100, 100)\n",
    "        return  index_to_int, [ [tag_int, tag_hash] for tag_hash, tag_int in zip(cust_tags, index_to_int)]\n",
    "    \n",
    "    \n",
    "    def load_data():\n",
    "        home = \"/Users/Alexander/WINE/data/\"\n",
    "        pseudo_ratings_path = home + \"ratings_df.pkl\"\n",
    "        wine_path = home + \"wine_df_red_white_only.pkl\"\n",
    "\n",
    "        products_df = pd.read_pickle(wine_path)\n",
    "        rating_df = pd.read_pickle(pseudo_ratings_path)\n",
    "\n",
    "        return rating_df, products_df \n",
    "    \n",
    "    rating_df, products_df  =  load_data()\n",
    "    \n",
    "    # Spark keeps crashing when using full data set\n",
    "    # Perhaps running Sparking on AWS cluster will help\n",
    "    rating_df = rating_df.sample(n = 500000)\n",
    "\n",
    "    # move customerHashs, productKeys,and ratings each to their own list\n",
    "    cust_tags, wine_productKeys, ratings = get_df_values_by_col(rating_df)\n",
    "\n",
    "    # generate a numeric index for each customerHash\n",
    "    index_to_int, cust_tag_bridge = create_userHash_userid_pairs(cust_tags)\n",
    "    \n",
    "    # move data from df to list\n",
    "    complete_data = rating_df.values.tolist()\n",
    "    # move data to rdd\n",
    "    complete_data_rdd = sc.parallelize(complete_data)\n",
    "    \n",
    "    \n",
    "    # move customerHash, customer numeric key/value pairs to rdd\n",
    "    cust_tag_bridge_rdd = sc.parallelize(cust_tag_bridge)\n",
    "    # formate customer (hash, numeric)\n",
    "    cust_tag_bridge_rdd = cust_tag_bridge_rdd.map(lambda row: (row[1],row[0]))\n",
    "    \n",
    "    # formate data rdd\n",
    "    complete_data_rdd = complete_data_rdd.map(lambda row: (row[0], (row[1], row[2])) )\n",
    "    \n",
    "    \n",
    "    # join data with customer rdd\n",
    "    complete_data_id_bridge_rdd = \\\n",
    "    complete_data_rdd.join(cust_tag_bridge_rdd)\n",
    "\n",
    "    # format -->  (user_id, wine_id, rating)\n",
    "    clean_data_rdd =\\\n",
    "    complete_data_id_bridge_rdd.map(lambda row: (row[1][1], row[1][0][0], row[1][0][1] )   )\n",
    "\n",
    "    \n",
    "\n",
    "    \n",
    "    # create products_rdd\n",
    "    products_rdd = sc.parallelize(products_df.values.tolist())\n",
    "    # format --> (productKey, (productID, Appellation, Varietal, Vinyard) )\n",
    "    products_rdd = products_rdd.map(lambda row: (row[0], (row[1], row[2], row[3], row[4]) )   )\n",
    "    \n",
    "\n",
    "        \n",
    "    return clean_data_rdd, products_rdd, cust_tag_bridge_rdd"
   ]
  },
  {
   "cell_type": "code",
   "execution_count": 17,
   "metadata": {
    "collapsed": false
   },
   "outputs": [
    {
     "name": "stdout",
     "output_type": "stream",
     "text": [
      "Time Elapsed = 7.27\n"
     ]
    }
   ],
   "source": [
    "start = time()\n",
    "clean_data_rdd, products_rdd, cust_tag_bridge_rdd = get_rdds()\n",
    "end = time()\n",
    "print \"Time Elapsed = {:.3}\".format(end - start)"
   ]
  },
  {
   "cell_type": "markdown",
   "metadata": {},
   "source": [
    "#### Split Data"
   ]
  },
  {
   "cell_type": "code",
   "execution_count": 19,
   "metadata": {
    "collapsed": false
   },
   "outputs": [],
   "source": [
    "# split data into sets in appropriate proprotions, i.e. weights = [6, 2, 2]\n",
    "data_proportions = [9,1]\n",
    "training_RDD, test_RDD = clean_data_rdd.randomSplit(data_proportions, seed=0)"
   ]
  },
  {
   "cell_type": "code",
   "execution_count": 20,
   "metadata": {
    "collapsed": false
   },
   "outputs": [],
   "source": [
    "# format data so that the key is (user_id, wine_feat)\n",
    "test_for_predict_RDD = test_RDD.map(lambda x: (x[0], x[1]))"
   ]
  },
  {
   "cell_type": "markdown",
   "metadata": {},
   "source": [
    "#### Get Predicted Ratings\n",
    "    Get Predictions for a subset of users "
   ]
  },
  {
   "cell_type": "code",
   "execution_count": 23,
   "metadata": {
    "collapsed": true
   },
   "outputs": [],
   "source": [
    "def get_predicted_ratings(training_RDD, test_for_predict_RDD, test_RDD):\n",
    "    seed = 5L\n",
    "    iterations = 10\n",
    "    regularization_parameter = 0.1\n",
    "    rank = 12\n",
    "\n",
    "    model = ALS.train(training_RDD, \n",
    "                      rank = rank, \n",
    "                      seed=seed, \n",
    "                      iterations=iterations,\n",
    "                      lambda_=regularization_parameter,\n",
    "                      nonnegative=True)\n",
    "\n",
    "    # (r[0], r[1]), r[2]) --> user_id, wine_id, rating \n",
    "    predictions = model.predictAll(test_for_predict_RDD).map(lambda r: ((r[0], r[1]), r[2]))\n",
    "\n",
    "    # combine predictions and validation sets\n",
    "    rates_and_preds = test_RDD.map(lambda r: ((int(r[0]), int(r[1])), float(r[2])))\\\n",
    "                                    .join(predictions)\n",
    "    # get RMSE for each rank\n",
    "    error = math.sqrt(rates_and_preds.map(lambda r: (r[1][0] - r[1][1])**2).mean())\n",
    "    \n",
    "    return model, predictions, error"
   ]
  },
  {
   "cell_type": "code",
   "execution_count": 24,
   "metadata": {
    "collapsed": false
   },
   "outputs": [
    {
     "name": "stdout",
     "output_type": "stream",
     "text": [
      "Time Elapsed = 1.42 mins\n"
     ]
    }
   ],
   "source": [
    "start = time()\n",
    "model, predictions, error = get_predicted_ratings(training_RDD, test_for_predict_RDD, test_RDD)\n",
    "end = time()\n",
    "print \"Time Elapsed = {:.3} mins\".format((end - start)/60)"
   ]
  },
  {
   "cell_type": "markdown",
   "metadata": {},
   "source": [
    "#### Get user hash tags and wine features \n",
    "    Keep productKey for comparison of user's actual wine ratings"
   ]
  },
  {
   "cell_type": "code",
   "execution_count": 100,
   "metadata": {
    "collapsed": false
   },
   "outputs": [],
   "source": [
    "def get_userTags_and_wineFeatures(predictions, products_rdd, cust_tag_bridge_rdd):\n",
    "    # format --> (wine_id, (user_tag, rating)  )\n",
    "    \n",
    "    cust_tag_bridge_rdd = cust_tag_bridge_rdd.map(lambda row: (row[1], row[0]))\n",
    "    \n",
    "    wineID_userTag_ratings_rdd = \\\n",
    "    predictions.map(lambda row: (row[0][0], (row[0][1], row[1]) ) )\\\n",
    "               .join(cust_tag_bridge_rdd)\\\n",
    "               .map(lambda row: (row[1][0][0],  (row[1][1], row[1][0][1])  ) )\n",
    "\n",
    "    # format --> (wine_id, appellation, varietal, vineyard, user_tag, rating)\n",
    "    complete_prediction_data =\\\n",
    "    wineID_userTag_ratings_rdd.join(products_rdd)\\\n",
    "                              .map(lambda row: (row[0], \n",
    "                                                row[1][1][1], \n",
    "                                                row[1][1][2], \n",
    "                                                row[1][1][3], \n",
    "                                                row[1][0][0], \n",
    "                                                row[1][0][1]  ) ) \n",
    "    return complete_prediction_data"
   ]
  },
  {
   "cell_type": "code",
   "execution_count": 101,
   "metadata": {
    "collapsed": true
   },
   "outputs": [],
   "source": [
    "complete_prediction_data =  get_userTags_and_wineFeatures(predictions, products_rdd, cust_tag_bridge_rdd)"
   ]
  },
  {
   "cell_type": "code",
   "execution_count": 114,
   "metadata": {
    "collapsed": false
   },
   "outputs": [
    {
     "data": {
      "text/plain": [
       "[(117,\n",
       "  'Napa Valley',\n",
       "  'Chardonnay',\n",
       "  'Merryvale',\n",
       "  '36A105FB2E9D336055D713C48D9833BA',\n",
       "  3.657579313539558),\n",
       " (117,\n",
       "  'Napa Valley',\n",
       "  'Chardonnay',\n",
       "  'Merryvale',\n",
       "  'EC93E61EEDB7B34D2B811A19B70DACF2',\n",
       "  3.918407184735406),\n",
       " (117,\n",
       "  'Napa Valley',\n",
       "  'Chardonnay',\n",
       "  'Merryvale',\n",
       "  'AD097C5FCE9B8398B854599EBF951395',\n",
       "  3.7539968825897954)]"
      ]
     },
     "execution_count": 114,
     "metadata": {},
     "output_type": "execute_result"
    }
   ],
   "source": [
    "# format --> (productKey, appellation, varietal, vineyard, user_tag, rating)\n",
    "complete_prediction_data.take(3)"
   ]
  },
  {
   "cell_type": "markdown",
   "metadata": {},
   "source": [
    "### Compare Predicted Ratings with True Ratings\n",
    "    This can only be done for wines that the users have purchased"
   ]
  },
  {
   "cell_type": "code",
   "execution_count": 50,
   "metadata": {
    "collapsed": false
   },
   "outputs": [],
   "source": [
    "rating_df, products_df  = load_data()"
   ]
  },
  {
   "cell_type": "code",
   "execution_count": 57,
   "metadata": {
    "collapsed": false
   },
   "outputs": [],
   "source": [
    "new_df = rating_df.merge(products_df, how=\"left\", on=\"ProductKey\")"
   ]
  },
  {
   "cell_type": "code",
   "execution_count": 113,
   "metadata": {
    "collapsed": false
   },
   "outputs": [
    {
     "data": {
      "text/html": [
       "<div>\n",
       "<table border=\"1\" class=\"dataframe\">\n",
       "  <thead>\n",
       "    <tr style=\"text-align: right;\">\n",
       "      <th></th>\n",
       "      <th>CustomerHash</th>\n",
       "      <th>ProductKey</th>\n",
       "      <th>Ratings</th>\n",
       "      <th>ProductId</th>\n",
       "      <th>Appellation</th>\n",
       "      <th>Varietal</th>\n",
       "      <th>Vineyard</th>\n",
       "    </tr>\n",
       "  </thead>\n",
       "  <tbody>\n",
       "    <tr>\n",
       "      <th>0</th>\n",
       "      <td>D3BE5BC2AA8796FCD402023CD6E5A6AC</td>\n",
       "      <td>95350</td>\n",
       "      <td>5</td>\n",
       "      <td>97912</td>\n",
       "      <td>Russian River</td>\n",
       "      <td>Pinot Noir</td>\n",
       "      <td>DeLoach</td>\n",
       "    </tr>\n",
       "    <tr>\n",
       "      <th>1</th>\n",
       "      <td>64F6A2CEC420680A259172BF4CF17CE2</td>\n",
       "      <td>95375</td>\n",
       "      <td>4</td>\n",
       "      <td>107505</td>\n",
       "      <td>Russian River</td>\n",
       "      <td>Pinot Noir</td>\n",
       "      <td>Dutton Goldfield</td>\n",
       "    </tr>\n",
       "    <tr>\n",
       "      <th>2</th>\n",
       "      <td>6131DC57D6050C3EB674DD8722C83B2B</td>\n",
       "      <td>79964</td>\n",
       "      <td>5</td>\n",
       "      <td>NaN</td>\n",
       "      <td>NaN</td>\n",
       "      <td>NaN</td>\n",
       "      <td>NaN</td>\n",
       "    </tr>\n",
       "    <tr>\n",
       "      <th>3</th>\n",
       "      <td>525CD8F0BF94E814F16F4FA947B995B6</td>\n",
       "      <td>102020</td>\n",
       "      <td>5</td>\n",
       "      <td>121010</td>\n",
       "      <td>Central Coast</td>\n",
       "      <td>Cabernet Sauvignon</td>\n",
       "      <td>Estancia</td>\n",
       "    </tr>\n",
       "    <tr>\n",
       "      <th>4</th>\n",
       "      <td>710DBFAAB43DF7B5E304ED0D26B7966A</td>\n",
       "      <td>129946</td>\n",
       "      <td>3</td>\n",
       "      <td>124678</td>\n",
       "      <td>Other Italian</td>\n",
       "      <td>Pinot Gris/Grigio</td>\n",
       "      <td>Stella</td>\n",
       "    </tr>\n",
       "  </tbody>\n",
       "</table>\n",
       "</div>"
      ],
      "text/plain": [
       "                       CustomerHash  ProductKey  Ratings  ProductId  \\\n",
       "0  D3BE5BC2AA8796FCD402023CD6E5A6AC       95350        5      97912   \n",
       "1  64F6A2CEC420680A259172BF4CF17CE2       95375        4     107505   \n",
       "2  6131DC57D6050C3EB674DD8722C83B2B       79964        5        NaN   \n",
       "3  525CD8F0BF94E814F16F4FA947B995B6      102020        5     121010   \n",
       "4  710DBFAAB43DF7B5E304ED0D26B7966A      129946        3     124678   \n",
       "\n",
       "     Appellation            Varietal          Vineyard  \n",
       "0  Russian River          Pinot Noir           DeLoach  \n",
       "1  Russian River          Pinot Noir  Dutton Goldfield  \n",
       "2            NaN                 NaN               NaN  \n",
       "3  Central Coast  Cabernet Sauvignon          Estancia  \n",
       "4  Other Italian   Pinot Gris/Grigio            Stella  "
      ]
     },
     "execution_count": 113,
     "metadata": {},
     "output_type": "execute_result"
    }
   ],
   "source": [
    "new_df.head()"
   ]
  },
  {
   "cell_type": "code",
   "execution_count": 140,
   "metadata": {
    "collapsed": false
   },
   "outputs": [],
   "source": [
    "test_user = \"AD097C5FCE9B8398B854599EBF951395\"\n",
    "test_user_df = new_df[new_df.CustomerHash.isin([test_user])]"
   ]
  },
  {
   "cell_type": "code",
   "execution_count": 141,
   "metadata": {
    "collapsed": false
   },
   "outputs": [],
   "source": [
    "product_keys  = test_user_df.ProductKey.values.tolist()"
   ]
  },
  {
   "cell_type": "code",
   "execution_count": 142,
   "metadata": {
    "collapsed": false
   },
   "outputs": [],
   "source": [
    "test_user_pred_ratings_rdd = \\\n",
    "complete_prediction_data.filter(lambda row: row[4] ==  test_user)\\\n",
    "                        .filter(lambda row: row[0] in product_keys)"
   ]
  },
  {
   "cell_type": "code",
   "execution_count": 143,
   "metadata": {
    "collapsed": true
   },
   "outputs": [],
   "source": [
    "pred_product_ids = test_user_pred_ratings_rdd.distinct().map(lambda row: row[0]).take(5)"
   ]
  },
  {
   "cell_type": "markdown",
   "metadata": {},
   "source": [
    "The pandas data frame contains data on purchases that have been made by the test user. The print out from the \n",
    "test_user_pred_ratings_rdd are the predicted ratings for the same wines that the user has purchased. We can see\n",
    "that the predicted ratings are very close to the user's actual ratings. "
   ]
  },
  {
   "cell_type": "code",
   "execution_count": 162,
   "metadata": {
    "collapsed": false
   },
   "outputs": [
    {
     "data": {
      "text/html": [
       "<div>\n",
       "<table border=\"1\" class=\"dataframe\">\n",
       "  <thead>\n",
       "    <tr style=\"text-align: right;\">\n",
       "      <th></th>\n",
       "      <th>CustomerHash</th>\n",
       "      <th>ProductKey</th>\n",
       "      <th>Ratings</th>\n",
       "      <th>ProductId</th>\n",
       "      <th>Appellation</th>\n",
       "      <th>Varietal</th>\n",
       "      <th>Vineyard</th>\n",
       "    </tr>\n",
       "  </thead>\n",
       "  <tbody>\n",
       "    <tr>\n",
       "      <th>834001</th>\n",
       "      <td>AD097C5FCE9B8398B854599EBF951395</td>\n",
       "      <td>117</td>\n",
       "      <td>4</td>\n",
       "      <td>103977</td>\n",
       "      <td>Napa Valley</td>\n",
       "      <td>Chardonnay</td>\n",
       "      <td>Merryvale</td>\n",
       "    </tr>\n",
       "    <tr>\n",
       "      <th>68115</th>\n",
       "      <td>AD097C5FCE9B8398B854599EBF951395</td>\n",
       "      <td>166</td>\n",
       "      <td>4</td>\n",
       "      <td>92313</td>\n",
       "      <td>Other Australia</td>\n",
       "      <td>Other Red Blends</td>\n",
       "      <td>Marquis Philips</td>\n",
       "    </tr>\n",
       "    <tr>\n",
       "      <th>958850</th>\n",
       "      <td>AD097C5FCE9B8398B854599EBF951395</td>\n",
       "      <td>166</td>\n",
       "      <td>4</td>\n",
       "      <td>92313</td>\n",
       "      <td>Other Australia</td>\n",
       "      <td>Other Red Blends</td>\n",
       "      <td>Marquis Philips</td>\n",
       "    </tr>\n",
       "    <tr>\n",
       "      <th>219889</th>\n",
       "      <td>AD097C5FCE9B8398B854599EBF951395</td>\n",
       "      <td>215</td>\n",
       "      <td>2</td>\n",
       "      <td>93707</td>\n",
       "      <td>Chile</td>\n",
       "      <td>Other Red Blends</td>\n",
       "      <td>Primus</td>\n",
       "    </tr>\n",
       "    <tr>\n",
       "      <th>1156324</th>\n",
       "      <td>AD097C5FCE9B8398B854599EBF951395</td>\n",
       "      <td>1087</td>\n",
       "      <td>5</td>\n",
       "      <td>91207</td>\n",
       "      <td>Central Coast</td>\n",
       "      <td>Chardonnay</td>\n",
       "      <td>Bernardus</td>\n",
       "    </tr>\n",
       "  </tbody>\n",
       "</table>\n",
       "</div>"
      ],
      "text/plain": [
       "                             CustomerHash  ProductKey  Ratings  ProductId  \\\n",
       "834001   AD097C5FCE9B8398B854599EBF951395         117        4     103977   \n",
       "68115    AD097C5FCE9B8398B854599EBF951395         166        4      92313   \n",
       "958850   AD097C5FCE9B8398B854599EBF951395         166        4      92313   \n",
       "219889   AD097C5FCE9B8398B854599EBF951395         215        2      93707   \n",
       "1156324  AD097C5FCE9B8398B854599EBF951395        1087        5      91207   \n",
       "\n",
       "             Appellation          Varietal         Vineyard  \n",
       "834001       Napa Valley        Chardonnay        Merryvale  \n",
       "68115    Other Australia  Other Red Blends  Marquis Philips  \n",
       "958850   Other Australia  Other Red Blends  Marquis Philips  \n",
       "219889             Chile  Other Red Blends           Primus  \n",
       "1156324    Central Coast        Chardonnay        Bernardus  "
      ]
     },
     "execution_count": 162,
     "metadata": {},
     "output_type": "execute_result"
    }
   ],
   "source": [
    "new_df[new_df.CustomerHash == test_user].sort_values(by=\"ProductKey\").head()"
   ]
  },
  {
   "cell_type": "code",
   "execution_count": 177,
   "metadata": {
    "collapsed": false
   },
   "outputs": [
    {
     "data": {
      "text/plain": [
       "[(117, ('Chardonnay', 3.7539968825897954)),\n",
       " (117, ('Chardonnay', 3.7705673216345224)),\n",
       " (166, ('Other Red Blends', 3.834389607136281)),\n",
       " (166, ('Other Red Blends', 3.8308637324094796)),\n",
       " (166, ('Other Red Blends', 3.844799951590561)),\n",
       " (166, ('Other Red Blends', 3.84687994174966)),\n",
       " (215, ('Other Red Blends', 1.8613410652567588)),\n",
       " (215, ('Other Red Blends', 1.8570075323548823)),\n",
       " (215, ('Other Red Blends', 1.8590335103351197)),\n",
       " (215, ('Other Red Blends', 1.8543899555036105))]"
      ]
     },
     "execution_count": 177,
     "metadata": {},
     "output_type": "execute_result"
    }
   ],
   "source": [
    "# format --> (ProductKey, Varietal, Rating)\n",
    "top_k = 10\n",
    "test_user_pred_ratings_rdd.map(lambda row: (row[0], (row[2], row[5]))).distinct().takeOrdered(top_k, key=lambda row: row[0])"
   ]
  }
 ],
 "metadata": {
  "kernelspec": {
   "display_name": "Python 2",
   "language": "python",
   "name": "python2"
  },
  "language_info": {
   "codemirror_mode": {
    "name": "ipython",
    "version": 2
   },
   "file_extension": ".py",
   "mimetype": "text/x-python",
   "name": "python",
   "nbconvert_exporter": "python",
   "pygments_lexer": "ipython2",
   "version": "2.7.11"
  }
 },
 "nbformat": 4,
 "nbformat_minor": 0
}
